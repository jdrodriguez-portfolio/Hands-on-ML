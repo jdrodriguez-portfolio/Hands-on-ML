{
 "cells": [
  {
   "cell_type": "markdown",
   "metadata": {
    "collapsed": true,
    "pycharm": {
     "name": "#%% md\n"
    }
   },
   "source": [
    " ## <center>Practicing Machine Learning</center>\n",
    "### <center> A deep dive into Regression </center>\n",
    "##### <center> Recommended Source: <a href=\"https://www.amazon.com/-/es/Aur%C3%A9lien-G%C3%A9ron/dp/1492032646/ref=sr_1_fkmr1_1?__mk_es_US=%C3%85M%C3%85%C5%BD%C3%95%C3%91&crid=2Y7BISU0SQYCV&keywords=hand+son+machine+learning+tensorflow+keras&qid=1664596219&qu=eyJxc2MiOiIwLjkzIiwicXNhIjoiMC4wMCIsInFzcCI6IjAuMDAifQ%3D%3D&sprefix=hand+son+machine+learning+tensorflow+keras%2Caps%2C105&sr=8-1-fkmr1\">Link</a></center>"
   ]
  },
  {
   "cell_type": "markdown",
   "source": [
    "Training ML models is fun and all but what is behind these black boxes that we call models?. It is of great importance to have a clear understanding of what is happening in order to have explainable models in production, remember that having a good understanding of what is under the hood can help you quickly choose the appropriate model.\n",
    "\n",
    "In this notebook we will do a deep dive on how ML works under the hood in regression techniques like linear regression and polinomial regression, we will also explain what gradient descent is.\n",
    "\n",
    "\n",
    "## Linear Regression\n",
    "\n",
    "#### <center>$y = \\beta_0 + \\beta_1 x_1 + \\beta_2 x_2 + ... + \\beta_n x_n$</center>\n",
    "where:\n",
    "<div>\n",
    "     <li>\"$y$\" represents the predicted value</li>\n",
    "     <li>\"$n$\" represents the number of features</li>\n",
    "     <li>\"$x_{i}$\" represents is the $i^{th}$ feature value</li>\n",
    "     <li>\"$\\beta_{j}$\" represents is the $j^{th}$ model parameter</li>\n",
    "</div>\n",
    "This can be written in a concise way by vectorizing as follows:\n",
    "\n",
    "#### <center>$\\mathbf{y} = \\mathbf{X} \\boldsymbol{\\beta} + \\boldsymbol{\\epsilon}$</center>\n",
    "<div>\n",
    "    <li>$\\mathbf{X}$ is a n x k matrix representing the independent variables, where n is the number of observations and k is the number of features.</li>\n",
    "    <li>$\\boldsymbol{\\beta}$ is a k x 1 vector representing the coefficients of the features.</li>\n",
    "    <li>$\\boldsymbol{\\epsilon}$ is a n x 1 vector representing the error term.</li>\n",
    "</div>\n",
    "\n",
    "Interesting Huh?\n",
    "But...\n",
    "How do we train it?\n",
    "\n",
    "Remember that training a model requires setting parameters so that the model fits the training set. So how do we now how well or poorly our model will fit? Well for that me have our evaluation metric \"Root Mean Squared Error\" to aid us check the error from the predicted value to the actual (labelled) value.\n",
    "\n",
    "if we look into the equation for RMSE.\n",
    "\n",
    "####  <center>$RMSE = \\sqrt{\\frac{1}{n} \\sum_{i=1}^{n} (\\hat{y}_{i} - y_{i})^2}$</center>\n",
    "<div>\n",
    "    <li>$n$ is the number of observations.</li>\n",
    "    <li>$\\hat{y}_{i}$ is the predicted value of the dependent variable for the ith observation.</li>\n",
    "    <li>$y_{i}$ is the actual value of the dependent variable for the ith observation.</li>\n",
    "</div>\n",
    "\n",
    "### The Normal Equation\n",
    "The N.E. is a function that finds the value of $\\beta$ that minimizes the cost function\n",
    "####  <center>$\\boldsymbol{\\hat{\\beta}} = (\\mathbf{X}^T \\mathbf{X})^{-1} \\mathbf{X}^T \\mathbf{y}\n",
    "$</center>\n",
    "<div>\n",
    "    <li>$\\hat{\\beta}$ is the value that minimizes the cost function.</li>\n",
    "    <li>$y$ is the vector of target values containing $y^{(1)}$ $y^{(m)}$.</li>\n",
    "    <li>$\\mathbf{X}$  is a n x k matrix representing the independent variables, where n is the number of observations and k is the number of features.</li>\n",
    "</div>\n",
    "Check out the following python implementation using numpy:\n"
   ],
   "metadata": {
    "collapsed": false,
    "pycharm": {
     "name": "#%% md\n"
    }
   }
  },
  {
   "cell_type": "code",
   "execution_count": 13,
   "outputs": [
    {
     "data": {
      "text/plain": "<Figure size 640x480 with 1 Axes>",
      "image/png": "[encoded data removed]"
     },
     "metadata": {},
     "output_type": "display_data"
    }
   ],
   "source": [
    "import numpy as np\n",
    "import matplotlib.pyplot as plt\n",
    "\n",
    "# Example data for X and y as numpy arrays\n",
    "X = 2 * np.random.rand(100,1)\n",
    "y = 4 + 3 * X + np.random.randn(100, 1)\n",
    "# Plot the data\n",
    "plt.plot(X, y, 'o')\n",
    "\n",
    "# Add labels and title to the plot\n",
    "plt.xlabel('X')\n",
    "plt.ylabel('y')\n",
    "plt.title('Plot of X vs y')\n",
    "\n",
    "# Show the plot\n",
    "plt.show()"
   ],
   "metadata": {
    "collapsed": false,
    "pycharm": {
     "name": "#%%\n"
    }
   }
  },
  {
   "cell_type": "markdown",
   "source": [
    "Now let's compute $\\beta$ using numpy and the normal equation"
   ],
   "metadata": {
    "collapsed": false,
    "pycharm": {
     "name": "#%% md\n"
    }
   }
  },
  {
   "cell_type": "code",
   "execution_count": 14,
   "outputs": [
    {
     "data": {
      "text/plain": "array([[4.21962996],\n       [2.71869712]])"
     },
     "execution_count": 14,
     "metadata": {},
     "output_type": "execute_result"
    }
   ],
   "source": [
    "X_b = np.c_[np.ones((100,1)), X] # add x0 = 1 to each instance\n",
    "XtX_inv = np.linalg.inv(X_b.T.dot(X_b))\n",
    "beta_test = XtX_inv.dot(X_b.T).dot(y)\n",
    "beta_test"
   ],
   "metadata": {
    "collapsed": false,
    "pycharm": {
     "name": "#%%\n"
    }
   }
  },
  {
   "cell_type": "markdown",
   "source": [
    "For the function:\n",
    "\n",
    "### <center>$y = 4 + 3X_{1} + Gaussian Noise$</center>\n",
    "\n",
    "We found beta values using the N.E. of $\\beta_{0} = 4.04$ and $\\beta_{1} = 2.85$ rather than $\\beta_{0} = 4$ and $\\beta_{1} = 3$, this is due to the noise we inputted to the function before applying the N.E.\n",
    "\n",
    "Now we can make predictions using  $\\hat{\\beta}$"
   ],
   "metadata": {
    "collapsed": false,
    "pycharm": {
     "name": "#%% md\n"
    }
   }
  },
  {
   "cell_type": "code",
   "execution_count": 15,
   "outputs": [
    {
     "data": {
      "text/plain": "array([[4.21962996],\n       [9.6570242 ]])"
     },
     "execution_count": 15,
     "metadata": {},
     "output_type": "execute_result"
    }
   ],
   "source": [
    "X_new = np.array([[0], [2]])\n",
    "X_new_b = np.c_[np.ones((2,1)), X_new] # add X_0 = 1 to each value\n",
    "y_predict = X_new_b.dot(beta_test)\n",
    "y_predict"
   ],
   "metadata": {
    "collapsed": false,
    "pycharm": {
     "name": "#%%\n"
    }
   }
  },
  {
   "cell_type": "markdown",
   "source": [
    "Lets plot this model's predictions:"
   ],
   "metadata": {
    "collapsed": false,
    "pycharm": {
     "name": "#%% md\n"
    }
   }
  },
  {
   "cell_type": "code",
   "execution_count": 16,
   "outputs": [
    {
     "data": {
      "text/plain": "<Figure size 640x480 with 1 Axes>",
      "image/png": "[encoded data removed]"
     },
     "metadata": {},
     "output_type": "display_data"
    }
   ],
   "source": [
    "plt.plot(X_new, y_predict, \"r-\")\n",
    "plt.plot(X,y, \"b.\")\n",
    "plt.axis([0, 2, 0, 15])\n",
    "plt.show()"
   ],
   "metadata": {
    "collapsed": false,
    "pycharm": {
     "name": "#%%\n"
    }
   }
  },
  {
   "cell_type": "markdown",
   "source": [
    "Let's do this using Scikit-learn's linear regression:"
   ],
   "metadata": {
    "collapsed": false,
    "pycharm": {
     "name": "#%% md\n"
    }
   }
  },
  {
   "cell_type": "code",
   "execution_count": 17,
   "outputs": [
    {
     "data": {
      "text/plain": "(array([4.21962996]), array([[2.71869712]]))"
     },
     "execution_count": 17,
     "metadata": {},
     "output_type": "execute_result"
    }
   ],
   "source": [
    "from sklearn.linear_model import LinearRegression\n",
    "lin_reg = LinearRegression()\n",
    "lin_reg.fit(X, y)\n",
    "lin_reg.intercept_, lin_reg.coef_"
   ],
   "metadata": {
    "collapsed": false,
    "pycharm": {
     "name": "#%%\n"
    }
   }
  },
  {
   "cell_type": "code",
   "execution_count": 18,
   "outputs": [
    {
     "data": {
      "text/plain": "array([[4.21962996],\n       [9.6570242 ]])"
     },
     "execution_count": 18,
     "metadata": {},
     "output_type": "execute_result"
    }
   ],
   "source": [
    "lin_reg.predict(X_new)"
   ],
   "metadata": {
    "collapsed": false,
    "pycharm": {
     "name": "#%%\n"
    }
   }
  },
  {
   "cell_type": "markdown",
   "source": [
    "in Scikit-learn Linear Regression is based on the 'scipy.linalg.lstsq()' (least squares function) which you can call directly as follows:"
   ],
   "metadata": {
    "collapsed": false,
    "pycharm": {
     "name": "#%% md\n"
    }
   }
  },
  {
   "cell_type": "code",
   "execution_count": 19,
   "outputs": [
    {
     "data": {
      "text/plain": "array([[4.21962996],\n       [2.71869712]])"
     },
     "execution_count": 19,
     "metadata": {},
     "output_type": "execute_result"
    }
   ],
   "source": [
    "beta_best_svd, residuals, rank, s = np.linalg.lstsq(X_b, y, rcond=1e-6)\n",
    "beta_best_svd"
   ],
   "metadata": {
    "collapsed": false,
    "pycharm": {
     "name": "#%%\n"
    }
   }
  },
  {
   "cell_type": "code",
   "execution_count": null,
   "outputs": [],
   "source": [],
   "metadata": {
    "collapsed": false,
    "pycharm": {
     "name": "#%%\n"
    }
   }
  },
  {
   "cell_type": "markdown",
   "source": [
    "This function computes $\\hat{\\beta} = (X^+)y$ where $X^+$ is the pseudo inverse of X, we can do this directly using np.linalg.pinv() as follows:"
   ],
   "metadata": {
    "collapsed": false,
    "pycharm": {
     "name": "#%% md\n"
    }
   }
  },
  {
   "cell_type": "code",
   "execution_count": 20,
   "outputs": [
    {
     "data": {
      "text/plain": "array([[4.21962996],\n       [2.71869712]])"
     },
     "execution_count": 20,
     "metadata": {},
     "output_type": "execute_result"
    }
   ],
   "source": [
    "np.linalg.pinv(X_b).dot(y)"
   ],
   "metadata": {
    "collapsed": false,
    "pycharm": {
     "name": "#%%\n"
    }
   }
  },
  {
   "cell_type": "code",
   "execution_count": 14,
   "outputs": [],
   "source": [],
   "metadata": {
    "collapsed": false,
    "pycharm": {
     "name": "#%%\n"
    }
   }
  },
  {
   "cell_type": "code",
   "execution_count": 15,
   "outputs": [
    {
     "name": "stdout",
     "output_type": "stream",
     "text": [
      "   id\n",
      "0   0\n",
      "1   1\n",
      "2   2\n",
      "3   3\n",
      "4   4\n",
      "5   5\n",
      "6   6\n",
      "7   7\n",
      "8   8\n",
      "9   9\n"
     ]
    }
   ],
   "source": [],
   "metadata": {
    "collapsed": false,
    "pycharm": {
     "name": "#%%\n"
    }
   }
  },
  {
   "cell_type": "code",
   "execution_count": null,
   "outputs": [],
   "source": [],
   "metadata": {
    "collapsed": false,
    "pycharm": {
     "name": "#%%\n"
    }
   }
  }
 ],
 "metadata": {
  "kernelspec": {
   "display_name": "Python 3",
   "language": "python",
   "name": "python3"
  },
  "language_info": {
   "codemirror_mode": {
    "name": "ipython",
    "version": 2
   },
   "file_extension": ".py",
   "mimetype": "text/x-python",
   "name": "python",
   "nbconvert_exporter": "python",
   "pygments_lexer": "ipython2",
   "version": "2.7.6"
  }
 },
 "nbformat": 4,
 "nbformat_minor": 0
}