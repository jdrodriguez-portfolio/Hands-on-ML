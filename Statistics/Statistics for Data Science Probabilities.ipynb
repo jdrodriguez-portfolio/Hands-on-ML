{
 "cells": [
  {
   "cell_type": "markdown",
   "id": "3e46c1ee",
   "metadata": {},
   "source": [
    "# <center>Statistics for Data Science: Probability</center>\n",
    "## <center><a href='https://www.joserodriguez.dev'>by Jose Rodriguez</a></center>\n",
    "\n",
    "This is the first of many notebooks I will be using to practice, enhance and learn statistics for Data Science in this particular notebook we will cover the following topics:\n",
    "### Probability\n",
    "1. Sample Space and Events\n",
    "     - Set Operations: Unions and Intersections\n",
    "2. Axioms of Probabilities\n",
    "3. Properties of probabilites\n",
    "4. Probabilities on Finite Sample Spaces\n",
    "5. Independent Events\n",
    "6. Bayes Theorem"
   ]
  },
  {
   "cell_type": "markdown",
   "id": "5c53cd0c",
   "metadata": {},
   "source": [
    "### 1. Sample Spaces and Events\n",
    "\n",
    "A sample space is a set of possible outcomes, of an experiment. Points in the sample space are called sample **_outcomes_** and subsets of the sample space are called **_Events_**.\n",
    "\n",
    "The **_null event_** is a special event that contains no points or outcomes.\n",
    "\n",
    "In this notebook we will use $\\Omega$ when we refer to a sample space\n",
    "<br><br>\n",
    "<p align=\"center\">\n",
    "    <img src=\"pic1.png\" alt=\"Figure 1: Sample Space and Events\" style=\"width:20%; border:0;\">\n",
    "</p>\n",
    "<br>\n",
    "\n",
    "#### Symbology\n",
    "<br>\n",
    "* Sample Space $\\to \\Omega$<br>\n",
    "* Outcomes $\\to \\omega$<br>\n",
    "* Events $\\to A, B, C$<br>\n",
    "* Null Event $\\to \\Phi$\n",
    "\n",
    "##### Examples\n",
    "<br>\n",
    "1. Lets say we have a fair coin that we are going to toss so both possible outcomes are that the coin lands as heads or tails so the resulting sample space $\\Omega$ would be the combination of both outcomes $\\omega_1 = H$ and $\\omega_2 = T$  \n",
    "<br>\n",
    "$$\\Omega=\\{ H,T\\}$$\n",
    "<br>\n",
    "2. Lets say we have a fair coin but now we throw it twice, this changes the situation now we have not only more outcomes but every outcome has two values one for each throw so we now have  $\\omega_1 = HH$, $\\omega_2 = HT$, $\\omega_3 = TH$ and $\\omega_4 = TT$ and the combination of all outcomes result in: \n",
    "<br> <br>\n",
    "$$\\Omega=\\{ HH, HT, TH, TT\\}$$\n",
    "<br>\n",
    "3. Let $\\omega$ be the outcome of a measurement of some physical quantity, for example, temperature. Then $\\Omega = \\mathbb{R} = \\{-\\infty,\\infty\\}$. One could argue that taking $\\Omega$ is not accurate since temperature has a lower bound but there is no harm in taking the sample space to be larger than needed. Specify an event A that contains all outcomes over or equal to 10 and lower than 50\n",
    "<br>\n",
    "$$A = (10,23]$$\n",
    "<br>\n",
    "4. Tossing a coin forever so that the sample space $\\Omega$ is as follows:<br><br>\n",
    "$$\\Omega = \\{\\omega=( \\,\\omega_1,\\omega_2,\\omega_3,\\omega_4,...   )\\,: \\omega_i \\in \\{H,T\\}\\}$$<br>\n",
    "Let E be the event that the first head appears on the third toss of the coin. Then we can say the following <br><br>\n",
    "$$E=\\{( \\,\\omega_1,\\omega_2,\\omega_3,\\omega_4,...   )\\,:\\omega_1=T,\\omega_2=T, \\omega_3=H, \\omega_i\\in\\{H,T\\} for \\ i>3 \\}$$"
   ]
  },
  {
   "cell_type": "markdown",
   "id": "bbddec40",
   "metadata": {},
   "source": [
    "## 1.1 Set Operations\n",
    "### Union \n"
   ]
  },
  {
   "cell_type": "markdown",
   "id": "18f817f6",
   "metadata": {},
   "source": []
  }
 ],
 "metadata": {
  "kernelspec": {
   "display_name": "Python 3 (ipykernel)",
   "language": "python",
   "name": "python3"
  },
  "language_info": {
   "codemirror_mode": {
    "name": "ipython",
    "version": 3
   },
   "file_extension": ".py",
   "mimetype": "text/x-python",
   "name": "python",
   "nbconvert_exporter": "python",
   "pygments_lexer": "ipython3",
   "version": "3.9.7"
  }
 },
 "nbformat": 4,
 "nbformat_minor": 5
}
