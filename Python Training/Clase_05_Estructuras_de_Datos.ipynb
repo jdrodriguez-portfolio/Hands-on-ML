{
 "nbformat": 4,
 "nbformat_minor": 0,
 "metadata": {
  "kernelspec": {
   "display_name": "Python 3",
   "language": "python",
   "name": "python3"
  },
  "language_info": {
   "codemirror_mode": {
    "name": "ipython",
    "version": 3
   },
   "file_extension": ".py",
   "mimetype": "text/x-python",
   "name": "python",
   "nbconvert_exporter": "python",
   "pygments_lexer": "ipython3",
   "version": "3.7.2"
  },
  "colab": {
   "name": "Clase_05_Estructuras_de_Datos.ipynb",
   "provenance": []
  }
 },
 "cells": [
  {
   "cell_type": "markdown",
   "metadata": {
    "id": "UnAmxBesVR2h"
   },
   "source": [
    "# Estructuras de datos(colecciones, objetos contenedores)\n",
    "\n",
    "Hasta ahora salvo algunas excepciones(usando listas) hemos trabajado únicamente con ejemplos que manejan datos sencillos(ints,floats,booleanos, etc), es decir un único elemento o valor. Aunque estos son útiles y es necesario conocerlos,  una de las mayores ventajas de la computación o programación científica y numérica es poder trabajar sobre grandes volúmenes de información, y poder realizar operaciones sobre múltiples elementos u objetos de manera rápida y eficiente.\n",
    "\n",
    "Para esto haremos uso(inicialmente) de objetos conocidos en en Python(y en muchos otros lenguajes) bajo algunos nombres comunes:\n",
    "\n",
    "* Colecciones\n",
    "* Estructuras de datos\n",
    "* Objetos contenedores\n",
    "\n",
    "\n",
    "Estos son objetos que nos permiten trabajar de una manera organizada y estructurada con conjuntos de objetos y operar sobre estos.\n",
    "\n",
    "**Nota** En esta clase veremos los objetos contenedores ,estructuras de datos y  las colecciones generales y estándar en Python, las cuales son usadas para cualquier tipo de programa , no solo programas numéricos y científicos, en posteriores clases profundizaremos en paquetes diseñados y optimizados para computación numérica y científica, por ejemplo: **NumPy** y **Pandas** que se volverán parte fundamental de la caja de herramientas del científico de datos. Las colecciones estándar de Python buscan ser lo más generales posibles, sacrificando el rendimiento para lograr la generalidad, los paquetes NumPy y Pandas al contrario buscan rendimiento muy cercano al del lenguaje **C** sacrificando un poco la generalidad y enfocándose en colecciones numéricas.\n",
    "\n",
    "\n",
    "Empecemos con una definición:\n",
    "\n",
    "## Objeto Contenedor\n",
    "\n",
    "Objeto contenedor es cualquier objeto que almacena  un número arbitrario de otros objetos(contiene objetos) , generalmente los objetos contenedores proveen formas de **accesar** los objetos contenidos e **iterar** sobre ellos.\n",
    "\n",
    "## Objeto contenedor y ciclo \"for\"\n",
    "\n",
    "Cuando estudiamos el ciclo \"for\" mencionamos que en Python este tenia una relacion muy grande con colecciones de objetos, en Python el ciclo \"for\" nos permite iterar(recorrer) sobre un objeto contenedor para acceder a sus elementos de uno en uno y así poder trabajar u operar sobre ellos.\n",
    "\n",
    "## Listas (list)\n",
    "\n",
    "<img src=\"https://files.realpython.com/media/t.eb0b38e642c5.png\">\n",
    "\n",
    "Una lista es una **secuencia ordenada** de objetos , los cuales están separados por comas y encerrados en corchetes, es decir que la lista tendrá la forma:\n",
    "\n",
    "[objeto1, objeto2, objeto3, objeto4,...,objetoN]\n",
    "\n",
    "\n",
    "La lista al ser un objeto, puede ser asignado a una variable(o identificador) tal como lo hemos hecho con los tipos básicos de la siguiente forma:\n",
    "\n",
    "< variable > = [< lista >]\n",
    "\n",
    "Por ejemplo:\n",
    "\n",
    "paises = [\"GT\",\"SV\",\"HN\",\"NI\",\"CR\"]\n",
    "\n",
    "A diferencia de otros lenguajes de programación(y los arrays de estos) en Python las listas no  requieren que todos los objetos contenidos sean del mismo tipo y puede almacenar cualquier combinación de tipos de objetos(incluidas otras listas)."
   ]
  },
  {
   "cell_type": "markdown",
   "metadata": {
    "id": "zKEGfGHPlLyx"
   },
   "source": [
    "int numeros[] = new int[];\n",
    "\n",
    "numeros[1,2,3,\"5\"];\n",
    "\n",
    "\n",
    "\n"
   ]
  },
  {
   "cell_type": "code",
   "metadata": {
    "id": "sT4qOQRplLcN"
   },
   "source": [
    ""
   ],
   "execution_count": null,
   "outputs": []
  },
  {
   "cell_type": "code",
   "metadata": {
    "colab": {
     "base_uri": "https://localhost:8080/"
    },
    "id": "ZE7rywOvVR2u",
    "executionInfo": {
     "status": "ok",
     "timestamp": 1645493747671,
     "user_tz": 360,
     "elapsed": 46,
     "user": {
      "displayName": "Luis Fernando Leal Hernandez",
      "photoUrl": "https://lh3.googleusercontent.com/a/default-user=s64",
      "userId": "08643725771405988586"
     }
    },
    "outputId": "baeab0ff-aa99-41f9-c276-5ab912712972"
   },
   "source": [
    "[1,4.0,'a']"
   ],
   "execution_count": null,
   "outputs": [
    {
     "output_type": "execute_result",
     "data": {
      "text/plain": [
       "[1, 4.0, 'a']"
      ]
     },
     "metadata": {},
     "execution_count": 1
    }
   ]
  },
  {
   "cell_type": "code",
   "metadata": {
    "colab": {
     "base_uri": "https://localhost:8080/"
    },
    "id": "YHwQlf6kVR2x",
    "executionInfo": {
     "status": "ok",
     "timestamp": 1645493747672,
     "user_tz": 360,
     "elapsed": 40,
     "user": {
      "displayName": "Luis Fernando Leal Hernandez",
      "photoUrl": "https://lh3.googleusercontent.com/a/default-user=s64",
      "userId": "08643725771405988586"
     }
    },
    "outputId": "3223761e-15f9-4864-dd7c-53a9796f3299"
   },
   "source": [
    "print([1,4.0,'a'])"
   ],
   "execution_count": null,
   "outputs": [
    {
     "output_type": "stream",
     "name": "stdout",
     "text": [
      "[1, 4.0, 'a']\n"
     ]
    }
   ]
  },
  {
   "cell_type": "code",
   "metadata": {
    "colab": {
     "base_uri": "https://localhost:8080/"
    },
    "id": "B4lQkgkpVR2y",
    "executionInfo": {
     "status": "ok",
     "timestamp": 1645493747672,
     "user_tz": 360,
     "elapsed": 35,
     "user": {
      "displayName": "Luis Fernando Leal Hernandez",
      "photoUrl": "https://lh3.googleusercontent.com/a/default-user=s64",
      "userId": "08643725771405988586"
     }
    },
    "outputId": "1c5f6c77-9ccf-4d22-ab08-6087da43324e"
   },
   "source": [
    "u = [1,4.0,'a']\n",
    "v = [3.14,2.71,42,u] #podemos ver que la lista u es tambien un objeto contenido en la lista v\n",
    "\n",
    "for elemento in v : # foreach\n",
    "    print(elemento)\n",
    "print(\"terminando de imprimir lista\")\n",
    "print(u)\n",
    "print(v)"
   ],
   "execution_count": null,
   "outputs": [
    {
     "output_type": "stream",
     "name": "stdout",
     "text": [
      "3.14\n",
      "2.71\n",
      "42\n",
      "[1, 4.0, 'a']\n",
      "terminando de imprimir lista\n",
      "[1, 4.0, 'a']\n",
      "[3.14, 2.71, 42, [1, 4.0, 'a']]\n"
     ]
    }
   ]
  },
  {
   "cell_type": "markdown",
   "metadata": {
    "id": "CGS2pXX8VR2z"
   },
   "source": [
    "Podemos verificar si 2 listas son iguales(almacenan los mismos objetos) usando =="
   ]
  },
  {
   "cell_type": "code",
   "metadata": {
    "colab": {
     "base_uri": "https://localhost:8080/"
    },
    "id": "YykUBQ7sVR2z",
    "executionInfo": {
     "status": "ok",
     "timestamp": 1645493747673,
     "user_tz": 360,
     "elapsed": 31,
     "user": {
      "displayName": "Luis Fernando Leal Hernandez",
      "photoUrl": "https://lh3.googleusercontent.com/a/default-user=s64",
      "userId": "08643725771405988586"
     }
    },
    "outputId": "e63302b5-a533-4895-f0ab-9a8a8e8566d2"
   },
   "source": [
    "a = [1,2,3]\n",
    "b = [1,2,3]\n",
    "\n",
    "a==b"
   ],
   "execution_count": null,
   "outputs": [
    {
     "output_type": "execute_result",
     "data": {
      "text/plain": [
       "True"
      ]
     },
     "metadata": {},
     "execution_count": 4
    }
   ]
  },
  {
   "cell_type": "code",
   "metadata": {
    "colab": {
     "base_uri": "https://localhost:8080/"
    },
    "id": "efbJ_8jlVR2z",
    "executionInfo": {
     "status": "ok",
     "timestamp": 1645493747674,
     "user_tz": 360,
     "elapsed": 26,
     "user": {
      "displayName": "Luis Fernando Leal Hernandez",
      "photoUrl": "https://lh3.googleusercontent.com/a/default-user=s64",
      "userId": "08643725771405988586"
     }
    },
    "outputId": "f7f5fae2-029f-4d93-e6f1-adbfdd06e6c4"
   },
   "source": [
    "#una lista es \"ordenada\" por lo cual aunque guardan los mismos valores, por estar en diferente orden ,no son iguales\n",
    "\n",
    "a = [2,1,3] \n",
    "b = [1,2,3]\n",
    "\n",
    "a==b"
   ],
   "execution_count": null,
   "outputs": [
    {
     "output_type": "execute_result",
     "data": {
      "text/plain": [
       "False"
      ]
     },
     "metadata": {},
     "execution_count": 5
    }
   ]
  },
  {
   "cell_type": "markdown",
   "metadata": {
    "id": "rAhC47OHVR20"
   },
   "source": [
    "Aun que no hemos visto a detalle funciones, veamos de momento que hace la funcion len() sobre una lista"
   ]
  },
  {
   "cell_type": "code",
   "metadata": {
    "colab": {
     "base_uri": "https://localhost:8080/"
    },
    "id": "qDC_6BBPVR20",
    "executionInfo": {
     "status": "ok",
     "timestamp": 1645493747674,
     "user_tz": 360,
     "elapsed": 22,
     "user": {
      "displayName": "Luis Fernando Leal Hernandez",
      "photoUrl": "https://lh3.googleusercontent.com/a/default-user=s64",
      "userId": "08643725771405988586"
     }
    },
    "outputId": "d0c26759-8814-4384-93aa-2a9d9867d8c2"
   },
   "source": [
    "u = [1,4.0,'a']\n",
    "v = [3.14,2.71,42,u]\n",
    "\n",
    "print(len(u))\n",
    "print(len(v))"
   ],
   "execution_count": null,
   "outputs": [
    {
     "output_type": "stream",
     "name": "stdout",
     "text": [
      "3\n",
      "4\n"
     ]
    }
   ]
  },
  {
   "cell_type": "markdown",
   "metadata": {
    "id": "vTqCDGJFVR21"
   },
   "source": [
    "####  Replicar el contenido de una lista\n",
    "\n",
    "Python nos provee una forma rapida y sencilla de replicar el contenido de una lista a traes del operador ***** , veamos los siguientes ejemplos que **duplican** o **triplican** el contenido de la lista u"
   ]
  },
  {
   "cell_type": "code",
   "metadata": {
    "colab": {
     "base_uri": "https://localhost:8080/"
    },
    "id": "qOkVwuFRVR21",
    "executionInfo": {
     "status": "ok",
     "timestamp": 1645493747675,
     "user_tz": 360,
     "elapsed": 19,
     "user": {
      "displayName": "Luis Fernando Leal Hernandez",
      "photoUrl": "https://lh3.googleusercontent.com/a/default-user=s64",
      "userId": "08643725771405988586"
     }
    },
    "outputId": "633459ed-03cc-481f-ab66-8dbd5e37a5ca"
   },
   "source": [
    "duplicated_u = u*2\n",
    "\n",
    "print(duplicated_u)"
   ],
   "execution_count": null,
   "outputs": [
    {
     "output_type": "stream",
     "name": "stdout",
     "text": [
      "[1, 4.0, 'a', 1, 4.0, 'a']\n"
     ]
    }
   ]
  },
  {
   "cell_type": "code",
   "metadata": {
    "colab": {
     "base_uri": "https://localhost:8080/"
    },
    "id": "EbCeQ1J5VR21",
    "executionInfo": {
     "status": "ok",
     "timestamp": 1645493747675,
     "user_tz": 360,
     "elapsed": 17,
     "user": {
      "displayName": "Luis Fernando Leal Hernandez",
      "photoUrl": "https://lh3.googleusercontent.com/a/default-user=s64",
      "userId": "08643725771405988586"
     }
    },
    "outputId": "9c951443-03db-4f65-ab77-c620b9843926"
   },
   "source": [
    "u*3"
   ],
   "execution_count": null,
   "outputs": [
    {
     "output_type": "execute_result",
     "data": {
      "text/plain": [
       "[1, 4.0, 'a', 1, 4.0, 'a', 1, 4.0, 'a']"
      ]
     },
     "metadata": {},
     "execution_count": 8
    }
   ]
  },
  {
   "cell_type": "code",
   "metadata": {
    "colab": {
     "base_uri": "https://localhost:8080/"
    },
    "id": "hnse3jHZVR22",
    "executionInfo": {
     "status": "ok",
     "timestamp": 1645493747676,
     "user_tz": 360,
     "elapsed": 15,
     "user": {
      "displayName": "Luis Fernando Leal Hernandez",
      "photoUrl": "https://lh3.googleusercontent.com/a/default-user=s64",
      "userId": "08643725771405988586"
     }
    },
    "outputId": "39d0acc0-d3ce-4efb-deed-c4bfa1c1ed75"
   },
   "source": [
    "len(u*4)"
   ],
   "execution_count": null,
   "outputs": [
    {
     "output_type": "execute_result",
     "data": {
      "text/plain": [
       "12"
      ]
     },
     "metadata": {},
     "execution_count": 9
    }
   ]
  },
  {
   "cell_type": "markdown",
   "metadata": {
    "id": "PM_d7Wo6VR23"
   },
   "source": [
    "#### Concatenar multiples listas\n",
    "\n",
    "En muchos casos, podemos tener 2 o mas listas las cuales nos interesa unificar en una sola lista , esto lo logramos a traves de una \"concatenacion de listas\" que podemos lograr usando el operador **+** ,por ejemplo:"
   ]
  },
  {
   "cell_type": "code",
   "metadata": {
    "colab": {
     "base_uri": "https://localhost:8080/"
    },
    "id": "xBJK0ArrpV0c",
    "executionInfo": {
     "status": "ok",
     "timestamp": 1645493748031,
     "user_tz": 360,
     "elapsed": 39,
     "user": {
      "displayName": "Luis Fernando Leal Hernandez",
      "photoUrl": "https://lh3.googleusercontent.com/a/default-user=s64",
      "userId": "08643725771405988586"
     }
    },
    "outputId": "e6f84f35-5976-4ab5-b681-39414f91c6c4"
   },
   "source": [
    "print(u)\n",
    "print(v)"
   ],
   "execution_count": null,
   "outputs": [
    {
     "output_type": "stream",
     "name": "stdout",
     "text": [
      "[1, 4.0, 'a']\n",
      "[3.14, 2.71, 42, [1, 4.0, 'a']]\n"
     ]
    }
   ]
  },
  {
   "cell_type": "code",
   "metadata": {
    "colab": {
     "base_uri": "https://localhost:8080/"
    },
    "id": "yEfbZjVpVR23",
    "executionInfo": {
     "status": "ok",
     "timestamp": 1645493748032,
     "user_tz": 360,
     "elapsed": 32,
     "user": {
      "displayName": "Luis Fernando Leal Hernandez",
      "photoUrl": "https://lh3.googleusercontent.com/a/default-user=s64",
      "userId": "08643725771405988586"
     }
    },
    "outputId": "9419b2d2-2bd7-4d73-b959-0cf3f95b73bc"
   },
   "source": [
    "w = u + v \n",
    "\n",
    "print(w)"
   ],
   "execution_count": null,
   "outputs": [
    {
     "output_type": "stream",
     "name": "stdout",
     "text": [
      "[1, 4.0, 'a', 3.14, 2.71, 42, [1, 4.0, 'a']]\n"
     ]
    }
   ]
  },
  {
   "cell_type": "markdown",
   "metadata": {
    "id": "4srQUoiXVR25"
   },
   "source": [
    "#### Agregar nuevos elementos al final de una lista\n",
    "\n",
    "Si necesitamos agregar nuevos elementos a una lista , podemos usar la funcion append(< nuevo elemento> ) aplicada sobre la lista, esto  agrega el nuevo contenido al final de la lista."
   ]
  },
  {
   "cell_type": "code",
   "metadata": {
    "colab": {
     "base_uri": "https://localhost:8080/"
    },
    "id": "69BqDRLoVR26",
    "executionInfo": {
     "status": "ok",
     "timestamp": 1645493748032,
     "user_tz": 360,
     "elapsed": 31,
     "user": {
      "displayName": "Luis Fernando Leal Hernandez",
      "photoUrl": "https://lh3.googleusercontent.com/a/default-user=s64",
      "userId": "08643725771405988586"
     }
    },
    "outputId": "c21f6c32-35df-4c0b-e4f7-f72921fc8d5e"
   },
   "source": [
    "a = [1,2,3,4]\n",
    "\n",
    "a.append(5)\n",
    "a.append(6)\n",
    "a.append('test')\n",
    "\n",
    "print(a)"
   ],
   "execution_count": null,
   "outputs": [
    {
     "output_type": "stream",
     "name": "stdout",
     "text": [
      "[1, 2, 3, 4, 5, 6, 'test']\n"
     ]
    }
   ]
  },
  {
   "cell_type": "code",
   "metadata": {
    "colab": {
     "base_uri": "https://localhost:8080/"
    },
    "id": "_h7nap9YVR26",
    "executionInfo": {
     "status": "ok",
     "timestamp": 1645493748033,
     "user_tz": 360,
     "elapsed": 31,
     "user": {
      "displayName": "Luis Fernando Leal Hernandez",
      "photoUrl": "https://lh3.googleusercontent.com/a/default-user=s64",
      "userId": "08643725771405988586"
     }
    },
    "outputId": "f7b9608b-df46-4fda-e51e-84efad04a1ae"
   },
   "source": [
    "metricas = []\n",
    "# parte de proyecto\n",
    "for i in range(10):\n",
    "    metricas.append(i+2 + i**2)\n",
    "    \n",
    "print(metricas)"
   ],
   "execution_count": null,
   "outputs": [
    {
     "output_type": "stream",
     "name": "stdout",
     "text": [
      "[2, 4, 8, 14, 22, 32, 44, 58, 74, 92]\n"
     ]
    }
   ]
  },
  {
   "cell_type": "code",
   "metadata": {
    "colab": {
     "base_uri": "https://localhost:8080/"
    },
    "id": "9WoF_031VR26",
    "executionInfo": {
     "status": "ok",
     "timestamp": 1645493748033,
     "user_tz": 360,
     "elapsed": 30,
     "user": {
      "displayName": "Luis Fernando Leal Hernandez",
      "photoUrl": "https://lh3.googleusercontent.com/a/default-user=s64",
      "userId": "08643725771405988586"
     }
    },
    "outputId": "69407c28-e554-45e5-fdb4-f66a2e60696a"
   },
   "source": [
    "sum(metricas)/len(metricas)"
   ],
   "execution_count": null,
   "outputs": [
    {
     "output_type": "execute_result",
     "data": {
      "text/plain": [
       "35.0"
      ]
     },
     "metadata": {},
     "execution_count": 14
    }
   ]
  },
  {
   "cell_type": "markdown",
   "metadata": {
    "id": "9vks8g1YVR27"
   },
   "source": [
    "#### Accesar elementos individuales de una lista(indexing)\n",
    "\n",
    "\n",
    "En muchos casos , necesitamos acceder a los elementos de una lista de manera individual , para esto usamos su posicion en la lista ,llamamos a la posicion de un objeto en la lista el **\"indice\"** del elemento.\n",
    "\n",
    "Python es un \"zero index language\" lo cual significa que las posiciones empiezan en 0 y no en 1, esto significa que el primer objeto de la lista tendra indice 0, el segundo tendra indice 1 y asi sucesivamente, hasta llegar al ultimo elemento el cual siempre es el tamanio de la lista menos 1, o bien: \n",
    "\n",
    "```\n",
    "len(< lista >) - 1\n",
    "```\n",
    "\n",
    "<img src=\"https://files.realpython.com/media/t.eb0b38e642c5.png\">\n",
    "\n",
    "La sintaxis para acceder a cierto elemento de la lista es:\n",
    "\n",
    "```\n",
    "lista[indice]\n",
    "```"
   ]
  },
  {
   "cell_type": "code",
   "metadata": {
    "colab": {
     "base_uri": "https://localhost:8080/"
    },
    "id": "fizzW4MaVR27",
    "executionInfo": {
     "status": "ok",
     "timestamp": 1645493748034,
     "user_tz": 360,
     "elapsed": 28,
     "user": {
      "displayName": "Luis Fernando Leal Hernandez",
      "photoUrl": "https://lh3.googleusercontent.com/a/default-user=s64",
      "userId": "08643725771405988586"
     }
    },
    "outputId": "03d194ee-7473-4c36-cf4b-2ff415249f7d"
   },
   "source": [
    "lista = [\"foo\",\"bar\",\"baz\",\"qux\",\"quux\",\"corge\"]\n",
    "\n",
    "primero = lista[0]\n",
    "segundo = lista[1]\n",
    "\n",
    "print(primero)\n",
    "print(segundo)"
   ],
   "execution_count": null,
   "outputs": [
    {
     "output_type": "stream",
     "name": "stdout",
     "text": [
      "foo\n",
      "bar\n"
     ]
    }
   ]
  },
  {
   "cell_type": "code",
   "metadata": {
    "colab": {
     "base_uri": "https://localhost:8080/"
    },
    "id": "GWSvdMdtVR27",
    "executionInfo": {
     "status": "ok",
     "timestamp": 1645493748035,
     "user_tz": 360,
     "elapsed": 24,
     "user": {
      "displayName": "Luis Fernando Leal Hernandez",
      "photoUrl": "https://lh3.googleusercontent.com/a/default-user=s64",
      "userId": "08643725771405988586"
     }
    },
    "outputId": "605b4a48-088d-4a5d-ad76-73a0b031a5f2"
   },
   "source": [
    "lista[0]  = \"updated\"\n",
    "\n",
    "print(lista)"
   ],
   "execution_count": null,
   "outputs": [
    {
     "output_type": "stream",
     "name": "stdout",
     "text": [
      "['updated', 'bar', 'baz', 'qux', 'quux', 'corge']\n"
     ]
    }
   ]
  },
  {
   "cell_type": "markdown",
   "metadata": {
    "id": "xtsFYgr8VR28"
   },
   "source": [
    "Si intentamos acceder con un indice no valido, obtendremos un error, por ejemplo si la lista solo tiene 6 elementos, el indice valido maximo es 5, si intentamos acceder la lista con un indice mayor a 5 obtendremos un error."
   ]
  },
  {
   "cell_type": "code",
   "metadata": {
    "id": "BUVzQijLVR28"
   },
   "source": [
    "#lista[6] #IndexError: list index out of range"
   ],
   "execution_count": null,
   "outputs": []
  },
  {
   "cell_type": "markdown",
   "metadata": {
    "id": "aXhboTolVR28"
   },
   "source": [
    "##### Indinces negativos\n",
    "Python nos permite acceder a los elementos de la lista utilizando índices negativos, el significado de esto es empezar a contar del último elemento al primero, esto significa que el índice -1 hace referencia al último elemento ,-2 hace referencia al penúltimo y así sucesivamente hasta el negativo del tamaño de la lista , es decir:\n",
    "\n",
    "-len(< lista >)\n",
    "\n",
    "Podemos ver entonces que los indices de una lista se encuentran en el intervalo\n",
    "\n",
    "[-1,-len(< lista > )]\n",
    "\n",
    "<img src=\"https://qph.fs.quoracdn.net/main-qimg-a380b1bc159589df5e0b9842e5b56b6d\">"
   ]
  },
  {
   "cell_type": "code",
   "metadata": {
    "colab": {
     "base_uri": "https://localhost:8080/"
    },
    "id": "QwNpHmLjuSSB",
    "executionInfo": {
     "status": "ok",
     "timestamp": 1645493748036,
     "user_tz": 360,
     "elapsed": 21,
     "user": {
      "displayName": "Luis Fernando Leal Hernandez",
      "photoUrl": "https://lh3.googleusercontent.com/a/default-user=s64",
      "userId": "08643725771405988586"
     }
    },
    "outputId": "065251db-876b-4652-8037-39bc57ff4be3"
   },
   "source": [
    "print(lista)"
   ],
   "execution_count": null,
   "outputs": [
    {
     "output_type": "stream",
     "name": "stdout",
     "text": [
      "['updated', 'bar', 'baz', 'qux', 'quux', 'corge']\n"
     ]
    }
   ]
  },
  {
   "cell_type": "code",
   "metadata": {
    "colab": {
     "base_uri": "https://localhost:8080/"
    },
    "id": "fnfVsTAzVR28",
    "executionInfo": {
     "status": "ok",
     "timestamp": 1645493748237,
     "user_tz": 360,
     "elapsed": 219,
     "user": {
      "displayName": "Luis Fernando Leal Hernandez",
      "photoUrl": "https://lh3.googleusercontent.com/a/default-user=s64",
      "userId": "08643725771405988586"
     }
    },
    "outputId": "1587244b-6b17-4a91-dde2-62f5f4c9ba07"
   },
   "source": [
    "len(lista)"
   ],
   "execution_count": null,
   "outputs": [
    {
     "output_type": "execute_result",
     "data": {
      "text/plain": [
       "6"
      ]
     },
     "metadata": {},
     "execution_count": 19
    }
   ]
  },
  {
   "cell_type": "code",
   "metadata": {
    "colab": {
     "base_uri": "https://localhost:8080/"
    },
    "id": "C3nV4mYgVR29",
    "executionInfo": {
     "status": "ok",
     "timestamp": 1645493748238,
     "user_tz": 360,
     "elapsed": 20,
     "user": {
      "displayName": "Luis Fernando Leal Hernandez",
      "photoUrl": "https://lh3.googleusercontent.com/a/default-user=s64",
      "userId": "08643725771405988586"
     }
    },
    "outputId": "4eda3991-56e4-4437-9f9d-ce61e18acfde"
   },
   "source": [
    "print(lista[-1])\n",
    "print(lista[-2])\n",
    "\n",
    "\n",
    "print(lista[-len(lista)]) # print(lista[-6]) \n",
    "print(lista[0])"
   ],
   "execution_count": null,
   "outputs": [
    {
     "output_type": "stream",
     "name": "stdout",
     "text": [
      "corge\n",
      "quux\n",
      "updated\n",
      "updated\n"
     ]
    }
   ]
  },
  {
   "cell_type": "markdown",
   "metadata": {
    "id": "bffrDKDPVR29"
   },
   "source": [
    "#### Accesar porciones/rebanadas de la lista a traves de \"slicing\"\n",
    "\n",
    "En muchos casos nos interesa acceder no a elementos individuales de la lista, si no a porciones de esta, los siguientes ejemplos nos muestran el razonamiento a usar para determinar si se necesita \"slicing\" para particionar una lista:\n",
    "\n",
    "* Se necesitan los primeros 5 elementos de una lista\n",
    "* Se necesitan los ultimos 3 elementos de una lista\n",
    "* Se necesita cambiar del segundo al cuarto elemento de una lista.\n",
    "\n",
    "En todos estos casos accedemos porciones, o rebanadas de la lista original en lugar de elementos individuales. \n",
    "\n",
    "La sintaxis para hacer esto es muy parecida a la usada para acceder elementos individuales, pero agregamos ahora el operador **\":\"** y lo usamos de la siguiente forma:\n",
    "\n",
    "< lista >[< inicio >: < fin >]\n",
    "\n",
    "donde:\n",
    "* < lista > : la lista original de la que deseamos acceder una sub-porcion\n",
    "* < inicio > : la posicion del inicio de la rebanada a obtener (inclusivo)\n",
    "* < fin > : la posicion final de la rebanada a obtener (exclusivo)\n",
    "\n",
    "Inicio y fin pueden ser cualquier expresion valida cuyo resultado sea un entero.\n",
    "\n",
    "Por ejemplo:"
   ]
  },
  {
   "cell_type": "code",
   "metadata": {
    "colab": {
     "base_uri": "https://localhost:8080/"
    },
    "id": "j8JT8zbHVR29",
    "executionInfo": {
     "status": "ok",
     "timestamp": 1645493748239,
     "user_tz": 360,
     "elapsed": 20,
     "user": {
      "displayName": "Luis Fernando Leal Hernandez",
      "photoUrl": "https://lh3.googleusercontent.com/a/default-user=s64",
      "userId": "08643725771405988586"
     }
    },
    "outputId": "e629927f-138c-4a3c-d0f5-daceec1de58a"
   },
   "source": [
    "lista1 = [\"hola\",\"mundo\",\"desde\",\"el\",\"lenguaje\",\"python\"]\n",
    "\n",
    "lista1[0:3] #ya que \"fin\" es exclusivo el resultado contiene hasta el elemento previo a este"
   ],
   "execution_count": null,
   "outputs": [
    {
     "output_type": "execute_result",
     "data": {
      "text/plain": [
       "['hola', 'mundo', 'desde']"
      ]
     },
     "metadata": {},
     "execution_count": 21
    }
   ]
  },
  {
   "cell_type": "markdown",
   "metadata": {
    "id": "kVowlyagVR29"
   },
   "source": [
    "El resultado de el slicing es una nueva lista que podemos asignar a una variable o usar en cualquier expresion donde una lista  sea valida"
   ]
  },
  {
   "cell_type": "code",
   "metadata": {
    "colab": {
     "base_uri": "https://localhost:8080/"
    },
    "id": "F4TRK3zNVR2-",
    "executionInfo": {
     "status": "ok",
     "timestamp": 1645493748240,
     "user_tz": 360,
     "elapsed": 20,
     "user": {
      "displayName": "Luis Fernando Leal Hernandez",
      "photoUrl": "https://lh3.googleusercontent.com/a/default-user=s64",
      "userId": "08643725771405988586"
     }
    },
    "outputId": "78690763-4b3f-4d21-b2b8-95cfcf41b845"
   },
   "source": [
    "u =[1,2,3,4,5,6,7]\n",
    "sub_u = u[1:4]\n",
    "\n",
    "print(type(sub_u))\n",
    "print(sub_u)"
   ],
   "execution_count": null,
   "outputs": [
    {
     "output_type": "stream",
     "name": "stdout",
     "text": [
      "<class 'list'>\n",
      "[2, 3, 4]\n"
     ]
    }
   ]
  },
  {
   "cell_type": "code",
   "metadata": {
    "colab": {
     "base_uri": "https://localhost:8080/"
    },
    "id": "ow9uO-bSVR2-",
    "executionInfo": {
     "status": "ok",
     "timestamp": 1645493748240,
     "user_tz": 360,
     "elapsed": 18,
     "user": {
      "displayName": "Luis Fernando Leal Hernandez",
      "photoUrl": "https://lh3.googleusercontent.com/a/default-user=s64",
      "userId": "08643725771405988586"
     }
    },
    "outputId": "4339d116-9b63-4a21-9406-a1cb944b0b0e"
   },
   "source": [
    "u[2:4] =  [3.14,'a']\n",
    "\n",
    "print(u)"
   ],
   "execution_count": null,
   "outputs": [
    {
     "output_type": "stream",
     "name": "stdout",
     "text": [
      "[1, 2, 3.14, 'a', 5, 6, 7]\n"
     ]
    }
   ]
  },
  {
   "cell_type": "markdown",
   "metadata": {
    "id": "IyABk86wVR2-"
   },
   "source": [
    "Tambien es posible hacer slicing con indices negativos"
   ]
  },
  {
   "cell_type": "code",
   "metadata": {
    "colab": {
     "base_uri": "https://localhost:8080/"
    },
    "id": "EMoZsa6Dw8rY",
    "executionInfo": {
     "status": "ok",
     "timestamp": 1645493748241,
     "user_tz": 360,
     "elapsed": 18,
     "user": {
      "displayName": "Luis Fernando Leal Hernandez",
      "photoUrl": "https://lh3.googleusercontent.com/a/default-user=s64",
      "userId": "08643725771405988586"
     }
    },
    "outputId": "1754f625-21e8-4b37-a8a8-d3b94d16826b"
   },
   "source": [
    "print(u)"
   ],
   "execution_count": null,
   "outputs": [
    {
     "output_type": "stream",
     "name": "stdout",
     "text": [
      "[1, 2, 3.14, 'a', 5, 6, 7]\n"
     ]
    }
   ]
  },
  {
   "cell_type": "code",
   "metadata": {
    "colab": {
     "base_uri": "https://localhost:8080/"
    },
    "id": "Jo6BgZVUVR2-",
    "executionInfo": {
     "status": "ok",
     "timestamp": 1645493748241,
     "user_tz": 360,
     "elapsed": 17,
     "user": {
      "displayName": "Luis Fernando Leal Hernandez",
      "photoUrl": "https://lh3.googleusercontent.com/a/default-user=s64",
      "userId": "08643725771405988586"
     }
    },
    "outputId": "a7144d2c-6463-4994-9b67-0f3ccb51287b"
   },
   "source": [
    "print(u[2:6])\n",
    "print(u[2:-1])"
   ],
   "execution_count": null,
   "outputs": [
    {
     "output_type": "stream",
     "name": "stdout",
     "text": [
      "[3.14, 'a', 5, 6]\n",
      "[3.14, 'a', 5, 6]\n"
     ]
    }
   ]
  },
  {
   "cell_type": "markdown",
   "metadata": {
    "id": "As8TTCS3VR2-"
   },
   "source": [
    "Podemos usar sintaxis resumida para casos donde inicio es 0, o fin es el ultimo elemento, esto nos sirve en los casos:\n",
    "* Acceder desde el primer elemento hasta el elemento n\n",
    "* Acceder desde el elemento n hasta el final\n",
    "\n",
    "Para esto simplemente omitimos el valor de inicio o de fin segun el caso:\n"
   ]
  },
  {
   "cell_type": "code",
   "metadata": {
    "id": "U6FxbuTzVR2_",
    "colab": {
     "base_uri": "https://localhost:8080/"
    },
    "executionInfo": {
     "status": "ok",
     "timestamp": 1645493748242,
     "user_tz": 360,
     "elapsed": 16,
     "user": {
      "displayName": "Luis Fernando Leal Hernandez",
      "photoUrl": "https://lh3.googleusercontent.com/a/default-user=s64",
      "userId": "08643725771405988586"
     }
    },
    "outputId": "3f3f8d0b-db9b-4306-881c-fdda2dd71894"
   },
   "source": [
    "print(u)"
   ],
   "execution_count": null,
   "outputs": [
    {
     "output_type": "stream",
     "name": "stdout",
     "text": [
      "[1, 2, 3.14, 'a', 5, 6, 7]\n"
     ]
    }
   ]
  },
  {
   "cell_type": "code",
   "metadata": {
    "id": "Pvwty6oXVR2_",
    "colab": {
     "base_uri": "https://localhost:8080/"
    },
    "executionInfo": {
     "status": "ok",
     "timestamp": 1645493748242,
     "user_tz": 360,
     "elapsed": 15,
     "user": {
      "displayName": "Luis Fernando Leal Hernandez",
      "photoUrl": "https://lh3.googleusercontent.com/a/default-user=s64",
      "userId": "08643725771405988586"
     }
    },
    "outputId": "d5b915bc-c2f0-40e3-e2f3-150ae2cbe925"
   },
   "source": [
    "u[:4]"
   ],
   "execution_count": null,
   "outputs": [
    {
     "output_type": "execute_result",
     "data": {
      "text/plain": [
       "[1, 2, 3.14, 'a']"
      ]
     },
     "metadata": {},
     "execution_count": 27
    }
   ]
  },
  {
   "cell_type": "code",
   "metadata": {
    "id": "c8eqFhD4VR2_",
    "colab": {
     "base_uri": "https://localhost:8080/"
    },
    "executionInfo": {
     "status": "ok",
     "timestamp": 1645493748242,
     "user_tz": 360,
     "elapsed": 12,
     "user": {
      "displayName": "Luis Fernando Leal Hernandez",
      "photoUrl": "https://lh3.googleusercontent.com/a/default-user=s64",
      "userId": "08643725771405988586"
     }
    },
    "outputId": "75c92f95-e5f0-4405-e199-03758afef713"
   },
   "source": [
    "u[4:]"
   ],
   "execution_count": null,
   "outputs": [
    {
     "output_type": "execute_result",
     "data": {
      "text/plain": [
       "[5, 6, 7]"
      ]
     },
     "metadata": {},
     "execution_count": 28
    }
   ]
  },
  {
   "cell_type": "markdown",
   "metadata": {
    "id": "5DjS-5cQVR2_"
   },
   "source": [
    "Es posible indicar los incrementos para el slicing, el default es 1 pero podemos especificar un incremento diferente:"
   ]
  },
  {
   "cell_type": "code",
   "metadata": {
    "id": "wOnBGXSsVR3A",
    "colab": {
     "base_uri": "https://localhost:8080/"
    },
    "executionInfo": {
     "status": "ok",
     "timestamp": 1645493748243,
     "user_tz": 360,
     "elapsed": 12,
     "user": {
      "displayName": "Luis Fernando Leal Hernandez",
      "photoUrl": "https://lh3.googleusercontent.com/a/default-user=s64",
      "userId": "08643725771405988586"
     }
    },
    "outputId": "be86e4c6-65f5-497b-8a2d-3da7db4f2235"
   },
   "source": [
    "u[0::2]"
   ],
   "execution_count": null,
   "outputs": [
    {
     "output_type": "execute_result",
     "data": {
      "text/plain": [
       "[1, 3.14, 5, 7]"
      ]
     },
     "metadata": {},
     "execution_count": 29
    }
   ]
  },
  {
   "cell_type": "code",
   "metadata": {
    "id": "tj6SGpThVR3A",
    "colab": {
     "base_uri": "https://localhost:8080/"
    },
    "executionInfo": {
     "status": "ok",
     "timestamp": 1645493748609,
     "user_tz": 360,
     "elapsed": 377,
     "user": {
      "displayName": "Luis Fernando Leal Hernandez",
      "photoUrl": "https://lh3.googleusercontent.com/a/default-user=s64",
      "userId": "08643725771405988586"
     }
    },
    "outputId": "74368ae3-90ec-4981-ae70-d7fc734a0980"
   },
   "source": [
    "u[-1::-1]"
   ],
   "execution_count": null,
   "outputs": [
    {
     "output_type": "execute_result",
     "data": {
      "text/plain": [
       "[7, 6, 5, 'a', 3.14, 2, 1]"
      ]
     },
     "metadata": {},
     "execution_count": 30
    }
   ]
  },
  {
   "cell_type": "code",
   "metadata": {
    "id": "GTB0LsUVyqsA",
    "colab": {
     "base_uri": "https://localhost:8080/"
    },
    "executionInfo": {
     "status": "ok",
     "timestamp": 1645493748610,
     "user_tz": 360,
     "elapsed": 18,
     "user": {
      "displayName": "Luis Fernando Leal Hernandez",
      "photoUrl": "https://lh3.googleusercontent.com/a/default-user=s64",
      "userId": "08643725771405988586"
     }
    },
    "outputId": "6b288f88-48a6-4086-f5e8-40864b8e6598"
   },
   "source": [
    "print(u)"
   ],
   "execution_count": null,
   "outputs": [
    {
     "output_type": "stream",
     "name": "stdout",
     "text": [
      "[1, 2, 3.14, 'a', 5, 6, 7]\n"
     ]
    }
   ]
  },
  {
   "cell_type": "code",
   "metadata": {
    "id": "wU_zXj0MVR3A",
    "colab": {
     "base_uri": "https://localhost:8080/"
    },
    "executionInfo": {
     "status": "ok",
     "timestamp": 1645493748611,
     "user_tz": 360,
     "elapsed": 18,
     "user": {
      "displayName": "Luis Fernando Leal Hernandez",
      "photoUrl": "https://lh3.googleusercontent.com/a/default-user=s64",
      "userId": "08643725771405988586"
     }
    },
    "outputId": "019c3455-3a50-4b1d-fb02-7e7b761e6b37"
   },
   "source": [
    "u[-1:0:-1]"
   ],
   "execution_count": null,
   "outputs": [
    {
     "output_type": "execute_result",
     "data": {
      "text/plain": [
       "[7, 6, 5, 'a', 3.14, 2]"
      ]
     },
     "metadata": {},
     "execution_count": 32
    }
   ]
  },
  {
   "cell_type": "markdown",
   "metadata": {
    "id": "Iet0sc5OVR3A"
   },
   "source": [
    "#### count e index\n",
    "\n",
    "Podemos aplicar 2 funciones especiales sobre las listas:\n",
    "\n",
    "* < lista >.count(< valor >) indica cuantas veces encontramos en la lista el < valor > buscado\n",
    "* < lista >.index(< valor >) indica la posicion(empezando en 0)  del valor buscado ,si aparece mas de una vez, se muestra el primer indice"
   ]
  },
  {
   "cell_type": "code",
   "metadata": {
    "id": "u30TI8YqVR3A",
    "colab": {
     "base_uri": "https://localhost:8080/"
    },
    "executionInfo": {
     "status": "ok",
     "timestamp": 1645493748611,
     "user_tz": 360,
     "elapsed": 16,
     "user": {
      "displayName": "Luis Fernando Leal Hernandez",
      "photoUrl": "https://lh3.googleusercontent.com/a/default-user=s64",
      "userId": "08643725771405988586"
     }
    },
    "outputId": "1b99dc12-3c09-41c5-a266-19bd45bce066"
   },
   "source": [
    "lista = [\"a\",\"b\",\"c\",\"e\",\"f\",\"g\",\"c\",2,3,4,5,\"c\"]\n",
    "\n",
    "print(lista.count(\"c\"))\n",
    "print(lista.index(\"c\",3)) #segundo parametro es desde donde contar"
   ],
   "execution_count": null,
   "outputs": [
    {
     "output_type": "stream",
     "name": "stdout",
     "text": [
      "3\n",
      "6\n"
     ]
    }
   ]
  },
  {
   "cell_type": "code",
   "metadata": {
    "id": "F1b-ig8EVR3B",
    "colab": {
     "base_uri": "https://localhost:8080/"
    },
    "executionInfo": {
     "status": "ok",
     "timestamp": 1645493748611,
     "user_tz": 360,
     "elapsed": 15,
     "user": {
      "displayName": "Luis Fernando Leal Hernandez",
      "photoUrl": "https://lh3.googleusercontent.com/a/default-user=s64",
      "userId": "08643725771405988586"
     }
    },
    "outputId": "6aa960eb-7648-44ad-84fb-ed965494ff6c"
   },
   "source": [
    "posicion = lista.index(\"c\")\n",
    "lista.index(\"c\",posicion +1)"
   ],
   "execution_count": null,
   "outputs": [
    {
     "output_type": "execute_result",
     "data": {
      "text/plain": [
       "6"
      ]
     },
     "metadata": {},
     "execution_count": 34
    }
   ]
  },
  {
   "cell_type": "markdown",
   "metadata": {
    "id": "6_lv11EEVR3B"
   },
   "source": [
    "#### Operadores de membresia"
   ]
  },
  {
   "cell_type": "code",
   "metadata": {
    "id": "r9V4awyRVR3B",
    "colab": {
     "base_uri": "https://localhost:8080/"
    },
    "executionInfo": {
     "status": "ok",
     "timestamp": 1645493748612,
     "user_tz": 360,
     "elapsed": 16,
     "user": {
      "displayName": "Luis Fernando Leal Hernandez",
      "photoUrl": "https://lh3.googleusercontent.com/a/default-user=s64",
      "userId": "08643725771405988586"
     }
    },
    "outputId": "515289d8-8860-4c82-b32f-74abc3239703"
   },
   "source": [
    "2 in lista # True"
   ],
   "execution_count": null,
   "outputs": [
    {
     "output_type": "execute_result",
     "data": {
      "text/plain": [
       "True"
      ]
     },
     "metadata": {},
     "execution_count": 35
    }
   ]
  },
  {
   "cell_type": "code",
   "metadata": {
    "id": "7zJqgkRSVR3B",
    "colab": {
     "base_uri": "https://localhost:8080/"
    },
    "executionInfo": {
     "status": "ok",
     "timestamp": 1645493748612,
     "user_tz": 360,
     "elapsed": 15,
     "user": {
      "displayName": "Luis Fernando Leal Hernandez",
      "photoUrl": "https://lh3.googleusercontent.com/a/default-user=s64",
      "userId": "08643725771405988586"
     }
    },
    "outputId": "7114adf9-3ce2-45de-e525-3c4a919f1803"
   },
   "source": [
    "\"hola\" in lista"
   ],
   "execution_count": null,
   "outputs": [
    {
     "output_type": "execute_result",
     "data": {
      "text/plain": [
       "False"
      ]
     },
     "metadata": {},
     "execution_count": 36
    }
   ]
  },
  {
   "cell_type": "code",
   "metadata": {
    "id": "n1SwT4h70Oms",
    "colab": {
     "base_uri": "https://localhost:8080/"
    },
    "executionInfo": {
     "status": "ok",
     "timestamp": 1645493748612,
     "user_tz": 360,
     "elapsed": 14,
     "user": {
      "displayName": "Luis Fernando Leal Hernandez",
      "photoUrl": "https://lh3.googleusercontent.com/a/default-user=s64",
      "userId": "08643725771405988586"
     }
    },
    "outputId": "a96b7b4f-d234-4f6a-871f-518e2c522d56"
   },
   "source": [
    "if 2 in lista:\n",
    "  print(\"si esta el valor buscado\")"
   ],
   "execution_count": null,
   "outputs": [
    {
     "output_type": "stream",
     "name": "stdout",
     "text": [
      "si esta el valor buscado\n"
     ]
    }
   ]
  },
  {
   "cell_type": "markdown",
   "metadata": {
    "id": "BcXZ4FSCVR3B"
   },
   "source": [
    "## Tuplas (tuple)\n",
    "\n",
    "Objeto contenedor muy similar a las listas y por lo tanto muchas operaciones con listas son también  válidas con las tuplas, sintácticamente  difieren en que las tupas usan paréntesis  en lugar de corchetes. Conceptualmente la diferencia más grande es que las tuplas son \"inmutables\" , por lo cual no podemos actualizar los objetos que contiene o agregar nuevos una vez esta ha sido creada.\n",
    "\n",
    "* Ya que las tuplas no pueden ser modificadas, el acceso a la información en ella es ligeramente más rápido.\n",
    "* Son usadas muchas veces como llaves de diccionarios(a discutir pronto), las listas no pueden ser usadas para este propósito.\n",
    "* Es común tener listas de tuplas donde cada tupla representa un objeto compuesto por muchos atributos o características:\n",
    "    * Por ejemplo una lista de alumnos podría usar \"tuplas\" para representar a cada alumno y cada alumno podría tener nombre y número de carnet en una tupla."
   ]
  },
  {
   "cell_type": "code",
   "metadata": {
    "id": "x78HvxiGVR3C",
    "colab": {
     "base_uri": "https://localhost:8080/"
    },
    "executionInfo": {
     "status": "ok",
     "timestamp": 1645493748613,
     "user_tz": 360,
     "elapsed": 13,
     "user": {
      "displayName": "Luis Fernando Leal Hernandez",
      "photoUrl": "https://lh3.googleusercontent.com/a/default-user=s64",
      "userId": "08643725771405988586"
     }
    },
    "outputId": "15955895-833e-4194-972f-d099e99269ab"
   },
   "source": [
    "(1,2,3,4)"
   ],
   "execution_count": null,
   "outputs": [
    {
     "output_type": "execute_result",
     "data": {
      "text/plain": [
       "(1, 2, 3, 4)"
      ]
     },
     "metadata": {},
     "execution_count": 38
    }
   ]
  },
  {
   "cell_type": "code",
   "metadata": {
    "id": "2MPYPgo6VR3C",
    "colab": {
     "base_uri": "https://localhost:8080/"
    },
    "executionInfo": {
     "status": "ok",
     "timestamp": 1645493748613,
     "user_tz": 360,
     "elapsed": 12,
     "user": {
      "displayName": "Luis Fernando Leal Hernandez",
      "photoUrl": "https://lh3.googleusercontent.com/a/default-user=s64",
      "userId": "08643725771405988586"
     }
    },
    "outputId": "6e5aa91a-f2a8-4c3b-eb70-8f369e10ef3e"
   },
   "source": [
    "type((1,2,3,4))"
   ],
   "execution_count": null,
   "outputs": [
    {
     "output_type": "execute_result",
     "data": {
      "text/plain": [
       "tuple"
      ]
     },
     "metadata": {},
     "execution_count": 39
    }
   ]
  },
  {
   "cell_type": "code",
   "metadata": {
    "id": "XCuYmV02VR3C",
    "colab": {
     "base_uri": "https://localhost:8080/"
    },
    "executionInfo": {
     "status": "ok",
     "timestamp": 1645493748614,
     "user_tz": 360,
     "elapsed": 13,
     "user": {
      "displayName": "Luis Fernando Leal Hernandez",
      "photoUrl": "https://lh3.googleusercontent.com/a/default-user=s64",
      "userId": "08643725771405988586"
     }
    },
    "outputId": "932aab78-72f0-4179-f49a-f3763fdea624"
   },
   "source": [
    "type([1,2,3,4])"
   ],
   "execution_count": null,
   "outputs": [
    {
     "output_type": "execute_result",
     "data": {
      "text/plain": [
       "list"
      ]
     },
     "metadata": {},
     "execution_count": 40
    }
   ]
  },
  {
   "cell_type": "code",
   "metadata": {
    "id": "ZoESdVJfVR3C"
   },
   "source": [
    "a = (1,2,3,4)\n",
    "\n",
    "#a[0] = 2  #no permitido"
   ],
   "execution_count": null,
   "outputs": []
  },
  {
   "cell_type": "code",
   "metadata": {
    "id": "VbsRVaXRVR3C"
   },
   "source": [
    "b = (2,3,4,\"g\")\n",
    "\n",
    "#b.append(2) #no permitido"
   ],
   "execution_count": null,
   "outputs": []
  },
  {
   "cell_type": "markdown",
   "metadata": {
    "id": "79YJuBy5VR3D"
   },
   "source": [
    "También podemos replicar tuplas o bien crear una combinando 2 existentes\n",
    "\n",
    "**nota:**recordemos que las tuplas son inmutables, el resultado de estas operaciones es una nueva tupla, no una modificación de la original."
   ]
  },
  {
   "cell_type": "code",
   "metadata": {
    "id": "tGeYVPLxVR3D",
    "colab": {
     "base_uri": "https://localhost:8080/"
    },
    "executionInfo": {
     "status": "ok",
     "timestamp": 1645493748820,
     "user_tz": 360,
     "elapsed": 217,
     "user": {
      "displayName": "Luis Fernando Leal Hernandez",
      "photoUrl": "https://lh3.googleusercontent.com/a/default-user=s64",
      "userId": "08643725771405988586"
     }
    },
    "outputId": "d2cf9ee0-0025-4e51-c934-8e7dfb97386b"
   },
   "source": [
    "b*2"
   ],
   "execution_count": null,
   "outputs": [
    {
     "output_type": "execute_result",
     "data": {
      "text/plain": [
       "(2, 3, 4, 'g', 2, 3, 4, 'g')"
      ]
     },
     "metadata": {},
     "execution_count": 43
    }
   ]
  },
  {
   "cell_type": "code",
   "metadata": {
    "id": "boLLAbj2VR3D",
    "colab": {
     "base_uri": "https://localhost:8080/"
    },
    "executionInfo": {
     "status": "ok",
     "timestamp": 1645493748821,
     "user_tz": 360,
     "elapsed": 23,
     "user": {
      "displayName": "Luis Fernando Leal Hernandez",
      "photoUrl": "https://lh3.googleusercontent.com/a/default-user=s64",
      "userId": "08643725771405988586"
     }
    },
    "outputId": "702447ae-1565-4ec0-bdd2-9d02a6432f55"
   },
   "source": [
    "a + b"
   ],
   "execution_count": null,
   "outputs": [
    {
     "output_type": "execute_result",
     "data": {
      "text/plain": [
       "(1, 2, 3, 4, 2, 3, 4, 'g')"
      ]
     },
     "metadata": {},
     "execution_count": 44
    }
   ]
  },
  {
   "cell_type": "markdown",
   "metadata": {
    "id": "ukiMBWs2VR3D"
   },
   "source": [
    "Podemos crear una lista a partir de una tupla usando la función list()"
   ]
  },
  {
   "cell_type": "code",
   "metadata": {
    "id": "CTibJNEJVR3D",
    "colab": {
     "base_uri": "https://localhost:8080/"
    },
    "executionInfo": {
     "status": "ok",
     "timestamp": 1645493748822,
     "user_tz": 360,
     "elapsed": 22,
     "user": {
      "displayName": "Luis Fernando Leal Hernandez",
      "photoUrl": "https://lh3.googleusercontent.com/a/default-user=s64",
      "userId": "08643725771405988586"
     }
    },
    "outputId": "ff786799-10d2-4902-d0a5-fed5d410ae2a"
   },
   "source": [
    "lista_a = list(a)\n",
    "\n",
    "print(lista_a)"
   ],
   "execution_count": null,
   "outputs": [
    {
     "output_type": "stream",
     "name": "stdout",
     "text": [
      "[1, 2, 3, 4]\n"
     ]
    }
   ]
  },
  {
   "cell_type": "markdown",
   "metadata": {
    "id": "Pbj8FnCCVR3E"
   },
   "source": [
    "O una tupla a partir de una lita"
   ]
  },
  {
   "cell_type": "code",
   "metadata": {
    "id": "IXycRtkvVR3E",
    "colab": {
     "base_uri": "https://localhost:8080/"
    },
    "executionInfo": {
     "status": "ok",
     "timestamp": 1645493748824,
     "user_tz": 360,
     "elapsed": 23,
     "user": {
      "displayName": "Luis Fernando Leal Hernandez",
      "photoUrl": "https://lh3.googleusercontent.com/a/default-user=s64",
      "userId": "08643725771405988586"
     }
    },
    "outputId": "5fe24107-2a28-4aad-cbcc-61496c31a9ce"
   },
   "source": [
    "tupla_a = tuple(lista_a)\n",
    "\n",
    "print(tupla_a)"
   ],
   "execution_count": null,
   "outputs": [
    {
     "output_type": "stream",
     "name": "stdout",
     "text": [
      "(1, 2, 3, 4)\n"
     ]
    }
   ]
  },
  {
   "cell_type": "markdown",
   "metadata": {
    "id": "mtn9cWvnVR3E"
   },
   "source": [
    "Una lista de tuplas donde cada tupla representa un objeto con distintas características."
   ]
  },
  {
   "cell_type": "code",
   "metadata": {
    "id": "zQcPMvP7VR3F",
    "colab": {
     "base_uri": "https://localhost:8080/"
    },
    "executionInfo": {
     "status": "ok",
     "timestamp": 1645493748825,
     "user_tz": 360,
     "elapsed": 23,
     "user": {
      "displayName": "Luis Fernando Leal Hernandez",
      "photoUrl": "https://lh3.googleusercontent.com/a/default-user=s64",
      "userId": "08643725771405988586"
     }
    },
    "outputId": "36d57656-55bf-4dd3-a914-2eff6c1c68a6"
   },
   "source": [
    "alumnos = [(1111,\"Juan Perez\"),(12223,\"Daniel Rodriguez\"),(2344,\"Jason Becker\")\n",
    "          ]\n",
    "\n",
    "alumno1 = alumnos[1]\n",
    "print(alumno1)"
   ],
   "execution_count": null,
   "outputs": [
    {
     "output_type": "stream",
     "name": "stdout",
     "text": [
      "(12223, 'Daniel Rodriguez')\n"
     ]
    }
   ]
  },
  {
   "cell_type": "markdown",
   "metadata": {
    "id": "ZuZBCuV1VR3F"
   },
   "source": [
    "También contamos con count(valor) e index(valor) en tuplas"
   ]
  },
  {
   "cell_type": "code",
   "metadata": {
    "id": "jxAcw9wnVR3G",
    "colab": {
     "base_uri": "https://localhost:8080/"
    },
    "executionInfo": {
     "status": "ok",
     "timestamp": 1645493748826,
     "user_tz": 360,
     "elapsed": 23,
     "user": {
      "displayName": "Luis Fernando Leal Hernandez",
      "photoUrl": "https://lh3.googleusercontent.com/a/default-user=s64",
      "userId": "08643725771405988586"
     }
    },
    "outputId": "a82edd35-08f8-4b99-8745-45d0333ee76b"
   },
   "source": [
    "print(alumnos.count(12223))\n",
    "#print(alumnos.index(12223))"
   ],
   "execution_count": null,
   "outputs": [
    {
     "output_type": "stream",
     "name": "stdout",
     "text": [
      "0\n"
     ]
    }
   ]
  },
  {
   "cell_type": "code",
   "metadata": {
    "id": "6-wp2F5l4lz-",
    "colab": {
     "base_uri": "https://localhost:8080/"
    },
    "executionInfo": {
     "status": "ok",
     "timestamp": 1645493748826,
     "user_tz": 360,
     "elapsed": 21,
     "user": {
      "displayName": "Luis Fernando Leal Hernandez",
      "photoUrl": "https://lh3.googleusercontent.com/a/default-user=s64",
      "userId": "08643725771405988586"
     }
    },
    "outputId": "62621c10-0809-4d25-e229-c8cf79150d1a"
   },
   "source": [
    "for elemento in (1111,\"Juan Perez\"):\n",
    "  print(elemento)"
   ],
   "execution_count": null,
   "outputs": [
    {
     "output_type": "stream",
     "name": "stdout",
     "text": [
      "1111\n",
      "Juan Perez\n"
     ]
    }
   ]
  },
  {
   "cell_type": "code",
   "source": [
    "for elemento in alumnos:\n",
    "  print(elemento)"
   ],
   "metadata": {
    "colab": {
     "base_uri": "https://localhost:8080/"
    },
    "id": "yTpzuQJFL3Wv",
    "executionInfo": {
     "status": "ok",
     "timestamp": 1645493748827,
     "user_tz": 360,
     "elapsed": 18,
     "user": {
      "displayName": "Luis Fernando Leal Hernandez",
      "photoUrl": "https://lh3.googleusercontent.com/a/default-user=s64",
      "userId": "08643725771405988586"
     }
    },
    "outputId": "cfe5a9db-cb85-4dee-8a28-64bda2a7cc46"
   },
   "execution_count": null,
   "outputs": [
    {
     "output_type": "stream",
     "name": "stdout",
     "text": [
      "(1111, 'Juan Perez')\n",
      "(12223, 'Daniel Rodriguez')\n",
      "(2344, 'Jason Becker')\n"
     ]
    }
   ]
  },
  {
   "cell_type": "markdown",
   "metadata": {
    "id": "NpoawAWlVR3H"
   },
   "source": [
    "#### Operadores de membresia"
   ]
  },
  {
   "cell_type": "code",
   "metadata": {
    "id": "Fy1FjPhiVR3H",
    "colab": {
     "base_uri": "https://localhost:8080/"
    },
    "executionInfo": {
     "status": "ok",
     "timestamp": 1645493748827,
     "user_tz": 360,
     "elapsed": 16,
     "user": {
      "displayName": "Luis Fernando Leal Hernandez",
      "photoUrl": "https://lh3.googleusercontent.com/a/default-user=s64",
      "userId": "08643725771405988586"
     }
    },
    "outputId": "55a00f7b-b6b7-4b88-d932-36233f8e9e03"
   },
   "source": [
    "12223 in alumno1"
   ],
   "execution_count": null,
   "outputs": [
    {
     "output_type": "execute_result",
     "data": {
      "text/plain": [
       "True"
      ]
     },
     "metadata": {},
     "execution_count": 51
    }
   ]
  },
  {
   "cell_type": "code",
   "metadata": {
    "id": "IQXa7YWCVR3I",
    "colab": {
     "base_uri": "https://localhost:8080/"
    },
    "executionInfo": {
     "status": "ok",
     "timestamp": 1645493749105,
     "user_tz": 360,
     "elapsed": 290,
     "user": {
      "displayName": "Luis Fernando Leal Hernandez",
      "photoUrl": "https://lh3.googleusercontent.com/a/default-user=s64",
      "userId": "08643725771405988586"
     }
    },
    "outputId": "6c3160aa-8484-4625-9899-04da279c46b7"
   },
   "source": [
    "\"Hola mundo\" in alumno1"
   ],
   "execution_count": null,
   "outputs": [
    {
     "output_type": "execute_result",
     "data": {
      "text/plain": [
       "False"
      ]
     },
     "metadata": {},
     "execution_count": 52
    }
   ]
  },
  {
   "cell_type": "code",
   "metadata": {
    "id": "iyMBzyTSVR3I",
    "colab": {
     "base_uri": "https://localhost:8080/"
    },
    "executionInfo": {
     "status": "ok",
     "timestamp": 1645493749106,
     "user_tz": 360,
     "elapsed": 16,
     "user": {
      "displayName": "Luis Fernando Leal Hernandez",
      "photoUrl": "https://lh3.googleusercontent.com/a/default-user=s64",
      "userId": "08643725771405988586"
     }
    },
    "outputId": "7eb0547f-c817-428b-8dec-7d98728e685d"
   },
   "source": [
    "alumnos"
   ],
   "execution_count": null,
   "outputs": [
    {
     "output_type": "execute_result",
     "data": {
      "text/plain": [
       "[(1111, 'Juan Perez'), (12223, 'Daniel Rodriguez'), (2344, 'Jason Becker')]"
      ]
     },
     "metadata": {},
     "execution_count": 53
    }
   ]
  },
  {
   "cell_type": "code",
   "metadata": {
    "id": "nKr_npnMVR3J",
    "colab": {
     "base_uri": "https://localhost:8080/"
    },
    "executionInfo": {
     "status": "ok",
     "timestamp": 1645493749106,
     "user_tz": 360,
     "elapsed": 14,
     "user": {
      "displayName": "Luis Fernando Leal Hernandez",
      "photoUrl": "https://lh3.googleusercontent.com/a/default-user=s64",
      "userId": "08643725771405988586"
     }
    },
    "outputId": "3fb02d51-a160-49e7-a4cf-51bb076686fb"
   },
   "source": [
    "(2344,\"Jason Becker\") in alumnos #buscar una tupla en la lista de  tuplas"
   ],
   "execution_count": null,
   "outputs": [
    {
     "output_type": "execute_result",
     "data": {
      "text/plain": [
       "True"
      ]
     },
     "metadata": {},
     "execution_count": 54
    }
   ]
  },
  {
   "cell_type": "code",
   "source": [
    "2344 in alumnos"
   ],
   "metadata": {
    "colab": {
     "base_uri": "https://localhost:8080/"
    },
    "id": "jb2-oqVUMluA",
    "executionInfo": {
     "status": "ok",
     "timestamp": 1645493749107,
     "user_tz": 360,
     "elapsed": 14,
     "user": {
      "displayName": "Luis Fernando Leal Hernandez",
      "photoUrl": "https://lh3.googleusercontent.com/a/default-user=s64",
      "userId": "08643725771405988586"
     }
    },
    "outputId": "88a585f7-3a41-4780-e2ea-bf2b34c66456"
   },
   "execution_count": null,
   "outputs": [
    {
     "output_type": "execute_result",
     "data": {
      "text/plain": [
       "False"
      ]
     },
     "metadata": {},
     "execution_count": 55
    }
   ]
  },
  {
   "cell_type": "code",
   "metadata": {
    "id": "C88IzmXeVR3J",
    "colab": {
     "base_uri": "https://localhost:8080/"
    },
    "executionInfo": {
     "status": "ok",
     "timestamp": 1645493749108,
     "user_tz": 360,
     "elapsed": 14,
     "user": {
      "displayName": "Luis Fernando Leal Hernandez",
      "photoUrl": "https://lh3.googleusercontent.com/a/default-user=s64",
      "userId": "08643725771405988586"
     }
    },
    "outputId": "7b7a1e3a-c953-4142-cdd6-0fa5271fc9de"
   },
   "source": [
    "(23445,\"Myrna Castillo\") in alumnos #buscar una tupla en la lista de  tuplas"
   ],
   "execution_count": null,
   "outputs": [
    {
     "output_type": "execute_result",
     "data": {
      "text/plain": [
       "False"
      ]
     },
     "metadata": {},
     "execution_count": 56
    }
   ]
  },
  {
   "cell_type": "code",
   "metadata": {
    "id": "-pZPpe2G4VxJ",
    "colab": {
     "base_uri": "https://localhost:8080/"
    },
    "executionInfo": {
     "status": "ok",
     "timestamp": 1645493749108,
     "user_tz": 360,
     "elapsed": 13,
     "user": {
      "displayName": "Luis Fernando Leal Hernandez",
      "photoUrl": "https://lh3.googleusercontent.com/a/default-user=s64",
      "userId": "08643725771405988586"
     }
    },
    "outputId": "97f5dbd3-9fdf-4d74-c496-f23d2a690387"
   },
   "source": [
    "if (2344,\"Jason Becker\") in alumnos:\n",
    "  print(\"el alumno si esta inscrito\")"
   ],
   "execution_count": null,
   "outputs": [
    {
     "output_type": "stream",
     "name": "stdout",
     "text": [
      "el alumno si esta inscrito\n"
     ]
    }
   ]
  },
  {
   "cell_type": "markdown",
   "metadata": {
    "id": "1J6-ln60VR3J"
   },
   "source": [
    "#### Indexing y slicing\n",
    "\n",
    "Para acceder a elementos de una tupla , aplica todo lo que vimos en listas respecto a indexing(1 elemento) y slicing(1 porcion), el resultado del slicing es una nueva tupla conteniendo la \"rebanada\" de la original"
   ]
  },
  {
   "cell_type": "code",
   "metadata": {
    "id": "o_Lz8xhsVR3J",
    "colab": {
     "base_uri": "https://localhost:8080/"
    },
    "executionInfo": {
     "status": "ok",
     "timestamp": 1645493749109,
     "user_tz": 360,
     "elapsed": 13,
     "user": {
      "displayName": "Luis Fernando Leal Hernandez",
      "photoUrl": "https://lh3.googleusercontent.com/a/default-user=s64",
      "userId": "08643725771405988586"
     }
    },
    "outputId": "25178706-a0be-49db-9031-5621c06fc047"
   },
   "source": [
    "tupla = (2,3,4,\"g\",5,6,7)\n",
    "\n",
    "#indexing\n",
    "print(tupla[2])\n",
    "print(tupla[-1])\n",
    "print(tupla[-2])\n",
    "\n",
    "#slicing\n",
    "print(tupla[2:5])\n",
    "print(tupla[2:-2])"
   ],
   "execution_count": null,
   "outputs": [
    {
     "output_type": "stream",
     "name": "stdout",
     "text": [
      "4\n",
      "7\n",
      "6\n",
      "(4, 'g', 5)\n",
      "(4, 'g', 5)\n"
     ]
    }
   ]
  },
  {
   "cell_type": "markdown",
   "metadata": {
    "id": "c76XPKx6VR3K"
   },
   "source": [
    "Muchas funciones(tema aun por estudiar) pueden devolver mas de un objeto, esto lo hacen a traves de tuplas:"
   ]
  },
  {
   "cell_type": "code",
   "metadata": {
    "id": "n6RGilWEVR3K"
   },
   "source": [
    "def max_min(lista):\n",
    "    \n",
    "    maximo = max(lista)\n",
    "    minimo = min(lista)\n",
    "    \n",
    "    return maximo,minimo"
   ],
   "execution_count": null,
   "outputs": []
  },
  {
   "cell_type": "code",
   "metadata": {
    "id": "rT5G3ePOVR3K",
    "colab": {
     "base_uri": "https://localhost:8080/"
    },
    "executionInfo": {
     "status": "ok",
     "timestamp": 1645493749110,
     "user_tz": 360,
     "elapsed": 13,
     "user": {
      "displayName": "Luis Fernando Leal Hernandez",
      "photoUrl": "https://lh3.googleusercontent.com/a/default-user=s64",
      "userId": "08643725771405988586"
     }
    },
    "outputId": "320c03f1-216f-45e2-d051-b796f2227c7b"
   },
   "source": [
    "max_min([2,3,7,2,100])"
   ],
   "execution_count": null,
   "outputs": [
    {
     "output_type": "execute_result",
     "data": {
      "text/plain": [
       "(100, 2)"
      ]
     },
     "metadata": {},
     "execution_count": 60
    }
   ]
  },
  {
   "cell_type": "code",
   "metadata": {
    "id": "bNOM5I-fVR3K",
    "colab": {
     "base_uri": "https://localhost:8080/"
    },
    "executionInfo": {
     "status": "ok",
     "timestamp": 1645493749377,
     "user_tz": 360,
     "elapsed": 279,
     "user": {
      "displayName": "Luis Fernando Leal Hernandez",
      "photoUrl": "https://lh3.googleusercontent.com/a/default-user=s64",
      "userId": "08643725771405988586"
     }
    },
    "outputId": "72f56bc7-bb89-4d3b-b0f0-40868f3016fb"
   },
   "source": [
    "type(max_min([2,3,7,2,100,56]))"
   ],
   "execution_count": null,
   "outputs": [
    {
     "output_type": "execute_result",
     "data": {
      "text/plain": [
       "tuple"
      ]
     },
     "metadata": {},
     "execution_count": 61
    }
   ]
  },
  {
   "cell_type": "code",
   "metadata": {
    "id": "pI33NTTT6Dd8",
    "colab": {
     "base_uri": "https://localhost:8080/"
    },
    "executionInfo": {
     "status": "ok",
     "timestamp": 1645493749378,
     "user_tz": 360,
     "elapsed": 29,
     "user": {
      "displayName": "Luis Fernando Leal Hernandez",
      "photoUrl": "https://lh3.googleusercontent.com/a/default-user=s64",
      "userId": "08643725771405988586"
     }
    },
    "outputId": "1740bfc6-fc5e-441a-c4d1-b1bed0f4bc5f"
   },
   "source": [
    "resultados = max_min([2,3,7,2,100])\n",
    "\n",
    "print(resultados)"
   ],
   "execution_count": null,
   "outputs": [
    {
     "output_type": "stream",
     "name": "stdout",
     "text": [
      "(100, 2)\n"
     ]
    }
   ]
  },
  {
   "cell_type": "code",
   "metadata": {
    "id": "04LDCWxlVR3L",
    "colab": {
     "base_uri": "https://localhost:8080/"
    },
    "executionInfo": {
     "status": "ok",
     "timestamp": 1645493749379,
     "user_tz": 360,
     "elapsed": 29,
     "user": {
      "displayName": "Luis Fernando Leal Hernandez",
      "photoUrl": "https://lh3.googleusercontent.com/a/default-user=s64",
      "userId": "08643725771405988586"
     }
    },
    "outputId": "afcecbec-02a6-4531-9572-95e3c004ffa1"
   },
   "source": [
    "maximo,minimo = max_min([2,3,7,2,100])\n",
    "\n",
    "print(maximo,minimo)"
   ],
   "execution_count": null,
   "outputs": [
    {
     "output_type": "stream",
     "name": "stdout",
     "text": [
      "100 2\n"
     ]
    }
   ]
  },
  {
   "cell_type": "code",
   "metadata": {
    "id": "K1VsngCjVR3L",
    "colab": {
     "base_uri": "https://localhost:8080/"
    },
    "executionInfo": {
     "status": "ok",
     "timestamp": 1645493749379,
     "user_tz": 360,
     "elapsed": 27,
     "user": {
      "displayName": "Luis Fernando Leal Hernandez",
      "photoUrl": "https://lh3.googleusercontent.com/a/default-user=s64",
      "userId": "08643725771405988586"
     }
    },
    "outputId": "d213c2ee-d3fe-4fcf-a4fb-397ce05290bc"
   },
   "source": [
    "resultado = max_min([2,3,7,2,100])\n",
    "\n",
    "print(resultado)"
   ],
   "execution_count": null,
   "outputs": [
    {
     "output_type": "stream",
     "name": "stdout",
     "text": [
      "(100, 2)\n"
     ]
    }
   ]
  },
  {
   "cell_type": "markdown",
   "metadata": {
    "id": "_h3hZ0M2VR3L"
   },
   "source": [
    "Las tuplas son utiles en programas que requieren hacer un \"swap\" de valores entre variables, escenario muy común en algoritmos de ordenamiento, veamos el siguiente algoritmo escrito de manera convencional(otros lenguajes) vs en Python con tuplas:"
   ]
  },
  {
   "cell_type": "code",
   "metadata": {
    "id": "HCzxyN3AVR3L",
    "colab": {
     "base_uri": "https://localhost:8080/"
    },
    "executionInfo": {
     "status": "ok",
     "timestamp": 1645493749380,
     "user_tz": 360,
     "elapsed": 27,
     "user": {
      "displayName": "Luis Fernando Leal Hernandez",
      "photoUrl": "https://lh3.googleusercontent.com/a/default-user=s64",
      "userId": "08643725771405988586"
     }
    },
    "outputId": "263af289-d848-4848-b557-1cc35fddcf04"
   },
   "source": [
    "# metodo convencional usado comunmente en otros lenguajes\n",
    "valor_viejo = 5\n",
    "valor_nuevo = 7\n",
    "print(valor_nuevo,valor_viejo)\n",
    "\n",
    "temp = valor_viejo\n",
    "valor_viejo = valor_nuevo\n",
    "valor_nuevo = temp\n",
    "\n",
    "print(valor_nuevo,valor_viejo)\n"
   ],
   "execution_count": null,
   "outputs": [
    {
     "output_type": "stream",
     "name": "stdout",
     "text": [
      "7 5\n",
      "5 7\n"
     ]
    }
   ]
  },
  {
   "cell_type": "code",
   "metadata": {
    "id": "okbxM316VR3L",
    "colab": {
     "base_uri": "https://localhost:8080/"
    },
    "executionInfo": {
     "status": "ok",
     "timestamp": 1645493749380,
     "user_tz": 360,
     "elapsed": 25,
     "user": {
      "displayName": "Luis Fernando Leal Hernandez",
      "photoUrl": "https://lh3.googleusercontent.com/a/default-user=s64",
      "userId": "08643725771405988586"
     }
    },
    "outputId": "baaae8a7-fc85-4f42-8068-87b00280bfb6"
   },
   "source": [
    "# metodo de python para lograr el \"swap\"\n",
    "valor_viejo = 5\n",
    "valor_nuevo = 7\n",
    "\n",
    "valor_viejo,valor_nuevo = valor_nuevo,valor_viejo\n",
    "\n",
    "print(valor_nuevo,valor_viejo)"
   ],
   "execution_count": null,
   "outputs": [
    {
     "output_type": "stream",
     "name": "stdout",
     "text": [
      "5 7\n"
     ]
    }
   ]
  },
  {
   "cell_type": "markdown",
   "metadata": {
    "id": "CYndNwTwVR3M"
   },
   "source": [
    "#### Funciones utiles disponibles para listas y tuplas\n",
    "\n",
    "Existen diversas funciones disponibles por default en Python que son muy útiles para trabajar  con listas y tuplas, ya hemos visto algunas de estas durante el curso."
   ]
  },
  {
   "cell_type": "code",
   "metadata": {
    "id": "uVxFAYGTVR3M"
   },
   "source": [
    "lista = [0,1,2,3,4,5]\n",
    "tupla = (1,2,3,4,5)\n",
    "\n"
   ],
   "execution_count": null,
   "outputs": []
  },
  {
   "cell_type": "markdown",
   "metadata": {
    "id": "S5HKmMBHVR3M"
   },
   "source": [
    "**all**: función que devuelve un valor booleano(True o False), True si TODOS los elementos de la lista o tupla son True, False si existe al menos uno que sea falso"
   ]
  },
  {
   "cell_type": "code",
   "metadata": {
    "id": "ckpFiMonVR3M",
    "colab": {
     "base_uri": "https://localhost:8080/"
    },
    "executionInfo": {
     "status": "ok",
     "timestamp": 1645493749381,
     "user_tz": 360,
     "elapsed": 21,
     "user": {
      "displayName": "Luis Fernando Leal Hernandez",
      "photoUrl": "https://lh3.googleusercontent.com/a/default-user=s64",
      "userId": "08643725771405988586"
     }
    },
    "outputId": "5dd309be-0ff2-4ed5-81a5-3e26ba9e89ce"
   },
   "source": [
    "print(all(lista)) # similiar o equivalente a \"And\"\n",
    "print(all(tupla)) #"
   ],
   "execution_count": null,
   "outputs": [
    {
     "output_type": "stream",
     "name": "stdout",
     "text": [
      "False\n",
      "True\n"
     ]
    }
   ]
  },
  {
   "cell_type": "markdown",
   "metadata": {
    "id": "ddG9DaRvVR3M"
   },
   "source": [
    "**any**: función que devuelve un valor booleano(True o False), True si CUALQUIERA de sus elementos es True, False si todos son falsos"
   ]
  },
  {
   "cell_type": "code",
   "metadata": {
    "id": "Cz4Gt0deVR3N",
    "colab": {
     "base_uri": "https://localhost:8080/"
    },
    "executionInfo": {
     "status": "ok",
     "timestamp": 1645493749382,
     "user_tz": 360,
     "elapsed": 19,
     "user": {
      "displayName": "Luis Fernando Leal Hernandez",
      "photoUrl": "https://lh3.googleusercontent.com/a/default-user=s64",
      "userId": "08643725771405988586"
     }
    },
    "outputId": "17e1f26e-9ea1-4a84-ac0e-a39ef3841b5a"
   },
   "source": [
    "print(any(lista)) #   similiar o equivalente a \"or\"\n",
    "print(any(tupla))\n",
    "print(any([0,0,False]))"
   ],
   "execution_count": null,
   "outputs": [
    {
     "output_type": "stream",
     "name": "stdout",
     "text": [
      "True\n",
      "True\n",
      "False\n"
     ]
    }
   ]
  },
  {
   "cell_type": "markdown",
   "metadata": {
    "id": "8B2VMnD0VR3N"
   },
   "source": [
    "**len:** función que devuelve un entero que indica el número de elementos de la lista o tupla"
   ]
  },
  {
   "cell_type": "code",
   "metadata": {
    "id": "RaIT_5tMVR3N",
    "colab": {
     "base_uri": "https://localhost:8080/"
    },
    "executionInfo": {
     "status": "ok",
     "timestamp": 1645493749382,
     "user_tz": 360,
     "elapsed": 17,
     "user": {
      "displayName": "Luis Fernando Leal Hernandez",
      "photoUrl": "https://lh3.googleusercontent.com/a/default-user=s64",
      "userId": "08643725771405988586"
     }
    },
    "outputId": "5c9e83ce-8038-4b2c-cb99-15614c16b949"
   },
   "source": [
    "print(len(lista))\n",
    "print(len(tupla))"
   ],
   "execution_count": null,
   "outputs": [
    {
     "output_type": "stream",
     "name": "stdout",
     "text": [
      "6\n",
      "5\n"
     ]
    }
   ]
  },
  {
   "cell_type": "markdown",
   "metadata": {
    "id": "7ZvbYxsdVR3N"
   },
   "source": [
    "**max y min**: funciones que devuelven ya sea el valor maximo, o el mínimo contenido en una lista o tupla"
   ]
  },
  {
   "cell_type": "code",
   "metadata": {
    "id": "uRHjf_-9VR3N",
    "colab": {
     "base_uri": "https://localhost:8080/"
    },
    "executionInfo": {
     "status": "ok",
     "timestamp": 1645493749383,
     "user_tz": 360,
     "elapsed": 17,
     "user": {
      "displayName": "Luis Fernando Leal Hernandez",
      "photoUrl": "https://lh3.googleusercontent.com/a/default-user=s64",
      "userId": "08643725771405988586"
     }
    },
    "outputId": "a2b1ab9a-f33e-464c-e1d8-df85fa081f28"
   },
   "source": [
    "print(max(lista))\n",
    "print(max(tupla))"
   ],
   "execution_count": null,
   "outputs": [
    {
     "output_type": "stream",
     "name": "stdout",
     "text": [
      "5\n",
      "5\n"
     ]
    }
   ]
  },
  {
   "cell_type": "code",
   "metadata": {
    "id": "MobG0zlwVR3N",
    "colab": {
     "base_uri": "https://localhost:8080/"
    },
    "executionInfo": {
     "status": "ok",
     "timestamp": 1645493749384,
     "user_tz": 360,
     "elapsed": 17,
     "user": {
      "displayName": "Luis Fernando Leal Hernandez",
      "photoUrl": "https://lh3.googleusercontent.com/a/default-user=s64",
      "userId": "08643725771405988586"
     }
    },
    "outputId": "873196d1-19c5-4b41-e3b6-84b68e94d9a7"
   },
   "source": [
    "print(min(lista))\n",
    "print(min(tupla))"
   ],
   "execution_count": null,
   "outputs": [
    {
     "output_type": "stream",
     "name": "stdout",
     "text": [
      "0\n",
      "1\n"
     ]
    }
   ]
  },
  {
   "cell_type": "markdown",
   "metadata": {
    "id": "TdIXb7AAVR3O"
   },
   "source": [
    "**sorted**: función que devuelve una lista(independiente de si se aplica sobre una nueva lista o una tupla)  que contiene los elementos de la colección original ordenados."
   ]
  },
  {
   "cell_type": "code",
   "source": [
    "print(lista)\n",
    "print(tupla)"
   ],
   "metadata": {
    "colab": {
     "base_uri": "https://localhost:8080/"
    },
    "id": "xVdnKoVpUXCy",
    "executionInfo": {
     "status": "ok",
     "timestamp": 1645493749385,
     "user_tz": 360,
     "elapsed": 17,
     "user": {
      "displayName": "Luis Fernando Leal Hernandez",
      "photoUrl": "https://lh3.googleusercontent.com/a/default-user=s64",
      "userId": "08643725771405988586"
     }
    },
    "outputId": "31777724-db04-4f77-dcb0-f8cf11711b3d"
   },
   "execution_count": null,
   "outputs": [
    {
     "output_type": "stream",
     "name": "stdout",
     "text": [
      "[0, 1, 2, 3, 4, 5]\n",
      "(1, 2, 3, 4, 5)\n"
     ]
    }
   ]
  },
  {
   "cell_type": "code",
   "metadata": {
    "id": "p15_pZrqVR3O",
    "colab": {
     "base_uri": "https://localhost:8080/"
    },
    "executionInfo": {
     "status": "ok",
     "timestamp": 1645493749385,
     "user_tz": 360,
     "elapsed": 17,
     "user": {
      "displayName": "Luis Fernando Leal Hernandez",
      "photoUrl": "https://lh3.googleusercontent.com/a/default-user=s64",
      "userId": "08643725771405988586"
     }
    },
    "outputId": "e7c46582-564e-41c9-be18-e3b3f27a4145"
   },
   "source": [
    "print(sorted(lista,reverse=True)) # ordenamiento por defecto ascendente(reverse=Falso), descendiente(reverse=True)\n",
    "print(sorted(tupla,reverse=True))"
   ],
   "execution_count": null,
   "outputs": [
    {
     "output_type": "stream",
     "name": "stdout",
     "text": [
      "[5, 4, 3, 2, 1, 0]\n",
      "[5, 4, 3, 2, 1]\n"
     ]
    }
   ]
  },
  {
   "cell_type": "code",
   "metadata": {
    "id": "pu_nnxxT99pf",
    "colab": {
     "base_uri": "https://localhost:8080/"
    },
    "executionInfo": {
     "status": "ok",
     "timestamp": 1645493749643,
     "user_tz": 360,
     "elapsed": 274,
     "user": {
      "displayName": "Luis Fernando Leal Hernandez",
      "photoUrl": "https://lh3.googleusercontent.com/a/default-user=s64",
      "userId": "08643725771405988586"
     }
    },
    "outputId": "22b9600d-02b5-4e32-b2ea-e46d87d78366"
   },
   "source": [
    "def max_min2(lista):\n",
    "  lista_ordenada = sorted(lista)\n",
    "  return  lista_ordenada[-1],lista_ordenada[0]  #el maximio y el minimo de la lista sin max() y min() \n",
    "\n",
    "max_min2([6,7,1,2,100,7,10,23]) # 100,1"
   ],
   "execution_count": null,
   "outputs": [
    {
     "output_type": "execute_result",
     "data": {
      "text/plain": [
       "(100, 1)"
      ]
     },
     "metadata": {},
     "execution_count": 75
    }
   ]
  },
  {
   "cell_type": "markdown",
   "metadata": {
    "id": "-TysTSGlVR3O"
   },
   "source": [
    "**sum**: función que devuelve un valor numerico con la suma de todos los elementos de una lista."
   ]
  },
  {
   "cell_type": "code",
   "metadata": {
    "id": "voO5hLIHVR3O",
    "colab": {
     "base_uri": "https://localhost:8080/"
    },
    "executionInfo": {
     "status": "ok",
     "timestamp": 1645493749645,
     "user_tz": 360,
     "elapsed": 20,
     "user": {
      "displayName": "Luis Fernando Leal Hernandez",
      "photoUrl": "https://lh3.googleusercontent.com/a/default-user=s64",
      "userId": "08643725771405988586"
     }
    },
    "outputId": "e10edcb8-d2ba-492a-d790-fa086978a3cc"
   },
   "source": [
    "print(sum(lista))\n",
    "print(sum(tupla))"
   ],
   "execution_count": null,
   "outputs": [
    {
     "output_type": "stream",
     "name": "stdout",
     "text": [
      "15\n",
      "15\n"
     ]
    }
   ]
  },
  {
   "cell_type": "code",
   "metadata": {
    "id": "DUzJ8H8QVR3O"
   },
   "source": [
    "# las listas o tuplas pueden guardar cualqueir tipo de objeto, pero resultara en error si se aplican funciones sobre \n",
    "# objetos no compatibles\n",
    "#print(sum([1,2,3,\"a\"]))"
   ],
   "execution_count": null,
   "outputs": []
  },
  {
   "cell_type": "markdown",
   "metadata": {
    "id": "SCgeEnldVR3P"
   },
   "source": [
    "## Ciclos for con  listas y tuplas\n",
    "\n",
    "Tal como mencionamos en la sección de ciclos, en Python los ciclos \"for\" tienen una relación directa con las colecciones(aveces llamadas iterables) y de manera natural podemos utilizar un ciclo \"for\" para iterar sobre los elementos de una lista o tupla y realizar cualquier acción elemento por elemento utilizando:\n",
    "\n",
    "for < iterador > in < coleccion >:\n",
    "\n",
    "\n",
    "       < bloque >\n",
    "   \n",
    "\n",
    "En cada iteración del ciclo for < iterador > almacenara un valor en la colección.\n",
    " "
   ]
  },
  {
   "cell_type": "code",
   "metadata": {
    "id": "mEfnVsK9VR3P",
    "colab": {
     "base_uri": "https://localhost:8080/"
    },
    "executionInfo": {
     "status": "ok",
     "timestamp": 1645493749650,
     "user_tz": 360,
     "elapsed": 24,
     "user": {
      "displayName": "Luis Fernando Leal Hernandez",
      "photoUrl": "https://lh3.googleusercontent.com/a/default-user=s64",
      "userId": "08643725771405988586"
     }
    },
    "outputId": "dcf6b89e-5e37-4705-a6dc-26eb6a4d8c67"
   },
   "source": [
    "\n",
    "lista = [0,1,2,3,4,5]\n",
    "for elemento in lista:\n",
    "    print(elemento + 1)"
   ],
   "execution_count": null,
   "outputs": [
    {
     "output_type": "stream",
     "name": "stdout",
     "text": [
      "1\n",
      "2\n",
      "3\n",
      "4\n",
      "5\n",
      "6\n"
     ]
    }
   ]
  },
  {
   "cell_type": "code",
   "metadata": {
    "id": "kegz36PmVR3Q",
    "colab": {
     "base_uri": "https://localhost:8080/"
    },
    "executionInfo": {
     "status": "ok",
     "timestamp": 1645493749651,
     "user_tz": 360,
     "elapsed": 23,
     "user": {
      "displayName": "Luis Fernando Leal Hernandez",
      "photoUrl": "https://lh3.googleusercontent.com/a/default-user=s64",
      "userId": "08643725771405988586"
     }
    },
    "outputId": "57de8a37-aff3-4985-b36e-d92268e2d056"
   },
   "source": [
    "tupla = (1,2,3,4,5)\n",
    "\n",
    "for elemento in tupla:\n",
    "    print(elemento*2)"
   ],
   "execution_count": null,
   "outputs": [
    {
     "output_type": "stream",
     "name": "stdout",
     "text": [
      "2\n",
      "4\n",
      "6\n",
      "8\n",
      "10\n"
     ]
    }
   ]
  },
  {
   "cell_type": "markdown",
   "metadata": {
    "id": "FkrtSpBeVR3Q"
   },
   "source": [
    "El bloque del for puede tener muchas sentencias."
   ]
  },
  {
   "cell_type": "code",
   "metadata": {
    "id": "OnChJz72VR3Q",
    "colab": {
     "base_uri": "https://localhost:8080/"
    },
    "executionInfo": {
     "status": "ok",
     "timestamp": 1645493749652,
     "user_tz": 360,
     "elapsed": 23,
     "user": {
      "displayName": "Luis Fernando Leal Hernandez",
      "photoUrl": "https://lh3.googleusercontent.com/a/default-user=s64",
      "userId": "08643725771405988586"
     }
    },
    "outputId": "61f129a8-ea7d-4932-d8b0-7e4393541fa3"
   },
   "source": [
    "tupla = (1,2,3,4,5,6,7,8,9,10,11)\n",
    "\n",
    "for elemento in tupla:\n",
    "    elemento_cuadrado = elemento**2\n",
    "    \n",
    "    if elemento_cuadrado%2 == 0:  #si el resultado de elevar elemento al cuadrado es par\n",
    "        print(\"Al elevar \",elemento,\" al cuadrado obtenemos el numero par \",elemento_cuadrado)"
   ],
   "execution_count": null,
   "outputs": [
    {
     "output_type": "stream",
     "name": "stdout",
     "text": [
      "Al elevar  2  al cuadrado obtenemos el numero par  4\n",
      "Al elevar  4  al cuadrado obtenemos el numero par  16\n",
      "Al elevar  6  al cuadrado obtenemos el numero par  36\n",
      "Al elevar  8  al cuadrado obtenemos el numero par  64\n",
      "Al elevar  10  al cuadrado obtenemos el numero par  100\n"
     ]
    }
   ]
  },
  {
   "cell_type": "code",
   "metadata": {
    "id": "YfpKU0U1A61Y",
    "colab": {
     "base_uri": "https://localhost:8080/"
    },
    "executionInfo": {
     "status": "ok",
     "timestamp": 1645493749658,
     "user_tz": 360,
     "elapsed": 29,
     "user": {
      "displayName": "Luis Fernando Leal Hernandez",
      "photoUrl": "https://lh3.googleusercontent.com/a/default-user=s64",
      "userId": "08643725771405988586"
     }
    },
    "outputId": "83154116-c89e-4a9d-e8fb-56f70ab6e4b9"
   },
   "source": [
    "list(range(0,5))"
   ],
   "execution_count": null,
   "outputs": [
    {
     "output_type": "execute_result",
     "data": {
      "text/plain": [
       "[0, 1, 2, 3, 4]"
      ]
     },
     "metadata": {},
     "execution_count": 81
    }
   ]
  },
  {
   "cell_type": "markdown",
   "metadata": {
    "id": "ZNul__5hVR3Q"
   },
   "source": [
    "## Ejemplo aplicado a data science\n",
    "Con el conocimiento que ahora poseemos respecto a listas, ciclo for y operaciones como \"sum\" sobre listas , podemos  ejecutar una simulación de monte carlo.\n",
    "\n",
    "Se ha determinado que el tiempo \"X\" que los usuarios pasan en una red social diariamente se distribuye de forma normal(gausianna) con una media de 5 horas y desviacion estandar de 1.\n",
    "\n",
    "Se ha estimado que el ingreso diario percibido \"Y\" por cada usuario depende del tiempo que este pasa en la red social  de manera proporcional siguiendo un modelo lineal de la forma:\n",
    "\n",
    "$$y=0.1x+0.3±error$$\n",
    "\n",
    "Donde :\n",
    "* x: es el tiempo que un usuario pasa al día en la red social.\n",
    "* error: es el posible error en la estimación del modelo que sigue una distribución normal centrada en 0 y std 0.1\n",
    "* y: ingreso diario estimado\n",
    "\n",
    "**nota** Este modelo posee un problema: puede llegar a generar ingresos negativos,por el momento no nos preocupemos por esto.\n",
    "\n",
    "Se solicita el equipo de data science determinar cual sera el ingreso esperado(o promedio) diario para un usuario aleatorio y una estimación del valor máximo  que puede ser percibido."
   ]
  },
  {
   "cell_type": "markdown",
   "metadata": {
    "id": "6vjlelkvVR3Q"
   },
   "source": [
    "**ejercicio** experimenta con diferentes numeros de iteraciones de la simulación y analiza el comportamiento del sistema en relación a esto, anota tu conclusión en el notebook en una nueva celda Markdown abajo de la celda de la simulación."
   ]
  },
  {
   "cell_type": "code",
   "metadata": {
    "id": "U9QKDSgHVR3R"
   },
   "source": [
    "import random\n",
    "\n",
    "SIMULACIONES = 1000\n",
    "resultados_simulacion = []\n",
    "x_simulados = []\n",
    "\n",
    "\n",
    "for iteracion in range(1,SIMULACIONES +1,1):\n",
    "    x_simulado = random.gauss(5,1) # sampleo/muestreo de la variable x que se distribuye de forma normal con media 5 y desviacion 2\n",
    "    x_simulados.append(x_simulado)\n",
    "    error = random.gauss(0,0.1) \n",
    "    \n",
    "    # aplicar el modelo para obtener un valor simulado de y\n",
    "    y = 0.1*x_simulado + 0.3  + error #aplicar el modelo a la variable \"simulada\"\n",
    "   \n",
    "    resultados_simulacion.append(y) #guardar los resultados en una lista para analisis posterior\n",
    "    \n"
   ],
   "execution_count": null,
   "outputs": []
  },
  {
   "cell_type": "code",
   "metadata": {
    "id": "9sPY69PrCQmH",
    "colab": {
     "base_uri": "https://localhost:8080/"
    },
    "executionInfo": {
     "status": "ok",
     "timestamp": 1645493749893,
     "user_tz": 360,
     "elapsed": 262,
     "user": {
      "displayName": "Luis Fernando Leal Hernandez",
      "photoUrl": "https://lh3.googleusercontent.com/a/default-user=s64",
      "userId": "08643725771405988586"
     }
    },
    "outputId": "d9c272ff-c938-44e3-9ab9-6c96d1ddb474"
   },
   "source": [
    "import matplotlib.pyplot as plt\n",
    "\n",
    "EY = sum(resultados_simulacion)/SIMULACIONES # E(Y) ,esperanza o valor esperado de una variable aleatoria\n",
    "ingreso_maximo = max(resultados_simulacion)\n",
    "ingreso_minimo = min(resultados_simulacion)\n",
    "\n",
    "print(\"El valor esperado o esperanza de la variable Y es E(Y) =\" ,EY)\n",
    "print(\"El valor minimo de y es \",ingreso_minimo)\n",
    "print(\"El valor maximo de y es \",ingreso_maximo)\n",
    "\n",
    "plt.hist(resultados_simulacion)\n",
    "plt.show()"
   ],
   "execution_count": null,
   "outputs": [
    {
     "output_type": "stream",
     "name": "stdout",
     "text": [
      "El valor esperado o esperanza de la variable Y es E(Y) = 0.8016691680913248\n",
      "El valor minimo de y es  0.3155656312381069\n",
      "El valor maximo de y es  1.2054680368582151\n"
     ]
    },
    {
     "output_type": "display_data",
     "data": {
      "image/png": "[encoded data removed]",
      "text/plain": [
       "<Figure size 432x288 with 1 Axes>"
      ]
     },
     "metadata": {
      "needs_background": "light"
     }
    }
   ]
  },
  {
   "cell_type": "code",
   "metadata": {
    "id": "oQwGPUrLCs2H"
   },
   "source": [
    ""
   ],
   "execution_count": null,
   "outputs": []
  },
  {
   "cell_type": "markdown",
   "metadata": {
    "id": "xUkYhRyoVR3R"
   },
   "source": [
    "## Diccionarios\n",
    "\n",
    "Antes de hablar de diccionarios veamos algunos de los nombres con los que son conocidos en otros lenguajes:\n",
    "\n",
    "* tabla hash\n",
    "* mapas\n",
    "* hash-maps\n",
    "\n",
    "Un diccionario es una  colección(al contrario de las listas y tuplas) NO ORDENADA de objetos, ya que es una colección no ordenada , no podemos acceder a sus elementos según su posición , en lugar de esto lo hacemos usando una \"llave\" que identifica a cada elemento. Esta llave puede ser cualquier objeto INMUTABLE pero el caso más común es que sean strings.\n",
    "\n",
    "Por lo tanto un diccionario \"mapea\" una llave a un valor, esto es conocido en programación como estructuras \"key-value\".\n",
    "\n",
    "Aunque la llave está limitada a objetos inmutables (como strings o tuplas), el valor almacenado puede ser cualquier objeto, por lo tanto es posible almacenar estructuras complejas,por ejemplo diccionarios de listas:\n",
    "\n",
    "<img src=\"https://upload.wikimedia.org/wikipedia/commons/5/5b/KeyValue.PNG\">\n",
    "\n",
    "<img src=\"https://i.stack.imgur.com/nzc2C.png\">\n",
    "\n",
    "Esta es una de las estructuras de datos mas populares debido a su flexibilidad y gran eficiencia tanto en Python como en otros lenguajes.\n",
    "\n",
    "Asi como creamos listas con [] y tuplas con () , creamos los diccionarios con {}(o con la funcion dict) usando la sintaxis\n",
    "\n",
    "{llave1:valor1,llave2:valor2,...,llaven:valorn}\n",
    "\n",
    "Para obtener un objeto dada su llave ,podemos usar:\n",
    "\n",
    "diccionario[llave]\n",
    "\n",
    "o \n",
    "\n",
    "diccionario.get(llave)"
   ]
  },
  {
   "cell_type": "code",
   "metadata": {
    "id": "4XmrC8ROVR3R",
    "colab": {
     "base_uri": "https://localhost:8080/"
    },
    "executionInfo": {
     "status": "ok",
     "timestamp": 1645493749894,
     "user_tz": 360,
     "elapsed": 10,
     "user": {
      "displayName": "Luis Fernando Leal Hernandez",
      "photoUrl": "https://lh3.googleusercontent.com/a/default-user=s64",
      "userId": "08643725771405988586"
     }
    },
    "outputId": "de9cf8cd-6d19-4f61-e7cc-9dc9e15e860d"
   },
   "source": [
    "diccionario_vacio = {}\n",
    "\n",
    "print(diccionario_vacio)\n",
    "print(type(diccionario_vacio))"
   ],
   "execution_count": null,
   "outputs": [
    {
     "output_type": "stream",
     "name": "stdout",
     "text": [
      "{}\n",
      "<class 'dict'>\n"
     ]
    }
   ]
  },
  {
   "cell_type": "code",
   "metadata": {
    "id": "q8Gm81FGVR3S",
    "colab": {
     "base_uri": "https://localhost:8080/"
    },
    "executionInfo": {
     "status": "ok",
     "timestamp": 1645493749895,
     "user_tz": 360,
     "elapsed": 10,
     "user": {
      "displayName": "Luis Fernando Leal Hernandez",
      "photoUrl": "https://lh3.googleusercontent.com/a/default-user=s64",
      "userId": "08643725771405988586"
     }
    },
    "outputId": "3978b167-905a-48d6-def3-0b9cecfb3814"
   },
   "source": [
    "digitos = {\"uno\":1,\n",
    "           \"dos\":2,\n",
    "           \"tres\":3,\n",
    "           \"lista\":[1,2,3,4]}\n",
    "\n",
    "print(digitos[\"dos\"])\n",
    "print(digitos.get(\"tres\"))\n",
    "digitos.get(\"test\")"
   ],
   "execution_count": null,
   "outputs": [
    {
     "output_type": "stream",
     "name": "stdout",
     "text": [
      "2\n",
      "3\n"
     ]
    }
   ]
  },
  {
   "cell_type": "code",
   "metadata": {
    "id": "vJSK_ONNVR3S"
   },
   "source": [
    "digitos.get(\"prueba\")"
   ],
   "execution_count": null,
   "outputs": []
  },
  {
   "cell_type": "code",
   "metadata": {
    "id": "12E_afeXVR3T",
    "colab": {
     "base_uri": "https://localhost:8080/"
    },
    "executionInfo": {
     "status": "ok",
     "timestamp": 1645493750280,
     "user_tz": 360,
     "elapsed": 69,
     "user": {
      "displayName": "Luis Fernando Leal Hernandez",
      "photoUrl": "https://lh3.googleusercontent.com/a/default-user=s64",
      "userId": "08643725771405988586"
     }
    },
    "outputId": "1ad6d763-e08f-4fd7-b61e-f7a1457e038b"
   },
   "source": [
    "for llave in digitos.keys():\n",
    "  print(\"la llave es \",llave)"
   ],
   "execution_count": null,
   "outputs": [
    {
     "output_type": "stream",
     "name": "stdout",
     "text": [
      "la llave es  uno\n",
      "la llave es  dos\n",
      "la llave es  tres\n",
      "la llave es  lista\n"
     ]
    }
   ]
  },
  {
   "cell_type": "markdown",
   "metadata": {
    "id": "Rsn3wqxCVR3V"
   },
   "source": [
    "Podemos agregar nuevos elementos a un diccionario creado de manera similar a como lo hacemos con listas:"
   ]
  },
  {
   "cell_type": "code",
   "metadata": {
    "id": "k5ZBVYslVR3W",
    "colab": {
     "base_uri": "https://localhost:8080/"
    },
    "executionInfo": {
     "status": "ok",
     "timestamp": 1645493750281,
     "user_tz": 360,
     "elapsed": 67,
     "user": {
      "displayName": "Luis Fernando Leal Hernandez",
      "photoUrl": "https://lh3.googleusercontent.com/a/default-user=s64",
      "userId": "08643725771405988586"
     }
    },
    "outputId": "7eea6688-ea54-4701-e5b5-4d5c40452d1a"
   },
   "source": [
    "digitos[\"cuatro\"] = 4\n",
    "\n",
    "print(digitos[\"cuatro\"])"
   ],
   "execution_count": null,
   "outputs": [
    {
     "output_type": "stream",
     "name": "stdout",
     "text": [
      "4\n"
     ]
    }
   ]
  },
  {
   "cell_type": "markdown",
   "metadata": {
    "id": "j5nBul1lVR3X"
   },
   "source": [
    "Una de las diferencias entre usar get o corchetes para obtener el valor de un diccionario, es que \"get\" no resulta en error si la llave no existe:"
   ]
  },
  {
   "cell_type": "code",
   "metadata": {
    "id": "CPRuud81VR3X"
   },
   "source": [
    "digitos.get(\"cinco\")"
   ],
   "execution_count": null,
   "outputs": []
  },
  {
   "cell_type": "code",
   "metadata": {
    "id": "6St1rJ-uVR3Y"
   },
   "source": [
    "#digitos[\"cinco\"]"
   ],
   "execution_count": null,
   "outputs": []
  },
  {
   "cell_type": "code",
   "metadata": {
    "id": "3hSjQDBQGj_G",
    "colab": {
     "base_uri": "https://localhost:8080/"
    },
    "executionInfo": {
     "status": "ok",
     "timestamp": 1645493750285,
     "user_tz": 360,
     "elapsed": 66,
     "user": {
      "displayName": "Luis Fernando Leal Hernandez",
      "photoUrl": "https://lh3.googleusercontent.com/a/default-user=s64",
      "userId": "08643725771405988586"
     }
    },
    "outputId": "ca304ee6-b1a0-4b9b-8061-9d9463359a63"
   },
   "source": [
    "len(digitos.keys())"
   ],
   "execution_count": null,
   "outputs": [
    {
     "output_type": "execute_result",
     "data": {
      "text/plain": [
       "5"
      ]
     },
     "metadata": {},
     "execution_count": 91
    }
   ]
  },
  {
   "cell_type": "code",
   "metadata": {
    "id": "gxvAJZj4G_7d",
    "colab": {
     "base_uri": "https://localhost:8080/"
    },
    "executionInfo": {
     "status": "ok",
     "timestamp": 1645493750288,
     "user_tz": 360,
     "elapsed": 61,
     "user": {
      "displayName": "Luis Fernando Leal Hernandez",
      "photoUrl": "https://lh3.googleusercontent.com/a/default-user=s64",
      "userId": "08643725771405988586"
     }
    },
    "outputId": "f8c50070-7fd2-4542-865f-33dd69408b6f"
   },
   "source": [
    "len(digitos.keys()) + len(digitos.values())"
   ],
   "execution_count": null,
   "outputs": [
    {
     "output_type": "execute_result",
     "data": {
      "text/plain": [
       "10"
      ]
     },
     "metadata": {},
     "execution_count": 92
    }
   ]
  },
  {
   "cell_type": "markdown",
   "metadata": {
    "id": "wd0rDaYCVR3Y"
   },
   "source": [
    "Los diccionarios son extremadamente versátiles y utilizados en cualquier tipo de programa, en el ámbito de data science tenemos los siguientes ejemplos:\n",
    "\n",
    "**En inteligencia artificial del tipo \"Natural Language Processing**\n",
    "Los algoritmos de machine learning pueden trabajar únicamente sobre datos numéricos , al usar ML para NLP necesitamos una manera de representar numéricamente las palabras de cierto lenguaje, entonces necesitamos convertir la palabra a números y luego ser capaces de hacer la operación inversa: de número a palabra\n",
    "\n",
    "Esto es comúnmente hecho con diccionarios(o variaciones de estos).\n",
    "\n",
    "Pensemos en un problema con un lenguaje reducido que consta únicamente de:\n",
    "\n",
    "\"Python es un lenguaje muy utilizado en inteligencia artificial\"\n",
    "\n",
    "**tip** en proyectos de NLP es común agregar un \"token\" especial para denotar palabra desconocidas, por ejemplo < \"UNK \">"
   ]
  },
  {
   "cell_type": "code",
   "metadata": {
    "id": "pZOBCRWZVR3Y",
    "colab": {
     "base_uri": "https://localhost:8080/"
    },
    "executionInfo": {
     "status": "ok",
     "timestamp": 1645493750292,
     "user_tz": 360,
     "elapsed": 56,
     "user": {
      "displayName": "Luis Fernando Leal Hernandez",
      "photoUrl": "https://lh3.googleusercontent.com/a/default-user=s64",
      "userId": "08643725771405988586"
     }
    },
    "outputId": "c7dd139b-5b0b-474d-f231-a2a82e472524"
   },
   "source": [
    "corpus = \"Python es un lenguaje muy utilizado en inteligencia artificial\" \n",
    "\n",
    "palabras = corpus.split()\n",
    "token_desconocido = \"<unk>\"\n",
    "\n",
    "palabras_a_numeros = dict()\n",
    "numeros_a_palabras = {}\n",
    "\n",
    "for numero,palabra in enumerate(palabras):\n",
    "    print(numero,palabra)\n",
    "    palabras_a_numeros[palabra] = numero\n",
    "    numeros_a_palabras[numero] = palabra\n",
    "    \n",
    "palabras_a_numeros[token_desconocido]  = -1\n",
    "numeros_a_palabras[-1] = token_desconocido"
   ],
   "execution_count": null,
   "outputs": [
    {
     "output_type": "stream",
     "name": "stdout",
     "text": [
      "0 Python\n",
      "1 es\n",
      "2 un\n",
      "3 lenguaje\n",
      "4 muy\n",
      "5 utilizado\n",
      "6 en\n",
      "7 inteligencia\n",
      "8 artificial\n"
     ]
    }
   ]
  },
  {
   "cell_type": "code",
   "metadata": {
    "id": "e2QX3PtpnywI",
    "colab": {
     "base_uri": "https://localhost:8080/"
    },
    "executionInfo": {
     "status": "ok",
     "timestamp": 1645493750294,
     "user_tz": 360,
     "elapsed": 53,
     "user": {
      "displayName": "Luis Fernando Leal Hernandez",
      "photoUrl": "https://lh3.googleusercontent.com/a/default-user=s64",
      "userId": "08643725771405988586"
     }
    },
    "outputId": "e0039ca2-4a29-4149-f80f-50f8fb8b8236"
   },
   "source": [
    "palabras_a_numeros"
   ],
   "execution_count": null,
   "outputs": [
    {
     "output_type": "execute_result",
     "data": {
      "text/plain": [
       "{'<unk>': -1,\n",
       " 'Python': 0,\n",
       " 'artificial': 8,\n",
       " 'en': 6,\n",
       " 'es': 1,\n",
       " 'inteligencia': 7,\n",
       " 'lenguaje': 3,\n",
       " 'muy': 4,\n",
       " 'un': 2,\n",
       " 'utilizado': 5}"
      ]
     },
     "metadata": {},
     "execution_count": 94
    }
   ]
  },
  {
   "cell_type": "code",
   "metadata": {
    "id": "UbtsCgsdn7-x",
    "colab": {
     "base_uri": "https://localhost:8080/"
    },
    "executionInfo": {
     "status": "ok",
     "timestamp": 1645493750295,
     "user_tz": 360,
     "elapsed": 52,
     "user": {
      "displayName": "Luis Fernando Leal Hernandez",
      "photoUrl": "https://lh3.googleusercontent.com/a/default-user=s64",
      "userId": "08643725771405988586"
     }
    },
    "outputId": "96ccde6d-3dcf-41cc-a8ad-88d104a5e728"
   },
   "source": [
    "numeros_a_palabras"
   ],
   "execution_count": null,
   "outputs": [
    {
     "output_type": "execute_result",
     "data": {
      "text/plain": [
       "{-1: '<unk>',\n",
       " 0: 'Python',\n",
       " 1: 'es',\n",
       " 2: 'un',\n",
       " 3: 'lenguaje',\n",
       " 4: 'muy',\n",
       " 5: 'utilizado',\n",
       " 6: 'en',\n",
       " 7: 'inteligencia',\n",
       " 8: 'artificial'}"
      ]
     },
     "metadata": {},
     "execution_count": 95
    }
   ]
  },
  {
   "cell_type": "code",
   "metadata": {
    "id": "nmj0GRIsVR3Y",
    "colab": {
     "base_uri": "https://localhost:8080/"
    },
    "executionInfo": {
     "status": "ok",
     "timestamp": 1645493750298,
     "user_tz": 360,
     "elapsed": 52,
     "user": {
      "displayName": "Luis Fernando Leal Hernandez",
      "photoUrl": "https://lh3.googleusercontent.com/a/default-user=s64",
      "userId": "08643725771405988586"
     }
    },
    "outputId": "d27e401d-1125-4755-ac9c-2b63ae24749e"
   },
   "source": [
    "palabras_a_numeros[\"inteligencia\"]"
   ],
   "execution_count": null,
   "outputs": [
    {
     "output_type": "execute_result",
     "data": {
      "text/plain": [
       "7"
      ]
     },
     "metadata": {},
     "execution_count": 96
    }
   ]
  },
  {
   "cell_type": "code",
   "metadata": {
    "id": "W1o_y8zBVR3Y",
    "colab": {
     "base_uri": "https://localhost:8080/",
     "height": 35
    },
    "executionInfo": {
     "status": "ok",
     "timestamp": 1645493750300,
     "user_tz": 360,
     "elapsed": 51,
     "user": {
      "displayName": "Luis Fernando Leal Hernandez",
      "photoUrl": "https://lh3.googleusercontent.com/a/default-user=s64",
      "userId": "08643725771405988586"
     }
    },
    "outputId": "2e3a747e-8628-4df4-ad54-efd016d16f23"
   },
   "source": [
    "numeros_a_palabras[7]"
   ],
   "execution_count": null,
   "outputs": [
    {
     "output_type": "execute_result",
     "data": {
      "application/vnd.google.colaboratory.intrinsic+json": {
       "type": "string"
      },
      "text/plain": [
       "'inteligencia'"
      ]
     },
     "metadata": {},
     "execution_count": 97
    }
   ]
  },
  {
   "cell_type": "markdown",
   "metadata": {
    "id": "-RabbpSkVR3Z"
   },
   "source": [
    "**Obtener todas las llaves de un diccionario:**\n",
    "\n",
    "Podemos obtener una lista con todas las llaves existentes en un diccionario llamando a la funcion keys() sobre cierto diccionario."
   ]
  },
  {
   "cell_type": "code",
   "metadata": {
    "id": "sUK7Fen3VR3Z",
    "colab": {
     "base_uri": "https://localhost:8080/"
    },
    "executionInfo": {
     "status": "ok",
     "timestamp": 1645493750301,
     "user_tz": 360,
     "elapsed": 50,
     "user": {
      "displayName": "Luis Fernando Leal Hernandez",
      "photoUrl": "https://lh3.googleusercontent.com/a/default-user=s64",
      "userId": "08643725771405988586"
     }
    },
    "outputId": "06548055-fa10-42f4-8428-9704598ca0d5"
   },
   "source": [
    "palabras_a_numeros.keys()"
   ],
   "execution_count": null,
   "outputs": [
    {
     "output_type": "execute_result",
     "data": {
      "text/plain": [
       "dict_keys(['Python', 'es', 'un', 'lenguaje', 'muy', 'utilizado', 'en', 'inteligencia', 'artificial', '<unk>'])"
      ]
     },
     "metadata": {},
     "execution_count": 98
    }
   ]
  },
  {
   "cell_type": "code",
   "metadata": {
    "id": "j49ZQxu_VR3Z",
    "colab": {
     "base_uri": "https://localhost:8080/"
    },
    "executionInfo": {
     "status": "ok",
     "timestamp": 1645493751091,
     "user_tz": 360,
     "elapsed": 836,
     "user": {
      "displayName": "Luis Fernando Leal Hernandez",
      "photoUrl": "https://lh3.googleusercontent.com/a/default-user=s64",
      "userId": "08643725771405988586"
     }
    },
    "outputId": "b1e45e4f-754b-49f8-f1d4-c45c0cfc4ee5"
   },
   "source": [
    "for llave in sorted(numeros_a_palabras.keys()):\n",
    "    print(llave,\":\", numeros_a_palabras[llave])"
   ],
   "execution_count": null,
   "outputs": [
    {
     "output_type": "stream",
     "name": "stdout",
     "text": [
      "-1 : <unk>\n",
      "0 : Python\n",
      "1 : es\n",
      "2 : un\n",
      "3 : lenguaje\n",
      "4 : muy\n",
      "5 : utilizado\n",
      "6 : en\n",
      "7 : inteligencia\n",
      "8 : artificial\n"
     ]
    }
   ]
  },
  {
   "cell_type": "markdown",
   "metadata": {
    "id": "J-6EjxGxVR3Z"
   },
   "source": [
    "O similar podemos usar items() y obtener tuplas de la forma llave,objeto"
   ]
  },
  {
   "cell_type": "code",
   "metadata": {
    "id": "SGNBt7mSVR3Z",
    "colab": {
     "base_uri": "https://localhost:8080/"
    },
    "executionInfo": {
     "status": "ok",
     "timestamp": 1645493751091,
     "user_tz": 360,
     "elapsed": 15,
     "user": {
      "displayName": "Luis Fernando Leal Hernandez",
      "photoUrl": "https://lh3.googleusercontent.com/a/default-user=s64",
      "userId": "08643725771405988586"
     }
    },
    "outputId": "2decd7fa-54b8-4d97-922e-04e7e52756d7"
   },
   "source": [
    "for llave,valor in numeros_a_palabras.items():\n",
    "    print(llave,valor)"
   ],
   "execution_count": null,
   "outputs": [
    {
     "output_type": "stream",
     "name": "stdout",
     "text": [
      "0 Python\n",
      "1 es\n",
      "2 un\n",
      "3 lenguaje\n",
      "4 muy\n",
      "5 utilizado\n",
      "6 en\n",
      "7 inteligencia\n",
      "8 artificial\n",
      "-1 <unk>\n"
     ]
    }
   ]
  },
  {
   "cell_type": "markdown",
   "metadata": {
    "id": "29yNIwbFVR3a"
   },
   "source": [
    "len() nos dice cuantos pares llave-valor tiene el diccionario"
   ]
  },
  {
   "cell_type": "code",
   "metadata": {
    "id": "0DVWDXa8VR3a",
    "colab": {
     "base_uri": "https://localhost:8080/"
    },
    "executionInfo": {
     "status": "ok",
     "timestamp": 1645493751462,
     "user_tz": 360,
     "elapsed": 378,
     "user": {
      "displayName": "Luis Fernando Leal Hernandez",
      "photoUrl": "https://lh3.googleusercontent.com/a/default-user=s64",
      "userId": "08643725771405988586"
     }
    },
    "outputId": "91a9d854-76cd-4c8d-b8ae-30c4089143c1"
   },
   "source": [
    "len(numeros_a_palabras)"
   ],
   "execution_count": null,
   "outputs": [
    {
     "output_type": "execute_result",
     "data": {
      "text/plain": [
       "10"
      ]
     },
     "metadata": {},
     "execution_count": 101
    }
   ]
  },
  {
   "cell_type": "markdown",
   "metadata": {
    "id": "CEndYHvhVR3a"
   },
   "source": [
    "Podemos usar in y not in para determinar si un diccionario contiene a cierta llave buscada(NO EL VALOR):"
   ]
  },
  {
   "cell_type": "code",
   "metadata": {
    "id": "VoJU-Y_9VR3a",
    "colab": {
     "base_uri": "https://localhost:8080/"
    },
    "executionInfo": {
     "status": "ok",
     "timestamp": 1645493751464,
     "user_tz": 360,
     "elapsed": 70,
     "user": {
      "displayName": "Luis Fernando Leal Hernandez",
      "photoUrl": "https://lh3.googleusercontent.com/a/default-user=s64",
      "userId": "08643725771405988586"
     }
    },
    "outputId": "cb2fd673-a0d5-4a95-dfc3-b54f25e8afab"
   },
   "source": [
    "estudiantes = {111:\"Luis\",123:\"Maria\",1234:\"Juan\"}\n",
    "\n",
    "print(111 in estudiantes)\n",
    "print(\"Luis\" in estudiantes)\n",
    "print(123 not in estudiantes)"
   ],
   "execution_count": null,
   "outputs": [
    {
     "output_type": "stream",
     "name": "stdout",
     "text": [
      "True\n",
      "False\n",
      "False\n"
     ]
    }
   ]
  },
  {
   "cell_type": "markdown",
   "metadata": {
    "id": "pwt3KZjUVR3a"
   },
   "source": [
    "#### Otros tipos de diccionarios\n",
    "\n",
    "Python cuenta en su paquete \"collections\" con variantes del diccionario basico:\n",
    "\n",
    "* Counter\n",
    "* OrderedDict\n",
    "* defaultdict"
   ]
  },
  {
   "cell_type": "code",
   "metadata": {
    "id": "lpqhW1m4VR3a",
    "colab": {
     "base_uri": "https://localhost:8080/"
    },
    "executionInfo": {
     "status": "ok",
     "timestamp": 1645493751471,
     "user_tz": 360,
     "elapsed": 75,
     "user": {
      "displayName": "Luis Fernando Leal Hernandez",
      "photoUrl": "https://lh3.googleusercontent.com/a/default-user=s64",
      "userId": "08643725771405988586"
     }
    },
    "outputId": "4d9223e1-6180-4179-f8cd-1589a0663aba"
   },
   "source": [
    "from collections import Counter\n",
    "\n",
    "letras = [\"a\",\"b\",\"c\",\"d\",\"e\",\"a\"]\n",
    "counter =  Counter(letras)\n",
    "\n",
    "print(counter)"
   ],
   "execution_count": null,
   "outputs": [
    {
     "output_type": "stream",
     "name": "stdout",
     "text": [
      "Counter({'a': 2, 'b': 1, 'c': 1, 'd': 1, 'e': 1})\n"
     ]
    }
   ]
  },
  {
   "cell_type": "code",
   "metadata": {
    "id": "PJ2AYFDUqfxk",
    "colab": {
     "base_uri": "https://localhost:8080/"
    },
    "executionInfo": {
     "status": "ok",
     "timestamp": 1645493751473,
     "user_tz": 360,
     "elapsed": 74,
     "user": {
      "displayName": "Luis Fernando Leal Hernandez",
      "photoUrl": "https://lh3.googleusercontent.com/a/default-user=s64",
      "userId": "08643725771405988586"
     }
    },
    "outputId": "068a8ec2-96da-4d54-df9e-276b2cf4ae0f"
   },
   "source": [
    "\n",
    "corpus2 = \"hola este es un corpus usado para contar las palabras en el corpus\"\n",
    "\n",
    "def calcular_frecuencia(corpus):\n",
    "  palabras = corpus.split()\n",
    "  counter =  Counter(palabras)\n",
    "\n",
    "  for palabra,conteo in counter.items():\n",
    "    print(palabra,conteo, conteo/len(counter))\n",
    "\n",
    "calcular_frecuencia(corpus2)"
   ],
   "execution_count": null,
   "outputs": [
    {
     "output_type": "stream",
     "name": "stdout",
     "text": [
      "hola 1 0.08333333333333333\n",
      "este 1 0.08333333333333333\n",
      "es 1 0.08333333333333333\n",
      "un 1 0.08333333333333333\n",
      "corpus 2 0.16666666666666666\n",
      "usado 1 0.08333333333333333\n",
      "para 1 0.08333333333333333\n",
      "contar 1 0.08333333333333333\n",
      "las 1 0.08333333333333333\n",
      "palabras 1 0.08333333333333333\n",
      "en 1 0.08333333333333333\n",
      "el 1 0.08333333333333333\n"
     ]
    }
   ]
  },
  {
   "cell_type": "code",
   "source": [
    "calcular_frecuencia(\"hola este es mi primer ejemplo de NLP en mi primer curso de python\")"
   ],
   "metadata": {
    "colab": {
     "base_uri": "https://localhost:8080/"
    },
    "id": "-R_SIcSjnPpM",
    "executionInfo": {
     "status": "ok",
     "timestamp": 1645493751476,
     "user_tz": 360,
     "elapsed": 75,
     "user": {
      "displayName": "Luis Fernando Leal Hernandez",
      "photoUrl": "https://lh3.googleusercontent.com/a/default-user=s64",
      "userId": "08643725771405988586"
     }
    },
    "outputId": "8f20063f-c522-4496-de6a-1f125b550cee"
   },
   "execution_count": null,
   "outputs": [
    {
     "output_type": "stream",
     "name": "stdout",
     "text": [
      "hola 1 0.09090909090909091\n",
      "este 1 0.09090909090909091\n",
      "es 1 0.09090909090909091\n",
      "mi 2 0.18181818181818182\n",
      "primer 2 0.18181818181818182\n",
      "ejemplo 1 0.09090909090909091\n",
      "de 2 0.18181818181818182\n",
      "NLP 1 0.09090909090909091\n",
      "en 1 0.09090909090909091\n",
      "curso 1 0.09090909090909091\n",
      "python 1 0.09090909090909091\n"
     ]
    }
   ]
  },
  {
   "cell_type": "code",
   "metadata": {
    "id": "m76IksY8tOsJ"
   },
   "source": [
    "contador = Counter([1,1,1,2,3,7,4,5,6,7])"
   ],
   "execution_count": null,
   "outputs": []
  },
  {
   "cell_type": "code",
   "source": [
    "contador[7]"
   ],
   "metadata": {
    "colab": {
     "base_uri": "https://localhost:8080/"
    },
    "id": "iL8eJUD-nm9S",
    "executionInfo": {
     "status": "ok",
     "timestamp": 1645493751479,
     "user_tz": 360,
     "elapsed": 69,
     "user": {
      "displayName": "Luis Fernando Leal Hernandez",
      "photoUrl": "https://lh3.googleusercontent.com/a/default-user=s64",
      "userId": "08643725771405988586"
     }
    },
    "outputId": "2043875c-db2f-4690-8cbe-9483cbb54d44"
   },
   "execution_count": null,
   "outputs": [
    {
     "output_type": "execute_result",
     "data": {
      "text/plain": [
       "2"
      ]
     },
     "metadata": {},
     "execution_count": 107
    }
   ]
  },
  {
   "cell_type": "code",
   "metadata": {
    "id": "a8sK1TidVR3b",
    "colab": {
     "base_uri": "https://localhost:8080/"
    },
    "executionInfo": {
     "status": "ok",
     "timestamp": 1645493751481,
     "user_tz": 360,
     "elapsed": 66,
     "user": {
      "displayName": "Luis Fernando Leal Hernandez",
      "photoUrl": "https://lh3.googleusercontent.com/a/default-user=s64",
      "userId": "08643725771405988586"
     }
    },
    "outputId": "3164faac-66d5-4c0f-a3f8-c7bb5bd98307"
   },
   "source": [
    "from collections import defaultdict\n",
    "\n",
    "default_estudiantes = defaultdict(lambda : 7) # lambda functions(funciones anonimas)\n",
    "\n",
    "default_estudiantes[\"Javier\"] = 1\n",
    "\n",
    "print(default_estudiantes[\"Javier\"])"
   ],
   "execution_count": null,
   "outputs": [
    {
     "output_type": "stream",
     "name": "stdout",
     "text": [
      "1\n"
     ]
    }
   ]
  },
  {
   "cell_type": "code",
   "metadata": {
    "id": "37lzKmPdVR3b",
    "colab": {
     "base_uri": "https://localhost:8080/"
    },
    "executionInfo": {
     "status": "ok",
     "timestamp": 1645493751481,
     "user_tz": 360,
     "elapsed": 60,
     "user": {
      "displayName": "Luis Fernando Leal Hernandez",
      "photoUrl": "https://lh3.googleusercontent.com/a/default-user=s64",
      "userId": "08643725771405988586"
     }
    },
    "outputId": "4fd4485a-24b0-4ab2-c943-1b2cb68d9485"
   },
   "source": [
    "default_estudiantes[\"test<\"]"
   ],
   "execution_count": null,
   "outputs": [
    {
     "output_type": "execute_result",
     "data": {
      "text/plain": [
       "7"
      ]
     },
     "metadata": {},
     "execution_count": 109
    }
   ]
  },
  {
   "cell_type": "code",
   "metadata": {
    "id": "IvH8dJiKVR3b"
   },
   "source": [
    "def test():\n",
    "    return \"test\""
   ],
   "execution_count": null,
   "outputs": []
  },
  {
   "cell_type": "code",
   "metadata": {
    "id": "eLtinXzfuWfK",
    "colab": {
     "base_uri": "https://localhost:8080/"
    },
    "executionInfo": {
     "status": "ok",
     "timestamp": 1645493751483,
     "user_tz": 360,
     "elapsed": 54,
     "user": {
      "displayName": "Luis Fernando Leal Hernandez",
      "photoUrl": "https://lh3.googleusercontent.com/a/default-user=s64",
      "userId": "08643725771405988586"
     }
    },
    "outputId": "63ce37fe-d7d4-4c66-d608-3405893fb297"
   },
   "source": [
    "diccionario_test = defaultdict(test)\n",
    "diccionario_test[\"Javier\"] = 1\n",
    "\n",
    "print(diccionario_test[\"Javier\"])"
   ],
   "execution_count": null,
   "outputs": [
    {
     "output_type": "stream",
     "name": "stdout",
     "text": [
      "1\n"
     ]
    }
   ]
  },
  {
   "cell_type": "code",
   "metadata": {
    "id": "delNwMvtu1uP",
    "colab": {
     "base_uri": "https://localhost:8080/"
    },
    "executionInfo": {
     "status": "ok",
     "timestamp": 1645493751486,
     "user_tz": 360,
     "elapsed": 53,
     "user": {
      "displayName": "Luis Fernando Leal Hernandez",
      "photoUrl": "https://lh3.googleusercontent.com/a/default-user=s64",
      "userId": "08643725771405988586"
     }
    },
    "outputId": "6c718548-128f-40e9-ba1e-772c0fb7ea5f"
   },
   "source": [
    "diccionario_test"
   ],
   "execution_count": null,
   "outputs": [
    {
     "output_type": "execute_result",
     "data": {
      "text/plain": [
       "defaultdict(<function __main__.test>, {'Javier': 1})"
      ]
     },
     "metadata": {},
     "execution_count": 112
    }
   ]
  },
  {
   "cell_type": "code",
   "metadata": {
    "id": "ssTGCWJPuxBQ",
    "colab": {
     "base_uri": "https://localhost:8080/",
     "height": 35
    },
    "executionInfo": {
     "status": "ok",
     "timestamp": 1645493751496,
     "user_tz": 360,
     "elapsed": 58,
     "user": {
      "displayName": "Luis Fernando Leal Hernandez",
      "photoUrl": "https://lh3.googleusercontent.com/a/default-user=s64",
      "userId": "08643725771405988586"
     }
    },
    "outputId": "d0f4b000-8a4f-4b6c-a5a6-6b28efc82b0c"
   },
   "source": [
    "diccionario_test[\"probando\"]"
   ],
   "execution_count": null,
   "outputs": [
    {
     "output_type": "execute_result",
     "data": {
      "application/vnd.google.colaboratory.intrinsic+json": {
       "type": "string"
      },
      "text/plain": [
       "'test'"
      ]
     },
     "metadata": {},
     "execution_count": 113
    }
   ]
  },
  {
   "cell_type": "code",
   "metadata": {
    "id": "4qyBeAwCvHcE",
    "colab": {
     "base_uri": "https://localhost:8080/"
    },
    "executionInfo": {
     "status": "ok",
     "timestamp": 1645493751499,
     "user_tz": 360,
     "elapsed": 58,
     "user": {
      "displayName": "Luis Fernando Leal Hernandez",
      "photoUrl": "https://lh3.googleusercontent.com/a/default-user=s64",
      "userId": "08643725771405988586"
     }
    },
    "outputId": "bfd64403-8b98-4d70-de39-8e2975df174e"
   },
   "source": [
    "diccionario_test"
   ],
   "execution_count": null,
   "outputs": [
    {
     "output_type": "execute_result",
     "data": {
      "text/plain": [
       "defaultdict(<function __main__.test>, {'Javier': 1, 'probando': 'test'})"
      ]
     },
     "metadata": {},
     "execution_count": 114
    }
   ]
  },
  {
   "cell_type": "markdown",
   "metadata": {
    "id": "knLQZeElVR3c"
   },
   "source": [
    "## Conjuntos\n",
    "\n",
    "Otra estructura de datos útil es la estructura llamada \"set\" la cual está basada completamente en el concepto matemático de conjuntos , por lo tanto cumple con las características:\n",
    "\n",
    "* No tiene un orden\n",
    "* No tiene elementos duplicados\n",
    "\n",
    "Y podemos realizar sobre conjuntos operaciones matemáticas como:\n",
    "\n",
    "* Unión\n",
    "* Intersección\n",
    "* Diferencia\n",
    "\n",
    "Los definimos con llaves similares a un diccionario pero especificando elementos individuales y no pares llave-valor."
   ]
  },
  {
   "cell_type": "code",
   "metadata": {
    "id": "ACg_pnxIVR3c",
    "colab": {
     "base_uri": "https://localhost:8080/"
    },
    "executionInfo": {
     "status": "ok",
     "timestamp": 1645493871642,
     "user_tz": 360,
     "elapsed": 184,
     "user": {
      "displayName": "Luis Fernando Leal Hernandez",
      "photoUrl": "https://lh3.googleusercontent.com/a/default-user=s64",
      "userId": "08643725771405988586"
     }
    },
    "outputId": "2b1b62d6-e644-4883-bf1a-caa544ea3472"
   },
   "source": [
    "A = {1, 2, 3}\n",
    "\n",
    "print(A)\n",
    "print(type(A))"
   ],
   "execution_count": null,
   "outputs": [
    {
     "output_type": "stream",
     "name": "stdout",
     "text": [
      "{1, 2, 3}\n",
      "<class 'set'>\n"
     ]
    }
   ]
  },
  {
   "cell_type": "code",
   "metadata": {
    "id": "rb8EvQcVVR3c",
    "colab": {
     "base_uri": "https://localhost:8080/"
    },
    "executionInfo": {
     "status": "ok",
     "timestamp": 1645493911151,
     "user_tz": 360,
     "elapsed": 218,
     "user": {
      "displayName": "Luis Fernando Leal Hernandez",
      "photoUrl": "https://lh3.googleusercontent.com/a/default-user=s64",
      "userId": "08643725771405988586"
     }
    },
    "outputId": "a8949a77-3e10-4178-8018-678a43b76ca4"
   },
   "source": [
    "A = set('hola mundo desde python')\n",
    "print(A)"
   ],
   "execution_count": null,
   "outputs": [
    {
     "output_type": "stream",
     "name": "stdout",
     "text": [
      "{'p', 'u', ' ', 'n', 'd', 'e', 's', 'l', 'm', 't', 'a', 'y', 'o', 'h'}\n"
     ]
    }
   ]
  },
  {
   "cell_type": "code",
   "metadata": {
    "id": "JxPobUf8VR3c",
    "colab": {
     "base_uri": "https://localhost:8080/"
    },
    "executionInfo": {
     "status": "ok",
     "timestamp": 1645493967696,
     "user_tz": 360,
     "elapsed": 4,
     "user": {
      "displayName": "Luis Fernando Leal Hernandez",
      "photoUrl": "https://lh3.googleusercontent.com/a/default-user=s64",
      "userId": "08643725771405988586"
     }
    },
    "outputId": "b8cccb5b-28cc-42f1-f8b2-e454b32f68df"
   },
   "source": [
    "print(len('hola mundo desde python'))\n",
    "print(len(A))"
   ],
   "execution_count": null,
   "outputs": [
    {
     "output_type": "stream",
     "name": "stdout",
     "text": [
      "23\n",
      "14\n",
      "14\n"
     ]
    }
   ]
  },
  {
   "cell_type": "code",
   "metadata": {
    "id": "KDmTLVImVR3c",
    "colab": {
     "base_uri": "https://localhost:8080/"
    },
    "executionInfo": {
     "status": "ok",
     "timestamp": 1645494002167,
     "user_tz": 360,
     "elapsed": 176,
     "user": {
      "displayName": "Luis Fernando Leal Hernandez",
      "photoUrl": "https://lh3.googleusercontent.com/a/default-user=s64",
      "userId": "08643725771405988586"
     }
    },
    "outputId": "0012b21d-cfd2-4e06-f805-b028ef05633d"
   },
   "source": [
    "A = {1, 2, 3}\n",
    "B = {3, 2, 3, 1}\n",
    "print(A == B)"
   ],
   "execution_count": null,
   "outputs": [
    {
     "output_type": "stream",
     "name": "stdout",
     "text": [
      "True\n"
     ]
    }
   ]
  },
  {
   "cell_type": "code",
   "metadata": {
    "id": "niuXaD5RVR3c",
    "colab": {
     "base_uri": "https://localhost:8080/",
     "height": 165
    },
    "executionInfo": {
     "status": "error",
     "timestamp": 1645494043311,
     "user_tz": 360,
     "elapsed": 175,
     "user": {
      "displayName": "Luis Fernando Leal Hernandez",
      "photoUrl": "https://lh3.googleusercontent.com/a/default-user=s64",
      "userId": "08643725771405988586"
     }
    },
    "outputId": "5b7d168c-6433-425d-c2ec-a71e1fe06f13"
   },
   "source": [
    "#A[1]"
   ],
   "execution_count": null,
   "outputs": [
    {
     "output_type": "error",
     "ename": "TypeError",
     "evalue": "ignored",
     "traceback": [
      "\u001B[0;31m---------------------------------------------------------------------------\u001B[0m",
      "\u001B[0;31mTypeError\u001B[0m                                 Traceback (most recent call last)",
      "\u001B[0;32m<ipython-input-119-72ea7112faa4>\u001B[0m in \u001B[0;36m<module>\u001B[0;34m()\u001B[0m\n\u001B[0;32m----> 1\u001B[0;31m \u001B[0mA\u001B[0m\u001B[0;34m[\u001B[0m\u001B[0;36m1\u001B[0m\u001B[0;34m]\u001B[0m\u001B[0;34m\u001B[0m\u001B[0;34m\u001B[0m\u001B[0m\n\u001B[0m",
      "\u001B[0;31mTypeError\u001B[0m: 'set' object is not subscriptable"
     ]
    }
   ]
  },
  {
   "cell_type": "code",
   "metadata": {
    "id": "0fv6QJu8VR3d",
    "colab": {
     "base_uri": "https://localhost:8080/"
    },
    "executionInfo": {
     "status": "ok",
     "timestamp": 1645494060082,
     "user_tz": 360,
     "elapsed": 196,
     "user": {
      "displayName": "Luis Fernando Leal Hernandez",
      "photoUrl": "https://lh3.googleusercontent.com/a/default-user=s64",
      "userId": "08643725771405988586"
     }
    },
    "outputId": "36637d9d-1234-40ce-fa62-9a6ebd0985fd"
   },
   "source": [
    "primos = {2, 3, 5, 7, 11}\n",
    "for num in primos:\n",
    "    print(num)"
   ],
   "execution_count": null,
   "outputs": [
    {
     "output_type": "stream",
     "name": "stdout",
     "text": [
      "2\n",
      "3\n",
      "5\n",
      "7\n",
      "11\n"
     ]
    }
   ]
  },
  {
   "cell_type": "code",
   "metadata": {
    "id": "mofiog24VR3d",
    "colab": {
     "base_uri": "https://localhost:8080/"
    },
    "executionInfo": {
     "status": "ok",
     "timestamp": 1645494088966,
     "user_tz": 360,
     "elapsed": 175,
     "user": {
      "displayName": "Luis Fernando Leal Hernandez",
      "photoUrl": "https://lh3.googleusercontent.com/a/default-user=s64",
      "userId": "08643725771405988586"
     }
    },
    "outputId": "ce2d9c71-0e49-4016-8785-3fcb6fb8638d"
   },
   "source": [
    "A.add(4)\n",
    "print(A)"
   ],
   "execution_count": null,
   "outputs": [
    {
     "output_type": "stream",
     "name": "stdout",
     "text": [
      "{1, 2, 3, 4}\n"
     ]
    }
   ]
  },
  {
   "cell_type": "code",
   "metadata": {
    "id": "bIs1EgZFVR3d",
    "colab": {
     "base_uri": "https://localhost:8080/"
    },
    "executionInfo": {
     "status": "ok",
     "timestamp": 1645494107419,
     "user_tz": 360,
     "elapsed": 184,
     "user": {
      "displayName": "Luis Fernando Leal Hernandez",
      "photoUrl": "https://lh3.googleusercontent.com/a/default-user=s64",
      "userId": "08643725771405988586"
     }
    },
    "outputId": "47dc3001-aaec-4b09-b963-debfe4346b2e"
   },
   "source": [
    "print(4 in A,5 in A)"
   ],
   "execution_count": null,
   "outputs": [
    {
     "output_type": "stream",
     "name": "stdout",
     "text": [
      "True False\n"
     ]
    }
   ]
  },
  {
   "cell_type": "code",
   "metadata": {
    "id": "x_We5SwDVR3d",
    "colab": {
     "base_uri": "https://localhost:8080/"
    },
    "executionInfo": {
     "status": "ok",
     "timestamp": 1645494178059,
     "user_tz": 360,
     "elapsed": 174,
     "user": {
      "displayName": "Luis Fernando Leal Hernandez",
      "photoUrl": "https://lh3.googleusercontent.com/a/default-user=s64",
      "userId": "08643725771405988586"
     }
    },
    "outputId": "25807687-d13b-4640-a3ab-4f8281ace7bf"
   },
   "source": [
    "C = {3,5,9,0}\n",
    "\n",
    "print(A.union(C))\n",
    "print(A | C)"
   ],
   "execution_count": null,
   "outputs": [
    {
     "output_type": "stream",
     "name": "stdout",
     "text": [
      "{0, 1, 2, 3, 4, 5, 9}\n",
      "{0, 1, 2, 3, 4, 5, 9}\n"
     ]
    }
   ]
  },
  {
   "cell_type": "code",
   "metadata": {
    "id": "C9hQeYlOygVD",
    "colab": {
     "base_uri": "https://localhost:8080/"
    },
    "executionInfo": {
     "status": "ok",
     "timestamp": 1645494191412,
     "user_tz": 360,
     "elapsed": 169,
     "user": {
      "displayName": "Luis Fernando Leal Hernandez",
      "photoUrl": "https://lh3.googleusercontent.com/a/default-user=s64",
      "userId": "08643725771405988586"
     }
    },
    "outputId": "0b2b7650-63e9-4a8e-8e57-8e77d506ce91"
   },
   "source": [
    "print(A)\n",
    "print(C)"
   ],
   "execution_count": null,
   "outputs": [
    {
     "output_type": "stream",
     "name": "stdout",
     "text": [
      "{1, 2, 3, 4}\n",
      "{0, 9, 3, 5}\n"
     ]
    }
   ]
  },
  {
   "cell_type": "code",
   "metadata": {
    "id": "vrMlUnDSVR3d",
    "colab": {
     "base_uri": "https://localhost:8080/"
    },
    "executionInfo": {
     "status": "ok",
     "timestamp": 1645494256769,
     "user_tz": 360,
     "elapsed": 175,
     "user": {
      "displayName": "Luis Fernando Leal Hernandez",
      "photoUrl": "https://lh3.googleusercontent.com/a/default-user=s64",
      "userId": "08643725771405988586"
     }
    },
    "outputId": "f820d81c-ac85-4f87-dd88-b163ee740fa4"
   },
   "source": [
    "print(A.intersection(C))\n",
    "print(A & C)"
   ],
   "execution_count": null,
   "outputs": [
    {
     "output_type": "stream",
     "name": "stdout",
     "text": [
      "{3}\n",
      "{3}\n"
     ]
    }
   ]
  },
  {
   "cell_type": "code",
   "metadata": {
    "id": "KKqxj-2dzG_9",
    "colab": {
     "base_uri": "https://localhost:8080/"
    },
    "executionInfo": {
     "status": "ok",
     "timestamp": 1645494270658,
     "user_tz": 360,
     "elapsed": 197,
     "user": {
      "displayName": "Luis Fernando Leal Hernandez",
      "photoUrl": "https://lh3.googleusercontent.com/a/default-user=s64",
      "userId": "08643725771405988586"
     }
    },
    "outputId": "86397554-6689-474c-d707-aeaf4eab113f"
   },
   "source": [
    "print(A)\n",
    "print(C)"
   ],
   "execution_count": null,
   "outputs": [
    {
     "output_type": "stream",
     "name": "stdout",
     "text": [
      "{1, 2, 3, 4}\n",
      "{0, 9, 3, 5}\n"
     ]
    }
   ]
  },
  {
   "cell_type": "code",
   "metadata": {
    "id": "CMXOwJR_VR3e",
    "colab": {
     "base_uri": "https://localhost:8080/"
    },
    "executionInfo": {
     "status": "ok",
     "timestamp": 1645494418044,
     "user_tz": 360,
     "elapsed": 272,
     "user": {
      "displayName": "Luis Fernando Leal Hernandez",
      "photoUrl": "https://lh3.googleusercontent.com/a/default-user=s64",
      "userId": "08643725771405988586"
     }
    },
    "outputId": "5ae57e6d-1de8-4818-deee-01ecc0e802ba"
   },
   "source": [
    "print(A.difference(C))\n",
    "print(A - C)\n",
    "print( C- A)"
   ],
   "execution_count": null,
   "outputs": [
    {
     "output_type": "stream",
     "name": "stdout",
     "text": [
      "{1, 2, 4}\n",
      "{1, 2, 4}\n",
      "{0, 9, 5}\n"
     ]
    }
   ]
  },
  {
   "cell_type": "markdown",
   "metadata": {
    "id": "4mvgdcX3VR3e"
   },
   "source": [
    "Existen otras operciones sobre conjuntos,  referencia util: https://snakify.org/en/lessons/sets/"
   ]
  },
  {
   "cell_type": "markdown",
   "metadata": {
    "id": "GiWADEx_VR3e"
   },
   "source": [
    "**Caso de uso comun** Un caso de uso comun en data science es similar un \"distinct\" de una lista a traves de crear un conjunto a partir de la lista"
   ]
  },
  {
   "cell_type": "code",
   "metadata": {
    "id": "7hOKqHKyVR3e",
    "colab": {
     "base_uri": "https://localhost:8080/"
    },
    "executionInfo": {
     "status": "ok",
     "timestamp": 1645494548396,
     "user_tz": 360,
     "elapsed": 152,
     "user": {
      "displayName": "Luis Fernando Leal Hernandez",
      "photoUrl": "https://lh3.googleusercontent.com/a/default-user=s64",
      "userId": "08643725771405988586"
     }
    },
    "outputId": "9987a270-ee43-4756-abaf-84a78d24813a"
   },
   "source": [
    "numeros = [1,2,3,2,4,5,1,2,1,5]\n",
    "\n",
    "distinct_numeros = set(numeros)\n",
    "print(distinct_numeros)"
   ],
   "execution_count": null,
   "outputs": [
    {
     "output_type": "stream",
     "name": "stdout",
     "text": [
      "{1, 2, 3, 4, 5}\n"
     ]
    }
   ]
  },
  {
   "cell_type": "code",
   "metadata": {
    "id": "qiJGdD3x0oPp"
   },
   "source": [
    "corpus = \"Python es un lenguaje muy utilizado en inteligencia artificial y Python es un lenguaje muy general\"\n",
    "corpus = corpus.lower()\n",
    "\n",
    "palabras = corpus.split()\n",
    "token_desconocido = \"<unk>\"\n",
    "\n",
    "palabras_a_numeros = dict()\n",
    "numeros_a_palabras = {}\n",
    "\n",
    "for numero,palabra in enumerate(set(palabras)):\n",
    "    print(numero,palabra)\n",
    "    palabras_a_numeros[palabra] = numero\n",
    "    numeros_a_palabras[numero] = palabra\n",
    "    \n",
    "palabras_a_numeros[token_desconocido]  = -1\n",
    "numeros_a_palabras[-1] = token_desconocido"
   ],
   "execution_count": null,
   "outputs": []
  },
  {
   "cell_type": "markdown",
   "metadata": {
    "id": "1euccYsWVR3e"
   },
   "source": [
    "## Tarea\n",
    "\n",
    "Con esto terminamos Python basico y sintaxis general faltando unicamente un punto que sera clave para resolver la tarea practica:\n",
    "\n",
    "**Funciones**: \n",
    "Tambien llamadas sub-rutinas, procedimientos o metodos en otros lenguajes, esta tarea consiste en investigar:\n",
    "* funciones en Python \n",
    "* parametros posisionales \n",
    "* parametros nombrados \n",
    "* retorno de multiples valores\n",
    "* funciones como objetos y como parametros de otras funciones\n",
    "* funciones anonimas o lambda\n",
    "\n",
    "Entrega: Documento explicando bajo tus conclusiones(no copy-paste) cada uno de estos puntos ejemplificando un caso de uso, este debe ser subio al GES. \n",
    "\n",
    "Limite de entrega: **Domingo 27 de Febrero**"
   ]
  },
  {
   "cell_type": "code",
   "metadata": {
    "id": "NQXIxqQBVR3f"
   },
   "source": [
    ""
   ],
   "execution_count": null,
   "outputs": []
  },
  {
   "cell_type": "code",
   "source": [
    "!git status"
   ],
   "metadata": {
    "colab": {
     "base_uri": "https://localhost:8080/"
    },
    "id": "yHkCl7AOmShm",
    "executionInfo": {
     "status": "ok",
     "timestamp": 1644462459631,
     "user_tz": 360,
     "elapsed": 190,
     "user": {
      "displayName": "Luis Fernando Leal Hernandez",
      "photoUrl": "https://lh3.googleusercontent.com/a/default-user=s64",
      "userId": "08643725771405988586"
     }
    },
    "outputId": "17210cd2-49ca-4f30-bd80-0def5a1c8326"
   },
   "execution_count": null,
   "outputs": [
    {
     "output_type": "stream",
     "name": "stdout",
     "text": [
      "fatal: not a git repository (or any of the parent directories): .git\n"
     ]
    }
   ]
  },
  {
   "cell_type": "code",
   "source": [
    "!git add"
   ],
   "metadata": {
    "colab": {
     "base_uri": "https://localhost:8080/"
    },
    "id": "uiCzD21vmUAF",
    "executionInfo": {
     "status": "ok",
     "timestamp": 1644462522747,
     "user_tz": 360,
     "elapsed": 232,
     "user": {
      "displayName": "Luis Fernando Leal Hernandez",
      "photoUrl": "https://lh3.googleusercontent.com/a/default-user=s64",
      "userId": "08643725771405988586"
     }
    },
    "outputId": "7678763a-d377-4f34-9383-16f09db5a7de"
   },
   "execution_count": null,
   "outputs": [
    {
     "output_type": "stream",
     "name": "stdout",
     "text": [
      "fatal: not a git repository (or any of the parent directories): .git\n"
     ]
    }
   ]
  },
  {
   "cell_type": "code",
   "source": [
    ""
   ],
   "metadata": {
    "id": "H4X5M7YAmr5e"
   },
   "execution_count": null,
   "outputs": []
  }
 ]
}