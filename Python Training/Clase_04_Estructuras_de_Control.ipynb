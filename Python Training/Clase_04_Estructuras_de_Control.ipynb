{
 "nbformat": 4,
 "nbformat_minor": 0,
 "metadata": {
  "kernelspec": {
   "display_name": "Python 3",
   "language": "python",
   "name": "python3"
  },
  "language_info": {
   "codemirror_mode": {
    "name": "ipython",
    "version": 3
   },
   "file_extension": ".py",
   "mimetype": "text/x-python",
   "name": "python",
   "nbconvert_exporter": "python",
   "pygments_lexer": "ipython3",
   "version": "3.7.2"
  },
  "colab": {
   "name": "Clase_04_Estructuras_de_Control.ipynb",
   "provenance": []
  }
 },
 "cells": [
  {
   "cell_type": "markdown",
   "metadata": {
    "id": "jvDnNQNv2D6X"
   },
   "source": [
    "# Estructuras de control\n",
    "\n",
    "Ya conocemos elementos basicos de Python incluyendo operaciones básicas aritmeticas, relacionales y lógicas. Tipos de datos y objetos y fundamentos de como representar datos e información en un programa,posteriormente veremos como realizar operaciones mas complejas como por ejemplo: **algebra lineal** con numpy, pero por ahora necesitamos aprender otro elemento basico de todo programa(no solo en computación científica y/o ciencias de datos) , estructuras de control y flujo de programas en Python.\n",
    "\n",
    "Antes de entrar a sentencias y sintaxis, pensemos con algunos ejemplos en que casos vamos a necesitar utilizar estructuras de control con ejemplos de la vida real.\n",
    "\n",
    "**Nota** Al igual que los temas anteriores ,estos temas son básicos y elementales de programación en general por lo que pueden parecer  muy básicos para quienes ya tienen experiencia en Python u otros lenguajes ,pero es necesario que los cubramos a detalle para los compañeros con poca experiencia en programación.\n",
    "\n",
    "## Condicionales\n",
    "\n",
    "Los programas comunmente necesitan realizar diferentes acciones segun se cumpla o no cierta condición(o series de condiciones), por ejemplo:\n",
    "\n",
    "* Un programa puede necesitar aplicar distintos tipos de cambio según el país de origen de cierta transacción.\n",
    "* Un programa puede necesitar usar distintos modelos predictivos dependiendo del si un usuario fue registrado antes o despues de cierta fecha.\n",
    "* Un programa de inteligencia artificial puede emitir una alerta si el modelo de AI determina que la probabilidad de que una transacción sea fradulenta es alto. \n",
    "\n",
    "Esto comúnmente se da en casos donde podemos razonar utilizando: \n",
    "\n",
    "\"si <alguna condición> entonces hacer algo\" \n",
    "\n",
    "O bien variaciones multicondición como:\n",
    "\n",
    "\"si <alguna condición> entonces hacer algo sino ,hacer otra cosa\"\n",
    "\n",
    "Para los ejemplos anteriores:\n",
    "\n",
    "* si pais es Guatemala entonces usar quetzales, si es Estados Unidos usar dolares\n",
    "* si el usuario se registró antes de enero 2019 usar modelo predictivo 1, en caso contrario usar el modelo 2\n",
    "* si el modelo de IA estima 61% de probabilidad de fraude, alertar a analistas de  riesgos\n",
    "\n",
    "## Ciclos\n",
    "\n",
    "Los ciclos son utilizados para programas que comunmente requieren tareas repetitivas o iterativas, estos son muy comunes en todo tipo de programas y en el área científica son utilizados comunmente en programas de aproximaciones númericas matemáticas iterativas, por ejemplo el **metodo de newton** o **metodo de newton-rhapson** para encontrar las raices o ceros de una función. En ciencia de datos un ejemplo común es en \"machine learning\" los algoritmos de \"entrenamiento\" consisten de múltiples iteraciones de un proceso de optimización llamado **\"gradient descent\"** o bien AI a través de \"aprendizaje por refuerzo\"(como el usado por Google Deepmind en AlphaGo) en donde el agente se entrena en cierta tarea a través de muchos \"episodios\" donde cada episodio es una iteración de un ciclo.\n",
    "\n",
    "Otro escenario muy común es operar sobre los elementos de una colección uno a uno, es decir realizar cierta operación, validación o calculos sobre todos los elementos de una colección, por ejemplo una lista.\n",
    "\n",
    "Un ejemplo de esto podría ser :\n",
    "\n",
    "Un programa verifica si los estudiantes asignados a un curso han aprobado el curso, de ser así envía un correo de felicitaciones al estudiante, de no ser así lo asigna automaticamente a recuperación.\n",
    "\n",
    "En este caso tenemos una tarea ciclica o iterativa, la operación u operaciones a realizar se ejecutan repetidamente una vez por cada alumno, en este caso podemos razonar de la siguiente forma.\n",
    "\n",
    "para cada alumno \"a\" en la lista de usuarios asignados \"L\":\n",
    "\n",
    "       nota_alumno = obtener_nota_alumno(a)\n",
    "       \n",
    "       si nota_alumno >= 71:\n",
    "            enviar_correo(a)\n",
    "       si no:\n",
    "            asignar_recuperacion(a)"
   ]
  },
  {
   "cell_type": "markdown",
   "metadata": {
    "id": "60Ry3Gue2D6h"
   },
   "source": [
    "## Bloques de código\n",
    "\n",
    "Hasta ahora hemos estado trabajando con sentencias  u operaciones sencillas  ,pero los programas comunmente estan compuestos por algo conocido como **\"bloques de código\"**. Los bloques de código son  conjuntos( o agrupaciones) de una o mas  sentencias de código que son ejecutas en el orden en el que son escritas, es decir de arriba hacia abajo y de izquierda a derecha. \n",
    "\n",
    "Un detalle importante a tener en cuenta cuando veamos ejemplos y documentación es que una unica sentencia de código es también considerado un bloque de código de similar manera como en matemática un conjunto unitario(de un solo elemento) sigue siendo un conjunto y aplican todas las operaciones de conjuntos en el. \n",
    "\n",
    "Veremos algúnos ejemplos de bloques de código tanto de 1 sentencia como varias sentencias.\n",
    "\n",
    "En la mayoría de ejemplos y conceptos utilizaremos la sintáxis : < bloque n >  para indicar un bloque de código que puede estar compuesto por una o mas sentencias. Por ejemplo:\n",
    "\n",
    "if < expresion booleana>:\n",
    "\n",
    "    < bloque 1 >\n",
    "\n",
    "< bloque 2 >\n",
    "\n",
    "Es la definición de un \"if\" sencillo( a definira continuación) y de manera general indicamos 2 bloques de código relacionados.\n",
    "\n",
    "### Nota importante de Bloques de código en Python\n",
    "\n",
    "Python a diferencia de otros lenguajes de programación, no utiliza llaves **{}** o sentencias especiales como **begin** y **end** para especificar bloques de código , en lugar de eso usa \"indentación\" (a través de espacios o tabs), es decir  que todas las sentencias en un mismo nivel de indentación , pertenecen a un mismo bloque de código. Esto quedará mas claro con algunos ejemplos.\n",
    "\n",
    "**Ejemplo**\n",
    "En el primer ejemplo tenemos nuevamente un programa que valida (a través de una expresión relacional o de comparación cuyo resultado es booleano, True o False) que un alumno tenga edad mínima para votar , si la tiene el programa imprime 2 mensajes ,si no la tiene imprime un único mensaje.\n",
    "\n",
    "En este ejemplo:\n",
    "* Si la condición se cumple (True) se ejecuta el **\"bloque de código\"**  que consiste en 2 sentencias \"print\".\n",
    "* Si la condición no se cumple(False) se ejecuta el **\"bloque de código\"** que consiste en 1 sentencia \"print\"(aun que solo tiene una sentencia, sigue siendo un bloque)\n",
    "\n",
    "Para ambos casos la forma de identificar que sentencias pertenecen a un bloque es: **todas aquellas que estan al mismo nivel de indentación.**\n",
    "\n",
    "Para quienes vienen de otros lenguajes, algunas equivalencias veremos el mismo ejemplo usando sintáxis de otros lenguajes.\n",
    "\n",
    "\n",
    "**nota**: Experimenta cambiando las variables de edad_alumno o edad_minima_votacion analizando el resultado obtenido por el programa"
   ]
  },
  {
   "cell_type": "code",
   "metadata": {
    "scrolled": true,
    "colab": {
     "base_uri": "https://localhost:8080/"
    },
    "id": "QMM_dC2I2D6i",
    "executionInfo": {
     "status": "ok",
     "timestamp": 1644456804898,
     "user_tz": 360,
     "elapsed": 42,
     "user": {
      "displayName": "Luis Fernando Leal Hernandez",
      "photoUrl": "https://lh3.googleusercontent.com/a/default-user=s64",
      "userId": "08643725771405988586"
     }
    },
    "outputId": "4c73d7eb-a72c-4dbd-e1a2-eaa16b0e0bb1"
   },
   "source": [
    "edad_alumno = 15 #bloque1\n",
    "edad_minima_votacion = 18 #bloque1\n",
    "\n",
    "if edad_alumno >= edad_minima_votacion :\n",
    "  print(\"El alumno puede votar\") # bloque2\n",
    "  print(\"Generar horario de votación\") #bloque2\n",
    "else:\n",
    "  print(\"El alumno no puede votar\") #bloque3\n",
    "\n",
    "print(\"Esto no es parte del 'if' ni del 'else' y se ejecuta despues de estos bloques de código independientemente\") #bloque4\n"
   ],
   "execution_count": 1,
   "outputs": [
    {
     "output_type": "stream",
     "name": "stdout",
     "text": [
      "El alumno no puede votar\n",
      "Esto no es parte del 'if' ni del 'else' y se ejecuta despues de estos bloques de código independientemente\n"
     ]
    }
   ]
  },
  {
   "cell_type": "markdown",
   "metadata": {
    "id": "IV-xdGx12D6j"
   },
   "source": [
    "##### En Descendientes de C  (C++, Java, C#, etc)\n",
    "\n",
    "int edad_alumno = 15; //bloque1\n",
    "int edad_minima_votacion = 18; //bloque1\n",
    "\n",
    "if(edad_alumno >= edad_minima_votacion)\n",
    "{\n",
    "\n",
    "    System.out.println(\"El alumno puede votar\"); //bloque2\n",
    "    System.out.println(\"Generar horario de votación\"); //bloque2\n",
    "}\n",
    "else\n",
    "{\n",
    "\n",
    "    System.out.println(\"El alumno no puede votar\"); //bloque3\n",
    "}\n",
    "\n",
    "System.out.println(\"Esto no es parte del 'if' ni del 'else' y se ejecuta despues de estos bloques de código independientemente\"); //bloque4"
   ]
  },
  {
   "cell_type": "markdown",
   "metadata": {
    "id": "ggPHCriB2D6j"
   },
   "source": [
    "###### En Visual Basic\n",
    "Visual basic utiliza la palabra reservada End para indicar el final de un bloque, para el caso de \"If\" se utiliza End If\n",
    "\n",
    "If edad_alumno >= edad_minima_votacion Then \n",
    "\n",
    "    Print \"El alumno puede votar\"  ' bloque2\n",
    "    print \"Generar horario de votación\"  ' bloque2\n",
    "    \n",
    " Else\n",
    " \n",
    "    Print \"El alumno no puede votar\"   ' bloque3\n",
    "End If"
   ]
  },
  {
   "cell_type": "markdown",
   "metadata": {
    "id": "AjidcwMI2D6k"
   },
   "source": [
    "## Condicionales \n",
    "\n",
    "En Python las estructuras o sentencias condicionales se basan en 3 palabras reservadas:\n",
    "* if\n",
    "* else\n",
    "* elif\n",
    "\n",
    "Resumidamente usamos condicionales para alterar el flujo de un programa de manera que se ejecute o no cierta porción del programa(bloque de código)  en función de si se cumple o no cierta condición a ser evaluada.\n",
    "\n",
    "Las personas utilizamos condicionales constantemente tal vez sin darnos cuenta, por ejemplo:\n",
    "* si hace frio, entonces me pongo sueter\n",
    "* si hace frio Y esta lloviendo, entonces uso chumpa impermeable\n",
    "* si la cancion en la radio me gusta, subo el volumen en caso contrario lo bajo.\n",
    "\n",
    "De la misma manera los programas pueden \"tomar desiciones\" basados en alguna condición , por ejemplo un programa que verifica si un número \"x\" esta en el rango de 0 a 1:\n",
    "\n",
    "El programa utiliza la sentencia: **\"if\"** para evaluar una condición, si esta es verdadera ejecuta un bloque de código , en el caso contrario ejecuta otro.\n",
    "\n",
    "**Nota** Experimenta cambiando el valor de la variable \"x\" y analizando el resultado obtenido."
   ]
  },
  {
   "cell_type": "code",
   "metadata": {
    "colab": {
     "base_uri": "https://localhost:8080/"
    },
    "id": "GO86HA5B2D6k",
    "executionInfo": {
     "status": "ok",
     "timestamp": 1644456804900,
     "user_tz": 360,
     "elapsed": 39,
     "user": {
      "displayName": "Luis Fernando Leal Hernandez",
      "photoUrl": "https://lh3.googleusercontent.com/a/default-user=s64",
      "userId": "08643725771405988586"
     }
    },
    "outputId": "dded0137-87ea-4bcd-90d1-4f3a18c07478"
   },
   "source": [
    "x = 100\n",
    "\n",
    "if 0 < x < 1: #True\n",
    "    print(\"x se encuentra entre 0 y 1\")\n",
    "    print(\"resultado verdadero\")\n",
    "else: # False\n",
    "    print(\"x no se encuentra en el rango de 0 a 1\")\n",
    "    print(\"resultado falso\")"
   ],
   "execution_count": 2,
   "outputs": [
    {
     "output_type": "stream",
     "name": "stdout",
     "text": [
      "x no se encuentra en el rango de 0 a 1\n",
      "resultado falso\n"
     ]
    }
   ]
  },
  {
   "cell_type": "markdown",
   "metadata": {
    "id": "5cU99atk2D6k"
   },
   "source": [
    "Pudimos haber escrito unicamente la sentencia \"if\" , su condición y el bloque de código asociado sin necesidad de usar \"else\" si en caso nuestro programa no necesita realizar ninguna acción cuando la condición no se cumple."
   ]
  },
  {
   "cell_type": "code",
   "metadata": {
    "id": "n_LJdg2x2D6l",
    "executionInfo": {
     "status": "ok",
     "timestamp": 1644456804901,
     "user_tz": 360,
     "elapsed": 34,
     "user": {
      "displayName": "Luis Fernando Leal Hernandez",
      "photoUrl": "https://lh3.googleusercontent.com/a/default-user=s64",
      "userId": "08643725771405988586"
     }
    }
   },
   "source": [
    "x = 100\n",
    "\n",
    "if   0 < x < 1:\n",
    "    print(\"x se encuentra entre 0 y 1\")"
   ],
   "execution_count": 3,
   "outputs": []
  },
  {
   "cell_type": "markdown",
   "metadata": {
    "id": "QAbDaO9T2D6l"
   },
   "source": [
    "Aun que en estos ejemplos sencillos los bloques de código solo tenian una sentencia, pudimos haber utilizando tantas como fuera necesario  . De manera general la sintáxis es la siguiente:\n",
    "\n",
    "< bloque antes >\n",
    "\n",
    "if < expresion booleana >:\n",
    "\n",
    "    < bloque 1>\n",
    "else:\n",
    "\n",
    "    < bloque 2 >\n",
    "    \n",
    "< bloque despues >\n",
    "\n",
    "\n",
    "En este caso:\n",
    "* bloque 1: es el conjunto de sentencias a ejecutar si la condición del \"if\" es True\n",
    "* bloque 2 es el conjunto de sentencias a ejecutar si la condición del \"if\" es False\n",
    "* bloque antes: es una referencia a código que puede estar antes del if, y que no es parte de este, por ejemplo x = 0.47 en el ejemplo\n",
    "* bloque despues: es una referencia a código que puede estar despues del if y que se ejecutara posteriormente a este independiente de cual de los 2 casos (True o False) se de.\n",
    "\n",
    "**Nota con < expresion booleana >** : la parte del if que colocamos como < expresion booleana > es cualquier expresion valida cuyo resultado sea un booleano(True o False) ,esto significa que podemos  usar en esta parte cualquier expresion relacional, logica , variables o combinaciones de estas cuyo resultado sea booleanom, los bloques de código asociados pueden ser cualquier conjunto de sentencias válidas incluidas otras condicionales.\n",
    "\n",
    "### \"If-else-if ladders\" con elif\n",
    "\n",
    "Hasta el momento solo hemos visto ejemplos con un máximo de 2 posibles alternativas en la ejecución condicional:\n",
    "\n",
    "* Cuando solo nos interesa evaluar una condición y hacer algo si se cumple, usamos \"if\"\n",
    "* Cuando nos interesa evaluar una condición y hacer una tarea \"A\" cuando esta se cumple, o bien una tarea \"B\" cuando no se cumple usamos if-else\n",
    "\n",
    "Pero en muchos programas es necesario realizar la evaluación de multiples condiciones  y ejecutar las acciones correspndientes a la condición que se evalua como \"verdadera\", esto es un escenario muy común en todo tipo de programas \n",
    "\n",
    "**Ejemplo** \n",
    "\n",
    "Pensemos en un programa de un banco con precencia en toda centroamérica , pero donde cada país tiene  distinta tasa de interés  para cuentas en dolares , para cierto monto de ahorro dado el programa debe calcular el nuevo monto del cliente luego de intereses acumulados tomando en cuenta el país de la cuenta."
   ]
  },
  {
   "cell_type": "code",
   "metadata": {
    "colab": {
     "base_uri": "https://localhost:8080/"
    },
    "id": "Lznktvzy2D6m",
    "executionInfo": {
     "status": "ok",
     "timestamp": 1644456804913,
     "user_tz": 360,
     "elapsed": 46,
     "user": {
      "displayName": "Luis Fernando Leal Hernandez",
      "photoUrl": "https://lh3.googleusercontent.com/a/default-user=s64",
      "userId": "08643725771405988586"
     }
    },
    "outputId": "4d507a0b-f573-4fa0-e14e-26c4c51ba6a6"
   },
   "source": [
    "monto = 1000.00\n",
    "pais = \"HN\"\n",
    "interes = 0.0\n",
    "\n",
    "if pais == \"GT\":\n",
    "    interes = 0.1\n",
    "elif pais == \"ES\": #else if\n",
    "    interes = 0.15\n",
    "elif pais == \"HN\":\n",
    "    interes = 0.05\n",
    "elif pais == \"NI\":\n",
    "    interes = 0.2\n",
    "elif pais == \"CR\":\n",
    "    interes = 0.07\n",
    "elif pais == \"PA\":\n",
    "    interes = 0.08\n",
    "else:\n",
    "    print(\"Alerta: Pais no valido :\",pais)\n",
    "    \n",
    "nuevo_monto = monto + (monto*interes)\n",
    "print(\"Monto con intereses:\",nuevo_monto)"
   ],
   "execution_count": 4,
   "outputs": [
    {
     "output_type": "stream",
     "name": "stdout",
     "text": [
      "Monto con intereses: 1050.0\n"
     ]
    }
   ]
  },
  {
   "cell_type": "code",
   "metadata": {
    "colab": {
     "base_uri": "https://localhost:8080/"
    },
    "id": "zmf9a_7n_cWh",
    "executionInfo": {
     "status": "ok",
     "timestamp": 1644456804915,
     "user_tz": 360,
     "elapsed": 43,
     "user": {
      "displayName": "Luis Fernando Leal Hernandez",
      "photoUrl": "https://lh3.googleusercontent.com/a/default-user=s64",
      "userId": "08643725771405988586"
     }
    },
    "outputId": "d4b405c3-abe7-4ff5-a076-88443503bfd6"
   },
   "source": [
    "monto = 1000.00\n",
    "pais = \"US\"\n",
    "interes = 0.0\n",
    "\n",
    "if pais == \"GT\":\n",
    "    interes = 0.1\n",
    "elif pais == \"ES\": #else if\n",
    "    interes = 0.15\n",
    "elif pais == \"HN\":\n",
    "    interes = 0.05\n",
    "elif pais == \"NI\":\n",
    "    interes = 0.2\n",
    "elif pais == \"CR\":\n",
    "    interes = 0.07\n",
    "elif pais == \"PA\":\n",
    "    interes = 0.08\n",
    "else:\n",
    "    print(\"Alerta: Pais no valido :\",pais)\n",
    "    \n",
    "monto += (monto*interes)\n",
    "print(\"Monto con intereses:\",monto)"
   ],
   "execution_count": 5,
   "outputs": [
    {
     "output_type": "stream",
     "name": "stdout",
     "text": [
      "Alerta: Pais no valido : US\n",
      "Monto con intereses: 1000.0\n"
     ]
    }
   ]
  },
  {
   "cell_type": "markdown",
   "metadata": {
    "id": "92iqJHZ12D6n"
   },
   "source": [
    "**Ejemplo**\n",
    "\n",
    "Otro ejemplo es un programa sencillo que valida el rango de edad de un usuario para determinar que tipo de promocion ofrecerle, basado en :\n",
    "* de 0 a 15 años: promocion infantil\n",
    "* de 16 a 40 años: promocion intermedia\n",
    "* de 40 años en adelante: promocion avanzada\n",
    "\n",
    "Si la edad es negativa, mostrar una alerta \n",
    "\n",
    "**Nota** Este programa tiene intencionalmente un error de programación(bug) , para ciertos valores de \"edad\" el programa no funciona correctamente aún cuando lo hace bien para la mayoría de casos, como ejercicio identifiquemos el bug y propongamos soluciones."
   ]
  },
  {
   "cell_type": "code",
   "metadata": {
    "id": "62NxEtJ22D6n",
    "colab": {
     "base_uri": "https://localhost:8080/"
    },
    "executionInfo": {
     "status": "ok",
     "timestamp": 1644456804916,
     "user_tz": 360,
     "elapsed": 39,
     "user": {
      "displayName": "Luis Fernando Leal Hernandez",
      "photoUrl": "https://lh3.googleusercontent.com/a/default-user=s64",
      "userId": "08643725771405988586"
     }
    },
    "outputId": "f1e06a9a-c878-47b5-8d27-136472ec3361"
   },
   "source": [
    "edad = 40.5\n",
    "\n",
    "if edad >= 0.0 and edad <= 15.99:\n",
    "    print(\"Promocion infantil\")\n",
    "elif edad >= 16 and edad <= 40:\n",
    "    print(\"Promocion intermedia\")\n",
    "elif edad >= 41:\n",
    "    print(\"Promocion avanzada\")\n",
    "elif edad < 0:\n",
    "    print(\"Alerta: edad no valida\")\n",
    "else:\n",
    "    print(\"no definido\")"
   ],
   "execution_count": 6,
   "outputs": [
    {
     "output_type": "stream",
     "name": "stdout",
     "text": [
      "no definido\n"
     ]
    }
   ]
  },
  {
   "cell_type": "code",
   "source": [
    "edad = 40.5\n",
    "\n",
    "if edad >= 0.0 and edad <= 15.99:\n",
    "    print(\"Promocion infantil\")\n",
    "elif edad >= 16 and edad <= 40:\n",
    "    print(\"Promocion intermedia\")\n",
    "elif edad >= 41:\n",
    "    print(\"Promocion avanzada\")\n",
    "elif edad < 0:\n",
    "    print(\"Alerta: edad no valida\")\n",
    "else:\n",
    "    print(\"no definido\")"
   ],
   "metadata": {
    "id": "yRgXhRxqXHen",
    "colab": {
     "base_uri": "https://localhost:8080/"
    },
    "executionInfo": {
     "status": "ok",
     "timestamp": 1644456804917,
     "user_tz": 360,
     "elapsed": 36,
     "user": {
      "displayName": "Luis Fernando Leal Hernandez",
      "photoUrl": "https://lh3.googleusercontent.com/a/default-user=s64",
      "userId": "08643725771405988586"
     }
    },
    "outputId": "c9bd285e-5889-4bf3-ac0a-7cfea895b8fc"
   },
   "execution_count": 7,
   "outputs": [
    {
     "output_type": "stream",
     "name": "stdout",
     "text": [
      "no definido\n"
     ]
    }
   ]
  },
  {
   "cell_type": "markdown",
   "metadata": {
    "id": "DehIDdxs2D6o"
   },
   "source": [
    "**Ejemplo**\n",
    "\n",
    "En ciencia de datos, aveces ocurre que se debe usar cierto modelo predictivo dependiendo de la fecha de algún evento ya que la correlación entre ciertas variables pudo haber cambiado debido a el evento, en este ejemplo simularemos un caso donde se selecciona el modelo predictivo a usar basado en la fecha de registro de un usuario:\n",
    "\n",
    "**nota** haremos uso de una \"función\" ficticia que simulará el usar  distintos modelos predictivos también ficticios"
   ]
  },
  {
   "cell_type": "code",
   "source": [
    ""
   ],
   "metadata": {
    "id": "MLR1LtygXy2I",
    "executionInfo": {
     "status": "ok",
     "timestamp": 1644456805388,
     "user_tz": 360,
     "elapsed": 501,
     "user": {
      "displayName": "Luis Fernando Leal Hernandez",
      "photoUrl": "https://lh3.googleusercontent.com/a/default-user=s64",
      "userId": "08643725771405988586"
     }
    }
   },
   "execution_count": 7,
   "outputs": []
  },
  {
   "cell_type": "code",
   "metadata": {
    "id": "EgtjQ_DR2D6p",
    "executionInfo": {
     "status": "ok",
     "timestamp": 1644456805389,
     "user_tz": 360,
     "elapsed": 68,
     "user": {
      "displayName": "Luis Fernando Leal Hernandez",
      "photoUrl": "https://lh3.googleusercontent.com/a/default-user=s64",
      "userId": "08643725771405988586"
     }
    }
   },
   "source": [
    "def predecir(modelo=1,x=0):\n",
    "    \n",
    "    y = 0\n",
    "    if modelo == 1:\n",
    "        y = x*2 # y=2x\n",
    "    elif modelo == 2:\n",
    "        y = x**2 + 1 #y= cuarado(x) + 1\n",
    "    elif modelo == 3:\n",
    "        y = x/2 + 5\n",
    "    else:\n",
    "        y = x\n",
    "        \n",
    "    return y"
   ],
   "execution_count": 8,
   "outputs": []
  },
  {
   "cell_type": "code",
   "metadata": {
    "id": "tZ7j4RWj2D6p",
    "colab": {
     "base_uri": "https://localhost:8080/"
    },
    "executionInfo": {
     "status": "ok",
     "timestamp": 1644456805390,
     "user_tz": 360,
     "elapsed": 69,
     "user": {
      "displayName": "Luis Fernando Leal Hernandez",
      "photoUrl": "https://lh3.googleusercontent.com/a/default-user=s64",
      "userId": "08643725771405988586"
     }
    },
    "outputId": "4df3ac25-3fa5-4410-f5a8-5ee849b94697"
   },
   "source": [
    "fecha_registro = 20170101 #yyyymmdd\n",
    "x = 20\n",
    "\n",
    "if fecha_registro <= 20170909:\n",
    "    modelo_usado = 1\n",
    "    print(\"Usando modelo 1\")\n",
    "elif fecha_registro <=  20100606:\n",
    "    modelo_usado = 2\n",
    "    print(\"Usando modelo 2\")\n",
    "elif fecha_registro > 20100606:\n",
    "    modelo_usado = 3\n",
    "    print(\"Usando modelo 3\")\n",
    "    \n",
    "prediccion = predecir( modelo_usado,x)\n",
    "\n",
    "prediccion"
   ],
   "execution_count": 9,
   "outputs": [
    {
     "output_type": "stream",
     "name": "stdout",
     "text": [
      "Usando modelo 1\n"
     ]
    },
    {
     "output_type": "execute_result",
     "data": {
      "text/plain": [
       "40"
      ]
     },
     "metadata": {},
     "execution_count": 9
    }
   ]
  },
  {
   "cell_type": "markdown",
   "metadata": {
    "id": "xalo3ido2D6q"
   },
   "source": [
    "En este caso tenemos multiples condiciones a evaluar  y la primera que sea \"True\" será la condición cuyo código será ejecutado , en caso de no cumplirse ninguna el código a ejecutar será el bloque correspondiente a la porción **\"else\"**\n",
    "\n",
    "**Consideraciones adicionales**\n",
    "* No es necesario terminar la \"if ladder\" con \"else\", este solo lo usaremos cuando tengamos un bloque de código a ejecutar si en caso ninguna de las condiciones previas se cumple.\n",
    "* Al igual que en el \"if\" sencillo la condición a evaluar puede ser cualquier expresión cuyo resultado sea Boolean, esto significa que podemos tener cualquier combinación de expresiones relacionales, lógicas o variables que almacenen valores booleanos\n",
    "* Quienes vienen de otros lenguajes como C,C++,Java podrán preguntarse por la sentencia **switch**, esta no existe en Python y debe ser implementada con \"if-else-if\" ladders\n",
    "\n",
    "**Nota** Esta no es la mejor forma de diseñar este programa y lo mejor sería hacerlo con una \"hash table\"(o diccionario) o una tabla catalogo en una base de datos pero sirve para ejemplificar una \"escalera de if-else-if\" además que \"hash tables\" es algo que no hemos discutido y veremos mas adelante\n",
    "\n",
    "### \"ShortHand if\"\n",
    "\n",
    "Aun cuando dijimos que \"if\", \"elif\" y \"else\" son las bases para crear condicionales en Python , existe una alternativa abreviada al \"if\" e \"if-else\" que nos ayuda en muchos casos a mejorar la legibilidad de nuestros programas y reducirlos a una versión \"corta\" de una sola linea, esta se conoce como **short hand if** y tiene la forma\n",
    "\n",
    "< accion A > if < condición > else < acción B>\n",
    "\n",
    "Esta versión es útil cuando queremos realizar una única acción como resultado de la evaluación de condición en lugar de un bloque de múltiples acciones"
   ]
  },
  {
   "cell_type": "code",
   "metadata": {
    "id": "yZG-akTJ2D6q",
    "colab": {
     "base_uri": "https://localhost:8080/"
    },
    "executionInfo": {
     "status": "ok",
     "timestamp": 1644456805392,
     "user_tz": 360,
     "elapsed": 66,
     "user": {
      "displayName": "Luis Fernando Leal Hernandez",
      "photoUrl": "https://lh3.googleusercontent.com/a/default-user=s64",
      "userId": "08643725771405988586"
     }
    },
    "outputId": "7790e1ba-2422-4184-8895-e83ddb30da91"
   },
   "source": [
    "print(\"A\") if 2 > 5 else print(\"B\")"
   ],
   "execution_count": 10,
   "outputs": [
    {
     "output_type": "stream",
     "name": "stdout",
     "text": [
      "B\n"
     ]
    }
   ]
  },
  {
   "cell_type": "code",
   "source": [
    "if 2 > 5:\n",
    "  print(\"A\")\n",
    "else:\n",
    "  print(\"B\")"
   ],
   "metadata": {
    "id": "JBsnFvdNZqW1",
    "colab": {
     "base_uri": "https://localhost:8080/"
    },
    "executionInfo": {
     "status": "ok",
     "timestamp": 1644456805393,
     "user_tz": 360,
     "elapsed": 62,
     "user": {
      "displayName": "Luis Fernando Leal Hernandez",
      "photoUrl": "https://lh3.googleusercontent.com/a/default-user=s64",
      "userId": "08643725771405988586"
     }
    },
    "outputId": "a9fb47f4-1ae5-43ad-f48b-ca5c6e6f3600"
   },
   "execution_count": 11,
   "outputs": [
    {
     "output_type": "stream",
     "name": "stdout",
     "text": [
      "B\n"
     ]
    }
   ]
  },
  {
   "cell_type": "markdown",
   "metadata": {
    "id": "sbOx05AJ2D6q"
   },
   "source": [
    "Un escenario muy común para el **\"Short Hand If\"** ocurre cuando se desea asignar a una variable un valor en función de evaluar una condición, teniendo un posible valor cuando la condición es verdadera y otro posible valor cuando es falsa. Esto quedará mas claro con un ejemplo que muestra la versión \"convencional\" y su equivalente con **\"short hand if\"**"
   ]
  },
  {
   "cell_type": "code",
   "metadata": {
    "id": "u2HJzcO92D6r",
    "executionInfo": {
     "status": "ok",
     "timestamp": 1644456805394,
     "user_tz": 360,
     "elapsed": 58,
     "user": {
      "displayName": "Luis Fernando Leal Hernandez",
      "photoUrl": "https://lh3.googleusercontent.com/a/default-user=s64",
      "userId": "08643725771405988586"
     }
    }
   },
   "source": [
    "x = 10\n",
    "\n",
    "f = 2*x + 1 # f(x)\n",
    "g = 5*x + 7 # g(x)"
   ],
   "execution_count": 12,
   "outputs": []
  },
  {
   "cell_type": "code",
   "metadata": {
    "id": "oO9i1PbP2D6r",
    "colab": {
     "base_uri": "https://localhost:8080/"
    },
    "executionInfo": {
     "status": "ok",
     "timestamp": 1644456805395,
     "user_tz": 360,
     "elapsed": 58,
     "user": {
      "displayName": "Luis Fernando Leal Hernandez",
      "photoUrl": "https://lh3.googleusercontent.com/a/default-user=s64",
      "userId": "08643725771405988586"
     }
    },
    "outputId": "82b8a902-e943-44ee-8432-03e727d6d85f"
   },
   "source": [
    "if x >= 0:\n",
    "    y = f\n",
    "else:\n",
    "    y = g\n",
    "    \n",
    "print(y)"
   ],
   "execution_count": 13,
   "outputs": [
    {
     "output_type": "stream",
     "name": "stdout",
     "text": [
      "21\n"
     ]
    }
   ]
  },
  {
   "cell_type": "code",
   "metadata": {
    "id": "MDyKGdd02D6s",
    "colab": {
     "base_uri": "https://localhost:8080/"
    },
    "executionInfo": {
     "status": "ok",
     "timestamp": 1644456805397,
     "user_tz": 360,
     "elapsed": 55,
     "user": {
      "displayName": "Luis Fernando Leal Hernandez",
      "photoUrl": "https://lh3.googleusercontent.com/a/default-user=s64",
      "userId": "08643725771405988586"
     }
    },
    "outputId": "3dd8e3e3-5002-49eb-8dbe-039046f7474e"
   },
   "source": [
    "y = f if x >= 0 else g\n",
    "print(y)\n"
   ],
   "execution_count": 14,
   "outputs": [
    {
     "output_type": "stream",
     "name": "stdout",
     "text": [
      "21\n"
     ]
    }
   ]
  },
  {
   "cell_type": "markdown",
   "metadata": {
    "id": "H-I46bOq2D6t"
   },
   "source": [
    "## Ciclos \n",
    "\n",
    "Ya hemos visto \"condicionales\" que nos permiten alterar el flujo de un programa basado en condiciones que pueden o no cumplirse, la otra manera de alterar el flujo de un programa es a través de estructuras ciclicas que nos permiten ejecutar iterativamente un bloque de código. Por ejemplo:\n",
    "\n",
    "* Muchas veces necesitamos ejecutar la misma operación sobre una colección de objetos\n",
    "* En computación científica muchos métodos numéricos se basan en la ejecución iterativa de cierto proceso, por ejemplo:\n",
    "\n",
    "    * una simulación de Monte Carlo consiste en realizar un muestreo/sampleo aleatoriamente muchas veces y luego analizar el resultado esperado en cierto proceso.\n",
    "    * En Machine Learning un \"epoch\" consite en una \"pasada\" completa por todo el set de datos de entrenamiento , pero el proceso de entrenamiento consiste en muchos \"epochs\" lo cual significa muchas iteraciones sobre el set de datos.\n",
    "    * En reinforcement Learning un \"episodio\" consiste en un agente interactuando en un ambiente de un estado inicial a un estado final,  pero el algoritmo consiste en muchos episodios lo cual implica una tarea repetiva donde cada iteración es un episodio.\n",
    "    \n",
    "En Python los ciclos se basan en 2 sentencias:\n",
    "* **while**: el bloque de código asociado al while se ejecuta siempre y cuando una condición dada sea verdadera , esta condición es muy parecida a la vista en la sección de concionales (if) y puede ser cualquier expresión booleana válida(expresiones relacionales, lógicas y valores booleanos)\n",
    "* **for**: a diferencia de otros lenguajes en donde el for también esta basado en una condición dada, en Python el for es utilizado para recorrer todos los elementos de una colección de objetos  uno a uno(o bien un número de veces N predefinido), por lo cual profundizaremos en el \"for\" hasta que hayamos visto colecciones,contenedores y estructuras de datos.\n",
    "\n",
    "Con while y for tenemos la base para operaciones ciclicas en Python , pero existen otras sentencias que pueden llegar a resultar útiles en algunos casos y que también se encuentran en muchos otros lenguajes de programación:\n",
    "\n",
    "* **break** : nos permite salir por completo de un ciclo, aplica tanto para \"for\" como para \"while\" y provoca que la ejecución del ciclo se \"rompa\"  y el programa continue su ejecución en la instrucción que sigue al ciclo.\n",
    "* **continue**: nos permite saltarnos una iteración del ciclo ignorando para esa iteración el código restante del ciclo pero sin salirse completamente y empezando la próxima iteracion inmediatamente,aplica tanto para \"for\" como para \"while\".\n",
    "\n",
    "### while\n",
    "\n",
    "Muchos libros y tutoriales de programación empiezan comunmente con \"for\", pero debido a que en Python for esta orientado a recorrer colecciones de objetos y aún no hemos visto colecciones, empezaremos con \"while\" que tienen una sintaxis parecida a \"if\".\n",
    "\n",
    "Los ciclos while son usados para repetir secciones de código basado en el valor de cierta condición , es decir, que los usaremos para ejecutar repetidamente bloques de código \"MIENTRAS\" que cierta condición sea verdadera.\n",
    "\n",
    "La sintáxis de while de manera general tiene la forma:\n",
    "\n",
    "< bloque antes >\n",
    "\n",
    "while < expresion booleana >:\n",
    "\n",
    "    < bloque 1>\n",
    "    \n",
    "< bloque despues >\n",
    "\n",
    "Donde:\n",
    "* < bloque antes > : hace referencia a cualquier sentencia de código antes de el ciclo while\n",
    "* < expresion booleana > : es cualquier expresión valida cuyo resultado sea un valor booleano (True o False)\n",
    "* < bloque 1 > : es cualquier bloque de código(1 o mas sentencias) que queremos ejecutar repetidamente MIENTRAS la condición sea True\n",
    "* < bloque despues >: hace referencia a el código a ejecutarse luego de que el ciclo while haya terminado de ejecutarse."
   ]
  },
  {
   "cell_type": "markdown",
   "metadata": {
    "id": "kuNNoIRc2D6t"
   },
   "source": [
    "**Ejemplo**: Un programa debe escribir (print) en pantalla los números del 1 a N ,donde N será el limite máximo a mostrar."
   ]
  },
  {
   "cell_type": "code",
   "metadata": {
    "id": "UvQhjdPw2D6x",
    "colab": {
     "base_uri": "https://localhost:8080/"
    },
    "executionInfo": {
     "status": "ok",
     "timestamp": 1644456805398,
     "user_tz": 360,
     "elapsed": 51,
     "user": {
      "displayName": "Luis Fernando Leal Hernandez",
      "photoUrl": "https://lh3.googleusercontent.com/a/default-user=s64",
      "userId": "08643725771405988586"
     }
    },
    "outputId": "d35b9978-3943-4514-fe7b-619be1f2270a"
   },
   "source": [
    "numero = 1\n",
    "N = 3\n",
    "\n",
    "while numero <= N:\n",
    "    print(numero)\n",
    "    numero+=1 #equivalente a numero = numero +1\n",
    "    \n",
    "print(\"luego de while\")"
   ],
   "execution_count": 15,
   "outputs": [
    {
     "output_type": "stream",
     "name": "stdout",
     "text": [
      "1\n",
      "2\n",
      "3\n",
      "luego de while\n"
     ]
    }
   ]
  },
  {
   "cell_type": "markdown",
   "metadata": {
    "id": "IaRm-42x2D6z"
   },
   "source": [
    "**Ejemplo** Un programa debe escribir (print) en pantalla los números pares del 1 a N ,donde N será el limite máximo a mostrar."
   ]
  },
  {
   "cell_type": "code",
   "metadata": {
    "id": "rzh5FjTg2D6z",
    "colab": {
     "base_uri": "https://localhost:8080/"
    },
    "executionInfo": {
     "status": "ok",
     "timestamp": 1644456805399,
     "user_tz": 360,
     "elapsed": 39,
     "user": {
      "displayName": "Luis Fernando Leal Hernandez",
      "photoUrl": "https://lh3.googleusercontent.com/a/default-user=s64",
      "userId": "08643725771405988586"
     }
    },
    "outputId": "3b56984b-39d7-44f7-c0cd-eedc0da722dd"
   },
   "source": [
    "numero = 2 \n",
    "N = 10\n",
    "\n",
    "while numero <= N:\n",
    "    print(numero)\n",
    "    numero+=2 #equivalente a numero = numero +2"
   ],
   "execution_count": 16,
   "outputs": [
    {
     "output_type": "stream",
     "name": "stdout",
     "text": [
      "2\n",
      "4\n",
      "6\n",
      "8\n",
      "10\n"
     ]
    }
   ]
  },
  {
   "cell_type": "markdown",
   "metadata": {
    "id": "1H8TgL7A2D60"
   },
   "source": [
    "**Nota** Existen muchas formas de lograr el mismo resultado , pero algunas son mas eficientes y/o fáciles de entender(consideradas mejores que  otras)"
   ]
  },
  {
   "cell_type": "code",
   "metadata": {
    "id": "GoznbNN42D60",
    "colab": {
     "base_uri": "https://localhost:8080/"
    },
    "executionInfo": {
     "status": "ok",
     "timestamp": 1644456805400,
     "user_tz": 360,
     "elapsed": 35,
     "user": {
      "displayName": "Luis Fernando Leal Hernandez",
      "photoUrl": "https://lh3.googleusercontent.com/a/default-user=s64",
      "userId": "08643725771405988586"
     }
    },
    "outputId": "f02059e0-13ad-4df6-d756-d84e74ee706a"
   },
   "source": [
    "numero = 2\n",
    "N = 10\n",
    "repetir = True\n",
    "\n",
    "while repetir:\n",
    "    if numero > N :\n",
    "        repetir = False\n",
    "    else:\n",
    "        print(numero)\n",
    "    \n",
    "    numero = numero +2\n"
   ],
   "execution_count": 17,
   "outputs": [
    {
     "output_type": "stream",
     "name": "stdout",
     "text": [
      "2\n",
      "4\n",
      "6\n",
      "8\n",
      "10\n"
     ]
    }
   ]
  },
  {
   "cell_type": "markdown",
   "metadata": {
    "id": "1ES27OGQ2D60"
   },
   "source": [
    "**Ejemplo** Una simulacion de monte carlo consiste en el sampleo/muestreo para dar valor a cierta variable perteneciente a un modelo para luego analizar el resultado o impacto que esta variable tiene en el modelo.\n",
    "\n",
    "Por ejemplo, necesitamos analizar  cual sera el valor maximo esperado de cierta variable \"y\" que es función de otra variable \"x\" a través del modelo :\n",
    "\n",
    "$$y = 2x + 3$$\n",
    "\n",
    "Bajo un proceso ya realizado se sabe que x es una variable aleatoria que se comporta de manera normal(gausianna) con una media de 5 y desviación estandar de 2"
   ]
  },
  {
   "cell_type": "markdown",
   "metadata": {
    "id": "9Yn-aXjNtkja"
   },
   "source": [
    "import sys !conda install --yes --prefix {sys.prefix} matplotlib"
   ]
  },
  {
   "cell_type": "code",
   "metadata": {
    "id": "d50_IMly2D60",
    "executionInfo": {
     "status": "ok",
     "timestamp": 1644456805402,
     "user_tz": 360,
     "elapsed": 31,
     "user": {
      "displayName": "Luis Fernando Leal Hernandez",
      "photoUrl": "https://lh3.googleusercontent.com/a/default-user=s64",
      "userId": "08643725771405988586"
     }
    }
   },
   "source": [
    "from matplotlib import pyplot as plt #visualizar datos\n",
    "import numpy as np #numeric python"
   ],
   "execution_count": 18,
   "outputs": []
  },
  {
   "cell_type": "code",
   "metadata": {
    "id": "wtoFi6An2D61",
    "colab": {
     "base_uri": "https://localhost:8080/",
     "height": 264
    },
    "executionInfo": {
     "status": "ok",
     "timestamp": 1644456805797,
     "user_tz": 360,
     "elapsed": 425,
     "user": {
      "displayName": "Luis Fernando Leal Hernandez",
      "photoUrl": "https://lh3.googleusercontent.com/a/default-user=s64",
      "userId": "08643725771405988586"
     }
    },
    "outputId": "6a92e4a7-61c8-4e28-8eb2-1e02eed7e971"
   },
   "source": [
    "data = np.random.normal(size=1000000,loc=5,scale=2)\n",
    "\n",
    "plt.hist(data,bins=20)\n",
    "plt.show()"
   ],
   "execution_count": 19,
   "outputs": [
    {
     "output_type": "display_data",
     "data": {
      "image/png": "[encoded data removed]",
      "text/plain": [
       "<Figure size 432x288 with 1 Axes>"
      ]
     },
     "metadata": {
      "needs_background": "light"
     }
    }
   ]
  },
  {
   "cell_type": "code",
   "metadata": {
    "id": "eCTf69zt2D61",
    "colab": {
     "base_uri": "https://localhost:8080/",
     "height": 374
    },
    "executionInfo": {
     "status": "error",
     "timestamp": 1644456955241,
     "user_tz": 360,
     "elapsed": 149451,
     "user": {
      "displayName": "Luis Fernando Leal Hernandez",
      "photoUrl": "https://lh3.googleusercontent.com/a/default-user=s64",
      "userId": "08643725771405988586"
     }
    },
    "outputId": "a0ed5462-b887-4776-b26d-dc126228b83f"
   },
   "source": [
    "import random\n",
    "\n",
    "SIMULACIONES = 100000000\n",
    "iteracion = 1\n",
    "y_maximo = float(\"-inf\")\n",
    "y_minimo = float(\"inf\")\n",
    "ys_simulados = [] \n",
    "\n",
    "while iteracion <= SIMULACIONES:\n",
    "    x_simulado = random.gauss(5,2) # sampleo/muestreo de la variable x\n",
    "    y = 2*x_simulado + 3 #aplicar el modelo a la variable \"simulada\"\n",
    "    ys_simulados.append(y)\n",
    "    y_maximo = max(y_maximo,y) #en cada iteracion determinar el maximo encontrado\n",
    "    \n",
    "    iteracion +=1\n",
    "    \n",
    "print(\"El valor maximo de y es \",y_maximo)"
   ],
   "execution_count": 20,
   "outputs": [
    {
     "output_type": "error",
     "ename": "KeyboardInterrupt",
     "evalue": "ignored",
     "traceback": [
      "\u001B[0;31m---------------------------------------------------------------------------\u001B[0m",
      "\u001B[0;31mKeyboardInterrupt\u001B[0m                         Traceback (most recent call last)",
      "\u001B[0;32m<ipython-input-20-342226ebc751>\u001B[0m in \u001B[0;36m<module>\u001B[0;34m()\u001B[0m\n\u001B[1;32m      8\u001B[0m \u001B[0;34m\u001B[0m\u001B[0m\n\u001B[1;32m      9\u001B[0m \u001B[0;32mwhile\u001B[0m \u001B[0miteracion\u001B[0m \u001B[0;34m<=\u001B[0m \u001B[0mSIMULACIONES\u001B[0m\u001B[0;34m:\u001B[0m\u001B[0;34m\u001B[0m\u001B[0;34m\u001B[0m\u001B[0m\n\u001B[0;32m---> 10\u001B[0;31m     \u001B[0mx_simulado\u001B[0m \u001B[0;34m=\u001B[0m \u001B[0mrandom\u001B[0m\u001B[0;34m.\u001B[0m\u001B[0mgauss\u001B[0m\u001B[0;34m(\u001B[0m\u001B[0;36m5\u001B[0m\u001B[0;34m,\u001B[0m\u001B[0;36m2\u001B[0m\u001B[0;34m)\u001B[0m \u001B[0;31m# sampleo/muestreo de la variable x\u001B[0m\u001B[0;34m\u001B[0m\u001B[0;34m\u001B[0m\u001B[0m\n\u001B[0m\u001B[1;32m     11\u001B[0m     \u001B[0my\u001B[0m \u001B[0;34m=\u001B[0m \u001B[0;36m2\u001B[0m\u001B[0;34m*\u001B[0m\u001B[0mx_simulado\u001B[0m \u001B[0;34m+\u001B[0m \u001B[0;36m3\u001B[0m \u001B[0;31m#aplicar el modelo a la variable \"simulada\"\u001B[0m\u001B[0;34m\u001B[0m\u001B[0;34m\u001B[0m\u001B[0m\n\u001B[1;32m     12\u001B[0m     \u001B[0mys_simulados\u001B[0m\u001B[0;34m.\u001B[0m\u001B[0mappend\u001B[0m\u001B[0;34m(\u001B[0m\u001B[0my\u001B[0m\u001B[0;34m)\u001B[0m\u001B[0;34m\u001B[0m\u001B[0;34m\u001B[0m\u001B[0m\n",
      "\u001B[0;32m/usr/lib/python3.7/random.py\u001B[0m in \u001B[0;36mgauss\u001B[0;34m(self, mu, sigma)\u001B[0m\n\u001B[1;32m    604\u001B[0m         \u001B[0mrandom\u001B[0m \u001B[0;34m=\u001B[0m \u001B[0mself\u001B[0m\u001B[0;34m.\u001B[0m\u001B[0mrandom\u001B[0m\u001B[0;34m\u001B[0m\u001B[0;34m\u001B[0m\u001B[0m\n\u001B[1;32m    605\u001B[0m         \u001B[0mz\u001B[0m \u001B[0;34m=\u001B[0m \u001B[0mself\u001B[0m\u001B[0;34m.\u001B[0m\u001B[0mgauss_next\u001B[0m\u001B[0;34m\u001B[0m\u001B[0;34m\u001B[0m\u001B[0m\n\u001B[0;32m--> 606\u001B[0;31m         \u001B[0mself\u001B[0m\u001B[0;34m.\u001B[0m\u001B[0mgauss_next\u001B[0m \u001B[0;34m=\u001B[0m \u001B[0;32mNone\u001B[0m\u001B[0;34m\u001B[0m\u001B[0;34m\u001B[0m\u001B[0m\n\u001B[0m\u001B[1;32m    607\u001B[0m         \u001B[0;32mif\u001B[0m \u001B[0mz\u001B[0m \u001B[0;32mis\u001B[0m \u001B[0;32mNone\u001B[0m\u001B[0;34m:\u001B[0m\u001B[0;34m\u001B[0m\u001B[0;34m\u001B[0m\u001B[0m\n\u001B[1;32m    608\u001B[0m             \u001B[0mx2pi\u001B[0m \u001B[0;34m=\u001B[0m \u001B[0mrandom\u001B[0m\u001B[0;34m(\u001B[0m\u001B[0;34m)\u001B[0m \u001B[0;34m*\u001B[0m \u001B[0mTWOPI\u001B[0m\u001B[0;34m\u001B[0m\u001B[0;34m\u001B[0m\u001B[0m\n",
      "\u001B[0;31mKeyboardInterrupt\u001B[0m: "
     ]
    }
   ]
  },
  {
   "cell_type": "code",
   "source": [
    ""
   ],
   "metadata": {
    "id": "psXS9aN8iGQZ",
    "executionInfo": {
     "status": "aborted",
     "timestamp": 1644456955217,
     "user_tz": 360,
     "elapsed": 826,
     "user": {
      "displayName": "Luis Fernando Leal Hernandez",
      "photoUrl": "https://lh3.googleusercontent.com/a/default-user=s64",
      "userId": "08643725771405988586"
     }
    }
   },
   "execution_count": null,
   "outputs": []
  },
  {
   "cell_type": "code",
   "metadata": {
    "id": "m_fHCqUT2D61",
    "executionInfo": {
     "status": "aborted",
     "timestamp": 1644456955220,
     "user_tz": 360,
     "elapsed": 829,
     "user": {
      "displayName": "Luis Fernando Leal Hernandez",
      "photoUrl": "https://lh3.googleusercontent.com/a/default-user=s64",
      "userId": "08643725771405988586"
     }
    }
   },
   "source": [
    "plt.hist(ys_simulados)\n",
    "plt.show()"
   ],
   "execution_count": null,
   "outputs": []
  },
  {
   "cell_type": "code",
   "metadata": {
    "id": "dGrzL7dDyOo2",
    "executionInfo": {
     "status": "aborted",
     "timestamp": 1644456955222,
     "user_tz": 360,
     "elapsed": 831,
     "user": {
      "displayName": "Luis Fernando Leal Hernandez",
      "photoUrl": "https://lh3.googleusercontent.com/a/default-user=s64",
      "userId": "08643725771405988586"
     }
    }
   },
   "source": [
    "SIMULACIONES = 1000000\n",
    "iteracion = 1\n",
    "y_maximo = float(\"-inf\")\n",
    "y_minimo = float(\"inf\")\n",
    "ys_simulados = [] \n",
    "suma_y = 0\n",
    "while iteracion <= SIMULACIONES:\n",
    "    x_simulado = random.gauss(5,2) # sampleo/muestreo de la variable x\n",
    "    y = 2*x_simulado + 3 #aplicar el modelo a la variable \"simulada\"\n",
    "    ys_simulados.append(y)\n",
    "    y_maximo = max(y_maximo,y) #en cada iteracion determinar el maximo encontrado\n",
    "    suma_y+=y\n",
    "    iteracion +=1\n",
    "    \n",
    "#print(\"El valor medio de y es \",sum(ys_simulados)/SIMULACIONES)\n",
    "print(\"El valor medio de y es \",suma_y/SIMULACIONES)"
   ],
   "execution_count": null,
   "outputs": []
  },
  {
   "cell_type": "markdown",
   "metadata": {
    "id": "nGDYliQi2D61"
   },
   "source": [
    "**Ejemplo** En machine learning, el tipo mas comun llamado \"supervisado\" consiste en utilizar un set de datos llamado \"de entrenamiento\" para encontrar una función que aproxime la relación entre una o varias variables independientes x a una variable dependiente y a traves de un proceso de optimización llamado \"entrenamiento\", en este proceso de entrenamiento ejecutados en repetidas ocasiones el proceos de optimización sobre el mismo set de datos,  a cada \"pasada\" por el set de datos se le conoce como \"epoch\"."
   ]
  },
  {
   "cell_type": "code",
   "metadata": {
    "id": "vWtIxPqM2D61",
    "executionInfo": {
     "status": "aborted",
     "timestamp": 1644456955223,
     "user_tz": 360,
     "elapsed": 832,
     "user": {
      "displayName": "Luis Fernando Leal Hernandez",
      "photoUrl": "https://lh3.googleusercontent.com/a/default-user=s64",
      "userId": "08643725771405988586"
     }
    }
   },
   "source": [
    "def entrenar(x,y):\n",
    "    pass # por ahora no hace nada"
   ],
   "execution_count": null,
   "outputs": []
  },
  {
   "cell_type": "code",
   "metadata": {
    "id": "oMZL4FCWzuOe",
    "executionInfo": {
     "status": "aborted",
     "timestamp": 1644456955224,
     "user_tz": 360,
     "elapsed": 833,
     "user": {
      "displayName": "Luis Fernando Leal Hernandez",
      "photoUrl": "https://lh3.googleusercontent.com/a/default-user=s64",
      "userId": "08643725771405988586"
     }
    }
   },
   "source": [
    "def visualizar_datos(datos=[]):\n",
    "  pass"
   ],
   "execution_count": null,
   "outputs": []
  },
  {
   "cell_type": "code",
   "metadata": {
    "id": "hq8xIr5O2D62",
    "executionInfo": {
     "status": "aborted",
     "timestamp": 1644456955234,
     "user_tz": 360,
     "elapsed": 843,
     "user": {
      "displayName": "Luis Fernando Leal Hernandez",
      "photoUrl": "https://lh3.googleusercontent.com/a/default-user=s64",
      "userId": "08643725771405988586"
     }
    }
   },
   "source": [
    "x = 1\n",
    "y = 2\n",
    "\n",
    "EPOCHS = 25\n",
    "epoch = 1\n",
    "\n",
    "while epoch <= EPOCHS: # episodio <= EPISODIOS\n",
    "    entrenar(x,y)\n",
    "    \n",
    "    if epoch % 5 == 0:\n",
    "        print(\"Terminando epoch :\",epoch)\n",
    "        \n",
    "    epoch+=1\n",
    "    \n",
    "print(\"Se ha terminado el proceso de entrenamiento\")"
   ],
   "execution_count": null,
   "outputs": []
  },
  {
   "cell_type": "markdown",
   "metadata": {
    "id": "Bv6kTSWf2D62"
   },
   "source": [
    "#### break\n",
    "\n",
    "La sentencia break nos permite salir de el código perteneciente al while(y veremos que también del for)  de manera inmediata sin necesidad de esperar a evaluar que la condición de salida sea falsa.Algunos llaman a esto \"terminación prematura\"\n",
    "\n",
    "**Ejemplo** en el siguiente ejemplo el ciclo se termina desde la primera iteración aún cuando su condición de salida esta diseñada para ejecutar el ciclo 10 veces."
   ]
  },
  {
   "cell_type": "code",
   "metadata": {
    "id": "3TpAZwpz2D62",
    "executionInfo": {
     "status": "aborted",
     "timestamp": 1644456955235,
     "user_tz": 360,
     "elapsed": 843,
     "user": {
      "displayName": "Luis Fernando Leal Hernandez",
      "photoUrl": "https://lh3.googleusercontent.com/a/default-user=s64",
      "userId": "08643725771405988586"
     }
    }
   },
   "source": [
    "numero = 1\n",
    "N = 10\n",
    "\n",
    "while numero <= N:\n",
    "    print(numero)\n",
    "    numero+=1 #equivalente a numero = numero +1\n",
    "    \n",
    "    break\n",
    "    \n",
    "    \n",
    "print(\"ya\")"
   ],
   "execution_count": null,
   "outputs": []
  },
  {
   "cell_type": "markdown",
   "metadata": {
    "id": "ZtyBueHc2D62"
   },
   "source": [
    "**Ejemplo** en el siguiente ejemplo el ciclo se termina luego de que se han impreso 2 números ignorando que la condición del ciclo es terminar luego de 10 iteraciones."
   ]
  },
  {
   "cell_type": "code",
   "metadata": {
    "id": "T32UDiEY2D62",
    "executionInfo": {
     "status": "aborted",
     "timestamp": 1644456955237,
     "user_tz": 360,
     "elapsed": 844,
     "user": {
      "displayName": "Luis Fernando Leal Hernandez",
      "photoUrl": "https://lh3.googleusercontent.com/a/default-user=s64",
      "userId": "08643725771405988586"
     }
    }
   },
   "source": [
    "numero = 1\n",
    "N = 10\n",
    "\n",
    "while numero <= N:\n",
    "    print(numero)\n",
    "    \n",
    "    if numero == 2:\n",
    "        break\n",
    "        \n",
    "    numero+=1 #equivalente a numero = numero +1\n",
    "    "
   ],
   "execution_count": null,
   "outputs": []
  },
  {
   "cell_type": "markdown",
   "metadata": {
    "id": "UjH9mgzR2D63"
   },
   "source": [
    "**Ejemplo** En el siguiente ejemplo, tenemos las dimensiones de una matriz y queremos imprimir las coordenadas de un elemento dado luego de haber recorrido N elementos en la matriz(aún no hemos visto matrices por lo cual solo haremos la lógica básica y ya que no necesitamos el valor del elemento en la matrix solo sus coordenadas, podemos hacerlo aún sin tener la matríx).\n",
    "\n",
    "Para este ejemplo veremos \"anidamiento\", tendremos un ciclo anidado en otro ciclo."
   ]
  },
  {
   "cell_type": "markdown",
   "metadata": {
    "id": "cQmi0cd42cbl"
   },
   "source": [
    "<img src=\"https://totumat.files.wordpress.com/2020/06/image-109.png?w=726\">"
   ]
  },
  {
   "cell_type": "code",
   "metadata": {
    "id": "qJc-OWST2D63",
    "executionInfo": {
     "status": "aborted",
     "timestamp": 1644456955238,
     "user_tz": 360,
     "elapsed": 845,
     "user": {
      "displayName": "Luis Fernando Leal Hernandez",
      "photoUrl": "https://lh3.googleusercontent.com/a/default-user=s64",
      "userId": "08643725771405988586"
     }
    }
   },
   "source": [
    "filas = 5\n",
    "columnas = 5\n",
    "\n",
    "N = 6\n",
    "\n",
    "recorridos = 1\n",
    "encontrado = False\n",
    "\n",
    "i = 0\n",
    "while i < filas:\n",
    "    j = 0\n",
    "    while j < columnas:\n",
    "        if recorridos == N :\n",
    "            print(\"Fila\",i,\"columna\",j)\n",
    "            encontrado = True\n",
    "            break  \n",
    "        j+=1\n",
    "        recorridos+=1\n",
    "\n",
    "    if encontrado:\n",
    "      break\n",
    "\n",
    "    i+=1"
   ],
   "execution_count": null,
   "outputs": []
  },
  {
   "cell_type": "markdown",
   "metadata": {
    "id": "9G4owpk52D63"
   },
   "source": [
    "#### continue\n",
    "\n",
    "Nos permite terminar prematuramente una iteracion de un ciclo e ir a la evaluacion de la condicion del mismo para ver si se ejecuta una nueva iteracion(en caso de ser verdadero) ,de manera intuitiva nos permite \"saltarnos\" el resto del codigo pero solo para la iteracion en curso\n",
    "\n",
    "**ejemplo** El siguiente programa utiliza **continue** para \"saltarse\" la instruccion print cuando el  valor del contador del ciclo es un numero par."
   ]
  },
  {
   "cell_type": "code",
   "metadata": {
    "id": "XddwdCe62D63",
    "executionInfo": {
     "status": "aborted",
     "timestamp": 1644456955238,
     "user_tz": 360,
     "elapsed": 845,
     "user": {
      "displayName": "Luis Fernando Leal Hernandez",
      "photoUrl": "https://lh3.googleusercontent.com/a/default-user=s64",
      "userId": "08643725771405988586"
     }
    }
   },
   "source": [
    "i = 1\n",
    "N = 15\n",
    "\n",
    "while i<=N:\n",
    "    if i%2 == 0:\n",
    "        i+=1\n",
    "        continue\n",
    "    # ignorado si i es par\n",
    "    print(i)\n",
    "    i+=1\n",
    "    "
   ],
   "execution_count": null,
   "outputs": []
  },
  {
   "cell_type": "markdown",
   "metadata": {
    "id": "xrQ3wCNy2D63"
   },
   "source": [
    "**ejemplo** en ciencia de datos, en machine learning es comun \"evaluar\" nuestros algoritmos en un dataset de pruebas o evaluacion cada cierto numero N definido de iteraciones(o EPOCHS) pero no en cada iteracion ya que es una operacion computacionalmente costosa,en este ejemplo usamos \"continue\" para \"saltarnos\" (ignorar) la evaluacion salvo para algunas iteraciones."
   ]
  },
  {
   "cell_type": "code",
   "metadata": {
    "id": "LciAyi102D64",
    "executionInfo": {
     "status": "ok",
     "timestamp": 1644458410224,
     "user_tz": 360,
     "elapsed": 418,
     "user": {
      "displayName": "Luis Fernando Leal Hernandez",
      "photoUrl": "https://lh3.googleusercontent.com/a/default-user=s64",
      "userId": "08643725771405988586"
     }
    }
   },
   "source": [
    "def entrenar(x,y):\n",
    "    pass # por ahora no hace nada\n",
    "\n",
    "\n",
    "def evaluar(x,y,epoch):\n",
    "    print(\"evaluando modelo ,epoch: \",epoch)\n",
    "    pass # por ahora no hace nada"
   ],
   "execution_count": 35,
   "outputs": []
  },
  {
   "cell_type": "code",
   "metadata": {
    "id": "CsSlw2f82D64",
    "executionInfo": {
     "status": "aborted",
     "timestamp": 1644456955239,
     "user_tz": 360,
     "elapsed": 845,
     "user": {
      "displayName": "Luis Fernando Leal Hernandez",
      "photoUrl": "https://lh3.googleusercontent.com/a/default-user=s64",
      "userId": "08643725771405988586"
     }
    }
   },
   "source": [
    "EPOCHS = 100\n",
    "N = 10\n",
    "epoch = 0\n",
    "\n",
    "x_train = 1\n",
    "y_train = 2\n",
    "\n",
    "x_eval = 1\n",
    "y_eval = 2\n",
    "\n",
    "while epoch <= EPOCHS:\n",
    "    epoch+=1\n",
    "    \n",
    "    entrenar(x_train,y_train)\n",
    "    \n",
    "    if epoch % N != 0:\n",
    "        continue\n",
    "        \n",
    "    evaluar(x_eval,y_eval,epoch)"
   ],
   "execution_count": null,
   "outputs": []
  },
  {
   "cell_type": "code",
   "source": [
    "EPOCHS = 100\n",
    "N = 10\n",
    "epoch = 0\n",
    "\n",
    "x_train = 1\n",
    "y_train = 2\n",
    "\n",
    "x_eval = 1\n",
    "y_eval = 2\n",
    "\n",
    "while epoch <= EPOCHS:\n",
    "    epoch+=1\n",
    "    \n",
    "    entrenar(x_train,y_train)\n",
    "    \n",
    "    if epoch % N == 0:\n",
    "        evaluar(x_eval,y_eval,epoch)\n",
    "        \n",
    "    "
   ],
   "metadata": {
    "id": "zMcXAJDZJmja",
    "executionInfo": {
     "status": "aborted",
     "timestamp": 1644456955239,
     "user_tz": 360,
     "elapsed": 844,
     "user": {
      "displayName": "Luis Fernando Leal Hernandez",
      "photoUrl": "https://lh3.googleusercontent.com/a/default-user=s64",
      "userId": "08643725771405988586"
     }
    }
   },
   "execution_count": null,
   "outputs": []
  },
  {
   "cell_type": "markdown",
   "metadata": {
    "id": "Xzwv5Uay2D64"
   },
   "source": [
    "### for\n",
    "\n",
    "Uno de los ciclos mas conocidos y comunes entre los lenguajes de programacion , en C y hererados tambien utiliza una condicion booleana\n",
    "como criterio para definir la cantidad de iteraciones a realizar, en Python no utiliza una condicion booleana si no que itera\n",
    "sobre una coleccion de elementos por lo cual veremos mas ejemplos cuando veamos colecciones.\n",
    "\n",
    "En Python para ciencia de datos \"for\" es muy utilizado ya que es muy comun iterar sobre colecciones de elementos  para evaluar ciertos datos o realizar operaciones sobre estos. \n",
    "\n",
    "Su sintaxis tiene la forma general\n",
    "\n",
    "< bloque antes >\n",
    "\n",
    "for < iterador > in < iterable >:\n",
    "\n",
    "    < bloque 1>\n",
    "    \n",
    "< bloque despues >\n",
    "\n",
    "Donde:\n",
    "* < bloque antes > : hace referencia a cualquier sentencia de código antes de el ciclo for\n",
    "* < iterable > : cualquier coleccion de objetos (llamados tambien contenedores en Python)\n",
    "* < iterador > : es un objeto que sera utilizado para acceder a los elementos de la coleccion de objetos uno a uno, ya sea el objeto en si , un valor numerico indicando su posicion en la coleccion o ambos.\n",
    "* < bloque 1 > : es cualquier bloque de código(1 o mas sentencias) que queremos ejecutar repetidamente una vez por cada elemento de la coleccion(iterable) y puede o no incluir operaciones sobre el objeto (iterador)\n",
    "* < bloque despues >: hace referencia a el código a ejecutarse luego de que el ciclo while haya terminado de ejecutarse.\n",
    "\n",
    "Aun no hemos visto colecciones por lo cual usaremos ejemplo unicamente del tipo mas sencillo: **listas** \n",
    "\n",
    "**ejemplo** En el siguiente ejemplo recorremos(iteramos) una lista de carnets y simplemente los imprimimos con \"print\""
   ]
  },
  {
   "cell_type": "code",
   "metadata": {
    "id": "bvm9TVrG2D64",
    "colab": {
     "base_uri": "https://localhost:8080/"
    },
    "executionInfo": {
     "status": "ok",
     "timestamp": 1644287673176,
     "user_tz": 360,
     "elapsed": 268,
     "user": {
      "displayName": "Luis Fernando Leal Hernandez",
      "photoUrl": "https://lh3.googleusercontent.com/a/default-user=s64",
      "userId": "08643725771405988586"
     }
    },
    "outputId": "f6c2888f-430b-4797-bde1-4e37eb06708b"
   },
   "source": [
    "carnets = [123,124,125,126]\n",
    "\n",
    "for carnet in carnets: #foreach\n",
    "    print(carnet)"
   ],
   "execution_count": 41,
   "outputs": [
    {
     "output_type": "stream",
     "name": "stdout",
     "text": [
      "123\n",
      "124\n",
      "125\n",
      "126\n"
     ]
    }
   ]
  },
  {
   "cell_type": "markdown",
   "metadata": {
    "id": "VtssWJIv2D65"
   },
   "source": [
    "**nota** el \"iterador\" sobreescribe cualquier variable previa con el mismo nombre\n"
   ]
  },
  {
   "cell_type": "code",
   "metadata": {
    "id": "8JGuxosy2D66",
    "colab": {
     "base_uri": "https://localhost:8080/"
    },
    "executionInfo": {
     "status": "ok",
     "timestamp": 1644456975712,
     "user_tz": 360,
     "elapsed": 326,
     "user": {
      "displayName": "Luis Fernando Leal Hernandez",
      "photoUrl": "https://lh3.googleusercontent.com/a/default-user=s64",
      "userId": "08643725771405988586"
     }
    },
    "outputId": "b27a856f-770f-4346-8cd8-41a2fcad5ab3"
   },
   "source": [
    "carnets = [123,124,125,126]\n",
    "carnet = \"5555\"\n",
    "\n",
    "for carnet in carnets:\n",
    "    print(carnet)\n",
    "    \n",
    "print(carnet)"
   ],
   "execution_count": 21,
   "outputs": [
    {
     "output_type": "stream",
     "name": "stdout",
     "text": [
      "123\n",
      "124\n",
      "125\n",
      "126\n",
      "126\n"
     ]
    }
   ]
  },
  {
   "cell_type": "markdown",
   "metadata": {
    "id": "s_QVcW1y2D66"
   },
   "source": [
    "**Ejemplo con strings** Los objetos de tipo string pueden ser un \"iterable\" donde cada caracter de la secuencia es un \"iterador\""
   ]
  },
  {
   "cell_type": "code",
   "metadata": {
    "id": "m-uJJ2d52D66",
    "colab": {
     "base_uri": "https://localhost:8080/"
    },
    "executionInfo": {
     "status": "ok",
     "timestamp": 1644456986963,
     "user_tz": 360,
     "elapsed": 336,
     "user": {
      "displayName": "Luis Fernando Leal Hernandez",
      "photoUrl": "https://lh3.googleusercontent.com/a/default-user=s64",
      "userId": "08643725771405988586"
     }
    },
    "outputId": "bbfbe469-8cf5-4b5c-848b-b85eb7fd924f"
   },
   "source": [
    "for letra in \"Python\":\n",
    "    print(letra)\n",
    "    "
   ],
   "execution_count": 22,
   "outputs": [
    {
     "output_type": "stream",
     "name": "stdout",
     "text": [
      "P\n",
      "y\n",
      "t\n",
      "h\n",
      "o\n",
      "n\n"
     ]
    }
   ]
  },
  {
   "cell_type": "markdown",
   "metadata": {
    "id": "QbSa9tnx2D66"
   },
   "source": [
    "#### break y continue\n",
    "\n",
    "Tambien podemos usar break y continue en \"for\" y su significado es el mismo:\n",
    "* break: salirse prematuramente del ciclo de manera definitiva\n",
    "* continue: salirse prematuramente de una sola iteracion del ciclo"
   ]
  },
  {
   "cell_type": "markdown",
   "metadata": {
    "id": "qMz_FJyz2D67"
   },
   "source": [
    "**ejemplo** usaremos break en un programa que busca en numero de usuario en una lista de usuarios registrados y muestra si el usuario fue encontrado o no, y cuantos usuarios ha revisado"
   ]
  },
  {
   "cell_type": "code",
   "metadata": {
    "id": "FbrHjeP12D68",
    "colab": {
     "base_uri": "https://localhost:8080/"
    },
    "executionInfo": {
     "status": "ok",
     "timestamp": 1644457009862,
     "user_tz": 360,
     "elapsed": 333,
     "user": {
      "displayName": "Luis Fernando Leal Hernandez",
      "photoUrl": "https://lh3.googleusercontent.com/a/default-user=s64",
      "userId": "08643725771405988586"
     }
    },
    "outputId": "68eabc23-6dcf-4792-d485-2e56f19f9f3f"
   },
   "source": [
    "carnets = [123,124,125,126,1244,1265,\n",
    "           66511,12545,14578] #iterable\n",
    "buscado = 1244\n",
    "revisados = 0\n",
    "encontrado = False\n",
    "\n",
    "for carnet in carnets: #carnet es el iterador\n",
    "    #revisados+=1\n",
    "    revisados = revisados + 1\n",
    "    if buscado == carnet:\n",
    "        encontrado = True\n",
    "        break\n",
    "        \n",
    "print(\"Encontrado:\", encontrado,\",revisados:\", revisados)"
   ],
   "execution_count": 23,
   "outputs": [
    {
     "output_type": "stream",
     "name": "stdout",
     "text": [
      "Encontrado: True ,revisados: 5\n"
     ]
    }
   ]
  },
  {
   "cell_type": "markdown",
   "metadata": {
    "id": "nzzsSHIX2D69"
   },
   "source": [
    "**ejemplo** el siguiente programa \"itera\" sobre las letras de el string \"Python\" imprimiendolas una a una,pero utiliza \"continue\" para ignorar el codigo  en casos donde la letra es \"e\""
   ]
  },
  {
   "cell_type": "code",
   "metadata": {
    "id": "oua0ckh_2D6-",
    "colab": {
     "base_uri": "https://localhost:8080/"
    },
    "executionInfo": {
     "status": "ok",
     "timestamp": 1644457014881,
     "user_tz": 360,
     "elapsed": 306,
     "user": {
      "displayName": "Luis Fernando Leal Hernandez",
      "photoUrl": "https://lh3.googleusercontent.com/a/default-user=s64",
      "userId": "08643725771405988586"
     }
    },
    "outputId": "5f6a04b4-b11d-4282-95da-a4b9255995de"
   },
   "source": [
    "for letra in \"Python es un lenguaje de programacion\":\n",
    "    \n",
    "    if letra == \"e\":\n",
    "        continue\n",
    "        \n",
    "    print(letra)"
   ],
   "execution_count": 24,
   "outputs": [
    {
     "output_type": "stream",
     "name": "stdout",
     "text": [
      "P\n",
      "y\n",
      "t\n",
      "h\n",
      "o\n",
      "n\n",
      " \n",
      "s\n",
      " \n",
      "u\n",
      "n\n",
      " \n",
      "l\n",
      "n\n",
      "g\n",
      "u\n",
      "a\n",
      "j\n",
      " \n",
      "d\n",
      " \n",
      "p\n",
      "r\n",
      "o\n",
      "g\n",
      "r\n",
      "a\n",
      "m\n",
      "a\n",
      "c\n",
      "i\n",
      "o\n",
      "n\n"
     ]
    }
   ]
  },
  {
   "cell_type": "code",
   "metadata": {
    "id": "UjjaVTSY2D6-",
    "colab": {
     "base_uri": "https://localhost:8080/"
    },
    "executionInfo": {
     "status": "ok",
     "timestamp": 1644457019624,
     "user_tz": 360,
     "elapsed": 328,
     "user": {
      "displayName": "Luis Fernando Leal Hernandez",
      "photoUrl": "https://lh3.googleusercontent.com/a/default-user=s64",
      "userId": "08643725771405988586"
     }
    },
    "outputId": "af009e8a-658b-4a51-eb20-fef6652729e3"
   },
   "source": [
    "frase = \"Python es un lenguaje de programacion\" # la variable frase es el iterable\n",
    "for letra in frase:\n",
    "    \n",
    "    if letra == \"e\":\n",
    "        continue\n",
    "        \n",
    "    print(letra)"
   ],
   "execution_count": 25,
   "outputs": [
    {
     "output_type": "stream",
     "name": "stdout",
     "text": [
      "P\n",
      "y\n",
      "t\n",
      "h\n",
      "o\n",
      "n\n",
      " \n",
      "s\n",
      " \n",
      "u\n",
      "n\n",
      " \n",
      "l\n",
      "n\n",
      "g\n",
      "u\n",
      "a\n",
      "j\n",
      " \n",
      "d\n",
      " \n",
      "p\n",
      "r\n",
      "o\n",
      "g\n",
      "r\n",
      "a\n",
      "m\n",
      "a\n",
      "c\n",
      "i\n",
      "o\n",
      "n\n"
     ]
    }
   ]
  },
  {
   "cell_type": "markdown",
   "metadata": {
    "id": "llbRt4XS2D6-"
   },
   "source": [
    "#### funcion \"range\"\n",
    "\n",
    "En muchos casos es util generar un numero pre-definido de iteraciones, o iterar sobre una lista de valores numericos, para estos casos Python nos ofrece la funcion range() para generar de manera simple una lista de valores numericos sobre los cuales ejecutar un ciclo for.\n",
    "\n",
    "Aun que no hemos visto funciones, la funcion range es util estudiarla dentro del contexto del \"for\" ya que se usan  juntas muy comunmente."
   ]
  },
  {
   "cell_type": "code",
   "metadata": {
    "id": "WC8J4Nc12D6_",
    "colab": {
     "base_uri": "https://localhost:8080/"
    },
    "executionInfo": {
     "status": "ok",
     "timestamp": 1644457212858,
     "user_tz": 360,
     "elapsed": 311,
     "user": {
      "displayName": "Luis Fernando Leal Hernandez",
      "photoUrl": "https://lh3.googleusercontent.com/a/default-user=s64",
      "userId": "08643725771405988586"
     }
    },
    "outputId": "3503a308-9b08-4034-ec22-c8cef911e87a"
   },
   "source": [
    "for i in range(0,5): # for(i=0;i<5;i++)\n",
    "  \n",
    "    print(i)\n",
    "    print(i+5)\n",
    "    print(\"---------------------------------\")"
   ],
   "execution_count": 26,
   "outputs": [
    {
     "output_type": "stream",
     "name": "stdout",
     "text": [
      "0\n",
      "5\n",
      "---------------------------------\n",
      "1\n",
      "6\n",
      "---------------------------------\n",
      "2\n",
      "7\n",
      "---------------------------------\n",
      "3\n",
      "8\n",
      "---------------------------------\n",
      "4\n",
      "9\n",
      "---------------------------------\n"
     ]
    }
   ]
  },
  {
   "cell_type": "markdown",
   "metadata": {
    "id": "FQk0N7BT2D6_"
   },
   "source": [
    "**nota** este codigo es equivalente a la sentencia en java:\n",
    "\n",
    "for(int i = 0;i<5;i++)\n",
    "{\n",
    "\n",
    "    System.out.println(i);\n",
    "    \n",
    "}\n"
   ]
  },
  {
   "cell_type": "markdown",
   "metadata": {
    "id": "219doqDH2D6_"
   },
   "source": [
    "De manera general range tiene la sintaxis:\n",
    "\n",
    "range(< inicio >, < fin >,< incremento >)\n",
    "\n",
    "donde:\n",
    "\n",
    "* < inicio >: valor inicial de la lista de numeros generada(inclusivo)\n",
    "* < fin > :  valor final de la lista de numeros generada(exclusivo)\n",
    "* < incremento > : de cuanto en cuanto aumenta la lista\n",
    "\n",
    "Esto genera una lista empezando en < inicio > ,el segundo elemento es < inicio > + < incremento >, el tercer elemento es < inicio > + 2*< incremento > y asi sucesivamente hasta llegar a fin (valores menores a el)"
   ]
  },
  {
   "cell_type": "code",
   "metadata": {
    "id": "ImGjRUpR2D6_",
    "colab": {
     "base_uri": "https://localhost:8080/"
    },
    "executionInfo": {
     "status": "ok",
     "timestamp": 1644457466214,
     "user_tz": 360,
     "elapsed": 383,
     "user": {
      "displayName": "Luis Fernando Leal Hernandez",
      "photoUrl": "https://lh3.googleusercontent.com/a/default-user=s64",
      "userId": "08643725771405988586"
     }
    },
    "outputId": "d21d7162-737e-4a42-99a6-4c51a1eded41"
   },
   "source": [
    "\n",
    "for i in range(1,10,1):\n",
    "    print(i)"
   ],
   "execution_count": 27,
   "outputs": [
    {
     "output_type": "stream",
     "name": "stdout",
     "text": [
      "1\n",
      "2\n",
      "3\n",
      "4\n",
      "5\n",
      "6\n",
      "7\n",
      "8\n",
      "9\n"
     ]
    }
   ]
  },
  {
   "cell_type": "code",
   "metadata": {
    "id": "5Vwgyvx92D7A",
    "colab": {
     "base_uri": "https://localhost:8080/"
    },
    "executionInfo": {
     "status": "ok",
     "timestamp": 1644457489752,
     "user_tz": 360,
     "elapsed": 15,
     "user": {
      "displayName": "Luis Fernando Leal Hernandez",
      "photoUrl": "https://lh3.googleusercontent.com/a/default-user=s64",
      "userId": "08643725771405988586"
     }
    },
    "outputId": "5d29821b-9eb4-4bd2-ac2b-75e99ae34595"
   },
   "source": [
    "for i in range(1,11,1):\n",
    "    print(i)"
   ],
   "execution_count": 28,
   "outputs": [
    {
     "output_type": "stream",
     "name": "stdout",
     "text": [
      "1\n",
      "2\n",
      "3\n",
      "4\n",
      "5\n",
      "6\n",
      "7\n",
      "8\n",
      "9\n",
      "10\n"
     ]
    }
   ]
  },
  {
   "cell_type": "code",
   "metadata": {
    "id": "344RuCAh2D7A",
    "colab": {
     "base_uri": "https://localhost:8080/"
    },
    "executionInfo": {
     "status": "ok",
     "timestamp": 1644457502539,
     "user_tz": 360,
     "elapsed": 989,
     "user": {
      "displayName": "Luis Fernando Leal Hernandez",
      "photoUrl": "https://lh3.googleusercontent.com/a/default-user=s64",
      "userId": "08643725771405988586"
     }
    },
    "outputId": "e74b3e29-5440-4390-b623-a68e7af7d3db"
   },
   "source": [
    "for i in range(1,11,2):\n",
    "    print(i)"
   ],
   "execution_count": 29,
   "outputs": [
    {
     "output_type": "stream",
     "name": "stdout",
     "text": [
      "1\n",
      "3\n",
      "5\n",
      "7\n",
      "9\n"
     ]
    }
   ]
  },
  {
   "cell_type": "code",
   "metadata": {
    "id": "JlYuYeF82D7A",
    "colab": {
     "base_uri": "https://localhost:8080/"
    },
    "executionInfo": {
     "status": "ok",
     "timestamp": 1644457546490,
     "user_tz": 360,
     "elapsed": 328,
     "user": {
      "displayName": "Luis Fernando Leal Hernandez",
      "photoUrl": "https://lh3.googleusercontent.com/a/default-user=s64",
      "userId": "08643725771405988586"
     }
    },
    "outputId": "dea7bd75-681f-4420-8385-a62465000ebf"
   },
   "source": [
    "for i in range(2,11,2):\n",
    "    print(i)"
   ],
   "execution_count": 30,
   "outputs": [
    {
     "output_type": "stream",
     "name": "stdout",
     "text": [
      "2\n",
      "4\n",
      "6\n",
      "8\n",
      "10\n"
     ]
    }
   ]
  },
  {
   "cell_type": "markdown",
   "metadata": {
    "id": "7kBEbhJ12D7B"
   },
   "source": [
    "Range tiene valores default para el inicio y el incremento, por lo cual si solo especificamos un parametro este sera el valor de fin, los valores default son:\n",
    "* inicio = 0\n",
    "* incremento = 1"
   ]
  },
  {
   "cell_type": "code",
   "metadata": {
    "id": "Y5e-7fw22D7B",
    "colab": {
     "base_uri": "https://localhost:8080/"
    },
    "executionInfo": {
     "status": "ok",
     "timestamp": 1644457624484,
     "user_tz": 360,
     "elapsed": 15,
     "user": {
      "displayName": "Luis Fernando Leal Hernandez",
      "photoUrl": "https://lh3.googleusercontent.com/a/default-user=s64",
      "userId": "08643725771405988586"
     }
    },
    "outputId": "8a7d3cda-e9e4-4d85-99ea-46b9983a78b3"
   },
   "source": [
    "for i in range(0,5,1):\n",
    "    print(i)"
   ],
   "execution_count": 31,
   "outputs": [
    {
     "output_type": "stream",
     "name": "stdout",
     "text": [
      "0\n",
      "1\n",
      "2\n",
      "3\n",
      "4\n"
     ]
    }
   ]
  },
  {
   "cell_type": "code",
   "metadata": {
    "id": "PUQxw5U6DLHo",
    "colab": {
     "base_uri": "https://localhost:8080/"
    },
    "executionInfo": {
     "status": "ok",
     "timestamp": 1644457696862,
     "user_tz": 360,
     "elapsed": 344,
     "user": {
      "displayName": "Luis Fernando Leal Hernandez",
      "photoUrl": "https://lh3.googleusercontent.com/a/default-user=s64",
      "userId": "08643725771405988586"
     }
    },
    "outputId": "cfc54a1a-8c3c-4cd0-fdd0-ee3dfb009e75"
   },
   "source": [
    "n = 10\n",
    "for i in range(n): \n",
    "    print(i)"
   ],
   "execution_count": 32,
   "outputs": [
    {
     "output_type": "stream",
     "name": "stdout",
     "text": [
      "0\n",
      "1\n",
      "2\n",
      "3\n",
      "4\n",
      "5\n",
      "6\n",
      "7\n",
      "8\n",
      "9\n"
     ]
    }
   ]
  },
  {
   "cell_type": "markdown",
   "metadata": {
    "id": "GhMILX3c2D7B"
   },
   "source": [
    "**Ejemplo** \n",
    "Se llama sucesión a un conjunto de números dados ordenadamente de modo que se\n",
    "puedan numerar: primero, segundo, tercero,....\n",
    "Los elementos de la sucesión se llaman términos y se suelen designar mediante una letra\n",
    "con los subíndices correspondientes a los lugares que ocupan en la sucesión: a1, a2, a3, ...\n",
    "Por ejemplo, son sucesiones las siguientes listas de números:\n",
    "1, 2, 3, 4, 5, ... 2, 4, 8, 16, 32, ... -3, 3, -3, 3, -3, ...\n",
    "En algunas ocasiones es posible expresar el término n-ésimo (término que ocupa el lugar n)\n",
    "en función de n. Este término se llama término general de la sucesión, y se simboliza con an.\n",
    "Por ejemplo, en la sucesión 1, 4, 9, 16, 25, ... cada término es el cuadrado del lugar que ocupa en\n",
    "la sucesión, con lo que el término general an = n².\n",
    "\n",
    "Usar range para mostrar los primeros 15 terminos de la sucesion:\n",
    "\n",
    "$$S_{n} = n^{2}$$\n",
    "\n",
    "imprimirlos termino por termino junto a su indice en la sucesion"
   ]
  },
  {
   "cell_type": "code",
   "metadata": {
    "id": "v5kySC_C2D7B",
    "colab": {
     "base_uri": "https://localhost:8080/"
    },
    "executionInfo": {
     "status": "ok",
     "timestamp": 1644457926672,
     "user_tz": 360,
     "elapsed": 327,
     "user": {
      "displayName": "Luis Fernando Leal Hernandez",
      "photoUrl": "https://lh3.googleusercontent.com/a/default-user=s64",
      "userId": "08643725771405988586"
     }
    },
    "outputId": "0fec8cb8-0502-446b-eab9-54b3c7f572fb"
   },
   "source": [
    "for n in range(1,16,1):\n",
    "    print(n,n**2)"
   ],
   "execution_count": 33,
   "outputs": [
    {
     "output_type": "stream",
     "name": "stdout",
     "text": [
      "1 1\n",
      "2 4\n",
      "3 9\n",
      "4 16\n",
      "5 25\n",
      "6 36\n",
      "7 49\n",
      "8 64\n",
      "9 81\n",
      "10 100\n",
      "11 121\n",
      "12 144\n",
      "13 169\n",
      "14 196\n",
      "15 225\n"
     ]
    }
   ]
  },
  {
   "cell_type": "markdown",
   "metadata": {
    "id": "QrWa360g2D7C"
   },
   "source": [
    "**Ejemplo** En machine learning tenemos la tecnica llamada \"learning rate decay\" que consiste en disminuir en el tiempo un hiper-parametro llamado \"learning rate\", una de las formas mas sencillas de hacerlo es reducirlo segun el numero de iteracion o epoch en el que se encuentre el proceso de entrenamiento."
   ]
  },
  {
   "cell_type": "code",
   "metadata": {
    "id": "6dWqNKwO2D7C"
   },
   "source": [
    "def evaluar(x,y,i):\n",
    "    pass"
   ],
   "execution_count": null,
   "outputs": []
  },
  {
   "cell_type": "code",
   "metadata": {
    "scrolled": true,
    "id": "pEmJwwli2D7C",
    "colab": {
     "base_uri": "https://localhost:8080/"
    },
    "executionInfo": {
     "status": "ok",
     "timestamp": 1644458525964,
     "user_tz": 360,
     "elapsed": 334,
     "user": {
      "displayName": "Luis Fernando Leal Hernandez",
      "photoUrl": "https://lh3.googleusercontent.com/a/default-user=s64",
      "userId": "08643725771405988586"
     }
    },
    "outputId": "b61a6b68-61a5-4969-a588-75a6fb258e44"
   },
   "source": [
    "x_train=1\n",
    "y_train = 2\n",
    "x_eval=3\n",
    "y_eval=2\n",
    "lr = 0.1\n",
    "EPOCHS = 10\n",
    "evaluate_every = 10\n",
    "\n",
    "print(\"Learning rate inicial:\",lr)\n",
    "print(\"--------------------------.\")\n",
    "for i in range(1,EPOCHS+1):\n",
    "    entrenar(x_train,y_train) # no tomar en cuenta\n",
    "    lr/=i\n",
    "    #lr = lr / i\n",
    "    \n",
    "    if i % evaluate_every != 0:\n",
    "        continue\n",
    "    \n",
    "    evaluar(x_eval,y_eval,i) # no tomar en cuenta\n",
    "    print(\"Learning rate\",lr)\n",
    "    print(\"----------------------------\")\n",
    "\n",
    "print(\"----------------------------\")\n",
    "print(\"Learning rate final:\",lr)"
   ],
   "execution_count": 37,
   "outputs": [
    {
     "output_type": "stream",
     "name": "stdout",
     "text": [
      "Learning rate inicial: 0.1\n",
      "--------------------------.\n",
      "evaluando modelo ,epoch:  10\n",
      "Learning rate 2.7557319223985888e-08\n",
      "----------------------------\n",
      "----------------------------\n",
      "Learning rate final: 2.7557319223985888e-08\n"
     ]
    }
   ]
  },
  {
   "cell_type": "code",
   "metadata": {
    "id": "n0s9jp-S2D7D"
   },
   "source": [
    ""
   ],
   "execution_count": null,
   "outputs": []
  }
 ]
}