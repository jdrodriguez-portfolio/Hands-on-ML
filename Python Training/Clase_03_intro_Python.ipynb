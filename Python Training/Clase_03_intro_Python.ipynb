{
 "nbformat": 4,
 "nbformat_minor": 0,
 "metadata": {
  "colab": {
   "name": "Clase_03_intro_Python.ipynb",
   "provenance": [],
   "collapsed_sections": [
    "zOXNFWT0pFnZ",
    "m9gUgfjbpFoO"
   ]
  },
  "kernelspec": {
   "display_name": "Python 3",
   "language": "python",
   "name": "python3"
  },
  "language_info": {
   "codemirror_mode": {
    "name": "ipython",
    "version": 3
   },
   "file_extension": ".py",
   "mimetype": "text/x-python",
   "name": "python",
   "nbconvert_exporter": "python",
   "pygments_lexer": "ipython3",
   "version": "3.9.1"
  }
 },
 "cells": [
  {
   "cell_type": "markdown",
   "metadata": {
    "id": "pyjkS9-gpFmy",
    "pycharm": {
     "name": "#%% md\n"
    }
   },
   "source": [
    "# Python basics\n",
    "\n",
    "En esta clase veremos los fundamentos y elementos básicos de python. \n",
    "Estos son comunes y están presentes en cualquier tipo de programa de Python , no son específicos de programación científica y ciencias de datos y los encontraremos también en aplicaciones web, móviles  ,scripting y desarrollo de software tradicional.\n",
    "\n",
    "Quienes ya saben Python o algún otro lenguaje programación encontrarán esto como muy básico o elemental, pero es importante que lo veamos para los compañeros que tienen poca experiencia o bien se están iniciando en la programación.\n",
    "\n",
    "**Detalle importante** : este texto esta escrito en \"Markdown\" que es el lenguaje que utilizan los notebooks para dar formato (entre otras cosas) al texto  que no es parte del código de programación.\n",
    "\n",
    "Es difícil encontrar en pensums de ciencia de datos cursos dedicados a \"Markdown\" pero es importante conocerlo por que es común utilizar Markdown para documentar muchos productos de ciencia de datos por lo que es aconsejable que investiguemos y experimentemos durante nuestra formación, referencia útil: https://github.com/adam-p/markdown-here/wiki/Markdown-Cheatsheet.\n",
    "\n",
    "### Esto es una celda tipo \"Markdown\"\n",
    "\n",
    "Podemos ver en la barra de menú que al hacer click en esta celda se activa el modo \"Markdown\" de esta forma indicamos que esta celda no contiene código ejecutable y que el contenido escrito en ella esta en formato \"Markdown\".\n",
    "\n",
    "#### Recordar\n",
    "* Podemos dar doble click a una celda  tipo \"Markdown\" para ver su contenido puro en Markdown o bien editar y agregar contenido\n",
    "* Tanto celdas tipo \"Markdown\" como celdas tipo \"Code\" pueden ser \"ejecutadas\" con shift+enter\n",
    "    * En celdas tipo \"Markdown\" esto ocasiona que se \"renderize\" el markdown (aplicar el formato especificado y se dibuje en pantalla el contenido)\n",
    "    * En celdas tipo \"Code\" esto ocasiona que se ejecute el código definido en la celda y si el código tiene salidas como impresiones a pantalla, estas serán desplegadas en el notebook.\n",
    "    * No olvides guardar cada cierto tiempo tu \"Notebook\"\n",
    "* Podemos agregar mas celdas al notebook a través de la cruz \"+\" del lado izquierdo del menú.\n",
    "* Podemos también cortar, copiar y pegar celdas en el menú.\n",
    "* Si por error borras una celda, se puede recuperar en: Edit -> Undo Delete Cells\n",
    "* Todas las acciones que estaremos haciendo a través de la barra de menú tienen tambien shortcuts del teclado.\n",
    "    * Por ejemplo el indicar que una celda es del tipo \"Markdown\" puede hacerse con Esc+m+enter"
   ]
  },
  {
   "cell_type": "markdown",
   "metadata": {
    "id": "dNOo2tI8rfGF"
   },
   "source": [
    "Hola universidad Galileo"
   ]
  },
  {
   "cell_type": "code",
   "metadata": {
    "id": "QI3f4cukrxtK",
    "executionInfo": {
     "status": "ok",
     "timestamp": 1643679465415,
     "user_tz": 360,
     "elapsed": 12,
     "user": {
      "displayName": "Luis Fernando Leal Hernandez",
      "photoUrl": "https://lh3.googleusercontent.com/a/default-user=s64",
      "userId": "08643725771405988586"
     }
    }
   },
   "source": [
    "a=2\n",
    "b=3\n",
    "a=a*b\n",
    "a"
   ],
   "execution_count": 3,
   "outputs": [
    {
     "data": {
      "text/plain": "6"
     },
     "execution_count": 3,
     "metadata": {},
     "output_type": "execute_result"
    }
   ]
  },
  {
   "cell_type": "markdown",
   "source": [
    "Los Valores entre un snippet y otro son compartidos"
   ],
   "metadata": {
    "id": "K6Dp_u1-W1Vz",
    "executionInfo": {
     "status": "ok",
     "timestamp": 1643679465416,
     "user_tz": 360,
     "elapsed": 11,
     "user": {
      "displayName": "Luis Fernando Leal Hernandez",
      "photoUrl": "https://lh3.googleusercontent.com/a/default-user=s64",
      "userId": "08643725771405988586"
     }
    },
    "pycharm": {
     "name": "#%% md\n"
    }
   }
  },
  {
   "cell_type": "markdown",
   "metadata": {
    "id": "Vm23Q8j9pFnL"
   },
   "source": [
    "## Hola Mundo en Markdown\n",
    "**Ejercicio**: Escribir tu nombre y carnet en una nueva celda con el carnet en negrita"
   ]
  },
  {
   "cell_type": "markdown",
   "metadata": {
    "id": "k_nTMZ7Zuebe"
   },
   "source": [
    "Luis Leal **123456**"
   ]
  },
  {
   "cell_type": "code",
   "metadata": {
    "id": "GbGMnwJipFnM",
    "colab": {
     "base_uri": "https://localhost:8080/"
    },
    "executionInfo": {
     "status": "ok",
     "timestamp": 1643679465416,
     "user_tz": 360,
     "elapsed": 10,
     "user": {
      "displayName": "Luis Fernando Leal Hernandez",
      "photoUrl": "https://lh3.googleusercontent.com/a/default-user=s64",
      "userId": "08643725771405988586"
     }
    },
    "outputId": "db36f41c-d1dc-469a-ab08-6d0b89f94b9c"
   },
   "source": [
    "# Esta es una celda tipo \"Code\" y esto es un comentario tradicional de Python de una linea\n",
    "# Al igual que en otros lenguajes, este comentario es ignorado y no tiene efecto en el programa\n",
    "# Los comentarios nos ayudan a agregar anotaciones,recordatorios, explicaciones etc para otros programadores,data scientists o incluso nosotros mismos\n",
    "# Es buena idea comentar nuestro código y no solo el notebook ya que es común exportar el código para ser ejecutado en modo batch en algún servidor\n",
    "# En este caso todo este texto(comentarios) es ignorado y lo unico ejecutado es la sentencia print()\n",
    "# Parecido a otros lenguajes ,print() es usado para obtener un resultado de nuestro programa o desplegar algo\n",
    "# En modo batch print() muestra su salida en el stdout, comunmente la consola y en el notebook se muestra directamente en el mismo notebook\n",
    "# hola esto es un comentario\n",
    "import os\n",
    "\n",
    "print(\"Hola mundo en Python!\") #\n",
    "print(122)\n",
    "print(os)\n",
    "print()\n",
    "print()\n",
    "os.listdir(r\"C:\\Users\\Usuario1\\Desktop\\Work\\ML Learning\\Machine Learning Topics Explanation\\Traditional ML\")"
   ],
   "execution_count": 8,
   "outputs": [
    {
     "name": "stdout",
     "output_type": "stream",
     "text": [
      "Hola mundo en Python!\n",
      "122\n",
      "<module 'os' from 'C:\\\\Users\\\\Usuario1\\\\anaconda3\\\\envs\\\\Machine Learning Topics Explanation\\\\lib\\\\os.py'>\n",
      "\n",
      "\n"
     ]
    },
    {
     "data": {
      "text/plain": "['Classification', 'Regression']"
     },
     "execution_count": 8,
     "metadata": {},
     "output_type": "execute_result"
    }
   ]
  },
  {
   "cell_type": "code",
   "metadata": {
    "colab": {
     "base_uri": "https://localhost:8080/"
    },
    "id": "5ww81Rx7wBl7",
    "executionInfo": {
     "status": "ok",
     "timestamp": 1643679465774,
     "user_tz": 360,
     "elapsed": 365,
     "user": {
      "displayName": "Luis Fernando Leal Hernandez",
      "photoUrl": "https://lh3.googleusercontent.com/a/default-user=s64",
      "userId": "08643725771405988586"
     }
    },
    "outputId": "4a9476f1-79f5-420f-9170-fa2af795da76"
   },
   "source": [
    "print(\"hola mundo\")"
   ],
   "execution_count": 2,
   "outputs": [
    {
     "output_type": "stream",
     "name": "stdout",
     "text": [
      "hola mundo\n"
     ]
    }
   ]
  },
  {
   "cell_type": "code",
   "metadata": {
    "id": "RVhLhDXXpFnP",
    "executionInfo": {
     "status": "ok",
     "timestamp": 1643679465775,
     "user_tz": 360,
     "elapsed": 49,
     "user": {
      "displayName": "Luis Fernando Leal Hernandez",
      "photoUrl": "https://lh3.googleusercontent.com/a/default-user=s64",
      "userId": "08643725771405988586"
     }
    }
   },
   "source": [
    "\n",
    "def first_function(x):\n",
    "    '''\n",
    "      Esta es una celda tipo \"Code\" y esto es un comentario tradicional de Python de multiples lineas.\n",
    "      Este es utilizado como el primer elemento de funciones y es utilizado para documentar la función\n",
    "      Por ahora ignoremos el codigo ,lo veremos mas adelante ,lo importante es el comentario\n",
    "    '''\n",
    "    angies = 4\n",
    "    \n",
    "    return angies - x"
   ],
   "execution_count": 15,
   "outputs": []
  },
  {
   "cell_type": "code",
   "metadata": {
    "colab": {
     "base_uri": "https://localhost:8080/"
    },
    "id": "4X7aVhCT0my8",
    "executionInfo": {
     "status": "ok",
     "timestamp": 1643679465775,
     "user_tz": 360,
     "elapsed": 48,
     "user": {
      "displayName": "Luis Fernando Leal Hernandez",
      "photoUrl": "https://lh3.googleusercontent.com/a/default-user=s64",
      "userId": "08643725771405988586"
     }
    },
    "outputId": "60780266-2a36-4af9-92e4-ff236b59c826"
   },
   "source": [
    "print(first_function(2))\n",
    "print(1 * 2)\n",
    "print(6)"
   ],
   "execution_count": 16,
   "outputs": [
    {
     "name": "stdout",
     "output_type": "stream",
     "text": [
      "2\n",
      "2\n",
      "6\n"
     ]
    }
   ]
  },
  {
   "cell_type": "code",
   "metadata": {
    "colab": {
     "base_uri": "https://localhost:8080/"
    },
    "id": "BXRXb9mCpFnP",
    "executionInfo": {
     "status": "ok",
     "timestamp": 1643679465776,
     "user_tz": 360,
     "elapsed": 44,
     "user": {
      "displayName": "Luis Fernando Leal Hernandez",
      "photoUrl": "https://lh3.googleusercontent.com/a/default-user=s64",
      "userId": "08643725771405988586"
     }
    },
    "outputId": "80c40b18-f1db-4d0a-8794-e509e7c3f44b"
   },
   "source": [
    "1+1\n",
    "first_function(2)"
   ],
   "execution_count": 5,
   "outputs": [
    {
     "output_type": "execute_result",
     "data": {
      "text/plain": [
       "20"
      ]
     },
     "metadata": {},
     "execution_count": 5
    }
   ]
  },
  {
   "cell_type": "code",
   "metadata": {
    "colab": {
     "base_uri": "https://localhost:8080/"
    },
    "id": "jBNbBfckpFnQ",
    "executionInfo": {
     "status": "ok",
     "timestamp": 1643679465776,
     "user_tz": 360,
     "elapsed": 28,
     "user": {
      "displayName": "Luis Fernando Leal Hernandez",
      "photoUrl": "https://lh3.googleusercontent.com/a/default-user=s64",
      "userId": "08643725771405988586"
     }
    },
    "outputId": "3df1448d-1d9c-4287-9e45-c9d9ce1bb5f3"
   },
   "source": [
    "print(first_function(2))"
   ],
   "execution_count": 6,
   "outputs": [
    {
     "output_type": "stream",
     "name": "stdout",
     "text": [
      "20\n"
     ]
    }
   ]
  },
  {
   "cell_type": "code",
   "metadata": {
    "colab": {
     "base_uri": "https://localhost:8080/"
    },
    "id": "uIU3QU1ppFnQ",
    "executionInfo": {
     "status": "ok",
     "timestamp": 1643679465777,
     "user_tz": 360,
     "elapsed": 21,
     "user": {
      "displayName": "Luis Fernando Leal Hernandez",
      "photoUrl": "https://lh3.googleusercontent.com/a/default-user=s64",
      "userId": "08643725771405988586"
     }
    },
    "outputId": "a3f8cad7-260a-4e86-c4ee-4531361ecc01"
   },
   "source": [
    "first_function(2)\n",
    "1 * 2"
   ],
   "execution_count": 7,
   "outputs": [
    {
     "output_type": "execute_result",
     "data": {
      "text/plain": [
       "2"
      ]
     },
     "metadata": {},
     "execution_count": 7
    }
   ]
  },
  {
   "cell_type": "code",
   "metadata": {
    "colab": {
     "base_uri": "https://localhost:8080/"
    },
    "id": "OOFNKI4dpFnO",
    "executionInfo": {
     "status": "ok",
     "timestamp": 1643679465777,
     "user_tz": 360,
     "elapsed": 16,
     "user": {
      "displayName": "Luis Fernando Leal Hernandez",
      "photoUrl": "https://lh3.googleusercontent.com/a/default-user=s64",
      "userId": "08643725771405988586"
     }
    },
    "outputId": "1e9f729a-b4fe-445d-cc40-60a724589593"
   },
   "source": [
    "print(\"Luis Leal\")"
   ],
   "execution_count": 8,
   "outputs": [
    {
     "output_type": "stream",
     "name": "stdout",
     "text": [
      "Luis Leal\n"
     ]
    }
   ]
  },
  {
   "cell_type": "markdown",
   "metadata": {
    "id": "zePhw4DlpFnR"
   },
   "source": [
    "**Ejercicio:** Escribir una celda de codigo que imprima/despliegue en pantalla tu nombre\n"
   ]
  },
  {
   "cell_type": "code",
   "metadata": {
    "colab": {
     "base_uri": "https://localhost:8080/"
    },
    "id": "N9dv2-Ml19IS",
    "executionInfo": {
     "status": "ok",
     "timestamp": 1643679466096,
     "user_tz": 360,
     "elapsed": 75,
     "user": {
      "displayName": "Luis Fernando Leal Hernandez",
      "photoUrl": "https://lh3.googleusercontent.com/a/default-user=s64",
      "userId": "08643725771405988586"
     }
    },
    "outputId": "146922dd-2471-4548-cba8-337ae413faa9"
   },
   "source": [
    "print(\"Angie Hernandez\")"
   ],
   "execution_count": 17,
   "outputs": [
    {
     "name": "stdout",
     "output_type": "stream",
     "text": [
      "Angie Hernandez\n"
     ]
    }
   ]
  },
  {
   "cell_type": "code",
   "metadata": {
    "colab": {
     "base_uri": "https://localhost:8080/"
    },
    "id": "DrVB6f_O2Vl9",
    "executionInfo": {
     "status": "ok",
     "timestamp": 1643679466098,
     "user_tz": 360,
     "elapsed": 74,
     "user": {
      "displayName": "Luis Fernando Leal Hernandez",
      "photoUrl": "https://lh3.googleusercontent.com/a/default-user=s64",
      "userId": "08643725771405988586"
     }
    },
    "outputId": "18d26aad-9cde-4381-d744-d7fe321d76f7"
   },
   "source": [
    "\"Angela Ortiz\""
   ],
   "execution_count": 20,
   "outputs": [
    {
     "data": {
      "text/plain": "'Angela Ortiz'"
     },
     "execution_count": 20,
     "metadata": {},
     "output_type": "execute_result"
    }
   ]
  },
  {
   "cell_type": "markdown",
   "metadata": {
    "id": "b5dvhhYwpFnR"
   },
   "source": [
    "### Programación interactiva e interpretada\n",
    "Estamos viendo en este caso algo que mencionamos en las primeras clases, Python es un lenguaje interpretado y que nos permite realizar programación interactiva:\n",
    "* Podemos ejecutar pequeñas porciones de código \"a demanda\" sin necesidad de compilar el código completo\n",
    "* Podemos ejecutar sentencias individuales o grupos de sentencias, evaluar el resultado inmediatamente y ejecutar nuevas sentencias en respuesta(con lenguajes compilados necesitamos compilar antes de ejecutar las nuevas sentencias)"
   ]
  },
  {
   "cell_type": "markdown",
   "metadata": {
    "id": "Sqo6PzYxpFnR"
   },
   "source": [
    "### Autocompletado de código\n",
    "Para hacer la programación más ágil y rápida, jupyter provee autocompletado de código a través de usar \"tab\".\n",
    "* Ahora que ya conocemos la sentencia \"print\" intenta escribir \"pr\" en una celda tipo código y luego presiona \"tab\", Jupyter mostrara las opciones que coinciden\n",
    "* Si en lugar de  \"pr\" escribes \"pri\" las opciones se reducen y \"Jupyter\" autocompleta a la única opción disponible."
   ]
  },
  {
   "cell_type": "code",
   "metadata": {
    "id": "HHJO4AXh4Kaz",
    "executionInfo": {
     "status": "ok",
     "timestamp": 1643679466100,
     "user_tz": 360,
     "elapsed": 71,
     "user": {
      "displayName": "Luis Fernando Leal Hernandez",
      "photoUrl": "https://lh3.googleusercontent.com/a/default-user=s64",
      "userId": "08643725771405988586"
     }
    }
   },
   "source": [
    "def hola_esta_es_una_funcion_de_python():\n",
    "  print(\"hola desde python\")\n",
    "hola_esta_es_una_funcion_de_python()"
   ],
   "execution_count": 21,
   "outputs": [
    {
     "name": "stdout",
     "output_type": "stream",
     "text": [
      "hola desde python\n"
     ]
    }
   ]
  },
  {
   "cell_type": "code",
   "source": [
    "hola_esta_es_una_funcion_de_python()  "
   ],
   "metadata": {
    "colab": {
     "base_uri": "https://localhost:8080/"
    },
    "id": "3fSs2vzFcTjl",
    "executionInfo": {
     "status": "ok",
     "timestamp": 1643679466101,
     "user_tz": 360,
     "elapsed": 72,
     "user": {
      "displayName": "Luis Fernando Leal Hernandez",
      "photoUrl": "https://lh3.googleusercontent.com/a/default-user=s64",
      "userId": "08643725771405988586"
     }
    },
    "outputId": "759a6326-e2ed-40e9-ddc3-4b64b66c94e2"
   },
   "execution_count": 12,
   "outputs": [
    {
     "output_type": "stream",
     "name": "stdout",
     "text": [
      "hola desde python\n"
     ]
    }
   ]
  },
  {
   "cell_type": "code",
   "metadata": {
    "id": "VNHEdyORpFnS",
    "colab": {
     "base_uri": "https://localhost:8080/"
    },
    "executionInfo": {
     "status": "ok",
     "timestamp": 1643679466102,
     "user_tz": 360,
     "elapsed": 64,
     "user": {
      "displayName": "Luis Fernando Leal Hernandez",
      "photoUrl": "https://lh3.googleusercontent.com/a/default-user=s64",
      "userId": "08643725771405988586"
     }
    },
    "outputId": "0517c4d8-fed5-4e70-bb38-a7664aedc971"
   },
   "source": [
    "print(\"Autocompletado\")"
   ],
   "execution_count": 13,
   "outputs": [
    {
     "output_type": "stream",
     "name": "stdout",
     "text": [
      "Autocompletado\n"
     ]
    }
   ]
  },
  {
   "cell_type": "markdown",
   "metadata": {
    "id": "SnWxoyeIpFnS"
   },
   "source": [
    "## Literales, valores, objetos, identificadores, variables y tipos primitivos\n",
    "\n",
    "Python al igual que muchos otros lenguajes dispone de variedad de gran variedad de tipos de \"objetos\" que podemos utilizar para representar datos e información en nuestros programas, algunos sencillos y otros mas complejos.\n",
    "\n",
    "Nuevamente esta sección es programación general en Python y la podemos utilizar en cualquier tipo de programa, no solo numéricos y o científicos. \n",
    "\n",
    "Dependiendo de la fuente que consultemos, pueden llamar de distinta forma a los elementos que acá veremos, pero lo importante es que conozcamos que son, para que son y cuando usarlos, el nombre es secundario y conforme los usemos se nos harán intuitivos.\n",
    "\n",
    "Empezaremos con lo mas sencillo, valores/literales y \"objetos\" sencillos o tipos primitivos, luego daremos paso a variables/identificadores para finalmente combinar todo en \"expresiones\" y posteriormente \"colecciones\" de objetos (a veces llamadas \"containers\" en Python o estructuras de datos en otros lenguajes)\n",
    "\n",
    "### Detalle importante: todo objeto/valor tiene un tipo que indica su naturaleza y sus posibles usos\n",
    "\n",
    "Para quienes vienen de ciencias de la computación y conocen el paradigma \"OOP\", en Python **todo es un objeto**, para quienes vienen de otros ámbitos este detalle no es importante por ahora (detallaremos mas adelante).\n",
    "\n",
    "### Valores/Literales u objetos de tipo primitivo\n",
    "\n",
    "Todo programa necesita representar datos o información para realizar operaciones en estos, Python al igual que muchos lenguajes maneja \"tipos primitivos\" o valores básicos que nos permiten representar información general (además poseemos funciones para convertir a cierto tipo):\n",
    "\n",
    "* Números enteros: int\n",
    "* Números decimales: float\n",
    "* Caracteres y cadenas de caracteres(strings): str\n",
    "* Números complejos : complex\n",
    "* Valores booleanos (True, False): bool\n",
    "\n",
    "También podemos encontrar variaciones de estos, por ejemplo:\n",
    "* Números en notación científica\n",
    "* Números en notación hexadecimal"
   ]
  },
  {
   "cell_type": "markdown",
   "metadata": {
    "id": "Hhr0Q-VNpFnT"
   },
   "source": [
    "#### Números enteros"
   ]
  },
  {
   "cell_type": "code",
   "metadata": {
    "colab": {
     "base_uri": "https://localhost:8080/"
    },
    "id": "a3RgCkuCpFnT",
    "executionInfo": {
     "status": "ok",
     "timestamp": 1643679466103,
     "user_tz": 360,
     "elapsed": 55,
     "user": {
      "displayName": "Luis Fernando Leal Hernandez",
      "photoUrl": "https://lh3.googleusercontent.com/a/default-user=s64",
      "userId": "08643725771405988586"
     }
    },
    "outputId": "6c1222e5-1dcb-47ea-f20d-d2045f86b479"
   },
   "source": [
    "type(False)"
   ],
   "execution_count": 26,
   "outputs": [
    {
     "data": {
      "text/plain": "bool"
     },
     "execution_count": 26,
     "metadata": {},
     "output_type": "execute_result"
    }
   ]
  },
  {
   "cell_type": "code",
   "metadata": {
    "colab": {
     "base_uri": "https://localhost:8080/"
    },
    "id": "PcvF-0TVpFnT",
    "executionInfo": {
     "status": "ok",
     "timestamp": 1643679466104,
     "user_tz": 360,
     "elapsed": 51,
     "user": {
      "displayName": "Luis Fernando Leal Hernandez",
      "photoUrl": "https://lh3.googleusercontent.com/a/default-user=s64",
      "userId": "08643725771405988586"
     }
    },
    "outputId": "f310a869-7899-4459-e5c2-72b5b941a082"
   },
   "source": [
    "int(5.12)"
   ],
   "execution_count": 15,
   "outputs": [
    {
     "output_type": "execute_result",
     "data": {
      "text/plain": [
       "5"
      ]
     },
     "metadata": {},
     "execution_count": 15
    }
   ]
  },
  {
   "cell_type": "markdown",
   "metadata": {
    "id": "DCQV-ovapFnU"
   },
   "source": [
    "#### Números decimales"
   ]
  },
  {
   "cell_type": "code",
   "metadata": {
    "colab": {
     "base_uri": "https://localhost:8080/"
    },
    "id": "PcWnUdEapFnV",
    "executionInfo": {
     "status": "ok",
     "timestamp": 1643679466106,
     "user_tz": 360,
     "elapsed": 46,
     "user": {
      "displayName": "Luis Fernando Leal Hernandez",
      "photoUrl": "https://lh3.googleusercontent.com/a/default-user=s64",
      "userId": "08643725771405988586"
     }
    },
    "outputId": "d3a3feed-87af-45ce-9cf3-4ddf11392069"
   },
   "source": [
    "3.1416"
   ],
   "execution_count": 16,
   "outputs": [
    {
     "output_type": "execute_result",
     "data": {
      "text/plain": [
       "3.1416"
      ]
     },
     "metadata": {},
     "execution_count": 16
    }
   ]
  },
  {
   "cell_type": "code",
   "metadata": {
    "id": "asYajIdepFnW",
    "colab": {
     "base_uri": "https://localhost:8080/"
    },
    "executionInfo": {
     "status": "ok",
     "timestamp": 1643679466107,
     "user_tz": 360,
     "elapsed": 40,
     "user": {
      "displayName": "Luis Fernando Leal Hernandez",
      "photoUrl": "https://lh3.googleusercontent.com/a/default-user=s64",
      "userId": "08643725771405988586"
     }
    },
    "outputId": "a7d04be7-2771-47ce-99cb-a59b1e207d7e"
   },
   "source": [
    "float(3.1416)"
   ],
   "execution_count": 17,
   "outputs": [
    {
     "output_type": "execute_result",
     "data": {
      "text/plain": [
       "3.1416"
      ]
     },
     "metadata": {},
     "execution_count": 17
    }
   ]
  },
  {
   "cell_type": "code",
   "metadata": {
    "colab": {
     "base_uri": "https://localhost:8080/"
    },
    "id": "pd5GdeCgpFnW",
    "executionInfo": {
     "status": "ok",
     "timestamp": 1643679466108,
     "user_tz": 360,
     "elapsed": 34,
     "user": {
      "displayName": "Luis Fernando Leal Hernandez",
      "photoUrl": "https://lh3.googleusercontent.com/a/default-user=s64",
      "userId": "08643725771405988586"
     }
    },
    "outputId": "6ee82222-9b9d-48b3-d02d-6872b8df03f0"
   },
   "source": [
    "float(\"3.114\") "
   ],
   "execution_count": 18,
   "outputs": [
    {
     "output_type": "execute_result",
     "data": {
      "text/plain": [
       "3.114"
      ]
     },
     "metadata": {},
     "execution_count": 18
    }
   ]
  },
  {
   "cell_type": "markdown",
   "metadata": {
    "id": "M3NviNrypFnX"
   },
   "source": [
    "#### Cadenas de caracteres o strings"
   ]
  },
  {
   "cell_type": "code",
   "metadata": {
    "id": "4lY7ZMDSpFnX",
    "colab": {
     "base_uri": "https://localhost:8080/",
     "height": 36
    },
    "executionInfo": {
     "status": "ok",
     "timestamp": 1643679466109,
     "user_tz": 360,
     "elapsed": 30,
     "user": {
      "displayName": "Luis Fernando Leal Hernandez",
      "photoUrl": "https://lh3.googleusercontent.com/a/default-user=s64",
      "userId": "08643725771405988586"
     }
    },
    "outputId": "5d970cff-b8d7-4d49-a9f5-e0971d9d1c66"
   },
   "source": [
    "\"cadena de caracteres\""
   ],
   "execution_count": 19,
   "outputs": [
    {
     "output_type": "execute_result",
     "data": {
      "application/vnd.google.colaboratory.intrinsic+json": {
       "type": "string"
      },
      "text/plain": [
       "'cadena de caracteres'"
      ]
     },
     "metadata": {},
     "execution_count": 19
    }
   ]
  },
  {
   "cell_type": "code",
   "metadata": {
    "colab": {
     "base_uri": "https://localhost:8080/"
    },
    "id": "a2cESF1nbTvQ",
    "executionInfo": {
     "status": "ok",
     "timestamp": 1643679466113,
     "user_tz": 360,
     "elapsed": 32,
     "user": {
      "displayName": "Luis Fernando Leal Hernandez",
      "photoUrl": "https://lh3.googleusercontent.com/a/default-user=s64",
      "userId": "08643725771405988586"
     }
    },
    "outputId": "e77060aa-2920-44fc-8b61-9bddb55084a1"
   },
   "source": [
    "len(\"cadena de caracteres\")"
   ],
   "execution_count": 20,
   "outputs": [
    {
     "output_type": "execute_result",
     "data": {
      "text/plain": [
       "20"
      ]
     },
     "metadata": {},
     "execution_count": 20
    }
   ]
  },
  {
   "cell_type": "code",
   "metadata": {
    "id": "MZpI6nyGpFnX",
    "colab": {
     "base_uri": "https://localhost:8080/",
     "height": 36
    },
    "executionInfo": {
     "status": "ok",
     "timestamp": 1643679466603,
     "user_tz": 360,
     "elapsed": 518,
     "user": {
      "displayName": "Luis Fernando Leal Hernandez",
      "photoUrl": "https://lh3.googleusercontent.com/a/default-user=s64",
      "userId": "08643725771405988586"
     }
    },
    "outputId": "17436955-8316-4ff9-94c9-18edee73573b"
   },
   "source": [
    "'\"cadena de caracteres\"'"
   ],
   "execution_count": 21,
   "outputs": [
    {
     "output_type": "execute_result",
     "data": {
      "application/vnd.google.colaboratory.intrinsic+json": {
       "type": "string"
      },
      "text/plain": [
       "'\"cadena de caracteres\"'"
      ]
     },
     "metadata": {},
     "execution_count": 21
    }
   ]
  },
  {
   "cell_type": "code",
   "source": [
    "\"'cadena de caracteres'\""
   ],
   "metadata": {
    "colab": {
     "base_uri": "https://localhost:8080/",
     "height": 36
    },
    "id": "xyvz2snafUlQ",
    "executionInfo": {
     "status": "ok",
     "timestamp": 1643679466617,
     "user_tz": 360,
     "elapsed": 140,
     "user": {
      "displayName": "Luis Fernando Leal Hernandez",
      "photoUrl": "https://lh3.googleusercontent.com/a/default-user=s64",
      "userId": "08643725771405988586"
     }
    },
    "outputId": "641a90c1-b147-4376-de31-24b4354893dd"
   },
   "execution_count": 22,
   "outputs": [
    {
     "output_type": "execute_result",
     "data": {
      "application/vnd.google.colaboratory.intrinsic+json": {
       "type": "string"
      },
      "text/plain": [
       "\"'cadena de caracteres'\""
      ]
     },
     "metadata": {},
     "execution_count": 22
    }
   ]
  },
  {
   "cell_type": "code",
   "metadata": {
    "colab": {
     "base_uri": "https://localhost:8080/"
    },
    "id": "DsMt_Yx9bP6X",
    "executionInfo": {
     "status": "ok",
     "timestamp": 1643679466618,
     "user_tz": 360,
     "elapsed": 137,
     "user": {
      "displayName": "Luis Fernando Leal Hernandez",
      "photoUrl": "https://lh3.googleusercontent.com/a/default-user=s64",
      "userId": "08643725771405988586"
     }
    },
    "outputId": "932e3590-19ec-4160-c72a-9be79bba7acd"
   },
   "source": [
    "len('\"cadena de caracteres\"')"
   ],
   "execution_count": 23,
   "outputs": [
    {
     "output_type": "execute_result",
     "data": {
      "text/plain": [
       "22"
      ]
     },
     "metadata": {},
     "execution_count": 23
    }
   ]
  },
  {
   "cell_type": "code",
   "metadata": {
    "id": "3u-72WO0pFnY",
    "colab": {
     "base_uri": "https://localhost:8080/",
     "height": 36
    },
    "executionInfo": {
     "status": "ok",
     "timestamp": 1643679466619,
     "user_tz": 360,
     "elapsed": 125,
     "user": {
      "displayName": "Luis Fernando Leal Hernandez",
      "photoUrl": "https://lh3.googleusercontent.com/a/default-user=s64",
      "userId": "08643725771405988586"
     }
    },
    "outputId": "3add0d4f-fb17-45eb-e590-7f039cd44cc2"
   },
   "source": [
    "str(\"12\")"
   ],
   "execution_count": 24,
   "outputs": [
    {
     "output_type": "execute_result",
     "data": {
      "application/vnd.google.colaboratory.intrinsic+json": {
       "type": "string"
      },
      "text/plain": [
       "'12'"
      ]
     },
     "metadata": {},
     "execution_count": 24
    }
   ]
  },
  {
   "cell_type": "code",
   "metadata": {
    "id": "qQ7X2NOYpFnY",
    "colab": {
     "base_uri": "https://localhost:8080/",
     "height": 36
    },
    "executionInfo": {
     "status": "ok",
     "timestamp": 1643679466622,
     "user_tz": 360,
     "elapsed": 127,
     "user": {
      "displayName": "Luis Fernando Leal Hernandez",
      "photoUrl": "https://lh3.googleusercontent.com/a/default-user=s64",
      "userId": "08643725771405988586"
     }
    },
    "outputId": "17729069-d64d-4a9c-c997-6b9bf3c0f971"
   },
   "source": [
    "str(12)"
   ],
   "execution_count": 25,
   "outputs": [
    {
     "output_type": "execute_result",
     "data": {
      "application/vnd.google.colaboratory.intrinsic+json": {
       "type": "string"
      },
      "text/plain": [
       "'12'"
      ]
     },
     "metadata": {},
     "execution_count": 25
    }
   ]
  },
  {
   "cell_type": "code",
   "metadata": {
    "colab": {
     "base_uri": "https://localhost:8080/",
     "height": 36
    },
    "id": "CBCdZEdfccuD",
    "executionInfo": {
     "status": "ok",
     "timestamp": 1643679466625,
     "user_tz": 360,
     "elapsed": 129,
     "user": {
      "displayName": "Luis Fernando Leal Hernandez",
      "photoUrl": "https://lh3.googleusercontent.com/a/default-user=s64",
      "userId": "08643725771405988586"
     }
    },
    "outputId": "66fe1d87-f8f4-416f-d9d5-892f48b1ec2a"
   },
   "source": [
    "\"12\" + \"2\""
   ],
   "execution_count": 26,
   "outputs": [
    {
     "output_type": "execute_result",
     "data": {
      "application/vnd.google.colaboratory.intrinsic+json": {
       "type": "string"
      },
      "text/plain": [
       "'122'"
      ]
     },
     "metadata": {},
     "execution_count": 26
    }
   ]
  },
  {
   "cell_type": "code",
   "metadata": {
    "colab": {
     "base_uri": "https://localhost:8080/"
    },
    "id": "xG7QuLtucgXX",
    "executionInfo": {
     "status": "ok",
     "timestamp": 1643679466627,
     "user_tz": 360,
     "elapsed": 130,
     "user": {
      "displayName": "Luis Fernando Leal Hernandez",
      "photoUrl": "https://lh3.googleusercontent.com/a/default-user=s64",
      "userId": "08643725771405988586"
     }
    },
    "outputId": "f1103f8e-b95f-40f7-81c3-24f0d5f975bc"
   },
   "source": [
    "12 + 2"
   ],
   "execution_count": 27,
   "outputs": [
    {
     "output_type": "execute_result",
     "data": {
      "text/plain": [
       "14"
      ]
     },
     "metadata": {},
     "execution_count": 27
    }
   ]
  },
  {
   "cell_type": "code",
   "metadata": {
    "id": "ef-HL0rqpFnY",
    "colab": {
     "base_uri": "https://localhost:8080/"
    },
    "executionInfo": {
     "status": "ok",
     "timestamp": 1643679466629,
     "user_tz": 360,
     "elapsed": 106,
     "user": {
      "displayName": "Luis Fernando Leal Hernandez",
      "photoUrl": "https://lh3.googleusercontent.com/a/default-user=s64",
      "userId": "08643725771405988586"
     }
    },
    "outputId": "0c8bf201-4521-46b6-a8b5-af17e9171d54"
   },
   "source": [
    "int(\"12\") + 2"
   ],
   "execution_count": 28,
   "outputs": [
    {
     "output_type": "execute_result",
     "data": {
      "text/plain": [
       "14"
      ]
     },
     "metadata": {},
     "execution_count": 28
    }
   ]
  },
  {
   "cell_type": "code",
   "metadata": {
    "id": "Bp5cOaSqpFnY",
    "colab": {
     "base_uri": "https://localhost:8080/"
    },
    "executionInfo": {
     "status": "ok",
     "timestamp": 1643679466645,
     "user_tz": 360,
     "elapsed": 118,
     "user": {
      "displayName": "Luis Fernando Leal Hernandez",
      "photoUrl": "https://lh3.googleusercontent.com/a/default-user=s64",
      "userId": "08643725771405988586"
     }
    },
    "outputId": "a7510279-d9c7-40b5-f375-63b269363871"
   },
   "source": [
    "float(\"3.1416\") * 2"
   ],
   "execution_count": 29,
   "outputs": [
    {
     "output_type": "execute_result",
     "data": {
      "text/plain": [
       "6.2832"
      ]
     },
     "metadata": {},
     "execution_count": 29
    }
   ]
  },
  {
   "cell_type": "markdown",
   "source": [],
   "metadata": {
    "collapsed": false
   }
  },
  {
   "cell_type": "markdown",
   "metadata": {
    "id": "zOXNFWT0pFnZ"
   },
   "source": [
    "#### Números complejos"
   ]
  },
  {
   "cell_type": "code",
   "metadata": {
    "id": "jt15Rb4PpFnZ",
    "colab": {
     "base_uri": "https://localhost:8080/"
    },
    "executionInfo": {
     "status": "ok",
     "timestamp": 1643679588442,
     "user_tz": 360,
     "elapsed": 204,
     "user": {
      "displayName": "Luis Fernando Leal Hernandez",
      "photoUrl": "https://lh3.googleusercontent.com/a/default-user=s64",
      "userId": "08643725771405988586"
     }
    },
    "outputId": "9f1a17c3-9508-493d-a9b1-b9ff2b6127e0"
   },
   "source": [
    "(1 + 2j) * (1 + 2j)"
   ],
   "execution_count": 31,
   "outputs": [
    {
     "output_type": "execute_result",
     "data": {
      "text/plain": [
       "(-3+4j)"
      ]
     },
     "metadata": {},
     "execution_count": 31
    }
   ]
  },
  {
   "cell_type": "markdown",
   "metadata": {
    "id": "XUp-VO7JpFnZ"
   },
   "source": [
    "#### Booleanos\n",
    "Utilizados comunmente para controlar el flujo de un programa a través de la evaluación de condiciones, estas condiciones pueden cumplirse(True) o no cumplirse(False) y determinamos el flujo de un programa según uno de estos 2 valores.\n",
    "\n",
    "En otros contextos y/o lenguajes tenemos\n",
    "* 1=True\n",
    "* 0=False\n",
    "\n",
    "Por ejemplo, un alumno aprueba si su nota es mayor a 61 , por lo tanto una condición puede ser: verdadera si el alumno tiene mas de 61 o falsa en caso contrario"
   ]
  },
  {
   "cell_type": "code",
   "source": [],
   "metadata": {
    "id": "utH7t2i383HO"
   },
   "execution_count": null,
   "outputs": []
  },
  {
   "cell_type": "code",
   "metadata": {
    "id": "3ddPDxKTpFna",
    "colab": {
     "base_uri": "https://localhost:8080/"
    },
    "executionInfo": {
     "status": "ok",
     "timestamp": 1643679710106,
     "user_tz": 360,
     "elapsed": 193,
     "user": {
      "displayName": "Luis Fernando Leal Hernandez",
      "photoUrl": "https://lh3.googleusercontent.com/a/default-user=s64",
      "userId": "08643725771405988586"
     }
    },
    "outputId": "535d3a8f-190c-444a-a5ec-55d9d0161d85"
   },
   "source": [
    "True"
   ],
   "execution_count": 32,
   "outputs": [
    {
     "output_type": "execute_result",
     "data": {
      "text/plain": [
       "True"
      ]
     },
     "metadata": {},
     "execution_count": 32
    }
   ]
  },
  {
   "cell_type": "code",
   "metadata": {
    "id": "EQ54y30ApFna",
    "colab": {
     "base_uri": "https://localhost:8080/"
    },
    "executionInfo": {
     "status": "ok",
     "timestamp": 1643679716048,
     "user_tz": 360,
     "elapsed": 214,
     "user": {
      "displayName": "Luis Fernando Leal Hernandez",
      "photoUrl": "https://lh3.googleusercontent.com/a/default-user=s64",
      "userId": "08643725771405988586"
     }
    },
    "outputId": "29a6459c-e20f-43f8-dd29-76880b898545"
   },
   "source": [
    "False"
   ],
   "execution_count": 33,
   "outputs": [
    {
     "output_type": "execute_result",
     "data": {
      "text/plain": [
       "False"
      ]
     },
     "metadata": {},
     "execution_count": 33
    }
   ]
  },
  {
   "cell_type": "code",
   "metadata": {
    "id": "4MqS3mNmpFna",
    "colab": {
     "base_uri": "https://localhost:8080/"
    },
    "executionInfo": {
     "status": "ok",
     "timestamp": 1643679736312,
     "user_tz": 360,
     "elapsed": 230,
     "user": {
      "displayName": "Luis Fernando Leal Hernandez",
      "photoUrl": "https://lh3.googleusercontent.com/a/default-user=s64",
      "userId": "08643725771405988586"
     }
    },
    "outputId": "4d09fe69-f52b-4680-fdc5-b22b2e67f02d"
   },
   "source": [
    "bool(1)"
   ],
   "execution_count": 34,
   "outputs": [
    {
     "output_type": "execute_result",
     "data": {
      "text/plain": [
       "True"
      ]
     },
     "metadata": {},
     "execution_count": 34
    }
   ]
  },
  {
   "cell_type": "code",
   "metadata": {
    "id": "htTjCeu_pFna",
    "colab": {
     "base_uri": "https://localhost:8080/"
    },
    "executionInfo": {
     "status": "ok",
     "timestamp": 1643679738085,
     "user_tz": 360,
     "elapsed": 189,
     "user": {
      "displayName": "Luis Fernando Leal Hernandez",
      "photoUrl": "https://lh3.googleusercontent.com/a/default-user=s64",
      "userId": "08643725771405988586"
     }
    },
    "outputId": "e1a2d654-ac99-4557-d58b-d8844d29a484"
   },
   "source": [
    "bool(0)"
   ],
   "execution_count": 35,
   "outputs": [
    {
     "output_type": "execute_result",
     "data": {
      "text/plain": [
       "False"
      ]
     },
     "metadata": {},
     "execution_count": 35
    }
   ]
  },
  {
   "cell_type": "code",
   "metadata": {
    "id": "9G7iCCDLpFnb",
    "colab": {
     "base_uri": "https://localhost:8080/"
    },
    "executionInfo": {
     "status": "ok",
     "timestamp": 1643679752455,
     "user_tz": 360,
     "elapsed": 212,
     "user": {
      "displayName": "Luis Fernando Leal Hernandez",
      "photoUrl": "https://lh3.googleusercontent.com/a/default-user=s64",
      "userId": "08643725771405988586"
     }
    },
    "outputId": "a4bbe367-43e4-4a6a-ead5-0a7cb869e037"
   },
   "source": [
    "bool(\"True\")"
   ],
   "execution_count": 36,
   "outputs": [
    {
     "output_type": "execute_result",
     "data": {
      "text/plain": [
       "True"
      ]
     },
     "metadata": {},
     "execution_count": 36
    }
   ]
  },
  {
   "cell_type": "code",
   "metadata": {
    "colab": {
     "base_uri": "https://localhost:8080/"
    },
    "id": "HmPQItKTdwxI",
    "executionInfo": {
     "status": "ok",
     "timestamp": 1643679755903,
     "user_tz": 360,
     "elapsed": 219,
     "user": {
      "displayName": "Luis Fernando Leal Hernandez",
      "photoUrl": "https://lh3.googleusercontent.com/a/default-user=s64",
      "userId": "08643725771405988586"
     }
    },
    "outputId": "d9443621-e593-4d09-e1ae-81d322789fbd"
   },
   "source": [
    "bool(\"false\")"
   ],
   "execution_count": 37,
   "outputs": [
    {
     "output_type": "execute_result",
     "data": {
      "text/plain": [
       "True"
      ]
     },
     "metadata": {},
     "execution_count": 37
    }
   ]
  },
  {
   "cell_type": "code",
   "metadata": {
    "colab": {
     "base_uri": "https://localhost:8080/"
    },
    "id": "_c2H30p2d6HE",
    "executionInfo": {
     "status": "ok",
     "timestamp": 1643679759607,
     "user_tz": 360,
     "elapsed": 204,
     "user": {
      "displayName": "Luis Fernando Leal Hernandez",
      "photoUrl": "https://lh3.googleusercontent.com/a/default-user=s64",
      "userId": "08643725771405988586"
     }
    },
    "outputId": "e24c9239-4205-432f-d463-2783a5199e77"
   },
   "source": [
    "bool(\"False\")"
   ],
   "execution_count": 38,
   "outputs": [
    {
     "output_type": "execute_result",
     "data": {
      "text/plain": [
       "True"
      ]
     },
     "metadata": {},
     "execution_count": 38
    }
   ]
  },
  {
   "cell_type": "markdown",
   "metadata": {
    "id": "DI9zN2PQpFnb"
   },
   "source": [
    "#### Notación científica\n",
    "Más que un tipo de objeto o tipo de valor, es una forma de reprsentar uno de los ya mencionados números decimales o reales por lo cual todas las operaciones o usos de un número real estan también disponibles a números específicados con esta notación."
   ]
  },
  {
   "cell_type": "code",
   "metadata": {
    "id": "p5Zf3WIhpFnb",
    "colab": {
     "base_uri": "https://localhost:8080/"
    },
    "executionInfo": {
     "status": "ok",
     "timestamp": 1643679890417,
     "user_tz": 360,
     "elapsed": 281,
     "user": {
      "displayName": "Luis Fernando Leal Hernandez",
      "photoUrl": "https://lh3.googleusercontent.com/a/default-user=s64",
      "userId": "08643725771405988586"
     }
    },
    "outputId": "97a75a99-f5b3-4dee-933f-967183d32eb4"
   },
   "source": [
    "# Numero real comun\n",
    "-3.14"
   ],
   "execution_count": 40,
   "outputs": [
    {
     "output_type": "execute_result",
     "data": {
      "text/plain": [
       "-3.14"
      ]
     },
     "metadata": {},
     "execution_count": 40
    }
   ]
  },
  {
   "cell_type": "code",
   "metadata": {
    "id": "Jp6KM_zJpFnc",
    "colab": {
     "base_uri": "https://localhost:8080/"
    },
    "executionInfo": {
     "status": "ok",
     "timestamp": 1643679921089,
     "user_tz": 360,
     "elapsed": 199,
     "user": {
      "displayName": "Luis Fernando Leal Hernandez",
      "photoUrl": "https://lh3.googleusercontent.com/a/default-user=s64",
      "userId": "08643725771405988586"
     }
    },
    "outputId": "08ed06d2-e16c-4dc5-c362-0dcebfe5e0eb"
   },
   "source": [
    "-314e-2"
   ],
   "execution_count": 41,
   "outputs": [
    {
     "output_type": "execute_result",
     "data": {
      "text/plain": [
       "-3.14"
      ]
     },
     "metadata": {},
     "execution_count": 41
    }
   ]
  },
  {
   "cell_type": "code",
   "metadata": {
    "id": "llSQq33jpFnd",
    "colab": {
     "base_uri": "https://localhost:8080/"
    },
    "executionInfo": {
     "status": "ok",
     "timestamp": 1643679941822,
     "user_tz": 360,
     "elapsed": 208,
     "user": {
      "displayName": "Luis Fernando Leal Hernandez",
      "photoUrl": "https://lh3.googleusercontent.com/a/default-user=s64",
      "userId": "08643725771405988586"
     }
    },
    "outputId": "6e35a7b5-19f0-425e-900f-9d5a1f52c41f"
   },
   "source": [
    "-314.0e-2"
   ],
   "execution_count": 42,
   "outputs": [
    {
     "output_type": "execute_result",
     "data": {
      "text/plain": [
       "-3.14"
      ]
     },
     "metadata": {},
     "execution_count": 42
    }
   ]
  },
  {
   "cell_type": "code",
   "metadata": {
    "id": "MVaE8D8rpFnd",
    "colab": {
     "base_uri": "https://localhost:8080/"
    },
    "executionInfo": {
     "status": "ok",
     "timestamp": 1643679956710,
     "user_tz": 360,
     "elapsed": 235,
     "user": {
      "displayName": "Luis Fernando Leal Hernandez",
      "photoUrl": "https://lh3.googleusercontent.com/a/default-user=s64",
      "userId": "08643725771405988586"
     }
    },
    "outputId": "13a3802c-a436-4d04-843e-15c6201e4235"
   },
   "source": [
    "-0.00314e3"
   ],
   "execution_count": 43,
   "outputs": [
    {
     "output_type": "execute_result",
     "data": {
      "text/plain": [
       "-3.14"
      ]
     },
     "metadata": {},
     "execution_count": 43
    }
   ]
  },
  {
   "cell_type": "markdown",
   "metadata": {
    "id": "bw6u5QwlpFnd"
   },
   "source": [
    "#### Formato hexadecimal \n",
    "No es tan utilizado por lo cual no entraremos a detalles, solo veremos 2 ejemplos de como especificar un numero exadecimal y pasarlo a entero o como pasar de entero a hexadecimal."
   ]
  },
  {
   "cell_type": "code",
   "metadata": {
    "id": "ivuJGc2UpFne",
    "colab": {
     "base_uri": "https://localhost:8080/"
    },
    "executionInfo": {
     "status": "ok",
     "timestamp": 1643680000770,
     "user_tz": 360,
     "elapsed": 291,
     "user": {
      "displayName": "Luis Fernando Leal Hernandez",
      "photoUrl": "https://lh3.googleusercontent.com/a/default-user=s64",
      "userId": "08643725771405988586"
     }
    },
    "outputId": "420ae140-79a0-465e-b5cd-c58215a61b10"
   },
   "source": [
    "0xff"
   ],
   "execution_count": 44,
   "outputs": [
    {
     "output_type": "execute_result",
     "data": {
      "text/plain": [
       "255"
      ]
     },
     "metadata": {},
     "execution_count": 44
    }
   ]
  },
  {
   "cell_type": "code",
   "metadata": {
    "id": "EYURMFOVpFne",
    "colab": {
     "base_uri": "https://localhost:8080/",
     "height": 36
    },
    "executionInfo": {
     "status": "ok",
     "timestamp": 1643680013752,
     "user_tz": 360,
     "elapsed": 187,
     "user": {
      "displayName": "Luis Fernando Leal Hernandez",
      "photoUrl": "https://lh3.googleusercontent.com/a/default-user=s64",
      "userId": "08643725771405988586"
     }
    },
    "outputId": "e3ceb917-a276-40a6-b074-50fcfdf81329"
   },
   "source": [
    "hex(255)"
   ],
   "execution_count": 45,
   "outputs": [
    {
     "output_type": "execute_result",
     "data": {
      "application/vnd.google.colaboratory.intrinsic+json": {
       "type": "string"
      },
      "text/plain": [
       "'0xff'"
      ]
     },
     "metadata": {},
     "execution_count": 45
    }
   ]
  },
  {
   "cell_type": "markdown",
   "metadata": {
    "id": "AGM37GRSpFne"
   },
   "source": [
    "### Variables/identificadores\n",
    "\n",
    "Similar al concepto de variables de la mayoría de lenguajes de programación . Nos permite dar un nombre(o identificador) a un objeto o valor de interés en nuestro programa, o bien definir en nuestro programa operaciones sobre un objeto del cual no conocemos su valor al momento de crear el programa ya que puede \"variar\" según información en una base de datos, un archivo u otros elementos(como un web service).\n",
    "\n",
    "* En python el tipo pertenece al objeto no a la variable/identificador\n",
    "    * por lo tanto podemos re-utilizar la variable en objetos de distinto tipo( tener precaucion)\n",
    "* Relacionado al punto anterior, Python es debilmente tipificado(no se necesita declarar tipos explicitamente)\n",
    "* Python es \"case sensitive\" por lo cual tipo_cambio es un identificador distinto a Tipo_cambio\n",
    "* Podemos usar las variables/identificadores en cualquier expresion donde un valor/literal pueda ser usado\n",
    "\n",
    "Un uso comun de las variables es utilizarla para guardar los resultados de operaciones y/o calculos que luego seran utilizados en otro punto del programa.\n",
    "\n",
    "Una **operación muy importante** y frecuente en Python es la operación de asignación en la cual asignamos un valor/objeto o el resultado de una operación a una variable/o identificador, esta operación tiene la sintáxis:\n",
    "\n",
    "< identificador >=objeto/valor/resultado de operacion\n",
    "\n",
    "Que significa que el objeto/valor o resultado de cierta operación podra ser accedido o usado en el programa bajo el nombre \"identificador\". Veamos algunos ejemplos:"
   ]
  },
  {
   "cell_type": "code",
   "metadata": {
    "id": "pMGLJBW0pFnf",
    "colab": {
     "base_uri": "https://localhost:8080/"
    },
    "executionInfo": {
     "status": "ok",
     "timestamp": 1643680303514,
     "user_tz": 360,
     "elapsed": 199,
     "user": {
      "displayName": "Luis Fernando Leal Hernandez",
      "photoUrl": "https://lh3.googleusercontent.com/a/default-user=s64",
      "userId": "08643725771405988586"
     }
    },
    "outputId": "a4823f77-e7fd-4796-9582-34495f987680"
   },
   "source": [
    "#int tipo_cambio = 7;\n",
    "tipo_cambio = 7 # tipo_cambio es el identificador para el valor real 7.0\n",
    "\n",
    "print(tipo_cambio)\n",
    "type(tipo_cambio)"
   ],
   "execution_count": 36,
   "outputs": [
    {
     "name": "stdout",
     "output_type": "stream",
     "text": [
      "7\n"
     ]
    },
    {
     "data": {
      "text/plain": "int"
     },
     "execution_count": 36,
     "metadata": {},
     "output_type": "execute_result"
    }
   ]
  },
  {
   "cell_type": "code",
   "metadata": {
    "id": "3zRrEmEvpFnf",
    "colab": {
     "base_uri": "https://localhost:8080/"
    },
    "executionInfo": {
     "status": "ok",
     "timestamp": 1643680316737,
     "user_tz": 360,
     "elapsed": 225,
     "user": {
      "displayName": "Luis Fernando Leal Hernandez",
      "photoUrl": "https://lh3.googleusercontent.com/a/default-user=s64",
      "userId": "08643725771405988586"
     }
    },
    "outputId": "ef34327a-2a09-480b-be14-a906309f769d"
   },
   "source": [
    "type(float(tipo_cambio))"
   ],
   "execution_count": 37,
   "outputs": [
    {
     "data": {
      "text/plain": "float"
     },
     "execution_count": 37,
     "metadata": {},
     "output_type": "execute_result"
    }
   ]
  },
  {
   "cell_type": "code",
   "metadata": {
    "id": "6HEXkP3-pFni",
    "colab": {
     "base_uri": "https://localhost:8080/"
    },
    "executionInfo": {
     "status": "ok",
     "timestamp": 1643680364568,
     "user_tz": 360,
     "elapsed": 433,
     "user": {
      "displayName": "Luis Fernando Leal Hernandez",
      "photoUrl": "https://lh3.googleusercontent.com/a/default-user=s64",
      "userId": "08643725771405988586"
     }
    },
    "outputId": "b20c58b6-aa22-4a2f-cdcd-17e971d3b5cd"
   },
   "source": [
    "tipo_cambio"
   ],
   "execution_count": 38,
   "outputs": [
    {
     "data": {
      "text/plain": "7"
     },
     "execution_count": 38,
     "metadata": {},
     "output_type": "execute_result"
    }
   ]
  },
  {
   "cell_type": "code",
   "metadata": {
    "id": "WCN32SRLpFni",
    "colab": {
     "base_uri": "https://localhost:8080/"
    },
    "executionInfo": {
     "status": "ok",
     "timestamp": 1643680375761,
     "user_tz": 360,
     "elapsed": 185,
     "user": {
      "displayName": "Luis Fernando Leal Hernandez",
      "photoUrl": "https://lh3.googleusercontent.com/a/default-user=s64",
      "userId": "08643725771405988586"
     }
    },
    "outputId": "fe1bf3c8-5eb1-4687-d5aa-e612f7e085c6"
   },
   "source": [
    "tipo_cambio = float(tipo_cambio)\n",
    "tipo_cambio\n"
   ],
   "execution_count": 40,
   "outputs": [
    {
     "data": {
      "text/plain": "7.0"
     },
     "execution_count": 40,
     "metadata": {},
     "output_type": "execute_result"
    }
   ]
  },
  {
   "cell_type": "markdown",
   "metadata": {
    "id": "A5YOIqCzpFni"
   },
   "source": [
    "Esto en java o C tendría que haber sido declarado con algo parecido a :\n",
    "\n",
    "double tipo_cambio = 7.0;\n",
    "\n",
    "Especificando el tipo de dato de la variable, en Python el tipo pertenece al objeto 7.0 y no a la variable tipo cambio por lo cual no es necesario declarar el tipo"
   ]
  },
  {
   "cell_type": "code",
   "metadata": {
    "id": "RKb1nQ3CpFnj",
    "colab": {
     "base_uri": "https://localhost:8080/"
    },
    "executionInfo": {
     "status": "ok",
     "timestamp": 1643680502568,
     "user_tz": 360,
     "elapsed": 221,
     "user": {
      "displayName": "Luis Fernando Leal Hernandez",
      "photoUrl": "https://lh3.googleusercontent.com/a/default-user=s64",
      "userId": "08643725771405988586"
     }
    },
    "outputId": "fdd78c55-1e9d-4bc3-81df-89f66e9f8808"
   },
   "source": [
    "monto = 10 # monto es el identificador para el valor real 10.0\n",
    "\n",
    "print(monto)\n",
    "type(monto)"
   ],
   "execution_count": 51,
   "outputs": [
    {
     "output_type": "stream",
     "name": "stdout",
     "text": [
      "10\n"
     ]
    },
    {
     "output_type": "execute_result",
     "data": {
      "text/plain": [
       "int"
      ]
     },
     "metadata": {},
     "execution_count": 51
    }
   ]
  },
  {
   "cell_type": "code",
   "metadata": {
    "id": "yvsFsTXXpFnj",
    "executionInfo": {
     "status": "ok",
     "timestamp": 1643680507477,
     "user_tz": 360,
     "elapsed": 192,
     "user": {
      "displayName": "Luis Fernando Leal Hernandez",
      "photoUrl": "https://lh3.googleusercontent.com/a/default-user=s64",
      "userId": "08643725771405988586"
     }
    }
   },
   "source": [
    "tipo_cambio = 7.0"
   ],
   "execution_count": 52,
   "outputs": []
  },
  {
   "cell_type": "code",
   "metadata": {
    "id": "tACL25vMpFnj",
    "colab": {
     "base_uri": "https://localhost:8080/"
    },
    "executionInfo": {
     "status": "ok",
     "timestamp": 1643680559150,
     "user_tz": 360,
     "elapsed": 214,
     "user": {
      "displayName": "Luis Fernando Leal Hernandez",
      "photoUrl": "https://lh3.googleusercontent.com/a/default-user=s64",
      "userId": "08643725771405988586"
     }
    },
    "outputId": "6963c529-95e9-4958-8c19-8539a91e314b"
   },
   "source": [
    "monto_convertido = tipo_cambio * monto #monto_convertido es el identificador para el resultado de la operación de multiplicar  el cambio por el monto\n",
    "\n",
    "print(monto_convertido)"
   ],
   "execution_count": 53,
   "outputs": [
    {
     "output_type": "stream",
     "name": "stdout",
     "text": [
      "70.0\n"
     ]
    }
   ]
  },
  {
   "cell_type": "code",
   "metadata": {
    "id": "O_GZrhH8pFnk",
    "colab": {
     "base_uri": "https://localhost:8080/"
    },
    "executionInfo": {
     "status": "ok",
     "timestamp": 1643680570545,
     "user_tz": 360,
     "elapsed": 199,
     "user": {
      "displayName": "Luis Fernando Leal Hernandez",
      "photoUrl": "https://lh3.googleusercontent.com/a/default-user=s64",
      "userId": "08643725771405988586"
     }
    },
    "outputId": "fdbac3ed-04c8-4004-884d-cdb80bf55d75"
   },
   "source": [
    "monto_convertido = float(tipo_cambio)*10.0 #monto_convertido es el identificador para el resultado de la operación de multiplicar  el cambio por el monto\n",
    "\n",
    "print(monto_convertido)"
   ],
   "execution_count": 54,
   "outputs": [
    {
     "output_type": "stream",
     "name": "stdout",
     "text": [
      "70.0\n"
     ]
    }
   ]
  },
  {
   "cell_type": "markdown",
   "metadata": {
    "id": "fEM6-OEspFnk"
   },
   "source": [
    "**detalle importante:** Las variables/identificadores pueden ser usadas en cualquier celda del notebook posterior a la  celda en la que fueron creados,por ejemplo puedo imprimir el monto_convertido en la siguiente celda sin necesidad de re-declararla "
   ]
  },
  {
   "cell_type": "code",
   "metadata": {
    "id": "X71nmNlIpFnl",
    "colab": {
     "base_uri": "https://localhost:8080/"
    },
    "executionInfo": {
     "status": "ok",
     "timestamp": 1643680618980,
     "user_tz": 360,
     "elapsed": 208,
     "user": {
      "displayName": "Luis Fernando Leal Hernandez",
      "photoUrl": "https://lh3.googleusercontent.com/a/default-user=s64",
      "userId": "08643725771405988586"
     }
    },
    "outputId": "60eb4b55-b640-41eb-a4a7-b8f818efe811"
   },
   "source": [
    "print(monto_convertido)"
   ],
   "execution_count": 55,
   "outputs": [
    {
     "output_type": "stream",
     "name": "stdout",
     "text": [
      "70.0\n"
     ]
    }
   ]
  },
  {
   "cell_type": "markdown",
   "metadata": {
    "id": "6GNYixXOpFnm"
   },
   "source": [
    "**ejercicio** : que pasa si usamos Monto_Convertido en print() en lugar de monto_convertido? Agrega una celda de codigo e intentalo"
   ]
  },
  {
   "cell_type": "code",
   "metadata": {
    "colab": {
     "base_uri": "https://localhost:8080/"
    },
    "id": "EKBqosUKiRaH",
    "executionInfo": {
     "status": "ok",
     "timestamp": 1643680758636,
     "user_tz": 360,
     "elapsed": 180,
     "user": {
      "displayName": "Luis Fernando Leal Hernandez",
      "photoUrl": "https://lh3.googleusercontent.com/a/default-user=s64",
      "userId": "08643725771405988586"
     }
    },
    "outputId": "c2f5e1be-cd48-4972-ec04-8c77db216960"
   },
   "source": [
    "Monto_Convertido=-1\n",
    "print(Monto_Convertido,monto_convertido)"
   ],
   "execution_count": 57,
   "outputs": [
    {
     "output_type": "stream",
     "name": "stdout",
     "text": [
      "-1 70.0 1 2\n"
     ]
    }
   ]
  },
  {
   "cell_type": "markdown",
   "metadata": {
    "id": "T7tKuQm1pFnn"
   },
   "source": [
    "### Expresiones\n",
    "\n",
    "Ya conocemos los valores/literales, variables e identificadores, que son elementos básicos para definir y representar datos e información en nuestros programas, pero necesitamos realizar operaciones en estos datos ya sean: operaciones numéricas, validaciones y comparaciones, operaciones en cadenas(por ejemplo sub-cadenas) de caracteres.\n",
    "\n",
    "En un lenguaje de programación se llama **expresión** a partes del programa que utilizan una combinación de una o mas: literales, valores, variables u operadores que la computadora opera para producir un resultado(un nuevo valor que puede ser asignado a un nuevo identificador o variable).\n",
    "\n",
    "Cuando escribimos hace un momento la sentencia de código:\n",
    "\n",
    "monto_convertido = tipo_cambio*monto\n",
    "\n",
    "Teníamos un ejemplo de expresión: en este caso la operación de multiplicación * se aplicó a 2 variables y el resultado de esta multiplicación se asigno con el operador  = a una nueva variable monto_convertido.\n",
    "\n",
    "Python y la mayoría de lenguajes tienen diversos operadores (y por lo tanto) tipos de operaciones.\n",
    "\n",
    "Según el tipo del objeto será posible aplicar algunas operaciones en este y otras no (por ejemplo, no podemos sumar 2 cadenas de caracteres)\n",
    "\n",
    "#### Operaciones y operadores aritméticos\n",
    "\n",
    "Tal y como su nombre indica son operadores que nos permiten realizar operaciones aritméticas como suma, resta, multiplicación o división.\n",
    "* suma +\n",
    "* resta -\n",
    "* multiplicación *\n",
    "* división : en Python podemos tener distintos tipos de división según lo que necesitemos\n",
    "    * División común   (obtiene el resultado completo incluyendo divisor y residuo)\n",
    "    * División entera /floor división (obtiene solo la parte entera redondeado al entero menor mas pequeño)\n",
    "    * División modular (obtiene solo el residuo de la división)\n",
    "* Potenciación ** \n",
    "\n",
    "Estos operadores pueden aplicarse cualquier valor valido que puede ser una literal, una variable o bien otras expresiones.\n",
    "\n",
    "Adicional a esto, podemos agrupar en paréntesis segmentos de operaciones y así de esta manera lograr mayor legibilidad, y definir explícitamente la precedencia y orden de las operaciones.\n"
   ]
  },
  {
   "cell_type": "code",
   "metadata": {
    "id": "W9BGa_OppFno",
    "colab": {
     "base_uri": "https://localhost:8080/"
    },
    "executionInfo": {
     "status": "ok",
     "timestamp": 1643680898959,
     "user_tz": 360,
     "elapsed": 182,
     "user": {
      "displayName": "Luis Fernando Leal Hernandez",
      "photoUrl": "https://lh3.googleusercontent.com/a/default-user=s64",
      "userId": "08643725771405988586"
     }
    },
    "outputId": "9c381f55-485d-4ec3-8bc0-e0c73ae58e9a"
   },
   "source": [
    "1 + 2"
   ],
   "execution_count": 58,
   "outputs": [
    {
     "output_type": "execute_result",
     "data": {
      "text/plain": [
       "3"
      ]
     },
     "metadata": {},
     "execution_count": 58
    }
   ]
  },
  {
   "cell_type": "code",
   "metadata": {
    "id": "HbIdSGxNpFnq",
    "colab": {
     "base_uri": "https://localhost:8080/"
    },
    "executionInfo": {
     "status": "ok",
     "timestamp": 1643680900256,
     "user_tz": 360,
     "elapsed": 183,
     "user": {
      "displayName": "Luis Fernando Leal Hernandez",
      "photoUrl": "https://lh3.googleusercontent.com/a/default-user=s64",
      "userId": "08643725771405988586"
     }
    },
    "outputId": "97dc1764-4e24-4faa-9bd7-612635be533c"
   },
   "source": [
    "1 - 1"
   ],
   "execution_count": 59,
   "outputs": [
    {
     "output_type": "execute_result",
     "data": {
      "text/plain": [
       "0"
      ]
     },
     "metadata": {},
     "execution_count": 59
    }
   ]
  },
  {
   "cell_type": "code",
   "metadata": {
    "id": "saYCzB5apFnq",
    "colab": {
     "base_uri": "https://localhost:8080/"
    },
    "executionInfo": {
     "status": "ok",
     "timestamp": 1643680901316,
     "user_tz": 360,
     "elapsed": 11,
     "user": {
      "displayName": "Luis Fernando Leal Hernandez",
      "photoUrl": "https://lh3.googleusercontent.com/a/default-user=s64",
      "userId": "08643725771405988586"
     }
    },
    "outputId": "3fb57136-218b-4371-fad6-6fc67a6560af"
   },
   "source": [
    "1.0 * 3"
   ],
   "execution_count": 60,
   "outputs": [
    {
     "output_type": "execute_result",
     "data": {
      "text/plain": [
       "3.0"
      ]
     },
     "metadata": {},
     "execution_count": 60
    }
   ]
  },
  {
   "cell_type": "code",
   "metadata": {
    "id": "8vzT2-skpFnr",
    "colab": {
     "base_uri": "https://localhost:8080/"
    },
    "executionInfo": {
     "status": "ok",
     "timestamp": 1643680928134,
     "user_tz": 360,
     "elapsed": 230,
     "user": {
      "displayName": "Luis Fernando Leal Hernandez",
      "photoUrl": "https://lh3.googleusercontent.com/a/default-user=s64",
      "userId": "08643725771405988586"
     }
    },
    "outputId": "2e8076e5-c41f-49ce-aa09-4b569e0f4f06"
   },
   "source": [
    "1 / 5 # cuidado con python 2"
   ],
   "execution_count": 61,
   "outputs": [
    {
     "output_type": "execute_result",
     "data": {
      "text/plain": [
       "0.2"
      ]
     },
     "metadata": {},
     "execution_count": 61
    }
   ]
  },
  {
   "cell_type": "code",
   "metadata": {
    "id": "0U1TGhrwpFns",
    "colab": {
     "base_uri": "https://localhost:8080/"
    },
    "executionInfo": {
     "status": "ok",
     "timestamp": 1643681292864,
     "user_tz": 360,
     "elapsed": 219,
     "user": {
      "displayName": "Luis Fernando Leal Hernandez",
      "photoUrl": "https://lh3.googleusercontent.com/a/default-user=s64",
      "userId": "08643725771405988586"
     }
    },
    "outputId": "f086b781-71e8-40dc-bfe1-bb218f67b486"
   },
   "source": [
    "nota1 = 25\n",
    "nota2 = 25\n",
    "nota3 = 50\n",
    "\n",
    "nota1 + nota2 + nota3\n",
    "otravar = nota1 + nota2 + nota3\n",
    "print(otravar)\n",
    "#nota1 + nota2 + nota3"
   ],
   "execution_count": 65,
   "outputs": [
    {
     "output_type": "stream",
     "name": "stdout",
     "text": [
      "100\n"
     ]
    }
   ]
  },
  {
   "cell_type": "code",
   "metadata": {
    "id": "wVkGmHl-pFns",
    "colab": {
     "base_uri": "https://localhost:8080/"
    },
    "executionInfo": {
     "status": "ok",
     "timestamp": 1643681303261,
     "user_tz": 360,
     "elapsed": 225,
     "user": {
      "displayName": "Luis Fernando Leal Hernandez",
      "photoUrl": "https://lh3.googleusercontent.com/a/default-user=s64",
      "userId": "08643725771405988586"
     }
    },
    "outputId": "1dae6183-f9bc-4886-e479-6e499d5ed9e8"
   },
   "source": [
    "nota1 + nota2 + 50"
   ],
   "execution_count": 66,
   "outputs": [
    {
     "output_type": "execute_result",
     "data": {
      "text/plain": [
       "100"
      ]
     },
     "metadata": {},
     "execution_count": 66
    }
   ]
  },
  {
   "cell_type": "code",
   "metadata": {
    "id": "GYLyFN5WpFnt",
    "colab": {
     "base_uri": "https://localhost:8080/"
    },
    "executionInfo": {
     "status": "ok",
     "timestamp": 1643681305311,
     "user_tz": 360,
     "elapsed": 228,
     "user": {
      "displayName": "Luis Fernando Leal Hernandez",
      "photoUrl": "https://lh3.googleusercontent.com/a/default-user=s64",
      "userId": "08643725771405988586"
     }
    },
    "outputId": "db4c12b7-0318-44e9-b97f-33a889aa5dfa"
   },
   "source": [
    "(nota1 + nota2 + nota3) * 0.1"
   ],
   "execution_count": 67,
   "outputs": [
    {
     "output_type": "execute_result",
     "data": {
      "text/plain": [
       "10.0"
      ]
     },
     "metadata": {},
     "execution_count": 67
    }
   ]
  },
  {
   "cell_type": "code",
   "metadata": {
    "id": "gdFdzBDhpFnu",
    "colab": {
     "base_uri": "https://localhost:8080/"
    },
    "executionInfo": {
     "status": "ok",
     "timestamp": 1643681308204,
     "user_tz": 360,
     "elapsed": 199,
     "user": {
      "displayName": "Luis Fernando Leal Hernandez",
      "photoUrl": "https://lh3.googleusercontent.com/a/default-user=s64",
      "userId": "08643725771405988586"
     }
    },
    "outputId": "84f9d82e-1206-46b9-c9b7-fb4ec5f2de7d"
   },
   "source": [
    "total = (nota1 + nota2 + nota3) * 0.1\n",
    "\n",
    "print(total)"
   ],
   "execution_count": 68,
   "outputs": [
    {
     "output_type": "stream",
     "name": "stdout",
     "text": [
      "10.0\n"
     ]
    }
   ]
  },
  {
   "cell_type": "code",
   "metadata": {
    "id": "irySbW-GpFnu",
    "colab": {
     "base_uri": "https://localhost:8080/"
    },
    "executionInfo": {
     "status": "ok",
     "timestamp": 1643681334704,
     "user_tz": 360,
     "elapsed": 202,
     "user": {
      "displayName": "Luis Fernando Leal Hernandez",
      "photoUrl": "https://lh3.googleusercontent.com/a/default-user=s64",
      "userId": "08643725771405988586"
     }
    },
    "outputId": "7423cdc3-de4b-4987-d6e3-206d7d5b046c"
   },
   "source": [
    "5/2"
   ],
   "execution_count": 69,
   "outputs": [
    {
     "output_type": "execute_result",
     "data": {
      "text/plain": [
       "2.5"
      ]
     },
     "metadata": {},
     "execution_count": 69
    }
   ]
  },
  {
   "cell_type": "code",
   "metadata": {
    "id": "cFQelWk2pFnv",
    "colab": {
     "base_uri": "https://localhost:8080/"
    },
    "executionInfo": {
     "status": "ok",
     "timestamp": 1643681335645,
     "user_tz": 360,
     "elapsed": 9,
     "user": {
      "displayName": "Luis Fernando Leal Hernandez",
      "photoUrl": "https://lh3.googleusercontent.com/a/default-user=s64",
      "userId": "08643725771405988586"
     }
    },
    "outputId": "29dc790a-5a8e-4e55-f88e-b5e6721e2970"
   },
   "source": [
    "5//2"
   ],
   "execution_count": 70,
   "outputs": [
    {
     "output_type": "execute_result",
     "data": {
      "text/plain": [
       "2"
      ]
     },
     "metadata": {},
     "execution_count": 70
    }
   ]
  },
  {
   "cell_type": "markdown",
   "metadata": {
    "id": "eLcT2ulJn56-"
   },
   "source": [
    "####  Division modular\n",
    "<img src=\"https://codeasy.net/ContentStorage/Chapters/f12284ad-3a17-4c8e-9167-0642ef9acab4/Assets/modulus.png\">\n"
   ]
  },
  {
   "cell_type": "code",
   "metadata": {
    "id": "A2TrQhpLn4zc",
    "colab": {
     "base_uri": "https://localhost:8080/"
    },
    "executionInfo": {
     "status": "ok",
     "timestamp": 1643681387526,
     "user_tz": 360,
     "elapsed": 211,
     "user": {
      "displayName": "Luis Fernando Leal Hernandez",
      "photoUrl": "https://lh3.googleusercontent.com/a/default-user=s64",
      "userId": "08643725771405988586"
     }
    },
    "outputId": "fd9f25c8-0e00-4ee8-efd5-b6139bec2ecd"
   },
   "source": [
    "5%2"
   ],
   "execution_count": 71,
   "outputs": [
    {
     "output_type": "execute_result",
     "data": {
      "text/plain": [
       "1"
      ]
     },
     "metadata": {},
     "execution_count": 71
    }
   ]
  },
  {
   "cell_type": "code",
   "source": [],
   "metadata": {
    "id": "44Ix901aC0je"
   },
   "execution_count": null,
   "outputs": []
  },
  {
   "cell_type": "code",
   "metadata": {
    "colab": {
     "base_uri": "https://localhost:8080/"
    },
    "id": "hNV15YSusxXM",
    "executionInfo": {
     "status": "ok",
     "timestamp": 1643681399187,
     "user_tz": 360,
     "elapsed": 299,
     "user": {
      "displayName": "Luis Fernando Leal Hernandez",
      "photoUrl": "https://lh3.googleusercontent.com/a/default-user=s64",
      "userId": "08643725771405988586"
     }
    },
    "outputId": "1d4accf0-7faf-4181-98b6-13af9df0ecec"
   },
   "source": [
    "25%7"
   ],
   "execution_count": 72,
   "outputs": [
    {
     "output_type": "execute_result",
     "data": {
      "text/plain": [
       "4"
      ]
     },
     "metadata": {},
     "execution_count": 72
    }
   ]
  },
  {
   "cell_type": "code",
   "metadata": {
    "id": "Vz3lc2a4pFnw",
    "colab": {
     "base_uri": "https://localhost:8080/"
    },
    "executionInfo": {
     "status": "ok",
     "timestamp": 1643681400501,
     "user_tz": 360,
     "elapsed": 7,
     "user": {
      "displayName": "Luis Fernando Leal Hernandez",
      "photoUrl": "https://lh3.googleusercontent.com/a/default-user=s64",
      "userId": "08643725771405988586"
     }
    },
    "outputId": "5f8b8d37-8ec4-4958-d502-a58e25af854b"
   },
   "source": [
    "5%2"
   ],
   "execution_count": 73,
   "outputs": [
    {
     "output_type": "execute_result",
     "data": {
      "text/plain": [
       "1"
      ]
     },
     "metadata": {},
     "execution_count": 73
    }
   ]
  },
  {
   "cell_type": "code",
   "metadata": {
    "id": "_yKgofrVpFnx",
    "colab": {
     "base_uri": "https://localhost:8080/"
    },
    "executionInfo": {
     "status": "ok",
     "timestamp": 1643681401936,
     "user_tz": 360,
     "elapsed": 203,
     "user": {
      "displayName": "Luis Fernando Leal Hernandez",
      "photoUrl": "https://lh3.googleusercontent.com/a/default-user=s64",
      "userId": "08643725771405988586"
     }
    },
    "outputId": "e4406f76-b76f-47ed-d47e-f2e9d8f8c8fd"
   },
   "source": [
    "2%2"
   ],
   "execution_count": 74,
   "outputs": [
    {
     "output_type": "execute_result",
     "data": {
      "text/plain": [
       "0"
      ]
     },
     "metadata": {},
     "execution_count": 74
    }
   ]
  },
  {
   "cell_type": "code",
   "metadata": {
    "id": "yCHzF9hfpFnx",
    "colab": {
     "base_uri": "https://localhost:8080/"
    },
    "executionInfo": {
     "status": "ok",
     "timestamp": 1643681415004,
     "user_tz": 360,
     "elapsed": 198,
     "user": {
      "displayName": "Luis Fernando Leal Hernandez",
      "photoUrl": "https://lh3.googleusercontent.com/a/default-user=s64",
      "userId": "08643725771405988586"
     }
    },
    "outputId": "c28c1eed-a63d-4ffb-d767-9e3af40ef71c"
   },
   "source": [
    "6/2"
   ],
   "execution_count": 75,
   "outputs": [
    {
     "output_type": "execute_result",
     "data": {
      "text/plain": [
       "3.0"
      ]
     },
     "metadata": {},
     "execution_count": 75
    }
   ]
  },
  {
   "cell_type": "code",
   "metadata": {
    "id": "6bXsSzfMpFny",
    "colab": {
     "base_uri": "https://localhost:8080/"
    },
    "executionInfo": {
     "status": "ok",
     "timestamp": 1643681418367,
     "user_tz": 360,
     "elapsed": 207,
     "user": {
      "displayName": "Luis Fernando Leal Hernandez",
      "photoUrl": "https://lh3.googleusercontent.com/a/default-user=s64",
      "userId": "08643725771405988586"
     }
    },
    "outputId": "179a7e77-8da3-45b5-f719-3805cfbb31be"
   },
   "source": [
    "6/3"
   ],
   "execution_count": 76,
   "outputs": [
    {
     "output_type": "execute_result",
     "data": {
      "text/plain": [
       "2.0"
      ]
     },
     "metadata": {},
     "execution_count": 76
    }
   ]
  },
  {
   "cell_type": "code",
   "metadata": {
    "id": "PXXGz9srpFny",
    "colab": {
     "base_uri": "https://localhost:8080/"
    },
    "executionInfo": {
     "status": "ok",
     "timestamp": 1643681421713,
     "user_tz": 360,
     "elapsed": 189,
     "user": {
      "displayName": "Luis Fernando Leal Hernandez",
      "photoUrl": "https://lh3.googleusercontent.com/a/default-user=s64",
      "userId": "08643725771405988586"
     }
    },
    "outputId": "4adf8a6e-6f26-4f7c-8c48-bbd960b001f8"
   },
   "source": [
    "6%2"
   ],
   "execution_count": 77,
   "outputs": [
    {
     "output_type": "execute_result",
     "data": {
      "text/plain": [
       "0"
      ]
     },
     "metadata": {},
     "execution_count": 77
    }
   ]
  },
  {
   "cell_type": "code",
   "metadata": {
    "id": "qF3k8tDjpFnz",
    "colab": {
     "base_uri": "https://localhost:8080/"
    },
    "executionInfo": {
     "status": "ok",
     "timestamp": 1643681425044,
     "user_tz": 360,
     "elapsed": 197,
     "user": {
      "displayName": "Luis Fernando Leal Hernandez",
      "photoUrl": "https://lh3.googleusercontent.com/a/default-user=s64",
      "userId": "08643725771405988586"
     }
    },
    "outputId": "2efe11d2-796a-4bcc-c7fa-7f9e944e2f97"
   },
   "source": [
    "6%3"
   ],
   "execution_count": 78,
   "outputs": [
    {
     "output_type": "execute_result",
     "data": {
      "text/plain": [
       "0"
      ]
     },
     "metadata": {},
     "execution_count": 78
    }
   ]
  },
  {
   "cell_type": "code",
   "metadata": {
    "id": "jqVrN3FxpFnz",
    "colab": {
     "base_uri": "https://localhost:8080/"
    },
    "executionInfo": {
     "status": "ok",
     "timestamp": 1643681427747,
     "user_tz": 360,
     "elapsed": 186,
     "user": {
      "displayName": "Luis Fernando Leal Hernandez",
      "photoUrl": "https://lh3.googleusercontent.com/a/default-user=s64",
      "userId": "08643725771405988586"
     }
    },
    "outputId": "950c7cb6-95b4-4c42-b614-abec18c250b1"
   },
   "source": [
    "6%4"
   ],
   "execution_count": 79,
   "outputs": [
    {
     "output_type": "execute_result",
     "data": {
      "text/plain": [
       "2"
      ]
     },
     "metadata": {},
     "execution_count": 79
    }
   ]
  },
  {
   "cell_type": "markdown",
   "metadata": {
    "id": "Y3s6opvioPs1"
   },
   "source": [
    "#### Potenciación"
   ]
  },
  {
   "cell_type": "code",
   "metadata": {
    "id": "3BvQ3Te1pFnz",
    "colab": {
     "base_uri": "https://localhost:8080/"
    },
    "executionInfo": {
     "status": "ok",
     "timestamp": 1643681464265,
     "user_tz": 360,
     "elapsed": 181,
     "user": {
      "displayName": "Luis Fernando Leal Hernandez",
      "photoUrl": "https://lh3.googleusercontent.com/a/default-user=s64",
      "userId": "08643725771405988586"
     }
    },
    "outputId": "4ca99893-33ba-4be2-dbe2-763b1a06e617"
   },
   "source": [
    "2**2"
   ],
   "execution_count": 80,
   "outputs": [
    {
     "output_type": "execute_result",
     "data": {
      "text/plain": [
       "4"
      ]
     },
     "metadata": {},
     "execution_count": 80
    }
   ]
  },
  {
   "cell_type": "code",
   "metadata": {
    "id": "mIlBRTRxpFn0",
    "colab": {
     "base_uri": "https://localhost:8080/"
    },
    "executionInfo": {
     "status": "ok",
     "timestamp": 1643681467054,
     "user_tz": 360,
     "elapsed": 214,
     "user": {
      "displayName": "Luis Fernando Leal Hernandez",
      "photoUrl": "https://lh3.googleusercontent.com/a/default-user=s64",
      "userId": "08643725771405988586"
     }
    },
    "outputId": "f16fccc1-e856-4abc-9da0-5ff92d523733"
   },
   "source": [
    "2**3"
   ],
   "execution_count": 81,
   "outputs": [
    {
     "output_type": "execute_result",
     "data": {
      "text/plain": [
       "8"
      ]
     },
     "metadata": {},
     "execution_count": 81
    }
   ]
  },
  {
   "cell_type": "code",
   "source": [
    "0.9**1000"
   ],
   "metadata": {
    "colab": {
     "base_uri": "https://localhost:8080/"
    },
    "id": "OVjdXxwrDRia",
    "executionInfo": {
     "status": "ok",
     "timestamp": 1643681659322,
     "user_tz": 360,
     "elapsed": 189,
     "user": {
      "displayName": "Luis Fernando Leal Hernandez",
      "photoUrl": "https://lh3.googleusercontent.com/a/default-user=s64",
      "userId": "08643725771405988586"
     }
    },
    "outputId": "d94755b3-2c92-40e3-da53-e2bf626acbc5"
   },
   "execution_count": 90,
   "outputs": [
    {
     "output_type": "execute_result",
     "data": {
      "text/plain": [
       "1.7478712517226947e-46"
      ]
     },
     "metadata": {},
     "execution_count": 90
    }
   ]
  },
  {
   "cell_type": "markdown",
   "metadata": {
    "id": "PSyWoS7goTm5"
   },
   "source": [
    "#### Combinando expresiones"
   ]
  },
  {
   "cell_type": "code",
   "metadata": {
    "id": "baKkJkCipFn0",
    "colab": {
     "base_uri": "https://localhost:8080/"
    },
    "executionInfo": {
     "status": "ok",
     "timestamp": 1643681697167,
     "user_tz": 360,
     "elapsed": 223,
     "user": {
      "displayName": "Luis Fernando Leal Hernandez",
      "photoUrl": "https://lh3.googleusercontent.com/a/default-user=s64",
      "userId": "08643725771405988586"
     }
    },
    "outputId": "4ecbc7ac-e760-497a-a251-5199769a1c77"
   },
   "source": [
    "((1+2)*(3+ 2**3)) + 8"
   ],
   "execution_count": 91,
   "outputs": [
    {
     "output_type": "execute_result",
     "data": {
      "text/plain": [
       "41"
      ]
     },
     "metadata": {},
     "execution_count": 91
    }
   ]
  },
  {
   "cell_type": "code",
   "metadata": {
    "id": "U8rVtzT5pFn1",
    "colab": {
     "base_uri": "https://localhost:8080/",
     "height": 36
    },
    "executionInfo": {
     "status": "ok",
     "timestamp": 1643681722663,
     "user_tz": 360,
     "elapsed": 217,
     "user": {
      "displayName": "Luis Fernando Leal Hernandez",
      "photoUrl": "https://lh3.googleusercontent.com/a/default-user=s64",
      "userId": "08643725771405988586"
     }
    },
    "outputId": "52b9e09e-c7fc-46e4-cd35-a13c3e1befec"
   },
   "source": [
    "\"hola\"+str(2)"
   ],
   "execution_count": 92,
   "outputs": [
    {
     "output_type": "execute_result",
     "data": {
      "application/vnd.google.colaboratory.intrinsic+json": {
       "type": "string"
      },
      "text/plain": [
       "'hola2'"
      ]
     },
     "metadata": {},
     "execution_count": 92
    }
   ]
  },
  {
   "cell_type": "markdown",
   "metadata": {
    "id": "1Nk9-1TopFn2"
   },
   "source": [
    "#### Operadores y operaciones relacionales (operadores de comparación)\n",
    "\n",
    "Estas operaciones/operadores son usadas para evaluar la relación entre 2 elementos (literales, variables o resultados de otras operaciones) a través de **evaluar** si cierta **condición** se cumple.\n",
    "\n",
    "Si la condición se cumple el resultado es \"verdadero\" representado en Python como True, si la condición no se cumple el resultado es \"falso\" representado en Python como False.\n",
    "\n",
    "Las operaciones relacionales son usadas comúnmente (en conjunto con operaciones lógicas que veremos) para controlar el flujo de un programa a través de evaluar condiciones y ejecutar ciertas partes del programa selectivamente según el resultado de la evaluación de condiciones.\n",
    "\n",
    "Los operadores relacionales nos ayudan a realizar comparaciones de valores, por ejemplo: si un valor es mayor, menor, igual o diferente de otro. \n",
    "Estos operadores son:\n",
    "\n",
    "* Mayor que >\n",
    "* Menor que <\n",
    "* == Igual a\n",
    "* \">=\" Mayor o Igual a\n",
    "* \"<=\" Menor o Igual a\n",
    "* != Differente a\n"
   ]
  },
  {
   "cell_type": "code",
   "metadata": {
    "id": "DNQetfoFpFn2",
    "colab": {
     "base_uri": "https://localhost:8080/"
    },
    "executionInfo": {
     "status": "ok",
     "timestamp": 1643681966930,
     "user_tz": 360,
     "elapsed": 286,
     "user": {
      "displayName": "Luis Fernando Leal Hernandez",
      "photoUrl": "https://lh3.googleusercontent.com/a/default-user=s64",
      "userId": "08643725771405988586"
     }
    },
    "outputId": "1c0b3a04-1290-4a8b-b346-5ff7a201d6b8"
   },
   "source": [
    "10 > 0"
   ],
   "execution_count": 94,
   "outputs": [
    {
     "output_type": "execute_result",
     "data": {
      "text/plain": [
       "True"
      ]
     },
     "metadata": {},
     "execution_count": 94
    }
   ]
  },
  {
   "cell_type": "code",
   "metadata": {
    "id": "rrv7YI2ipFn3",
    "colab": {
     "base_uri": "https://localhost:8080/"
    },
    "executionInfo": {
     "status": "ok",
     "timestamp": 1643681974521,
     "user_tz": 360,
     "elapsed": 202,
     "user": {
      "displayName": "Luis Fernando Leal Hernandez",
      "photoUrl": "https://lh3.googleusercontent.com/a/default-user=s64",
      "userId": "08643725771405988586"
     }
    },
    "outputId": "436ccc5d-c1ad-49aa-cc85-c2e63f96dfcc"
   },
   "source": [
    "10 > 10"
   ],
   "execution_count": 95,
   "outputs": [
    {
     "output_type": "execute_result",
     "data": {
      "text/plain": [
       "False"
      ]
     },
     "metadata": {},
     "execution_count": 95
    }
   ]
  },
  {
   "cell_type": "code",
   "metadata": {
    "id": "uMEbGuMbpFn4",
    "colab": {
     "base_uri": "https://localhost:8080/"
    },
    "executionInfo": {
     "status": "ok",
     "timestamp": 1643681985058,
     "user_tz": 360,
     "elapsed": 191,
     "user": {
      "displayName": "Luis Fernando Leal Hernandez",
      "photoUrl": "https://lh3.googleusercontent.com/a/default-user=s64",
      "userId": "08643725771405988586"
     }
    },
    "outputId": "45364a1a-3d92-4160-fc7b-8c77ff75a047"
   },
   "source": [
    "10 < 0"
   ],
   "execution_count": 96,
   "outputs": [
    {
     "output_type": "execute_result",
     "data": {
      "text/plain": [
       "False"
      ]
     },
     "metadata": {},
     "execution_count": 96
    }
   ]
  },
  {
   "cell_type": "code",
   "metadata": {
    "id": "cxowqAoApFn4",
    "colab": {
     "base_uri": "https://localhost:8080/"
    },
    "executionInfo": {
     "status": "ok",
     "timestamp": 1643681991001,
     "user_tz": 360,
     "elapsed": 221,
     "user": {
      "displayName": "Luis Fernando Leal Hernandez",
      "photoUrl": "https://lh3.googleusercontent.com/a/default-user=s64",
      "userId": "08643725771405988586"
     }
    },
    "outputId": "b914e8e7-a075-4fc7-cbac-6eb1fc820f45"
   },
   "source": [
    "10 > 0"
   ],
   "execution_count": 97,
   "outputs": [
    {
     "output_type": "execute_result",
     "data": {
      "text/plain": [
       "True"
      ]
     },
     "metadata": {},
     "execution_count": 97
    }
   ]
  },
  {
   "cell_type": "code",
   "metadata": {
    "id": "fdluoB4WpFn4",
    "colab": {
     "base_uri": "https://localhost:8080/"
    },
    "executionInfo": {
     "status": "ok",
     "timestamp": 1643682008168,
     "user_tz": 360,
     "elapsed": 237,
     "user": {
      "displayName": "Luis Fernando Leal Hernandez",
      "photoUrl": "https://lh3.googleusercontent.com/a/default-user=s64",
      "userId": "08643725771405988586"
     }
    },
    "outputId": "aa16c8ac-910c-44a7-cbf9-8b8be674223a"
   },
   "source": [
    "10 == 0"
   ],
   "execution_count": 98,
   "outputs": [
    {
     "output_type": "execute_result",
     "data": {
      "text/plain": [
       "False"
      ]
     },
     "metadata": {},
     "execution_count": 98
    }
   ]
  },
  {
   "cell_type": "code",
   "metadata": {
    "id": "ZIfeqB5gpFn4",
    "colab": {
     "base_uri": "https://localhost:8080/"
    },
    "executionInfo": {
     "status": "ok",
     "timestamp": 1643682019398,
     "user_tz": 360,
     "elapsed": 543,
     "user": {
      "displayName": "Luis Fernando Leal Hernandez",
      "photoUrl": "https://lh3.googleusercontent.com/a/default-user=s64",
      "userId": "08643725771405988586"
     }
    },
    "outputId": "501efdd3-c3b9-4f1a-e353-bcd79bc0def4"
   },
   "source": [
    "10 == 10"
   ],
   "execution_count": 99,
   "outputs": [
    {
     "output_type": "execute_result",
     "data": {
      "text/plain": [
       "True"
      ]
     },
     "metadata": {},
     "execution_count": 99
    }
   ]
  },
  {
   "cell_type": "code",
   "metadata": {
    "id": "X5fIhuXppFn5",
    "colab": {
     "base_uri": "https://localhost:8080/"
    },
    "executionInfo": {
     "status": "ok",
     "timestamp": 1643682022255,
     "user_tz": 360,
     "elapsed": 242,
     "user": {
      "displayName": "Luis Fernando Leal Hernandez",
      "photoUrl": "https://lh3.googleusercontent.com/a/default-user=s64",
      "userId": "08643725771405988586"
     }
    },
    "outputId": "c871e172-d446-4201-91c4-c86ac4515516"
   },
   "source": [
    "10 != 0"
   ],
   "execution_count": 100,
   "outputs": [
    {
     "output_type": "execute_result",
     "data": {
      "text/plain": [
       "True"
      ]
     },
     "metadata": {},
     "execution_count": 100
    }
   ]
  },
  {
   "cell_type": "code",
   "metadata": {
    "id": "ABaqfi9epFn5",
    "colab": {
     "base_uri": "https://localhost:8080/"
    },
    "executionInfo": {
     "status": "ok",
     "timestamp": 1643682027087,
     "user_tz": 360,
     "elapsed": 224,
     "user": {
      "displayName": "Luis Fernando Leal Hernandez",
      "photoUrl": "https://lh3.googleusercontent.com/a/default-user=s64",
      "userId": "08643725771405988586"
     }
    },
    "outputId": "d3fba1e0-1be4-423a-ac99-24903c1221b5"
   },
   "source": [
    "10 == 0"
   ],
   "execution_count": 101,
   "outputs": [
    {
     "output_type": "execute_result",
     "data": {
      "text/plain": [
       "False"
      ]
     },
     "metadata": {},
     "execution_count": 101
    }
   ]
  },
  {
   "cell_type": "code",
   "metadata": {
    "id": "7tumpWAgpFn5",
    "colab": {
     "base_uri": "https://localhost:8080/"
    },
    "executionInfo": {
     "status": "ok",
     "timestamp": 1643682031299,
     "user_tz": 360,
     "elapsed": 213,
     "user": {
      "displayName": "Luis Fernando Leal Hernandez",
      "photoUrl": "https://lh3.googleusercontent.com/a/default-user=s64",
      "userId": "08643725771405988586"
     }
    },
    "outputId": "df23237f-54f9-4600-8e6a-7fed59419094"
   },
   "source": [
    "10>=0"
   ],
   "execution_count": 102,
   "outputs": [
    {
     "output_type": "execute_result",
     "data": {
      "text/plain": [
       "True"
      ]
     },
     "metadata": {},
     "execution_count": 102
    }
   ]
  },
  {
   "cell_type": "code",
   "metadata": {
    "id": "euIhh6wMpFn6",
    "colab": {
     "base_uri": "https://localhost:8080/"
    },
    "executionInfo": {
     "status": "ok",
     "timestamp": 1643682033094,
     "user_tz": 360,
     "elapsed": 197,
     "user": {
      "displayName": "Luis Fernando Leal Hernandez",
      "photoUrl": "https://lh3.googleusercontent.com/a/default-user=s64",
      "userId": "08643725771405988586"
     }
    },
    "outputId": "0e5b7c63-706d-46df-a919-69bf378f1b6a"
   },
   "source": [
    "10>10"
   ],
   "execution_count": 103,
   "outputs": [
    {
     "output_type": "execute_result",
     "data": {
      "text/plain": [
       "False"
      ]
     },
     "metadata": {},
     "execution_count": 103
    }
   ]
  },
  {
   "cell_type": "code",
   "metadata": {
    "id": "AQvJUGGOpFn6",
    "colab": {
     "base_uri": "https://localhost:8080/"
    },
    "executionInfo": {
     "status": "ok",
     "timestamp": 1643682038634,
     "user_tz": 360,
     "elapsed": 284,
     "user": {
      "displayName": "Luis Fernando Leal Hernandez",
      "photoUrl": "https://lh3.googleusercontent.com/a/default-user=s64",
      "userId": "08643725771405988586"
     }
    },
    "outputId": "e48c40dc-592c-4fdb-cfc9-c37570adaf5f"
   },
   "source": [
    "10 >= 10"
   ],
   "execution_count": 104,
   "outputs": [
    {
     "output_type": "execute_result",
     "data": {
      "text/plain": [
       "True"
      ]
     },
     "metadata": {},
     "execution_count": 104
    }
   ]
  },
  {
   "cell_type": "code",
   "metadata": {
    "id": "0gFwR81NpFn6",
    "colab": {
     "base_uri": "https://localhost:8080/"
    },
    "executionInfo": {
     "status": "ok",
     "timestamp": 1643682041836,
     "user_tz": 360,
     "elapsed": 277,
     "user": {
      "displayName": "Luis Fernando Leal Hernandez",
      "photoUrl": "https://lh3.googleusercontent.com/a/default-user=s64",
      "userId": "08643725771405988586"
     }
    },
    "outputId": "1aff859f-86a5-4748-d7c9-fda2f3affd30"
   },
   "source": [
    "10 <= 0"
   ],
   "execution_count": 105,
   "outputs": [
    {
     "output_type": "execute_result",
     "data": {
      "text/plain": [
       "False"
      ]
     },
     "metadata": {},
     "execution_count": 105
    }
   ]
  },
  {
   "cell_type": "code",
   "metadata": {
    "id": "GvGK7jkKpFn7",
    "colab": {
     "base_uri": "https://localhost:8080/"
    },
    "executionInfo": {
     "status": "ok",
     "timestamp": 1643682044753,
     "user_tz": 360,
     "elapsed": 333,
     "user": {
      "displayName": "Luis Fernando Leal Hernandez",
      "photoUrl": "https://lh3.googleusercontent.com/a/default-user=s64",
      "userId": "08643725771405988586"
     }
    },
    "outputId": "089db1b5-da70-4716-ea17-88b191b0ae9e"
   },
   "source": [
    "10<= 10"
   ],
   "execution_count": 106,
   "outputs": [
    {
     "output_type": "execute_result",
     "data": {
      "text/plain": [
       "True"
      ]
     },
     "metadata": {},
     "execution_count": 106
    }
   ]
  },
  {
   "cell_type": "code",
   "metadata": {
    "id": "3JkBMYF2pFn7",
    "executionInfo": {
     "status": "ok",
     "timestamp": 1643682073575,
     "user_tz": 360,
     "elapsed": 187,
     "user": {
      "displayName": "Luis Fernando Leal Hernandez",
      "photoUrl": "https://lh3.googleusercontent.com/a/default-user=s64",
      "userId": "08643725771405988586"
     }
    }
   },
   "source": [
    "resultado = 10 <= 11"
   ],
   "execution_count": 107,
   "outputs": []
  },
  {
   "cell_type": "code",
   "metadata": {
    "id": "iqhqHTk1pFn7",
    "colab": {
     "base_uri": "https://localhost:8080/"
    },
    "executionInfo": {
     "status": "ok",
     "timestamp": 1643682083211,
     "user_tz": 360,
     "elapsed": 199,
     "user": {
      "displayName": "Luis Fernando Leal Hernandez",
      "photoUrl": "https://lh3.googleusercontent.com/a/default-user=s64",
      "userId": "08643725771405988586"
     }
    },
    "outputId": "8b2df0da-4a24-48f0-ed1e-81a7f066bc0a"
   },
   "source": [
    "print(resultado)"
   ],
   "execution_count": 108,
   "outputs": [
    {
     "output_type": "stream",
     "name": "stdout",
     "text": [
      "True\n"
     ]
    }
   ]
  },
  {
   "cell_type": "markdown",
   "metadata": {
    "id": "H7AV98jXpFn7"
   },
   "source": [
    "#### Tambien podemos usar operadores relacionales con variables, no solamente valores/literales siempre y cuando la operacion tenga sentido"
   ]
  },
  {
   "cell_type": "code",
   "metadata": {
    "id": "djs3gSXapFn8",
    "colab": {
     "base_uri": "https://localhost:8080/"
    },
    "executionInfo": {
     "status": "ok",
     "timestamp": 1643682113222,
     "user_tz": 360,
     "elapsed": 212,
     "user": {
      "displayName": "Luis Fernando Leal Hernandez",
      "photoUrl": "https://lh3.googleusercontent.com/a/default-user=s64",
      "userId": "08643725771405988586"
     }
    },
    "outputId": "95ae872d-c087-45ef-8cc8-4000d0264809"
   },
   "source": [
    "ingresos = 1000.00\n",
    "egresos = 500.00\n",
    "\n",
    "ingresos >= egresos"
   ],
   "execution_count": 109,
   "outputs": [
    {
     "output_type": "execute_result",
     "data": {
      "text/plain": [
       "True"
      ]
     },
     "metadata": {},
     "execution_count": 109
    }
   ]
  },
  {
   "cell_type": "code",
   "metadata": {
    "id": "M22JiMBSpFn8",
    "colab": {
     "base_uri": "https://localhost:8080/"
    },
    "executionInfo": {
     "status": "ok",
     "timestamp": 1643682118730,
     "user_tz": 360,
     "elapsed": 203,
     "user": {
      "displayName": "Luis Fernando Leal Hernandez",
      "photoUrl": "https://lh3.googleusercontent.com/a/default-user=s64",
      "userId": "08643725771405988586"
     }
    },
    "outputId": "d8d96919-4678-4f13-bf37-970ef3f74c8c"
   },
   "source": [
    "ingresos == egresos"
   ],
   "execution_count": 110,
   "outputs": [
    {
     "output_type": "execute_result",
     "data": {
      "text/plain": [
       "False"
      ]
     },
     "metadata": {},
     "execution_count": 110
    }
   ]
  },
  {
   "cell_type": "code",
   "metadata": {
    "id": "0lD8x7n8pFn8",
    "colab": {
     "base_uri": "https://localhost:8080/"
    },
    "executionInfo": {
     "status": "ok",
     "timestamp": 1643682125013,
     "user_tz": 360,
     "elapsed": 257,
     "user": {
      "displayName": "Luis Fernando Leal Hernandez",
      "photoUrl": "https://lh3.googleusercontent.com/a/default-user=s64",
      "userId": "08643725771405988586"
     }
    },
    "outputId": "f507b89a-11ea-4cb1-f68d-147e99e6dc2e"
   },
   "source": [
    "ingresos != egresos"
   ],
   "execution_count": 111,
   "outputs": [
    {
     "output_type": "execute_result",
     "data": {
      "text/plain": [
       "True"
      ]
     },
     "metadata": {},
     "execution_count": 111
    }
   ]
  },
  {
   "cell_type": "markdown",
   "metadata": {
    "id": "Zn3Uzl-tpFn9"
   },
   "source": [
    "#### Operaciones y operadores lógicos\n",
    "\n",
    "Llamados también operadores booleanos y definidos matemáticamente a través de tablas de verdad en \"algebra booleana\" nos permiten combinar resultados de operaciones relacionales para evaluar condiciones mas complejas.\n",
    "\n",
    "El resultado de un operador lógico es \"True\" si se cumple la condición que denotan o \"False\" si no se cumple.  \n",
    "\n",
    "Los operadores \"Y\" , \"O\" y \"NO\" \n",
    "\n",
    "Ejemplo de operador lógico en una condición :\n",
    "**Si el estudiante aprobó todos sus cursos Y esta solvente en pagos, puede graduarse**\n",
    "\n",
    "En este caso el operador lógico es \"Y\"\n",
    "\n",
    "En Python estos operadores son:\n",
    "* and (la condición se cumple si y solo si si ambas sub-condiciones son verdaderas)\n",
    "* or  (la condición se cumple si al menos una de sus sub-condiciones son verdaderas)\n",
    "* not (la condición se invierte, verdadero se convierte en Falso y Falso se convierte en verdadero)\n"
   ]
  },
  {
   "cell_type": "markdown",
   "metadata": {
    "id": "dHpi0XkzpFn9"
   },
   "source": [
    "##### and"
   ]
  },
  {
   "cell_type": "code",
   "metadata": {
    "id": "aI9RaCPMpFn9",
    "colab": {
     "base_uri": "https://localhost:8080/"
    },
    "executionInfo": {
     "status": "ok",
     "timestamp": 1643682542387,
     "user_tz": 360,
     "elapsed": 198,
     "user": {
      "displayName": "Luis Fernando Leal Hernandez",
      "photoUrl": "https://lh3.googleusercontent.com/a/default-user=s64",
      "userId": "08643725771405988586"
     }
    },
    "outputId": "68733ef4-8613-4856-e323-60d88cf6b11e"
   },
   "source": [
    "False and False"
   ],
   "execution_count": 113,
   "outputs": [
    {
     "output_type": "execute_result",
     "data": {
      "text/plain": [
       "False"
      ]
     },
     "metadata": {},
     "execution_count": 113
    }
   ]
  },
  {
   "cell_type": "code",
   "metadata": {
    "id": "sFgIn9CQpFn9",
    "colab": {
     "base_uri": "https://localhost:8080/"
    },
    "executionInfo": {
     "status": "ok",
     "timestamp": 1643682543414,
     "user_tz": 360,
     "elapsed": 18,
     "user": {
      "displayName": "Luis Fernando Leal Hernandez",
      "photoUrl": "https://lh3.googleusercontent.com/a/default-user=s64",
      "userId": "08643725771405988586"
     }
    },
    "outputId": "01a1e078-661a-4222-f943-c45a8a75de15"
   },
   "source": [
    "False and True"
   ],
   "execution_count": 114,
   "outputs": [
    {
     "output_type": "execute_result",
     "data": {
      "text/plain": [
       "False"
      ]
     },
     "metadata": {},
     "execution_count": 114
    }
   ]
  },
  {
   "cell_type": "code",
   "metadata": {
    "id": "YsnJAH6UpFn-",
    "colab": {
     "base_uri": "https://localhost:8080/"
    },
    "executionInfo": {
     "status": "ok",
     "timestamp": 1643682544612,
     "user_tz": 360,
     "elapsed": 208,
     "user": {
      "displayName": "Luis Fernando Leal Hernandez",
      "photoUrl": "https://lh3.googleusercontent.com/a/default-user=s64",
      "userId": "08643725771405988586"
     }
    },
    "outputId": "1cf27465-5ab6-4302-e37e-4f42680b6c65"
   },
   "source": [
    "True and False"
   ],
   "execution_count": 115,
   "outputs": [
    {
     "output_type": "execute_result",
     "data": {
      "text/plain": [
       "False"
      ]
     },
     "metadata": {},
     "execution_count": 115
    }
   ]
  },
  {
   "cell_type": "code",
   "metadata": {
    "id": "c9kuTw5mpFn-",
    "colab": {
     "base_uri": "https://localhost:8080/"
    },
    "executionInfo": {
     "status": "ok",
     "timestamp": 1643682539169,
     "user_tz": 360,
     "elapsed": 225,
     "user": {
      "displayName": "Luis Fernando Leal Hernandez",
      "photoUrl": "https://lh3.googleusercontent.com/a/default-user=s64",
      "userId": "08643725771405988586"
     }
    },
    "outputId": "5cd1a2ad-94ad-4949-9663-1b51833d3a7f"
   },
   "source": [
    "True and True"
   ],
   "execution_count": 112,
   "outputs": [
    {
     "output_type": "execute_result",
     "data": {
      "text/plain": [
       "True"
      ]
     },
     "metadata": {},
     "execution_count": 112
    }
   ]
  },
  {
   "cell_type": "markdown",
   "metadata": {
    "id": "1PUzzhX0pFn_"
   },
   "source": [
    "##### or"
   ]
  },
  {
   "cell_type": "code",
   "metadata": {
    "id": "tbKV2y61pFn_",
    "colab": {
     "base_uri": "https://localhost:8080/"
    },
    "executionInfo": {
     "status": "ok",
     "timestamp": 1643682587646,
     "user_tz": 360,
     "elapsed": 172,
     "user": {
      "displayName": "Luis Fernando Leal Hernandez",
      "photoUrl": "https://lh3.googleusercontent.com/a/default-user=s64",
      "userId": "08643725771405988586"
     }
    },
    "outputId": "554cef9d-07fe-4a56-8951-59a553253a4f"
   },
   "source": [
    "(False or False)"
   ],
   "execution_count": 116,
   "outputs": [
    {
     "output_type": "execute_result",
     "data": {
      "text/plain": [
       "False"
      ]
     },
     "metadata": {},
     "execution_count": 116
    }
   ]
  },
  {
   "cell_type": "code",
   "metadata": {
    "id": "zgEYs4mIpFn_",
    "colab": {
     "base_uri": "https://localhost:8080/"
    },
    "executionInfo": {
     "status": "ok",
     "timestamp": 1643682589576,
     "user_tz": 360,
     "elapsed": 198,
     "user": {
      "displayName": "Luis Fernando Leal Hernandez",
      "photoUrl": "https://lh3.googleusercontent.com/a/default-user=s64",
      "userId": "08643725771405988586"
     }
    },
    "outputId": "020a4334-7342-4ae6-b1f1-e390f1b0ab6e"
   },
   "source": [
    "False or True"
   ],
   "execution_count": 117,
   "outputs": [
    {
     "output_type": "execute_result",
     "data": {
      "text/plain": [
       "True"
      ]
     },
     "metadata": {},
     "execution_count": 117
    }
   ]
  },
  {
   "cell_type": "code",
   "metadata": {
    "id": "9CJaSOcMpFoA",
    "colab": {
     "base_uri": "https://localhost:8080/"
    },
    "executionInfo": {
     "status": "ok",
     "timestamp": 1643682590755,
     "user_tz": 360,
     "elapsed": 9,
     "user": {
      "displayName": "Luis Fernando Leal Hernandez",
      "photoUrl": "https://lh3.googleusercontent.com/a/default-user=s64",
      "userId": "08643725771405988586"
     }
    },
    "outputId": "9bf1c676-ee68-4b35-df32-75484f109e0a"
   },
   "source": [
    "True or False"
   ],
   "execution_count": 118,
   "outputs": [
    {
     "output_type": "execute_result",
     "data": {
      "text/plain": [
       "True"
      ]
     },
     "metadata": {},
     "execution_count": 118
    }
   ]
  },
  {
   "cell_type": "code",
   "metadata": {
    "id": "N5q5FlhYpFoA",
    "colab": {
     "base_uri": "https://localhost:8080/"
    },
    "executionInfo": {
     "status": "ok",
     "timestamp": 1643682591948,
     "user_tz": 360,
     "elapsed": 177,
     "user": {
      "displayName": "Luis Fernando Leal Hernandez",
      "photoUrl": "https://lh3.googleusercontent.com/a/default-user=s64",
      "userId": "08643725771405988586"
     }
    },
    "outputId": "1a26ae86-e922-4542-bb2b-ee199dd8a7b6"
   },
   "source": [
    "True and True"
   ],
   "execution_count": 119,
   "outputs": [
    {
     "output_type": "execute_result",
     "data": {
      "text/plain": [
       "True"
      ]
     },
     "metadata": {},
     "execution_count": 119
    }
   ]
  },
  {
   "cell_type": "markdown",
   "metadata": {
    "id": "T9_L5mgqpFoA"
   },
   "source": [
    "##### not"
   ]
  },
  {
   "cell_type": "code",
   "metadata": {
    "id": "oJk5MVg_pFoB",
    "colab": {
     "base_uri": "https://localhost:8080/"
    },
    "executionInfo": {
     "status": "ok",
     "timestamp": 1643682606835,
     "user_tz": 360,
     "elapsed": 194,
     "user": {
      "displayName": "Luis Fernando Leal Hernandez",
      "photoUrl": "https://lh3.googleusercontent.com/a/default-user=s64",
      "userId": "08643725771405988586"
     }
    },
    "outputId": "d8b4fece-a9c0-40f4-fc4b-a245e7154b0b"
   },
   "source": [
    "not True\n"
   ],
   "execution_count": 120,
   "outputs": [
    {
     "output_type": "execute_result",
     "data": {
      "text/plain": [
       "False"
      ]
     },
     "metadata": {},
     "execution_count": 120
    }
   ]
  },
  {
   "cell_type": "code",
   "metadata": {
    "id": "XpHNAC4WpFoB",
    "colab": {
     "base_uri": "https://localhost:8080/"
    },
    "executionInfo": {
     "status": "ok",
     "timestamp": 1643682608025,
     "user_tz": 360,
     "elapsed": 171,
     "user": {
      "displayName": "Luis Fernando Leal Hernandez",
      "photoUrl": "https://lh3.googleusercontent.com/a/default-user=s64",
      "userId": "08643725771405988586"
     }
    },
    "outputId": "4ff46304-9085-4fdf-93f8-e255825c6b07"
   },
   "source": [
    "not False"
   ],
   "execution_count": 121,
   "outputs": [
    {
     "output_type": "execute_result",
     "data": {
      "text/plain": [
       "True"
      ]
     },
     "metadata": {},
     "execution_count": 121
    }
   ]
  },
  {
   "cell_type": "markdown",
   "metadata": {
    "id": "5Cyf0vmUpFoB"
   },
   "source": [
    "##### Asi como podemos usar parentesis para crear operaciones aritmeticas mas complejas y combinaciones de estas, podemos usar parentesis para agrugar operaciones logicas y asi crear expresiones booleanas mas complejas, ademas de ayudarnos a definir el orden de operaciones"
   ]
  },
  {
   "cell_type": "code",
   "metadata": {
    "id": "KmFeQNkppFoC",
    "colab": {
     "base_uri": "https://localhost:8080/"
    },
    "executionInfo": {
     "status": "ok",
     "timestamp": 1643682675561,
     "user_tz": 360,
     "elapsed": 422,
     "user": {
      "displayName": "Luis Fernando Leal Hernandez",
      "photoUrl": "https://lh3.googleusercontent.com/a/default-user=s64",
      "userId": "08643725771405988586"
     }
    },
    "outputId": "fe1e980f-b9ac-45bb-f92b-d1bc490d3b6e"
   },
   "source": [
    "(True or True) and (True or False)"
   ],
   "execution_count": 122,
   "outputs": [
    {
     "output_type": "execute_result",
     "data": {
      "text/plain": [
       "True"
      ]
     },
     "metadata": {},
     "execution_count": 122
    }
   ]
  },
  {
   "cell_type": "code",
   "metadata": {
    "id": "f0qDCYiypFoC",
    "colab": {
     "base_uri": "https://localhost:8080/"
    },
    "executionInfo": {
     "status": "ok",
     "timestamp": 1643682693293,
     "user_tz": 360,
     "elapsed": 205,
     "user": {
      "displayName": "Luis Fernando Leal Hernandez",
      "photoUrl": "https://lh3.googleusercontent.com/a/default-user=s64",
      "userId": "08643725771405988586"
     }
    },
    "outputId": "2da489ef-65e9-443a-83e8-5f04fef38f83"
   },
   "source": [
    "(not True) or (True and True)"
   ],
   "execution_count": 123,
   "outputs": [
    {
     "output_type": "execute_result",
     "data": {
      "text/plain": [
       "True"
      ]
     },
     "metadata": {},
     "execution_count": 123
    }
   ]
  },
  {
   "cell_type": "code",
   "metadata": {
    "id": "ADSB42-6pFoC",
    "colab": {
     "base_uri": "https://localhost:8080/"
    },
    "executionInfo": {
     "status": "ok",
     "timestamp": 1643682700205,
     "user_tz": 360,
     "elapsed": 179,
     "user": {
      "displayName": "Luis Fernando Leal Hernandez",
      "photoUrl": "https://lh3.googleusercontent.com/a/default-user=s64",
      "userId": "08643725771405988586"
     }
    },
    "outputId": "84de8875-b32a-4743-ebf6-4bd629b6d4c0"
   },
   "source": [
    "((not True) or (True and True)) or (1>0) "
   ],
   "execution_count": 124,
   "outputs": [
    {
     "output_type": "execute_result",
     "data": {
      "text/plain": [
       "True"
      ]
     },
     "metadata": {},
     "execution_count": 124
    }
   ]
  },
  {
   "cell_type": "markdown",
   "metadata": {
    "id": "WAtQ6IGOpFoC"
   },
   "source": [
    "##### Del mismo modo que con las expresiones aritméticas, podemos utilizar variables para expresiones relacionales y lógicas\n",
    "\n",
    "Por ejemplo, pensemos en un programa que termina si un alumno es admitido a la universidad basado en 2 condiciones que deben cumplirse:\n",
    "* El alumno es mayor de edad (mayor a 18 años)\n",
    "* Termino el diversificado"
   ]
  },
  {
   "cell_type": "code",
   "metadata": {
    "id": "4PAyJ9x8pFoD",
    "colab": {
     "base_uri": "https://localhost:8080/"
    },
    "executionInfo": {
     "status": "ok",
     "timestamp": 1643682866805,
     "user_tz": 360,
     "elapsed": 193,
     "user": {
      "displayName": "Luis Fernando Leal Hernandez",
      "photoUrl": "https://lh3.googleusercontent.com/a/default-user=s64",
      "userId": "08643725771405988586"
     }
    },
    "outputId": "772773f3-752a-4a69-f52e-0125112cbece"
   },
   "source": [
    "edad_alumno = 17\n",
    "edad_minima = 18\n",
    "termino_diversificado = True\n",
    "\n",
    "es_alumno_mayor = edad_alumno >= edad_minima\n",
    "\n",
    "admitir_alumno = es_alumno_mayor and termino_diversificado\n",
    "\n",
    "print(\"Alumno admitido:\",admitir_alumno)"
   ],
   "execution_count": 126,
   "outputs": [
    {
     "output_type": "stream",
     "name": "stdout",
     "text": [
      "Alumno admitido: False\n"
     ]
    }
   ]
  },
  {
   "cell_type": "markdown",
   "metadata": {
    "id": "SwqB-iGWpFoD"
   },
   "source": [
    "#### Operadores y operaciones especiales\n",
    "\n",
    "Aunque los operadores y operaciones que vimos son los mas comunes, existen otros tipos de operadores especiales que en algunos casos serán de ayuda o nos servirán a realizar de manera mas sencilla tareas que de otro modo podrían requerir mayor trabajo.\n",
    "\n",
    "Tenemos por ejemplo:\n",
    "\n",
    "##### Operadores de identidad\n",
    "\n",
    "Los operadores igual a ==  o diferente a != nos ayudan a verificar si los VALORES de dos objetos son diferentes entre si, pero en algunos casos necesitamos determinar si 2  variables hacen referencia al mismo objeto en la memoria(o si no es el mismo) para lo cual utilizamos 2 operadores especiales:\n",
    "\n",
    "* is : True si 2 variables hacen referencia a un mismo objeto\n",
    "* is not: True si 2 variables hacen referencia a un objeto diferente\n",
    "\n",
    "El que 2 objetos tengan el mismo valor no significa que sean el mismo objeto en memoria por lo cual en algunos casos aun que 2 variables contengan el mismo valor, el operador \"is\" devuelve falso.\n",
    "\n",
    "Python asigna a cada objeto un numero que lo identifica, podemos obtener este numero usando la función id()"
   ]
  },
  {
   "cell_type": "code",
   "metadata": {
    "id": "Idfd6FhfpFoD",
    "colab": {
     "base_uri": "https://localhost:8080/"
    },
    "executionInfo": {
     "status": "ok",
     "timestamp": 1643683002970,
     "user_tz": 360,
     "elapsed": 4,
     "user": {
      "displayName": "Luis Fernando Leal Hernandez",
      "photoUrl": "https://lh3.googleusercontent.com/a/default-user=s64",
      "userId": "08643725771405988586"
     }
    },
    "outputId": "977797ac-2bc1-4205-c76f-9ed7472d4366"
   },
   "source": [
    "a = 5\n",
    "b = 5\n",
    "\n",
    "a == 5"
   ],
   "execution_count": 129,
   "outputs": [
    {
     "output_type": "execute_result",
     "data": {
      "text/plain": [
       "True"
      ]
     },
     "metadata": {},
     "execution_count": 129
    }
   ]
  },
  {
   "cell_type": "code",
   "metadata": {
    "id": "ifyxWdGOpFoD",
    "colab": {
     "base_uri": "https://localhost:8080/"
    },
    "executionInfo": {
     "status": "ok",
     "timestamp": 1643683000822,
     "user_tz": 360,
     "elapsed": 190,
     "user": {
      "displayName": "Luis Fernando Leal Hernandez",
      "photoUrl": "https://lh3.googleusercontent.com/a/default-user=s64",
      "userId": "08643725771405988586"
     }
    },
    "outputId": "0b557819-a34a-4f1b-c10c-c256462da3d6"
   },
   "source": [
    "a is b "
   ],
   "execution_count": 128,
   "outputs": [
    {
     "output_type": "execute_result",
     "data": {
      "text/plain": [
       "True"
      ]
     },
     "metadata": {},
     "execution_count": 128
    }
   ]
  },
  {
   "cell_type": "code",
   "metadata": {
    "id": "Bt4007HxpFoE",
    "colab": {
     "base_uri": "https://localhost:8080/"
    },
    "executionInfo": {
     "status": "ok",
     "timestamp": 1643683043691,
     "user_tz": 360,
     "elapsed": 200,
     "user": {
      "displayName": "Luis Fernando Leal Hernandez",
      "photoUrl": "https://lh3.googleusercontent.com/a/default-user=s64",
      "userId": "08643725771405988586"
     }
    },
    "outputId": "236931bb-f51d-4b53-e1d1-457382ab8e8a"
   },
   "source": [
    "x3 = [1,2,3] #veremos listas en la proxima clase\n",
    "y3 = [1,2,3] #veremos listas en la proxima clase\n",
    "\n",
    "x3 is y3"
   ],
   "execution_count": 130,
   "outputs": [
    {
     "output_type": "execute_result",
     "data": {
      "text/plain": [
       "False"
      ]
     },
     "metadata": {},
     "execution_count": 130
    }
   ]
  },
  {
   "cell_type": "code",
   "metadata": {
    "id": "RyStzjJdpFoE",
    "colab": {
     "base_uri": "https://localhost:8080/"
    },
    "executionInfo": {
     "status": "ok",
     "timestamp": 1643683085575,
     "user_tz": 360,
     "elapsed": 185,
     "user": {
      "displayName": "Luis Fernando Leal Hernandez",
      "photoUrl": "https://lh3.googleusercontent.com/a/default-user=s64",
      "userId": "08643725771405988586"
     }
    },
    "outputId": "532d1ed8-2c95-4ba4-c256-ff8d0fb6b955"
   },
   "source": [
    "x1 = 5\n",
    "y1 = 5\n",
    "x2 = 'Hello'\n",
    "y2 = 'Hello'\n",
    "x3 = [1,2,3] #veremos listas en la proxima clase\n",
    "y3 = [1,2,3] #veremos listas en la proxima clase\n",
    "x4 = x1\n",
    "x5 = 6.0\n",
    "y5 = 6.0\n",
    "\n",
    "# Output: False\n",
    "print(x1 is not y1)\n",
    "\n",
    "# Output: True\n",
    "print(x2 is y2)\n",
    "\n",
    "# Output: False\n",
    "print(x3 is y3)\n",
    "\n",
    "# Output: True\n",
    "print(x4 is x1)\n",
    "\n",
    "# Output: False\n",
    "print(x5 is y5)"
   ],
   "execution_count": 131,
   "outputs": [
    {
     "output_type": "stream",
     "name": "stdout",
     "text": [
      "False\n",
      "True\n",
      "False\n",
      "True\n",
      "False\n"
     ]
    }
   ]
  },
  {
   "cell_type": "code",
   "metadata": {
    "id": "nxVnUlFEpFoE"
   },
   "source": [],
   "execution_count": null,
   "outputs": []
  },
  {
   "cell_type": "code",
   "metadata": {
    "id": "ayb_b7QqpFoF",
    "colab": {
     "base_uri": "https://localhost:8080/"
    },
    "executionInfo": {
     "status": "ok",
     "timestamp": 1643683102311,
     "user_tz": 360,
     "elapsed": 222,
     "user": {
      "displayName": "Luis Fernando Leal Hernandez",
      "photoUrl": "https://lh3.googleusercontent.com/a/default-user=s64",
      "userId": "08643725771405988586"
     }
    },
    "outputId": "49909920-1809-4c51-c2d1-55b50781aab6"
   },
   "source": [
    "type(x1) is int"
   ],
   "execution_count": 132,
   "outputs": [
    {
     "output_type": "execute_result",
     "data": {
      "text/plain": [
       "True"
      ]
     },
     "metadata": {},
     "execution_count": 132
    }
   ]
  },
  {
   "cell_type": "code",
   "metadata": {
    "id": "h_GKN3ZOpFoF",
    "colab": {
     "base_uri": "https://localhost:8080/"
    },
    "executionInfo": {
     "status": "ok",
     "timestamp": 1643683103319,
     "user_tz": 360,
     "elapsed": 11,
     "user": {
      "displayName": "Luis Fernando Leal Hernandez",
      "photoUrl": "https://lh3.googleusercontent.com/a/default-user=s64",
      "userId": "08643725771405988586"
     }
    },
    "outputId": "6c8c4e5f-dc75-456f-9dea-c0d1a1270200"
   },
   "source": [
    "type(x1) is str"
   ],
   "execution_count": 133,
   "outputs": [
    {
     "output_type": "execute_result",
     "data": {
      "text/plain": [
       "False"
      ]
     },
     "metadata": {},
     "execution_count": 133
    }
   ]
  },
  {
   "cell_type": "code",
   "metadata": {
    "id": "c43AF59RpFoG",
    "colab": {
     "base_uri": "https://localhost:8080/"
    },
    "executionInfo": {
     "status": "ok",
     "timestamp": 1643683104703,
     "user_tz": 360,
     "elapsed": 4,
     "user": {
      "displayName": "Luis Fernando Leal Hernandez",
      "photoUrl": "https://lh3.googleusercontent.com/a/default-user=s64",
      "userId": "08643725771405988586"
     }
    },
    "outputId": "55d8ebaf-dd6b-4dda-fef3-a11fa18f9599"
   },
   "source": [
    "type(x1) is not str"
   ],
   "execution_count": 134,
   "outputs": [
    {
     "output_type": "execute_result",
     "data": {
      "text/plain": [
       "True"
      ]
     },
     "metadata": {},
     "execution_count": 134
    }
   ]
  },
  {
   "cell_type": "code",
   "metadata": {
    "id": "R2wyf9BYpFoH",
    "colab": {
     "base_uri": "https://localhost:8080/"
    },
    "executionInfo": {
     "status": "ok",
     "timestamp": 1643683110074,
     "user_tz": 360,
     "elapsed": 254,
     "user": {
      "displayName": "Luis Fernando Leal Hernandez",
      "photoUrl": "https://lh3.googleusercontent.com/a/default-user=s64",
      "userId": "08643725771405988586"
     }
    },
    "outputId": "2c1d08cf-7389-4a3f-bc35-384282a858fb"
   },
   "source": [
    "id(5)"
   ],
   "execution_count": 135,
   "outputs": [
    {
     "output_type": "execute_result",
     "data": {
      "text/plain": [
       "94758075247232"
      ]
     },
     "metadata": {},
     "execution_count": 135
    }
   ]
  },
  {
   "cell_type": "code",
   "metadata": {
    "id": "3SURFGLbpFoH",
    "colab": {
     "base_uri": "https://localhost:8080/"
    },
    "executionInfo": {
     "status": "ok",
     "timestamp": 1643683129552,
     "user_tz": 360,
     "elapsed": 187,
     "user": {
      "displayName": "Luis Fernando Leal Hernandez",
      "photoUrl": "https://lh3.googleusercontent.com/a/default-user=s64",
      "userId": "08643725771405988586"
     }
    },
    "outputId": "69d75856-2d59-4dc0-8329-0d01f18f0afb"
   },
   "source": [
    "id(x1)"
   ],
   "execution_count": 136,
   "outputs": [
    {
     "output_type": "execute_result",
     "data": {
      "text/plain": [
       "94758075247232"
      ]
     },
     "metadata": {},
     "execution_count": 136
    }
   ]
  },
  {
   "cell_type": "code",
   "source": [
    "id(x3)"
   ],
   "metadata": {
    "colab": {
     "base_uri": "https://localhost:8080/"
    },
    "id": "pecqnoHUJnpB",
    "executionInfo": {
     "status": "ok",
     "timestamp": 1643683173788,
     "user_tz": 360,
     "elapsed": 250,
     "user": {
      "displayName": "Luis Fernando Leal Hernandez",
      "photoUrl": "https://lh3.googleusercontent.com/a/default-user=s64",
      "userId": "08643725771405988586"
     }
    },
    "outputId": "eee1fa96-7b57-48e6-a4ee-e125b9da0e6a"
   },
   "execution_count": 137,
   "outputs": [
    {
     "output_type": "execute_result",
     "data": {
      "text/plain": [
       "140211067990576"
      ]
     },
     "metadata": {},
     "execution_count": 137
    }
   ]
  },
  {
   "cell_type": "code",
   "source": [
    "id(y3)"
   ],
   "metadata": {
    "colab": {
     "base_uri": "https://localhost:8080/"
    },
    "id": "17YGMzjlJvah",
    "executionInfo": {
     "status": "ok",
     "timestamp": 1643683190889,
     "user_tz": 360,
     "elapsed": 190,
     "user": {
      "displayName": "Luis Fernando Leal Hernandez",
      "photoUrl": "https://lh3.googleusercontent.com/a/default-user=s64",
      "userId": "08643725771405988586"
     }
    },
    "outputId": "526862c2-53cf-4388-c1c2-054b46e45090"
   },
   "execution_count": 138,
   "outputs": [
    {
     "output_type": "execute_result",
     "data": {
      "text/plain": [
       "140211067991456"
      ]
     },
     "metadata": {},
     "execution_count": 138
    }
   ]
  },
  {
   "cell_type": "code",
   "metadata": {
    "id": "u_T5QZj6pFoI",
    "colab": {
     "base_uri": "https://localhost:8080/"
    },
    "executionInfo": {
     "status": "ok",
     "timestamp": 1643683206338,
     "user_tz": 360,
     "elapsed": 192,
     "user": {
      "displayName": "Luis Fernando Leal Hernandez",
      "photoUrl": "https://lh3.googleusercontent.com/a/default-user=s64",
      "userId": "08643725771405988586"
     }
    },
    "outputId": "13c5d782-ef9f-45e2-c221-6e0a3c2104ba"
   },
   "source": [
    "id(y1)"
   ],
   "execution_count": 139,
   "outputs": [
    {
     "output_type": "execute_result",
     "data": {
      "text/plain": [
       "94758075247232"
      ]
     },
     "metadata": {},
     "execution_count": 139
    }
   ]
  },
  {
   "cell_type": "code",
   "metadata": {
    "id": "iAQEez2npFoI",
    "colab": {
     "base_uri": "https://localhost:8080/"
    },
    "executionInfo": {
     "status": "ok",
     "timestamp": 1643683210555,
     "user_tz": 360,
     "elapsed": 216,
     "user": {
      "displayName": "Luis Fernando Leal Hernandez",
      "photoUrl": "https://lh3.googleusercontent.com/a/default-user=s64",
      "userId": "08643725771405988586"
     }
    },
    "outputId": "0c9dc707-c5ff-4190-a3b2-2c3c2b1dc240"
   },
   "source": [
    "id(x5)"
   ],
   "execution_count": 140,
   "outputs": [
    {
     "output_type": "execute_result",
     "data": {
      "text/plain": [
       "140211067227280"
      ]
     },
     "metadata": {},
     "execution_count": 140
    }
   ]
  },
  {
   "cell_type": "code",
   "metadata": {
    "id": "1Flk7VphpFoJ",
    "colab": {
     "base_uri": "https://localhost:8080/"
    },
    "executionInfo": {
     "status": "ok",
     "timestamp": 1643683232099,
     "user_tz": 360,
     "elapsed": 284,
     "user": {
      "displayName": "Luis Fernando Leal Hernandez",
      "photoUrl": "https://lh3.googleusercontent.com/a/default-user=s64",
      "userId": "08643725771405988586"
     }
    },
    "outputId": "9739401b-1263-419a-ec6e-4cb95bd3a663"
   },
   "source": [
    "id(y5)"
   ],
   "execution_count": 141,
   "outputs": [
    {
     "output_type": "execute_result",
     "data": {
      "text/plain": [
       "140211067226640"
      ]
     },
     "metadata": {},
     "execution_count": 141
    }
   ]
  },
  {
   "cell_type": "code",
   "metadata": {
    "colab": {
     "base_uri": "https://localhost:8080/"
    },
    "id": "tIHDBvcQwaTt",
    "executionInfo": {
     "status": "ok",
     "timestamp": 1643683234992,
     "user_tz": 360,
     "elapsed": 187,
     "user": {
      "displayName": "Luis Fernando Leal Hernandez",
      "photoUrl": "https://lh3.googleusercontent.com/a/default-user=s64",
      "userId": "08643725771405988586"
     }
    },
    "outputId": "1c792094-6588-4f07-a3b2-0e80c657f493"
   },
   "source": [
    "id(y5)!=id(x5)"
   ],
   "execution_count": 142,
   "outputs": [
    {
     "output_type": "execute_result",
     "data": {
      "text/plain": [
       "True"
      ]
     },
     "metadata": {},
     "execution_count": 142
    }
   ]
  },
  {
   "cell_type": "markdown",
   "metadata": {
    "id": "Ci-U_G0kpFoJ"
   },
   "source": [
    "#### Operadores de membresia/membership\n",
    "\n",
    "Estos operadores tienen sentido en el contexto de colecciones, secuencias, contenedores o estructuras de datos que será un tema a ver en próximas clases por lo cual los veremos a fondo en las próximas clases pero vale la pena mencionarlos ya que son parte de los operadores de Python.\n",
    "\n",
    "Básicamente nos sirven para ver si algún objeto (ya sea literal o variable) es miembro de una colección mas grande de objetos, por ejemplo una lista.\n",
    "\n",
    "Python posee 2 operadores de este tipo:\n",
    "\n",
    "* in : El resultado es True si un objeto buscado se encuentra en la colección en la cual lo buscamos\n",
    "* not in : El resultado es True si el objeto buscado no se encuentra en la colección en la cual buscamos\n",
    "\n",
    "**Ejemplo** \n",
    "\n",
    "Tenemos un programa que posee una lista de usuarios identificados por un numero y se desea determinar si cierto usuario pertenece a esta lista de usuarios, un caso de uso podría ser buscar el carnet de un estudiante en la lista de estudiantes asignados a cierto curso.\n"
   ]
  },
  {
   "cell_type": "code",
   "metadata": {
    "id": "AP57I74upFoJ",
    "colab": {
     "base_uri": "https://localhost:8080/"
    },
    "executionInfo": {
     "status": "ok",
     "timestamp": 1643683430115,
     "user_tz": 360,
     "elapsed": 204,
     "user": {
      "displayName": "Luis Fernando Leal Hernandez",
      "photoUrl": "https://lh3.googleusercontent.com/a/default-user=s64",
      "userId": "08643725771405988586"
     }
    },
    "outputId": "74425cb5-3198-45a3-e0f7-de5b4dc017fe"
   },
   "source": [
    "lista_usuarios = [1111,2222,3333]\n",
    "usuario_buscado = 1111\n",
    "\n",
    "usuario_encontrado = usuario_buscado in lista_usuarios\n",
    "\n",
    "print(\"El usuario \",usuario_buscado, \" fue encontrado?\",usuario_encontrado)\n"
   ],
   "execution_count": 144,
   "outputs": [
    {
     "output_type": "stream",
     "name": "stdout",
     "text": [
      "El usuario  1111  fue encontrado? True\n"
     ]
    }
   ]
  },
  {
   "cell_type": "code",
   "source": [
    "lista_usuarios = [1111,2222,3333]\n",
    "usuario_buscado = 111\n",
    "\n",
    "usuario_encontrado = usuario_buscado not in lista_usuarios\n",
    "\n",
    "print(\"El usuario \",usuario_buscado, \" fue encontrado?\",usuario_encontrado)"
   ],
   "metadata": {
    "colab": {
     "base_uri": "https://localhost:8080/"
    },
    "id": "1gz2bDXRKyiZ",
    "executionInfo": {
     "status": "ok",
     "timestamp": 1643683657792,
     "user_tz": 360,
     "elapsed": 194,
     "user": {
      "displayName": "Luis Fernando Leal Hernandez",
      "photoUrl": "https://lh3.googleusercontent.com/a/default-user=s64",
      "userId": "08643725771405988586"
     }
    },
    "outputId": "a83406f5-e0f3-4816-d9de-714c00f957de"
   },
   "execution_count": 147,
   "outputs": [
    {
     "output_type": "stream",
     "name": "stdout",
     "text": [
      "El usuario  111  fue encontrado? 1\n"
     ]
    }
   ]
  },
  {
   "cell_type": "markdown",
   "metadata": {
    "id": "1O6B_XDCpFoK"
   },
   "source": [
    "#### Operadores especiales de asignación\n",
    "\n",
    "Uno de los primeros operadores vistos en esta clase fue el operador de asignación:\n",
    "\n",
    "< identificador >=objeto/valor/resultado de operación\n",
    "\n",
    "\n",
    "El cual es usado para asignar a una variable/identificador cierto objeto, valor o resultado de una operación posiblemente mas compleja.\n",
    "\n",
    "Existen otros operadores especiales de asignación que nos ayudan a realizar de manera breve asignaciones que son comunes en programación, estas operaciones tienen como ventaja ser mas eficientes(rápidas) en ejecución.\n",
    "\n",
    "Un escenario muy común en programación es tomar una variable y realizar una operación aritmética con ella, para asignar el resultado a esta misma variable. \n",
    "\n",
    "**Por ejemplo**"
   ]
  },
  {
   "cell_type": "code",
   "metadata": {
    "id": "umURrEFFpFoK",
    "colab": {
     "base_uri": "https://localhost:8080/"
    },
    "executionInfo": {
     "status": "ok",
     "timestamp": 1643683891125,
     "user_tz": 360,
     "elapsed": 202,
     "user": {
      "displayName": "Luis Fernando Leal Hernandez",
      "photoUrl": "https://lh3.googleusercontent.com/a/default-user=s64",
      "userId": "08643725771405988586"
     }
    },
    "outputId": "a6c81f31-5bd0-4277-94a7-9a00302e9bfb"
   },
   "source": [
    "a = 1\n",
    "\n",
    "a = a + 1 # resultado es 2\n",
    "a = a * 2 # resultado es 4\n",
    "\n",
    "print(a)"
   ],
   "execution_count": 148,
   "outputs": [
    {
     "output_type": "stream",
     "name": "stdout",
     "text": [
      "4\n"
     ]
    }
   ]
  },
  {
   "cell_type": "markdown",
   "metadata": {
    "id": "dzKmTGkUpFoK"
   },
   "source": [
    "Los operadores especiales de asignación nos permiten realizar de manera abreviada (y mas eficiente) este tipo de operaciones, el codigo anterior seria equivalente a :"
   ]
  },
  {
   "cell_type": "code",
   "metadata": {
    "id": "Rwvj43pBpFoK",
    "colab": {
     "base_uri": "https://localhost:8080/"
    },
    "executionInfo": {
     "status": "ok",
     "timestamp": 1643683989413,
     "user_tz": 360,
     "elapsed": 191,
     "user": {
      "displayName": "Luis Fernando Leal Hernandez",
      "photoUrl": "https://lh3.googleusercontent.com/a/default-user=s64",
      "userId": "08643725771405988586"
     }
    },
    "outputId": "ade5ce76-5212-4569-8183-75ea7acbc9f1"
   },
   "source": [
    "a = 1\n",
    "\n",
    "a += 1\n",
    "a *= 2\n",
    "\n",
    "print(a)"
   ],
   "execution_count": 150,
   "outputs": [
    {
     "output_type": "stream",
     "name": "stdout",
     "text": [
      "4\n"
     ]
    }
   ]
  },
  {
   "cell_type": "code",
   "metadata": {
    "colab": {
     "base_uri": "https://localhost:8080/"
    },
    "id": "hRwajVSh0bF9",
    "executionInfo": {
     "status": "ok",
     "timestamp": 1643683994284,
     "user_tz": 360,
     "elapsed": 210,
     "user": {
      "displayName": "Luis Fernando Leal Hernandez",
      "photoUrl": "https://lh3.googleusercontent.com/a/default-user=s64",
      "userId": "08643725771405988586"
     }
    },
    "outputId": "1d70459d-8a50-423e-abab-3e4c79669822"
   },
   "source": [
    "a = 1\n",
    "a = +2\n",
    "print()\n",
    "print(a)"
   ],
   "execution_count": 151,
   "outputs": [
    {
     "output_type": "stream",
     "name": "stdout",
     "text": [
      "\n",
      "2\n"
     ]
    }
   ]
  },
  {
   "cell_type": "code",
   "metadata": {
    "colab": {
     "base_uri": "https://localhost:8080/"
    },
    "id": "H87Cz6YM1UIM",
    "executionInfo": {
     "status": "ok",
     "timestamp": 1643684118911,
     "user_tz": 360,
     "elapsed": 187,
     "user": {
      "displayName": "Luis Fernando Leal Hernandez",
      "photoUrl": "https://lh3.googleusercontent.com/a/default-user=s64",
      "userId": "08643725771405988586"
     }
    },
    "outputId": "fe89c587-020f-48a8-ba0f-38f5db7f092e"
   },
   "source": [
    "a = 1\n",
    "a += 2 # 3\n",
    "a += 2 # 5\n",
    "a += 2 # 7\n",
    "a += 2 # 9\n",
    "print(a)\n"
   ],
   "execution_count": 152,
   "outputs": [
    {
     "output_type": "stream",
     "name": "stdout",
     "text": [
      "9\n"
     ]
    }
   ]
  },
  {
   "cell_type": "markdown",
   "metadata": {
    "id": "zftM1kgjpFoL"
   },
   "source": [
    "Existe un operador de asignación especial para cada uno de los operadores aritméticos que vimos anteriormente:\n",
    "    \n",
    "* += \t\n",
    "* -= \t\n",
    "* *= \t\n",
    "* /= \t\n",
    "* %= \t\n",
    "* //=\t\n",
    "* **=\t"
   ]
  },
  {
   "cell_type": "markdown",
   "metadata": {
    "id": "m9gUgfjbpFoO"
   },
   "source": [
    "#### Python Zen\n",
    "Aun que no hemos visto el uso y significado de la sentencia \"import\" , una de las primeras cosas que se menciona en muchos libros y tutoriales de Python es el \"Zen de Python\" que describe su filosofía, podemos leer esto si ejecutamos:\n",
    "\n",
    "```\n",
    "import this\n",
    "````\n"
   ]
  },
  {
   "cell_type": "code",
   "metadata": {
    "id": "K88gwXbYpFoP",
    "colab": {
     "base_uri": "https://localhost:8080/"
    },
    "executionInfo": {
     "status": "ok",
     "timestamp": 1643684252097,
     "user_tz": 360,
     "elapsed": 244,
     "user": {
      "displayName": "Luis Fernando Leal Hernandez",
      "photoUrl": "https://lh3.googleusercontent.com/a/default-user=s64",
      "userId": "08643725771405988586"
     }
    },
    "outputId": "777d48dd-932d-476c-ff3c-59638996cfe6"
   },
   "source": [
    "import this"
   ],
   "execution_count": 153,
   "outputs": [
    {
     "output_type": "stream",
     "name": "stdout",
     "text": [
      "The Zen of Python, by Tim Peters\n",
      "\n",
      "Beautiful is better than ugly.\n",
      "Explicit is better than implicit.\n",
      "Simple is better than complex.\n",
      "Complex is better than complicated.\n",
      "Flat is better than nested.\n",
      "Sparse is better than dense.\n",
      "Readability counts.\n",
      "Special cases aren't special enough to break the rules.\n",
      "Although practicality beats purity.\n",
      "Errors should never pass silently.\n",
      "Unless explicitly silenced.\n",
      "In the face of ambiguity, refuse the temptation to guess.\n",
      "There should be one-- and preferably only one --obvious way to do it.\n",
      "Although that way may not be obvious at first unless you're Dutch.\n",
      "Now is better than never.\n",
      "Although never is often better than *right* now.\n",
      "If the implementation is hard to explain, it's a bad idea.\n",
      "If the implementation is easy to explain, it may be a good idea.\n",
      "Namespaces are one honking great idea -- let's do more of those!\n"
     ]
    }
   ]
  },
  {
   "cell_type": "code",
   "metadata": {
    "id": "_fVesNZJpFoP"
   },
   "source": [
    "\"3.114\"[-3:]"
   ],
   "execution_count": 9,
   "outputs": [
    {
     "data": {
      "text/plain": "'114'"
     },
     "execution_count": 9,
     "metadata": {},
     "output_type": "execute_result"
    }
   ]
  },
  {
   "cell_type": "code",
   "execution_count": null,
   "outputs": [],
   "source": [],
   "metadata": {
    "collapsed": false,
    "pycharm": {
     "name": "#%%\n"
    }
   }
  }
 ]
}