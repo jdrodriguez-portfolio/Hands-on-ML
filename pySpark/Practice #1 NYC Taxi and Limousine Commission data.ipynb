{
 "cells": [
  {
   "cell_type": "markdown",
   "source": [
    "## Exercise: Analyzing the NYC Taxi Dataset with PySpark\n",
    "\n",
    "Dataset: The New York City Taxi and Limousine Commission (TLC) provides a publicly available dataset of taxi trips in New York City, which can be downloaded from the TLC website: http://www.nyc.gov/html/tlc/html/about/trip_record_data.shtml\n",
    "\n",
    "### Tasks:\n",
    "\n",
    "    Download the TLC taxi dataset and load it into a PySpark DataFrame.\n",
    "    Explore the dataset by performing basic operations such as filtering, grouping, and aggregating.\n",
    "    Calculate the average trip distance and fare amount for each hour of the day, and plot the results using a line chart.\n",
    "    Identify the top 10 busiest taxi zones in terms of pick-up counts, and plot the results using a bar chart.\n",
    "    Calculate the correlation between the trip distance and the fare amount, and plot the results using a scatter plot.\n",
    "\n",
    "### Hints:\n",
    "\n",
    "    Use the PySpark SQL module to perform SQL-like operations on the DataFrame.\n",
    "    Use the PySpark MLlib module to perform statistical analysis and data visualization.\n",
    "    Use the Matplotlib library to create plots and charts.\n",
    "\n",
    "#### Note: This is just an example exercise, and you can modify it or choose a different dataset depending on your interests and goals. The key is to practice PySpark by working with real-world data and solving meaningful problems."
   ],
   "metadata": {
    "collapsed": false,
    "pycharm": {
     "name": "#%% md\n"
    }
   }
  },
  {
   "cell_type": "code",
   "execution_count": 5,
   "outputs": [],
   "source": [
    "import findspark\n",
    "findspark.init()\n",
    "\n",
    "from pyspark.sql import SparkSession\n",
    "\n",
    "spark = SparkSession.builder \\\n",
    "    .appName(\"nyc_tlc\") \\\n",
    "    .master(\"local[*]\") \\\n",
    "    .getOrCreate()\n",
    "\n",
    "sc = spark.sparkContext"
   ],
   "metadata": {
    "collapsed": false,
    "pycharm": {
     "name": "#%%\n"
    }
   }
  },
  {
   "cell_type": "code",
   "execution_count": 11,
   "outputs": [
    {
     "name": "stdout",
     "output_type": "stream",
     "text": [
      "root\n",
      " |-- VendorID: long (nullable = true)\n",
      " |-- tpep_pickup_datetime: timestamp (nullable = true)\n",
      " |-- tpep_dropoff_datetime: timestamp (nullable = true)\n",
      " |-- passenger_count: double (nullable = true)\n",
      " |-- trip_distance: double (nullable = true)\n",
      " |-- RatecodeID: double (nullable = true)\n",
      " |-- store_and_fwd_flag: string (nullable = true)\n",
      " |-- PULocationID: long (nullable = true)\n",
      " |-- DOLocationID: long (nullable = true)\n",
      " |-- payment_type: long (nullable = true)\n",
      " |-- fare_amount: double (nullable = true)\n",
      " |-- extra: double (nullable = true)\n",
      " |-- mta_tax: double (nullable = true)\n",
      " |-- tip_amount: double (nullable = true)\n",
      " |-- tolls_amount: double (nullable = true)\n",
      " |-- improvement_surcharge: double (nullable = true)\n",
      " |-- total_amount: double (nullable = true)\n",
      " |-- congestion_surcharge: double (nullable = true)\n",
      " |-- airport_fee: double (nullable = true)\n",
      "\n"
     ]
    }
   ],
   "source": [
    "df = spark.read.parquet(r'C:\\Users\\Usuario1\\Desktop\\Work\\ML Learning\\Machine Learning Topics Explanation\\pySpark\\dataset\\yellow_tripdata_2022-01.parquet')\n",
    "df.printSchema()\n"
   ],
   "metadata": {
    "collapsed": false,
    "pycharm": {
     "name": "#%%\n"
    }
   }
  },
  {
   "cell_type": "code",
   "execution_count": 16,
   "outputs": [
    {
     "name": "stdout",
     "output_type": "stream",
     "text": [
      "+-------+-----------------+\n",
      "|summary|    trip_distance|\n",
      "+-------+-----------------+\n",
      "|  count|          2463931|\n",
      "|   mean| 5.37275119311366|\n",
      "| stddev|547.8714044600813|\n",
      "|    min|              0.0|\n",
      "|    max|        306159.28|\n",
      "+-------+-----------------+\n",
      "\n"
     ]
    }
   ],
   "source": [
    "df.describe('trip_distance').show()"
   ],
   "metadata": {
    "collapsed": false,
    "pycharm": {
     "name": "#%%\n"
    }
   }
  },
  {
   "cell_type": "code",
   "execution_count": 17,
   "outputs": [
    {
     "name": "stderr",
     "output_type": "stream",
     "text": [
      "C:\\Users\\Usuario1\\anaconda3\\envs\\Machine Learning Topics Explanation\\lib\\site-packages\\pyspark\\sql\\functions.py:1075: FutureWarning: Deprecated in 2.1, use approx_count_distinct instead.\n",
      "  warnings.warn(\"Deprecated in 2.1, use approx_count_distinct instead.\", FutureWarning)\n"
     ]
    },
    {
     "name": "stdout",
     "output_type": "stream",
     "text": [
      "+--------+--------------------+---------------------+---------------+-------------+----------+------------------+------------+------------+------------+-----------+-----+-------+----------+------------+---------------------+------------+--------------------+-----------+\n",
      "|VendorID|tpep_pickup_datetime|tpep_dropoff_datetime|passenger_count|trip_distance|RatecodeID|store_and_fwd_flag|PULocationID|DOLocationID|payment_type|fare_amount|extra|mta_tax|tip_amount|tolls_amount|improvement_surcharge|total_amount|congestion_surcharge|airport_fee|\n",
      "+--------+--------------------+---------------------+---------------+-------------+----------+------------------+------------+------------+------------+-----------+-----+-------+----------+------------+---------------------+------------+--------------------+-----------+\n",
      "|       4|             1371984|              1435138|             10|         4265|         7|                 2|         260|         264|           6|       6280|   60|     13|      2952|         502|                    3|       10800|                   5|          3|\n",
      "+--------+--------------------+---------------------+---------------+-------------+----------+------------------+------------+------------+------------+-----------+-----+-------+----------+------------+---------------------+------------+--------------------+-----------+\n",
      "\n"
     ]
    }
   ],
   "source": [
    "from pyspark.sql.functions import approxCountDistinct\n",
    "df.agg(*[approxCountDistinct(c).alias(c) for c in df.columns]).show()"
   ],
   "metadata": {
    "collapsed": false,
    "pycharm": {
     "name": "#%%\n"
    }
   }
  },
  {
   "cell_type": "code",
   "execution_count": null,
   "outputs": [],
   "source": [],
   "metadata": {
    "collapsed": false,
    "pycharm": {
     "name": "#%%\n"
    }
   }
  }
 ],
 "metadata": {
  "kernelspec": {
   "display_name": "Python 3",
   "language": "python",
   "name": "python3"
  },
  "language_info": {
   "codemirror_mode": {
    "name": "ipython",
    "version": 2
   },
   "file_extension": ".py",
   "mimetype": "text/x-python",
   "name": "python",
   "nbconvert_exporter": "python",
   "pygments_lexer": "ipython2",
   "version": "2.7.6"
  }
 },
 "nbformat": 4,
 "nbformat_minor": 0
}