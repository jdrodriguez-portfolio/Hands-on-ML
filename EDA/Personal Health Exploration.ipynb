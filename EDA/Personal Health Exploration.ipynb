{
 "cells": [
  {
   "cell_type": "markdown",
   "metadata": {
    "collapsed": true,
    "pycharm": {
     "name": "#%% md\n"
    }
   },
   "source": [
    " ## <center>Exploratory Data Analysis</center>\n",
    "### <center>Distributions</center>\n",
    "#### <center> Recommended Source: <a href=\"https://www.amazon.com/Think-Stats-Exploratory-Data-Analysis/dp/1491907339/ref=sr_1_1?crid=S92SQL92872G&keywords=THINK+STATS&qid=1668390828&sprefix=think+stats%2Caps%2C160&sr=8-1\">Link</a></center>"
   ]
  },
  {
   "cell_type": "markdown",
   "source": [
    "For this guide I will be using my own\n",
    "\n",
    "While analyzing data one of the best ways of describing a variable is to report values in the dataset and how many times each value appears, in other words view the Distribution of the variable. The most common representation is a <a href=\"https://www.khanacademy.org/math/cc-sixth-grade-math/cc-6th-data-statistics/histograms/v/histograms-intro\">\"histogram\"</a>, which is a graph that shows the frequency of each  value."
   ],
   "metadata": {
    "collapsed": false,
    "pycharm": {
     "name": "#%% md\n"
    }
   }
  },
  {
   "cell_type": "code",
   "execution_count": 7,
   "outputs": [],
   "source": [
    "import pandas as pd\n",
    "import os\n",
    "import sys\n",
    "from dotenv import load_dotenv\n",
    "import re\n",
    "from sqlalchemy import create_engine"
   ],
   "metadata": {
    "collapsed": false,
    "pycharm": {
     "name": "#%%\n"
    }
   }
  },
  {
   "cell_type": "code",
   "execution_count": 8,
   "outputs": [],
   "source": [
    "def process_samsung_files(csv_list):\n",
    "    curated_csv_list = []\n",
    "    for csv in csv_list:\n",
    "        csv_curated = re.sub(r'[0-9]+', '', csv)\n",
    "        csv_curated = csv_curated.replace(\"com.samsung.shealth.\", \"\").replace(\"com.samsung.health.\", \"\").replace(\".csv\", \"\").replace(\".\", \"_\")\n",
    "        csv_curated = csv_curated.strip('_')\n",
    "        accepted_csvs = [\n",
    "            'tracker_pedometer_step_count','sleep_combined','sleep_stage', 'activity_day_summary', 'calories_burned_details', 'exercise', 'weight', 'preferences', 'sleep', 'step_daily_trend', 'stress', 'stress_histogram', 'tracker_heart_rate', 'tracker_oxygen_saturation', 'tracker.pedometer_day_summary', 'tracker_pedometer_step_count']\n",
    "        if csv_curated in accepted_csvs:\n",
    "            curated_csv_list.append(csv_curated)\n",
    "            os.rename(\n",
    "                os.path.join(os.path.join('datasets','watch_data_dump'), csv),\n",
    "                os.path.join(os.path.join('datasets','watch_data_dump'), csv_curated)+\".csv\"\n",
    "            )\n",
    "        else:\n",
    "            os.remove(os.path.join(os.path.join('datasets','watch_data_dump'), csv))\n",
    "\n",
    "    return curated_csv_list\n",
    "csv_list = process_samsung_files(\n",
    "        os.listdir(\n",
    "                os.path.join('datasets','watch_data_dump')\n",
    "            )\n",
    "    )"
   ],
   "metadata": {
    "collapsed": false,
    "pycharm": {
     "name": "#%%\n"
    }
   }
  },
  {
   "cell_type": "code",
   "execution_count": 9,
   "outputs": [],
   "source": [
    "def clean_folder(path):\n",
    "\n",
    "    csv_list = os.listdir(\n",
    "                path\n",
    "            )\n",
    "\n",
    "    for file in csv_list:\n",
    "        os.remove(os.path.join(path, file))\n"
   ],
   "metadata": {
    "collapsed": false,
    "pycharm": {
     "name": "#%%\n"
    }
   }
  },
  {
   "cell_type": "code",
   "execution_count": 10,
   "outputs": [],
   "source": [
    "def get_watch_data():\n",
    "    csv_list = process_samsung_files(\n",
    "        os.listdir(\n",
    "                os.path.join('datasets','watch_data_dump')\n",
    "            )\n",
    "    )\n",
    "    watch_data_dict = {}\n",
    "    for csv in csv_list:\n",
    "\n",
    "        data = pd.read_csv(os.path.join(os.path.join('datasets','watch_data_dump'), csv+'.csv'), index_col=False, delimiter=',', skiprows=1)\n",
    "\n",
    "        approved_att_list = [column.replace('com.samsung.shealth.', '').replace('com.samsung.health.', '') for column in data.columns if column not in [\n",
    "            \"goal\",\n",
    "            \"others_time\",\n",
    "            \"\",\n",
    "            \"exercise.pkg_name\",\n",
    "            \"exercise.exercise_custom_type\",\n",
    "            \"exercise.datauuid\",\n",
    "            \"exercise.sweat_loss\",\n",
    "            \"exercise.pkg_name\",\n",
    "            \"exercise.live_data\",\n",
    "            \"exercise.comment\",\n",
    "            \"exercise.deviceuuid\",\n",
    "            \"exercise.additional\",\n",
    "            \"exercise.location_data\",\n",
    "            \"additional_internal\",\n",
    "            \"location_data_internal\",\n",
    "            \"heart_rate_deviceuuid\",\n",
    "            \"program_schedule_id\",\n",
    "            \"mission_extra_value\",\n",
    "            \"mission_type\",\n",
    "            \"tracking_status\",\n",
    "            \"program_id\",\n",
    "            \"title\",\n",
    "            \"pace_live_data\",\n",
    "            \"pace_info_id\",\n",
    "            \"completion_status\",\n",
    "            \"subset_data\",\n",
    "            \"mission_value\",\n",
    "            \"sleep_id\",\n",
    "            \"create_time\",\n",
    "            \"update_time\",\n",
    "            \"algorithm\",\n",
    "            \"comment\",\n",
    "            \"heart_rate.comment\",\n",
    "            \"heart_rate.pkg_name\",\n",
    "            \"heart_rate.time_offset\",\n",
    "            \"heart_rate.datauuid\",\n",
    "            \"heart_rate.update_time\",\n",
    "            \"heart_rate.create_time\",\n",
    "            \"heart_rate.binning_data\",\n",
    "            \"heart_rate.custom\",\n",
    "            \"heart_rate.heart_beat_count\",\n",
    "            \"oxygen_saturation.custom\",\n",
    "            \"oxygen_saturation.create_time\",\n",
    "            \"oxygen_saturation.update_time\",\n",
    "            \"oxygen_saturation.binning\",\n",
    "            \"oxygen_saturation.time_offset\",\n",
    "            \"oxygen_saturation.deviceuuid\",\n",
    "            \"oxygen_saturation.comment\",\n",
    "            \"oxygen_saturation.pkg_name\",\n",
    "            \"oxygen_saturation.datauuid\",\n",
    "            \"version_code\",\n",
    "            \"step_count.update_time\",\n",
    "            \"step_count.create_time\",\n",
    "            \"step_count.time_offset\",\n",
    "            \"vfa_level\",\n",
    "            \"comment\",\n",
    "            \"time_offset\",\n",
    "            \"muscle_mass\",\n",
    "            \"heart_rate.deviceuuid\",\n",
    "            \"heart_rate.comment\",\n",
    "            \"heart_rate.pkg_name\",\n",
    "            \"heart_rate.datauuid\",\n",
    "            \"custom\",\n",
    "            \"deviceuuid\",\n",
    "            \"pkg_name\",\n",
    "            \"datauuid\",\n",
    "            \"extra_data\",\n",
    "            \"device_type\",\n",
    "            \"source\",\n",
    "            \"source_id\",\n",
    "            \"source_pkg_name\",\n",
    "            \"com.samsung.shealth.calories_burned.pkg_name\",\n",
    "            \"com.samsung.shealth.calories_burned.datauuid\",\n",
    "            \"com.samsung.shealth.calories_burned.deviceuuid\",\n",
    "            \"com.samsung.shealth.calories_burned.deviceuuid\",\n",
    "            \"com.samsung.health.sleep.datauuid\",\n",
    "            \"com.samsung.health.sleep.pkg_name\",\n",
    "            \"com.samsung.health.sleep.deviceuuid\",\n",
    "            \"com.samsung.health.sleep.comment\",\n",
    "            \"binning_data\",\n",
    "            \"tag_id\",\n",
    "            \"source_type\",\n",
    "            \"com.samsung.health.step_count.datauuid\",\n",
    "            \"com.samsung.health.step_count.pkg_name\",\n",
    "            \"com.samsung.health.step_count.deviceuuid\",\n",
    "            \"com.samsung.health.step_count.sample_position_type\",\n",
    "            \"com.samsung.health.step_count.custom\",\n",
    "        ] ]\n",
    "        data.columns = data.columns.str.replace('com.samsung.shealth.', '', regex=False)\n",
    "        data.columns = data.columns.str.replace('com.samsung.health.', '', regex=False)\n",
    "        for column in data.columns:\n",
    "            if \"start_time\" in column or \"end_time\" in column:\n",
    "                data[column] = pd.to_datetime(data[column])\n",
    "            elif \"day_time\" in column:\n",
    "                data[column] = pd.to_datetime(data[column], unit='ms')\n",
    "            elif \"active\" in column:\n",
    "                data[column] = data[column]/1000/60\n",
    "        for column in data.columns:\n",
    "\n",
    "            if \"start_time\" in column:\n",
    "                data = data[(data[column] >= '11/14/2022')]\n",
    "                break\n",
    "\n",
    "        data['user_id'] = 1\n",
    "        data.fillna(\"\", inplace=True)\n",
    "\n",
    "        watch_data_dict[csv] = data[approved_att_list]\n",
    "    clean_folder(os.path.join('datasets','watch_data_dump'))\n",
    "    return watch_data_dict\n",
    "watch_data = get_watch_data()\n"
   ],
   "metadata": {
    "collapsed": false,
    "pycharm": {
     "name": "#%%\n"
    }
   }
  },
  {
   "cell_type": "code",
   "execution_count": 11,
   "outputs": [
    {
     "data": {
      "text/plain": "dict_keys(['activity_day_summary', 'calories_burned_details', 'exercise', 'preferences', 'sleep', 'sleep_combined', 'sleep_stage', 'step_daily_trend', 'stress', 'stress_histogram', 'tracker_heart_rate', 'tracker_oxygen_saturation', 'tracker_pedometer_step_count', 'weight'])"
     },
     "execution_count": 11,
     "metadata": {},
     "output_type": "execute_result"
    }
   ],
   "source": [
    "watch_data.keys()"
   ],
   "metadata": {
    "collapsed": false,
    "pycharm": {
     "name": "#%%\n"
    }
   }
  },
  {
   "cell_type": "code",
   "execution_count": 12,
   "outputs": [
    {
     "data": {
      "text/plain": "     duration  run_step  walk_step step_count.start_time  \\\n233      6984         0         18   2022-11-14 00:09:00   \n238      9553         0         15   2022-11-14 01:34:00   \n240     10049         0         14   2022-11-14 05:35:00   \n242      6346         0         19   2022-11-14 00:11:00   \n246      8812         0         16   2022-11-14 15:37:00   \n..        ...       ...        ...                   ...   \n549      4589         9         10   2022-11-18 21:42:00   \n550      9855         0          8   2022-11-18 22:50:00   \n551     18019         0         26   2022-11-19 02:42:00   \n552      6569         0         10   2022-11-19 15:45:00   \n553     12397         0         39   2022-11-19 17:16:00   \n\n      step_count.update_time   step_count.create_time  step_count.count  \\\n233  2022-11-14 00:09:40.901  2022-11-14 00:09:40.901                18   \n238  2022-11-14 01:34:15.723  2022-11-14 01:34:15.723                15   \n240  2022-11-14 05:36:31.473  2022-11-14 05:36:31.473                14   \n242  2022-11-14 00:14:59.493  2022-11-14 00:14:59.493                19   \n246  2022-11-14 15:37:19.648  2022-11-14 15:37:19.504                16   \n..                       ...                      ...               ...   \n549  2022-11-18 21:49:18.038  2022-11-18 21:49:18.038                19   \n550  2022-11-18 22:50:18.981  2022-11-18 22:50:16.750                 8   \n551  2022-11-19 02:42:47.968  2022-11-19 02:42:29.751                26   \n552  2022-11-19 15:45:19.079  2022-11-19 15:45:18.226                10   \n553  2022-11-19 17:19:01.396  2022-11-19 17:19:01.396                39   \n\n     step_count.speed  step_count.distance  step_count.calorie  \\\n233          2.138889            14.940000            1.070000   \n238          1.138889            10.880000            1.050000   \n240          0.972222             9.770000            1.020000   \n242          2.472222            15.690000            1.170000   \n246          1.362859            12.010254            1.140015   \n..                ...                  ...                 ...   \n549          3.861111            17.720000            2.250000   \n550          0.583215             5.747864            0.585526   \n551          1.077963            19.424316            1.858002   \n552          1.153249             7.575897            0.704186   \n553          2.611111            32.370000            2.750000   \n\n    step_count.time_offset step_count.end_time  \n233               UTC-0600 2022-11-14 00:10:00  \n238               UTC-0600 2022-11-14 01:35:00  \n240               UTC-0600 2022-11-14 05:36:00  \n242               UTC-0600 2022-11-14 00:12:00  \n246               UTC-0600 2022-11-14 15:38:00  \n..                     ...                 ...  \n549               UTC-0600 2022-11-18 21:43:00  \n550               UTC-0600 2022-11-18 22:51:00  \n551               UTC-0600 2022-11-19 02:43:00  \n552               UTC-0600 2022-11-19 15:46:00  \n553               UTC-0600 2022-11-19 17:17:00  \n\n[237 rows x 12 columns]",
      "text/html": "<div>\n<style scoped>\n    .dataframe tbody tr th:only-of-type {\n        vertical-align: middle;\n    }\n\n    .dataframe tbody tr th {\n        vertical-align: top;\n    }\n\n    .dataframe thead th {\n        text-align: right;\n    }\n</style>\n<table border=\"1\" class=\"dataframe\">\n  <thead>\n    <tr style=\"text-align: right;\">\n      <th></th>\n      <th>duration</th>\n      <th>run_step</th>\n      <th>walk_step</th>\n      <th>step_count.start_time</th>\n      <th>step_count.update_time</th>\n      <th>step_count.create_time</th>\n      <th>step_count.count</th>\n      <th>step_count.speed</th>\n      <th>step_count.distance</th>\n      <th>step_count.calorie</th>\n      <th>step_count.time_offset</th>\n      <th>step_count.end_time</th>\n    </tr>\n  </thead>\n  <tbody>\n    <tr>\n      <th>233</th>\n      <td>6984</td>\n      <td>0</td>\n      <td>18</td>\n      <td>2022-11-14 00:09:00</td>\n      <td>2022-11-14 00:09:40.901</td>\n      <td>2022-11-14 00:09:40.901</td>\n      <td>18</td>\n      <td>2.138889</td>\n      <td>14.940000</td>\n      <td>1.070000</td>\n      <td>UTC-0600</td>\n      <td>2022-11-14 00:10:00</td>\n    </tr>\n    <tr>\n      <th>238</th>\n      <td>9553</td>\n      <td>0</td>\n      <td>15</td>\n      <td>2022-11-14 01:34:00</td>\n      <td>2022-11-14 01:34:15.723</td>\n      <td>2022-11-14 01:34:15.723</td>\n      <td>15</td>\n      <td>1.138889</td>\n      <td>10.880000</td>\n      <td>1.050000</td>\n      <td>UTC-0600</td>\n      <td>2022-11-14 01:35:00</td>\n    </tr>\n    <tr>\n      <th>240</th>\n      <td>10049</td>\n      <td>0</td>\n      <td>14</td>\n      <td>2022-11-14 05:35:00</td>\n      <td>2022-11-14 05:36:31.473</td>\n      <td>2022-11-14 05:36:31.473</td>\n      <td>14</td>\n      <td>0.972222</td>\n      <td>9.770000</td>\n      <td>1.020000</td>\n      <td>UTC-0600</td>\n      <td>2022-11-14 05:36:00</td>\n    </tr>\n    <tr>\n      <th>242</th>\n      <td>6346</td>\n      <td>0</td>\n      <td>19</td>\n      <td>2022-11-14 00:11:00</td>\n      <td>2022-11-14 00:14:59.493</td>\n      <td>2022-11-14 00:14:59.493</td>\n      <td>19</td>\n      <td>2.472222</td>\n      <td>15.690000</td>\n      <td>1.170000</td>\n      <td>UTC-0600</td>\n      <td>2022-11-14 00:12:00</td>\n    </tr>\n    <tr>\n      <th>246</th>\n      <td>8812</td>\n      <td>0</td>\n      <td>16</td>\n      <td>2022-11-14 15:37:00</td>\n      <td>2022-11-14 15:37:19.648</td>\n      <td>2022-11-14 15:37:19.504</td>\n      <td>16</td>\n      <td>1.362859</td>\n      <td>12.010254</td>\n      <td>1.140015</td>\n      <td>UTC-0600</td>\n      <td>2022-11-14 15:38:00</td>\n    </tr>\n    <tr>\n      <th>...</th>\n      <td>...</td>\n      <td>...</td>\n      <td>...</td>\n      <td>...</td>\n      <td>...</td>\n      <td>...</td>\n      <td>...</td>\n      <td>...</td>\n      <td>...</td>\n      <td>...</td>\n      <td>...</td>\n      <td>...</td>\n    </tr>\n    <tr>\n      <th>549</th>\n      <td>4589</td>\n      <td>9</td>\n      <td>10</td>\n      <td>2022-11-18 21:42:00</td>\n      <td>2022-11-18 21:49:18.038</td>\n      <td>2022-11-18 21:49:18.038</td>\n      <td>19</td>\n      <td>3.861111</td>\n      <td>17.720000</td>\n      <td>2.250000</td>\n      <td>UTC-0600</td>\n      <td>2022-11-18 21:43:00</td>\n    </tr>\n    <tr>\n      <th>550</th>\n      <td>9855</td>\n      <td>0</td>\n      <td>8</td>\n      <td>2022-11-18 22:50:00</td>\n      <td>2022-11-18 22:50:18.981</td>\n      <td>2022-11-18 22:50:16.750</td>\n      <td>8</td>\n      <td>0.583215</td>\n      <td>5.747864</td>\n      <td>0.585526</td>\n      <td>UTC-0600</td>\n      <td>2022-11-18 22:51:00</td>\n    </tr>\n    <tr>\n      <th>551</th>\n      <td>18019</td>\n      <td>0</td>\n      <td>26</td>\n      <td>2022-11-19 02:42:00</td>\n      <td>2022-11-19 02:42:47.968</td>\n      <td>2022-11-19 02:42:29.751</td>\n      <td>26</td>\n      <td>1.077963</td>\n      <td>19.424316</td>\n      <td>1.858002</td>\n      <td>UTC-0600</td>\n      <td>2022-11-19 02:43:00</td>\n    </tr>\n    <tr>\n      <th>552</th>\n      <td>6569</td>\n      <td>0</td>\n      <td>10</td>\n      <td>2022-11-19 15:45:00</td>\n      <td>2022-11-19 15:45:19.079</td>\n      <td>2022-11-19 15:45:18.226</td>\n      <td>10</td>\n      <td>1.153249</td>\n      <td>7.575897</td>\n      <td>0.704186</td>\n      <td>UTC-0600</td>\n      <td>2022-11-19 15:46:00</td>\n    </tr>\n    <tr>\n      <th>553</th>\n      <td>12397</td>\n      <td>0</td>\n      <td>39</td>\n      <td>2022-11-19 17:16:00</td>\n      <td>2022-11-19 17:19:01.396</td>\n      <td>2022-11-19 17:19:01.396</td>\n      <td>39</td>\n      <td>2.611111</td>\n      <td>32.370000</td>\n      <td>2.750000</td>\n      <td>UTC-0600</td>\n      <td>2022-11-19 17:17:00</td>\n    </tr>\n  </tbody>\n</table>\n<p>237 rows × 12 columns</p>\n</div>"
     },
     "execution_count": 12,
     "metadata": {},
     "output_type": "execute_result"
    }
   ],
   "source": [
    "watch_data['tracker_pedometer_step_count']\n"
   ],
   "metadata": {
    "collapsed": false,
    "pycharm": {
     "name": "#%%\n"
    }
   }
  },
  {
   "cell_type": "code",
   "execution_count": 13,
   "outputs": [
    {
     "data": {
      "text/plain": "   Time of Measurement  Weight(lb)   BMI  Body Fat(%)  \\\n0  2022-11-17 09:12:11       287.4  43.1         26.2   \n1  2022-11-18 19:42:41       286.8  43.0         26.1   \n2  2022-11-19 11:39:43       288.2  43.2         26.2   \n\n   Fat-free Body Weight(lb)  Subcutaneous Fat(%)  Visceral Fat  Body Water(%)  \\\n0                     212.2                 19.8          24.0           53.3   \n1                     212.0                 19.8          24.0           53.4   \n2                     212.6                 19.8          24.0           53.3   \n\n   Skeletal Muscle(%)  Muscle Mass(lb)  Bone Mass(lb)  Protein(%)  BMR(kcal)  \\\n0                47.5            201.6           10.6        16.8       2454   \n1                47.6            201.4           10.6        16.9       2445   \n2                47.5            202.0           10.6        16.8       2458   \n\n   Metabolic Age  Remarks  user_id  \n0             39      NaN        1  \n1             39      NaN        1  \n2             39      NaN        1  ",
      "text/html": "<div>\n<style scoped>\n    .dataframe tbody tr th:only-of-type {\n        vertical-align: middle;\n    }\n\n    .dataframe tbody tr th {\n        vertical-align: top;\n    }\n\n    .dataframe thead th {\n        text-align: right;\n    }\n</style>\n<table border=\"1\" class=\"dataframe\">\n  <thead>\n    <tr style=\"text-align: right;\">\n      <th></th>\n      <th>Time of Measurement</th>\n      <th>Weight(lb)</th>\n      <th>BMI</th>\n      <th>Body Fat(%)</th>\n      <th>Fat-free Body Weight(lb)</th>\n      <th>Subcutaneous Fat(%)</th>\n      <th>Visceral Fat</th>\n      <th>Body Water(%)</th>\n      <th>Skeletal Muscle(%)</th>\n      <th>Muscle Mass(lb)</th>\n      <th>Bone Mass(lb)</th>\n      <th>Protein(%)</th>\n      <th>BMR(kcal)</th>\n      <th>Metabolic Age</th>\n      <th>Remarks</th>\n      <th>user_id</th>\n    </tr>\n  </thead>\n  <tbody>\n    <tr>\n      <th>0</th>\n      <td>2022-11-17 09:12:11</td>\n      <td>287.4</td>\n      <td>43.1</td>\n      <td>26.2</td>\n      <td>212.2</td>\n      <td>19.8</td>\n      <td>24.0</td>\n      <td>53.3</td>\n      <td>47.5</td>\n      <td>201.6</td>\n      <td>10.6</td>\n      <td>16.8</td>\n      <td>2454</td>\n      <td>39</td>\n      <td>NaN</td>\n      <td>1</td>\n    </tr>\n    <tr>\n      <th>1</th>\n      <td>2022-11-18 19:42:41</td>\n      <td>286.8</td>\n      <td>43.0</td>\n      <td>26.1</td>\n      <td>212.0</td>\n      <td>19.8</td>\n      <td>24.0</td>\n      <td>53.4</td>\n      <td>47.6</td>\n      <td>201.4</td>\n      <td>10.6</td>\n      <td>16.9</td>\n      <td>2445</td>\n      <td>39</td>\n      <td>NaN</td>\n      <td>1</td>\n    </tr>\n    <tr>\n      <th>2</th>\n      <td>2022-11-19 11:39:43</td>\n      <td>288.2</td>\n      <td>43.2</td>\n      <td>26.2</td>\n      <td>212.6</td>\n      <td>19.8</td>\n      <td>24.0</td>\n      <td>53.3</td>\n      <td>47.5</td>\n      <td>202.0</td>\n      <td>10.6</td>\n      <td>16.8</td>\n      <td>2458</td>\n      <td>39</td>\n      <td>NaN</td>\n      <td>1</td>\n    </tr>\n  </tbody>\n</table>\n</div>"
     },
     "execution_count": 13,
     "metadata": {},
     "output_type": "execute_result"
    }
   ],
   "source": [
    "def get_scale_data():\n",
    "    csv_list = os.listdir(os.path.join('datasets','digital_scale_data_dump'))\n",
    "\n",
    "    data = pd.DataFrame()\n",
    "    for csv in csv_list:\n",
    "\n",
    "        data = pd.read_csv(os.path.join(os.path.join('datasets','digital_scale_data_dump'), csv), delimiter=',')\n",
    "        data['user_id'] = 1\n",
    "    clean_folder(os.path.join('datasets','digital_scale_data_dump'))\n",
    "    return data\n",
    "scale_data = get_scale_data()\n",
    "scale_data"
   ],
   "metadata": {
    "collapsed": false,
    "pycharm": {
     "name": "#%%\n"
    }
   }
  },
  {
   "cell_type": "markdown",
   "source": [
    "### Centralizing Data\n",
    "\n",
    "I first start by connecting to my ibm db2 database in order to push my data and start working"
   ],
   "metadata": {
    "collapsed": false,
    "pycharm": {
     "name": "#%% md\n"
    }
   }
  },
  {
   "cell_type": "code",
   "execution_count": 14,
   "outputs": [
    {
     "data": {
      "text/plain": "('aycahfkimgybra',\n 'ca1349f5d7c74eaa0b8191cdb05e84ead5f4046ac49e47422738c59668932f69',\n 'ec2-18-214-35-70.compute-1.amazonaws.com',\n 'dqdnv4gccha9p')"
     },
     "execution_count": 14,
     "metadata": {},
     "output_type": "execute_result"
    }
   ],
   "source": [
    "load_dotenv()\n",
    "usr = os.getenv(\"db_usr\")\n",
    "pwd = os.getenv(\"db_pwd\")\n",
    "hostname = os.getenv(\"db_hostname\")\n",
    "db_name = os.getenv(\"db_name\")\n",
    "\n",
    "usr,pwd,hostname,db_name"
   ],
   "metadata": {
    "collapsed": false,
    "pycharm": {
     "name": "#%%\n"
    }
   }
  },
  {
   "cell_type": "code",
   "execution_count": 17,
   "outputs": [
    {
     "name": "stdout",
     "output_type": "stream",
     "text": [
      "Collecting psycopg2\n",
      "  Downloading psycopg2-2.9.5-cp310-cp310-win_amd64.whl (1.2 MB)\n",
      "     ---------------------------------------- 1.2/1.2 MB 5.7 MB/s eta 0:00:00\n",
      "Installing collected packages: psycopg2\n",
      "Successfully installed psycopg2-2.9.5\n"
     ]
    }
   ],
   "source": [
    "!pip install psycopg2\n",
    "connection_uri = f'postgresql+psycopg2://{usr}:{pwd}@{hostname}/{db_name}'\n",
    "sqlEngine = create_engine(connection_uri)\n",
    "\n",
    "conn    = sqlEngine.connect()"
   ],
   "metadata": {
    "collapsed": false,
    "pycharm": {
     "name": "#%%\n"
    }
   }
  },
  {
   "cell_type": "code",
   "execution_count": null,
   "outputs": [],
   "source": [
    "forbidden = ['preferences', 'stress_histogram']\n",
    "for key in watch_data.keys():\n",
    "\n",
    "    if key.replace('.','_') not in forbidden:\n",
    "        watch_data[key].to_sql(key.replace('.','_'), con=conn, if_exists='replace', index=False)\n",
    "\n",
    "stages_data_mapping = {'id':[4001, 4002, 4003, 4004], \"stages\": ['LIGHT', 'DEEP', 'REM', 'AWAKE']}\n",
    "sleep_stages = pd.DataFrame(stages_data_mapping)\n",
    "sleep_stages.to_sql('sleep_stages_mapping', con=conn, if_exists='replace', index=False)"
   ],
   "metadata": {
    "collapsed": false,
    "pycharm": {
     "name": "#%%\n",
     "is_executing": true
    }
   }
  },
  {
   "cell_type": "code",
   "execution_count": null,
   "outputs": [],
   "source": [
    "try:\n",
    "    scale_data_stored = pd.read_sql('scale_data',conn)\n",
    "    result = scale_data_stored.append(scale_data)\n",
    "    result.drop_duplicates(keep='last', inplace=True)\n",
    "    result.to_sql('scale_data', con=conn, if_exists='append', index=False)\n",
    "except:\n",
    "    scale_data.to_sql('scale_data', con=conn, if_exists='append', index=False)"
   ],
   "metadata": {
    "collapsed": false,
    "pycharm": {
     "name": "#%%\n",
     "is_executing": true
    }
   }
  },
  {
   "cell_type": "markdown",
   "source": [
    "### LOADING DATA"
   ],
   "metadata": {
    "collapsed": false,
    "pycharm": {
     "name": "#%% md\n"
    }
   }
  },
  {
   "cell_type": "code",
   "execution_count": null,
   "outputs": [],
   "source": [
    "240120/1000/60"
   ],
   "metadata": {
    "collapsed": false,
    "pycharm": {
     "name": "#%%\n"
    }
   }
  },
  {
   "cell_type": "code",
   "execution_count": null,
   "outputs": [],
   "source": [],
   "metadata": {
    "collapsed": false,
    "pycharm": {
     "name": "#%%\n"
    }
   }
  }
 ],
 "metadata": {
  "kernelspec": {
   "display_name": "Python 3",
   "language": "python",
   "name": "python3"
  },
  "language_info": {
   "codemirror_mode": {
    "name": "ipython",
    "version": 2
   },
   "file_extension": ".py",
   "mimetype": "text/x-python",
   "name": "python",
   "nbconvert_exporter": "python",
   "pygments_lexer": "ipython2",
   "version": "2.7.6"
  }
 },
 "nbformat": 4,
 "nbformat_minor": 0
}