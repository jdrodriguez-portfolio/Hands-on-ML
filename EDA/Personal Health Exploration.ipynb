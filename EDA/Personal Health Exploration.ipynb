{
 "cells": [
  {
   "cell_type": "markdown",
   "metadata": {
    "collapsed": true,
    "pycharm": {
     "name": "#%% md\n"
    }
   },
   "source": [
    " ## <center>Exploratory Data Analysis</center>\n",
    "### <center>Distributions</center>\n",
    "#### <center> Recommended Source: <a href=\"https://www.amazon.com/Think-Stats-Exploratory-Data-Analysis/dp/1491907339/ref=sr_1_1?crid=S92SQL92872G&keywords=THINK+STATS&qid=1668390828&sprefix=think+stats%2Caps%2C160&sr=8-1\">Link</a></center>"
   ]
  },
  {
   "cell_type": "markdown",
   "source": [
    "For this guide I will be using my own\n",
    "\n",
    "While analyzing data one of the best ways of describing a variable is to report values in the dataset and how many times each value appears, in other words view the Distribution of the variable. The most common representation is a <a href=\"https://www.khanacademy.org/math/cc-sixth-grade-math/cc-6th-data-statistics/histograms/v/histograms-intro\">\"histogram\"</a>, which is a graph that shows the frequency of each  value."
   ],
   "metadata": {
    "collapsed": false,
    "pycharm": {
     "name": "#%% md\n"
    }
   }
  },
  {
   "cell_type": "code",
   "execution_count": 191,
   "outputs": [],
   "source": [
    "import pandas as pd\n",
    "import os\n",
    "import sys\n",
    "import ibm_db\n",
    "from dotenv import load_dotenv\n",
    "import re\n",
    "from sqlalchemy import create_engine"
   ],
   "metadata": {
    "collapsed": false,
    "pycharm": {
     "name": "#%%\n"
    }
   }
  },
  {
   "cell_type": "code",
   "execution_count": 192,
   "outputs": [
    {
     "name": "stderr",
     "output_type": "stream",
     "text": [
      "C:\\Users\\Usuario1\\anaconda3\\envs\\Machine Learning Topics Explanation\\lib\\site-packages\\pandas\\core\\arraylike.py:60: UserWarning: Parsing '14/11/2022' in DD/MM/YYYY format. Provide format or specify infer_datetime_format=True for consistent parsing.\n",
      "  return self._cmp_method(other, operator.ge)\n",
      "C:\\Users\\Usuario1\\anaconda3\\envs\\Machine Learning Topics Explanation\\lib\\site-packages\\pandas\\core\\arraylike.py:60: UserWarning: Parsing '14/11/2022' in DD/MM/YYYY format. Provide format or specify infer_datetime_format=True for consistent parsing.\n",
      "  return self._cmp_method(other, operator.ge)\n",
      "C:\\Users\\Usuario1\\anaconda3\\envs\\Machine Learning Topics Explanation\\lib\\site-packages\\pandas\\core\\arraylike.py:60: UserWarning: Parsing '14/11/2022' in DD/MM/YYYY format. Provide format or specify infer_datetime_format=True for consistent parsing.\n",
      "  return self._cmp_method(other, operator.ge)\n",
      "C:\\Users\\Usuario1\\anaconda3\\envs\\Machine Learning Topics Explanation\\lib\\site-packages\\pandas\\core\\arraylike.py:60: UserWarning: Parsing '14/11/2022' in DD/MM/YYYY format. Provide format or specify infer_datetime_format=True for consistent parsing.\n",
      "  return self._cmp_method(other, operator.ge)\n",
      "C:\\Users\\Usuario1\\anaconda3\\envs\\Machine Learning Topics Explanation\\lib\\site-packages\\pandas\\core\\arraylike.py:60: UserWarning: Parsing '14/11/2022' in DD/MM/YYYY format. Provide format or specify infer_datetime_format=True for consistent parsing.\n",
      "  return self._cmp_method(other, operator.ge)\n",
      "C:\\Users\\Usuario1\\anaconda3\\envs\\Machine Learning Topics Explanation\\lib\\site-packages\\pandas\\core\\arraylike.py:60: UserWarning: Parsing '14/11/2022' in DD/MM/YYYY format. Provide format or specify infer_datetime_format=True for consistent parsing.\n",
      "  return self._cmp_method(other, operator.ge)\n",
      "C:\\Users\\Usuario1\\anaconda3\\envs\\Machine Learning Topics Explanation\\lib\\site-packages\\pandas\\core\\arraylike.py:60: UserWarning: Parsing '14/11/2022' in DD/MM/YYYY format. Provide format or specify infer_datetime_format=True for consistent parsing.\n",
      "  return self._cmp_method(other, operator.ge)\n",
      "C:\\Users\\Usuario1\\anaconda3\\envs\\Machine Learning Topics Explanation\\lib\\site-packages\\pandas\\core\\arraylike.py:60: UserWarning: Parsing '14/11/2022' in DD/MM/YYYY format. Provide format or specify infer_datetime_format=True for consistent parsing.\n",
      "  return self._cmp_method(other, operator.ge)\n",
      "C:\\Users\\Usuario1\\anaconda3\\envs\\Machine Learning Topics Explanation\\lib\\site-packages\\pandas\\core\\arraylike.py:60: UserWarning: Parsing '14/11/2022' in DD/MM/YYYY format. Provide format or specify infer_datetime_format=True for consistent parsing.\n",
      "  return self._cmp_method(other, operator.ge)\n",
      "C:\\Users\\Usuario1\\anaconda3\\envs\\Machine Learning Topics Explanation\\lib\\site-packages\\pandas\\core\\arraylike.py:60: UserWarning: Parsing '14/11/2022' in DD/MM/YYYY format. Provide format or specify infer_datetime_format=True for consistent parsing.\n",
      "  return self._cmp_method(other, operator.ge)\n",
      "C:\\Users\\Usuario1\\anaconda3\\envs\\Machine Learning Topics Explanation\\lib\\site-packages\\pandas\\core\\arraylike.py:60: UserWarning: Parsing '14/11/2022' in DD/MM/YYYY format. Provide format or specify infer_datetime_format=True for consistent parsing.\n",
      "  return self._cmp_method(other, operator.ge)\n",
      "C:\\Users\\Usuario1\\anaconda3\\envs\\Machine Learning Topics Explanation\\lib\\site-packages\\pandas\\core\\arraylike.py:60: UserWarning: Parsing '14/11/2022' in DD/MM/YYYY format. Provide format or specify infer_datetime_format=True for consistent parsing.\n",
      "  return self._cmp_method(other, operator.ge)\n",
      "C:\\Users\\Usuario1\\anaconda3\\envs\\Machine Learning Topics Explanation\\lib\\site-packages\\pandas\\core\\arraylike.py:60: UserWarning: Parsing '14/11/2022' in DD/MM/YYYY format. Provide format or specify infer_datetime_format=True for consistent parsing.\n",
      "  return self._cmp_method(other, operator.ge)\n",
      "C:\\Users\\Usuario1\\anaconda3\\envs\\Machine Learning Topics Explanation\\lib\\site-packages\\pandas\\core\\arraylike.py:60: UserWarning: Parsing '14/11/2022' in DD/MM/YYYY format. Provide format or specify infer_datetime_format=True for consistent parsing.\n",
      "  return self._cmp_method(other, operator.ge)\n"
     ]
    }
   ],
   "source": [
    "def get_watch_data():\n",
    "    csv_list = os.listdir(os.path.join('datasets','watch_data_dump'))\n",
    "    watch_data_dict = {}\n",
    "    for csv in csv_list:\n",
    "\n",
    "        data = pd.read_csv(os.path.join(os.path.join('datasets','watch_data_dump'), csv), index_col=False, delimiter=',', skiprows=1)\n",
    "\n",
    "        approved_att_list = [column.replace('com.samsung.shealth.', '').replace('com.samsung.health.', '') for column in data.columns if column not in [\n",
    "            \"heart_rate.deviceuuid\",\n",
    "            \"heart_rate.comment\",\n",
    "            \"heart_rate.pkg_name\",\n",
    "            \"heart_rate.datauuid\",\n",
    "            \"custom\",\n",
    "            \"deviceuuid\",\n",
    "            \"pkg_name\",\n",
    "            \"datauuid\",\n",
    "            \"extra_data\",\n",
    "            \"device_type\",\n",
    "            \"source\",\n",
    "            \"source_id\",\n",
    "            \"source_pkg_name\",\n",
    "            \"com.samsung.shealth.calories_burned.pkg_name\",\n",
    "            \"com.samsung.shealth.calories_burned.datauuid\",\n",
    "            \"com.samsung.shealth.calories_burned.deviceuuid\",\n",
    "            \"com.samsung.shealth.calories_burned.deviceuuid\",\n",
    "            \"com.samsung.health.sleep.datauuid\",\n",
    "            \"com.samsung.health.sleep.pkg_name\",\n",
    "            \"com.samsung.health.sleep.deviceuuid\",\n",
    "            \"com.samsung.health.sleep.comment\",\n",
    "            \"binning_data\",\n",
    "            \"tag_id\",\n",
    "            \"source_type\",\n",
    "            \"com.samsung.health.step_count.datauuid\",\n",
    "            \"com.samsung.health.step_count.pkg_name\",\n",
    "            \"com.samsung.health.step_count.deviceuuid\",\n",
    "            \"com.samsung.health.step_count.sample_position_type\",\n",
    "            \"com.samsung.health.step_count.custom\",\n",
    "        ] ]\n",
    "        data.columns = data.columns.str.replace('com.samsung.shealth.', '', regex=False)\n",
    "        data.columns = data.columns.str.replace('com.samsung.health.', '', regex=False)\n",
    "        for column in data.columns:\n",
    "            if \"_time\" in column:\n",
    "                data[column] = pd.to_datetime(data[column])\n",
    "        for column in data.columns:\n",
    "\n",
    "            if \"_time\" in column:\n",
    "                data = data[(data[column] >= '14/11/2022')]\n",
    "\n",
    "                break\n",
    "        data['user_id'] = 1\n",
    "        data.fillna(\"\", inplace=True)\n",
    "        result = re.sub(r'[0-9]+', '', csv)\n",
    "        if 'shealth' in result:\n",
    "            result = result.replace('shealth.', '')\n",
    "        elif 'health' in result:\n",
    "            result = result.replace('health.', '')\n",
    "        watch_data_dict[result.replace(\"com.samsung.\", \"\").replace(\"..csv\", \"\")] = data[approved_att_list]\n",
    "    return watch_data_dict\n",
    "watch_data = get_watch_data()\n"
   ],
   "metadata": {
    "collapsed": false,
    "pycharm": {
     "name": "#%%\n"
    }
   }
  },
  {
   "cell_type": "code",
   "execution_count": 193,
   "outputs": [
    {
     "data": {
      "text/plain": "dict_keys(['sleep_stage', 'activity.day_summary', 'calories_burned.details', 'exercise', 'exercise.recovery_heart_rate', 'preferences', 'sleep', 'step_daily_trend', 'stress', 'stress.histogram', 'tracker.heart_rate', 'tracker.oxygen_saturation', 'tracker.pedometer_day_summary', 'tracker.pedometer_step_count'])"
     },
     "execution_count": 193,
     "metadata": {},
     "output_type": "execute_result"
    }
   ],
   "source": [
    "watch_data.keys()"
   ],
   "metadata": {
    "collapsed": false,
    "pycharm": {
     "name": "#%%\n"
    }
   }
  },
  {
   "cell_type": "code",
   "execution_count": 194,
   "outputs": [
    {
     "data": {
      "text/plain": "     duration  version_code  run_step  walk_step step_count.start_time  \\\n213      6984             4         0         18   2022-11-14 00:09:00   \n219      9553             4         0         15   2022-11-14 01:34:00   \n224     10049             4         0         14   2022-11-14 05:35:00   \n230      8812             4         0         16   2022-11-14 15:37:00   \n235     17642             4         0         29   2022-11-14 23:27:00   \n..        ...           ...       ...        ...                   ...   \n454      8709             4         0         11   2022-11-16 00:21:00   \n455      7292             4         0         12   2022-11-16 01:20:00   \n456     10581             4         0         14   2022-11-16 01:28:00   \n457      4520             4         0         10   2022-11-16 17:48:00   \n458     16440             4         0         26   2022-11-16 19:24:00   \n\n     step_count.update_time  step_count.create_time  step_count.count  \\\n213 2022-11-14 00:09:40.901 2022-11-14 00:09:40.901                18   \n219 2022-11-14 01:34:15.723 2022-11-14 01:34:15.723                15   \n224 2022-11-14 05:36:31.473 2022-11-14 05:36:31.473                14   \n230 2022-11-14 15:37:19.648 2022-11-14 15:37:19.504                16   \n235 2022-11-14 23:27:35.868 2022-11-14 23:27:30.766                29   \n..                      ...                     ...               ...   \n454 2022-11-16 00:23:02.160 2022-11-16 00:23:02.160                11   \n455 2022-11-16 01:22:49.745 2022-11-16 01:22:49.745                12   \n456 2022-11-16 01:29:52.552 2022-11-16 01:29:52.552                14   \n457 2022-11-16 17:49:17.153 2022-11-16 17:49:17.153                10   \n458 2022-11-16 19:26:17.747 2022-11-16 19:26:17.747                26   \n\n     step_count.speed  step_count.distance  step_count.calorie  \\\n213          2.138889            14.940000            1.070000   \n219          1.138889            10.880000            1.050000   \n224          0.972222             9.770000            1.020000   \n230          1.362859            12.010254            1.140015   \n235          1.203350            21.230469            2.020081   \n..                ...                  ...                 ...   \n454          0.861111             7.500000            0.840000   \n455          1.194444             8.710000            0.880000   \n456          0.916667             9.700000            1.190000   \n457          1.750000             7.910000            0.700000   \n458          1.166667            19.180000            1.920000   \n\n    step_count.time_offset step_count.end_time  \n213               UTC-0600 2022-11-14 00:10:00  \n219               UTC-0600 2022-11-14 01:35:00  \n224               UTC-0600 2022-11-14 05:36:00  \n230               UTC-0600 2022-11-14 15:38:00  \n235               UTC-0600 2022-11-14 23:28:00  \n..                     ...                 ...  \n454               UTC-0600 2022-11-16 00:22:00  \n455               UTC-0600 2022-11-16 01:21:00  \n456               UTC-0600 2022-11-16 01:29:00  \n457               UTC-0600 2022-11-16 17:49:00  \n458               UTC-0600 2022-11-16 19:25:00  \n\n[142 rows x 13 columns]",
      "text/html": "<div>\n<style scoped>\n    .dataframe tbody tr th:only-of-type {\n        vertical-align: middle;\n    }\n\n    .dataframe tbody tr th {\n        vertical-align: top;\n    }\n\n    .dataframe thead th {\n        text-align: right;\n    }\n</style>\n<table border=\"1\" class=\"dataframe\">\n  <thead>\n    <tr style=\"text-align: right;\">\n      <th></th>\n      <th>duration</th>\n      <th>version_code</th>\n      <th>run_step</th>\n      <th>walk_step</th>\n      <th>step_count.start_time</th>\n      <th>step_count.update_time</th>\n      <th>step_count.create_time</th>\n      <th>step_count.count</th>\n      <th>step_count.speed</th>\n      <th>step_count.distance</th>\n      <th>step_count.calorie</th>\n      <th>step_count.time_offset</th>\n      <th>step_count.end_time</th>\n    </tr>\n  </thead>\n  <tbody>\n    <tr>\n      <th>213</th>\n      <td>6984</td>\n      <td>4</td>\n      <td>0</td>\n      <td>18</td>\n      <td>2022-11-14 00:09:00</td>\n      <td>2022-11-14 00:09:40.901</td>\n      <td>2022-11-14 00:09:40.901</td>\n      <td>18</td>\n      <td>2.138889</td>\n      <td>14.940000</td>\n      <td>1.070000</td>\n      <td>UTC-0600</td>\n      <td>2022-11-14 00:10:00</td>\n    </tr>\n    <tr>\n      <th>219</th>\n      <td>9553</td>\n      <td>4</td>\n      <td>0</td>\n      <td>15</td>\n      <td>2022-11-14 01:34:00</td>\n      <td>2022-11-14 01:34:15.723</td>\n      <td>2022-11-14 01:34:15.723</td>\n      <td>15</td>\n      <td>1.138889</td>\n      <td>10.880000</td>\n      <td>1.050000</td>\n      <td>UTC-0600</td>\n      <td>2022-11-14 01:35:00</td>\n    </tr>\n    <tr>\n      <th>224</th>\n      <td>10049</td>\n      <td>4</td>\n      <td>0</td>\n      <td>14</td>\n      <td>2022-11-14 05:35:00</td>\n      <td>2022-11-14 05:36:31.473</td>\n      <td>2022-11-14 05:36:31.473</td>\n      <td>14</td>\n      <td>0.972222</td>\n      <td>9.770000</td>\n      <td>1.020000</td>\n      <td>UTC-0600</td>\n      <td>2022-11-14 05:36:00</td>\n    </tr>\n    <tr>\n      <th>230</th>\n      <td>8812</td>\n      <td>4</td>\n      <td>0</td>\n      <td>16</td>\n      <td>2022-11-14 15:37:00</td>\n      <td>2022-11-14 15:37:19.648</td>\n      <td>2022-11-14 15:37:19.504</td>\n      <td>16</td>\n      <td>1.362859</td>\n      <td>12.010254</td>\n      <td>1.140015</td>\n      <td>UTC-0600</td>\n      <td>2022-11-14 15:38:00</td>\n    </tr>\n    <tr>\n      <th>235</th>\n      <td>17642</td>\n      <td>4</td>\n      <td>0</td>\n      <td>29</td>\n      <td>2022-11-14 23:27:00</td>\n      <td>2022-11-14 23:27:35.868</td>\n      <td>2022-11-14 23:27:30.766</td>\n      <td>29</td>\n      <td>1.203350</td>\n      <td>21.230469</td>\n      <td>2.020081</td>\n      <td>UTC-0600</td>\n      <td>2022-11-14 23:28:00</td>\n    </tr>\n    <tr>\n      <th>...</th>\n      <td>...</td>\n      <td>...</td>\n      <td>...</td>\n      <td>...</td>\n      <td>...</td>\n      <td>...</td>\n      <td>...</td>\n      <td>...</td>\n      <td>...</td>\n      <td>...</td>\n      <td>...</td>\n      <td>...</td>\n      <td>...</td>\n    </tr>\n    <tr>\n      <th>454</th>\n      <td>8709</td>\n      <td>4</td>\n      <td>0</td>\n      <td>11</td>\n      <td>2022-11-16 00:21:00</td>\n      <td>2022-11-16 00:23:02.160</td>\n      <td>2022-11-16 00:23:02.160</td>\n      <td>11</td>\n      <td>0.861111</td>\n      <td>7.500000</td>\n      <td>0.840000</td>\n      <td>UTC-0600</td>\n      <td>2022-11-16 00:22:00</td>\n    </tr>\n    <tr>\n      <th>455</th>\n      <td>7292</td>\n      <td>4</td>\n      <td>0</td>\n      <td>12</td>\n      <td>2022-11-16 01:20:00</td>\n      <td>2022-11-16 01:22:49.745</td>\n      <td>2022-11-16 01:22:49.745</td>\n      <td>12</td>\n      <td>1.194444</td>\n      <td>8.710000</td>\n      <td>0.880000</td>\n      <td>UTC-0600</td>\n      <td>2022-11-16 01:21:00</td>\n    </tr>\n    <tr>\n      <th>456</th>\n      <td>10581</td>\n      <td>4</td>\n      <td>0</td>\n      <td>14</td>\n      <td>2022-11-16 01:28:00</td>\n      <td>2022-11-16 01:29:52.552</td>\n      <td>2022-11-16 01:29:52.552</td>\n      <td>14</td>\n      <td>0.916667</td>\n      <td>9.700000</td>\n      <td>1.190000</td>\n      <td>UTC-0600</td>\n      <td>2022-11-16 01:29:00</td>\n    </tr>\n    <tr>\n      <th>457</th>\n      <td>4520</td>\n      <td>4</td>\n      <td>0</td>\n      <td>10</td>\n      <td>2022-11-16 17:48:00</td>\n      <td>2022-11-16 17:49:17.153</td>\n      <td>2022-11-16 17:49:17.153</td>\n      <td>10</td>\n      <td>1.750000</td>\n      <td>7.910000</td>\n      <td>0.700000</td>\n      <td>UTC-0600</td>\n      <td>2022-11-16 17:49:00</td>\n    </tr>\n    <tr>\n      <th>458</th>\n      <td>16440</td>\n      <td>4</td>\n      <td>0</td>\n      <td>26</td>\n      <td>2022-11-16 19:24:00</td>\n      <td>2022-11-16 19:26:17.747</td>\n      <td>2022-11-16 19:26:17.747</td>\n      <td>26</td>\n      <td>1.166667</td>\n      <td>19.180000</td>\n      <td>1.920000</td>\n      <td>UTC-0600</td>\n      <td>2022-11-16 19:25:00</td>\n    </tr>\n  </tbody>\n</table>\n<p>142 rows × 13 columns</p>\n</div>"
     },
     "execution_count": 194,
     "metadata": {},
     "output_type": "execute_result"
    }
   ],
   "source": [
    "watch_data['tracker.pedometer_step_count']\n"
   ],
   "metadata": {
    "collapsed": false,
    "pycharm": {
     "name": "#%%\n"
    }
   }
  },
  {
   "cell_type": "code",
   "execution_count": 195,
   "outputs": [
    {
     "data": {
      "text/plain": "   Time of Measurement  Weight(lb)   BMI  Body Fat(%)  \\\n0  2022-11-14 23:34:23       291.2  43.6         26.5   \n1  2022-11-15 11:10:38       276.8  41.5         25.3   \n\n   Fat-free Body Weight(lb)  Subcutaneous Fat(%)  Visceral Fat  Body Water(%)  \\\n0                     214.0                 20.0          24.0           53.1   \n1                     206.8                 19.3          22.0           53.9   \n\n   Skeletal Muscle(%)  Muscle Mass(lb)  Bone Mass(lb)  Protein(%)  BMR(kcal)  \\\n0                47.4            203.2           10.8        16.8       2476   \n1                48.1            196.6           10.2        17.0       2372   \n\n   Metabolic Age  Remarks  user_id  \n0             39      NaN        1  \n1             39      NaN        1  ",
      "text/html": "<div>\n<style scoped>\n    .dataframe tbody tr th:only-of-type {\n        vertical-align: middle;\n    }\n\n    .dataframe tbody tr th {\n        vertical-align: top;\n    }\n\n    .dataframe thead th {\n        text-align: right;\n    }\n</style>\n<table border=\"1\" class=\"dataframe\">\n  <thead>\n    <tr style=\"text-align: right;\">\n      <th></th>\n      <th>Time of Measurement</th>\n      <th>Weight(lb)</th>\n      <th>BMI</th>\n      <th>Body Fat(%)</th>\n      <th>Fat-free Body Weight(lb)</th>\n      <th>Subcutaneous Fat(%)</th>\n      <th>Visceral Fat</th>\n      <th>Body Water(%)</th>\n      <th>Skeletal Muscle(%)</th>\n      <th>Muscle Mass(lb)</th>\n      <th>Bone Mass(lb)</th>\n      <th>Protein(%)</th>\n      <th>BMR(kcal)</th>\n      <th>Metabolic Age</th>\n      <th>Remarks</th>\n      <th>user_id</th>\n    </tr>\n  </thead>\n  <tbody>\n    <tr>\n      <th>0</th>\n      <td>2022-11-14 23:34:23</td>\n      <td>291.2</td>\n      <td>43.6</td>\n      <td>26.5</td>\n      <td>214.0</td>\n      <td>20.0</td>\n      <td>24.0</td>\n      <td>53.1</td>\n      <td>47.4</td>\n      <td>203.2</td>\n      <td>10.8</td>\n      <td>16.8</td>\n      <td>2476</td>\n      <td>39</td>\n      <td>NaN</td>\n      <td>1</td>\n    </tr>\n    <tr>\n      <th>1</th>\n      <td>2022-11-15 11:10:38</td>\n      <td>276.8</td>\n      <td>41.5</td>\n      <td>25.3</td>\n      <td>206.8</td>\n      <td>19.3</td>\n      <td>22.0</td>\n      <td>53.9</td>\n      <td>48.1</td>\n      <td>196.6</td>\n      <td>10.2</td>\n      <td>17.0</td>\n      <td>2372</td>\n      <td>39</td>\n      <td>NaN</td>\n      <td>1</td>\n    </tr>\n  </tbody>\n</table>\n</div>"
     },
     "execution_count": 195,
     "metadata": {},
     "output_type": "execute_result"
    }
   ],
   "source": [
    "def get_scale_data():\n",
    "    csv_list = os.listdir(os.path.join('datasets','digital_scale_data_dump'))\n",
    "\n",
    "    data = pd.DataFrame()\n",
    "    for csv in csv_list:\n",
    "\n",
    "        data = pd.read_csv(os.path.join(os.path.join('datasets','digital_scale_data_dump'), csv), delimiter=',')\n",
    "        data['user_id'] = 1\n",
    "\n",
    "    return data\n",
    "scale_data = get_scale_data()\n",
    "scale_data"
   ],
   "metadata": {
    "collapsed": false,
    "pycharm": {
     "name": "#%%\n"
    }
   }
  },
  {
   "cell_type": "markdown",
   "source": [
    "### Centralizing Data\n",
    "\n",
    "I first start by connecting to my ibm db2 database in order to push my data and start working"
   ],
   "metadata": {
    "collapsed": false,
    "pycharm": {
     "name": "#%% md\n"
    }
   }
  },
  {
   "cell_type": "code",
   "execution_count": 196,
   "outputs": [
    {
     "data": {
      "text/plain": "('root', 'goede', 'localhost', 'health')"
     },
     "execution_count": 196,
     "metadata": {},
     "output_type": "execute_result"
    }
   ],
   "source": [
    "load_dotenv()\n",
    "usr = os.getenv(\"db_usr\")\n",
    "pwd = os.getenv(\"db_pwd\")\n",
    "hostname = os.getenv(\"db_hostname\")\n",
    "db_name = os.getenv(\"db_name\")\n",
    "\n",
    "usr,pwd,hostname,db_name"
   ],
   "metadata": {
    "collapsed": false,
    "pycharm": {
     "name": "#%%\n"
    }
   }
  },
  {
   "cell_type": "code",
   "execution_count": 197,
   "outputs": [],
   "source": [
    "\n",
    "connection_uri = f'mysql+pymysql://{usr}:{pwd}@{hostname}/{db_name}'\n",
    "sqlEngine = create_engine(connection_uri)\n",
    "\n",
    "conn    = sqlEngine.connect()"
   ],
   "metadata": {
    "collapsed": false,
    "pycharm": {
     "name": "#%%\n"
    }
   }
  },
  {
   "cell_type": "code",
   "execution_count": 198,
   "outputs": [
    {
     "data": {
      "text/plain": "4"
     },
     "execution_count": 198,
     "metadata": {},
     "output_type": "execute_result"
    }
   ],
   "source": [
    "forbidden = ['preferences', 'stress_histogram']\n",
    "for key in watch_data.keys():\n",
    "\n",
    "    if key.replace('.','_') not in forbidden:\n",
    "        watch_data[key].to_sql(key.replace('.','_'), con=conn, if_exists='replace', index=False)\n",
    "\n",
    "stages_data_mapping = {'id':[4001, 4002, 4003, 4004], \"stages\": ['LIGHT', 'DEEP', 'REM', 'AWAKE']}\n",
    "sleep_stages = pd.DataFrame(stages_data_mapping)\n",
    "sleep_stages.to_sql('sleep_stages_mapping', con=conn, if_exists='replace', index=False)"
   ],
   "metadata": {
    "collapsed": false,
    "pycharm": {
     "name": "#%%\n"
    }
   }
  },
  {
   "cell_type": "code",
   "execution_count": 199,
   "outputs": [
    {
     "data": {
      "text/plain": "2"
     },
     "execution_count": 199,
     "metadata": {},
     "output_type": "execute_result"
    }
   ],
   "source": [
    "scale_data.to_sql('scale_data', con=conn, if_exists='append', index=False)"
   ],
   "metadata": {
    "collapsed": false,
    "pycharm": {
     "name": "#%%\n"
    }
   }
  },
  {
   "cell_type": "code",
   "execution_count": 199,
   "outputs": [],
   "source": [],
   "metadata": {
    "collapsed": false,
    "pycharm": {
     "name": "#%%\n"
    }
   }
  }
 ],
 "metadata": {
  "kernelspec": {
   "display_name": "Python 3",
   "language": "python",
   "name": "python3"
  },
  "language_info": {
   "codemirror_mode": {
    "name": "ipython",
    "version": 2
   },
   "file_extension": ".py",
   "mimetype": "text/x-python",
   "name": "python",
   "nbconvert_exporter": "python",
   "pygments_lexer": "ipython2",
   "version": "2.7.6"
  }
 },
 "nbformat": 4,
 "nbformat_minor": 0
}