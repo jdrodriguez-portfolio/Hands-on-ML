{
 "cells": [
  {
   "cell_type": "markdown",
   "metadata": {
    "id": "Sndd2PIQDerB"
   },
   "source": [
    "# **Exploratory Data Analysis - Practice session 1**\n",
    "-----"
   ]
  },
  {
   "cell_type": "markdown",
   "metadata": {
    "id": "OZQzqYKXGbqc"
   },
   "source": [
    "## **Attrition Data Analysis**\n",
    "\n",
    "Why some employees are leaving the company?"
   ]
  },
  {
   "cell_type": "markdown",
   "metadata": {
    "id": "fl07fXoIG9lV"
   },
   "source": [
    "**Objective**\n",
    "\n",
    "We want to understand what factors contribute to employee turnover in the \n",
    "company in order to create or improve different employee retention strategies. "
   ]
  },
  {
   "cell_type": "markdown",
   "metadata": {
    "id": "alJ1cKZjIlmc"
   },
   "source": [
    "**Methodology**\n",
    "\n",
    "The pipeline OSEMN is going to be used to perform this analysis.\n",
    "\n",
    "* **Obtaining** \n",
    "* **Scrubing** or cleaning the data. \n",
    "* **Exploring** or Exploratory Data Analysis (EDA). \n",
    "* **Modeling** as an approach.\n",
    "* I**N**nterpreting the results."
   ]
  },
  {
   "cell_type": "markdown",
   "metadata": {
    "id": "7Y_nUpn0LEL0"
   },
   "source": [
    "**Concepts**\n",
    "\n",
    "* **Attrition**: is the departure of employees from the organization for any reason."
   ]
  },
  {
   "cell_type": "markdown",
   "metadata": {
    "id": "dITdAaaZJEal"
   },
   "source": [
    "**Data source**\n",
    "\n",
    "Kaggle: HR Analytics\n",
    "\n",
    "This is a simulated dataset.\n",
    "\n",
    "https://www.kaggle.com/datasets/lnvardanyan/hr-analytics"
   ]
  },
  {
   "cell_type": "markdown",
   "metadata": {
    "id": "nt9f6m83KteN"
   },
   "source": [
    "## **1. Obtaining the data**"
   ]
  },
  {
   "cell_type": "code",
   "execution_count": 1,
   "metadata": {
    "executionInfo": {
     "elapsed": 221,
     "status": "ok",
     "timestamp": 1667592544701,
     "user": {
      "displayName": "Maria Fernanda Ramirez Soler",
      "userId": "06510732082046550487"
     },
     "user_tz": 300
    },
    "id": "Pc_0j35vKtHs"
   },
   "outputs": [
    {
     "ename": "ModuleNotFoundError",
     "evalue": "No module named 'seaborn'",
     "output_type": "error",
     "traceback": [
      "\u001b[1;31m---------------------------------------------------------------------------\u001b[0m",
      "\u001b[1;31mModuleNotFoundError\u001b[0m                       Traceback (most recent call last)",
      "Input \u001b[1;32mIn [1]\u001b[0m, in \u001b[0;36m<cell line: 5>\u001b[1;34m()\u001b[0m\n\u001b[0;32m      3\u001b[0m \u001b[38;5;28;01mimport\u001b[39;00m \u001b[38;5;21;01mpandas\u001b[39;00m \u001b[38;5;28;01mas\u001b[39;00m \u001b[38;5;21;01mpd\u001b[39;00m\n\u001b[0;32m      4\u001b[0m \u001b[38;5;28;01mimport\u001b[39;00m \u001b[38;5;21;01mmatplotlib\u001b[39;00m\u001b[38;5;21;01m.\u001b[39;00m\u001b[38;5;21;01mpyplot\u001b[39;00m \u001b[38;5;28;01mas\u001b[39;00m \u001b[38;5;21;01mplt\u001b[39;00m\n\u001b[1;32m----> 5\u001b[0m \u001b[38;5;28;01mimport\u001b[39;00m \u001b[38;5;21;01mseaborn\u001b[39;00m \u001b[38;5;28;01mas\u001b[39;00m \u001b[38;5;21;01msns\u001b[39;00m\n",
      "\u001b[1;31mModuleNotFoundError\u001b[0m: No module named 'seaborn'"
     ]
    }
   ],
   "source": [
    "# IMPORT LIBRARIES\n",
    "import numpy as np\n",
    "import pandas as pd\n",
    "import matplotlib.pyplot as plt\n",
    "import seaborn as sns "
   ]
  },
  {
   "cell_type": "code",
   "execution_count": null,
   "metadata": {
    "colab": {
     "base_uri": "https://localhost:8080/"
    },
    "executionInfo": {
     "elapsed": 1145,
     "status": "ok",
     "timestamp": 1667592546042,
     "user": {
      "displayName": "Maria Fernanda Ramirez Soler",
      "userId": "06510732082046550487"
     },
     "user_tz": 300
    },
    "id": "dR8jRc_eLtqY",
    "outputId": "095b3489-2cfa-4f9a-c396-49bbce9bdd54"
   },
   "outputs": [],
   "source": [
    "# CONECTION WITH DRIVE\n",
    "from google.colab import drive\n",
    "drive.mount('/content/drive')"
   ]
  },
  {
   "cell_type": "code",
   "execution_count": null,
   "metadata": {
    "colab": {
     "base_uri": "https://localhost:8080/",
     "height": 206
    },
    "executionInfo": {
     "elapsed": 9,
     "status": "ok",
     "timestamp": 1667592546043,
     "user": {
      "displayName": "Maria Fernanda Ramirez Soler",
      "userId": "06510732082046550487"
     },
     "user_tz": 300
    },
    "id": "VEy_Aq-8LwU8",
    "outputId": "e9f11d55-6e1d-4ec0-dc61-97f14f4c6b5a"
   },
   "outputs": [],
   "source": [
    "# IMPORT THE DATA INTO THE STRUCTURE OF A DATAFRAME\n",
    "df = pd.read_csv('/content/drive/MyDrive/EDA Training/turnover.csv')\n",
    "df.head()"
   ]
  },
  {
   "cell_type": "code",
   "execution_count": null,
   "metadata": {
    "executionInfo": {
     "elapsed": 6,
     "status": "ok",
     "timestamp": 1667592546043,
     "user": {
      "displayName": "Maria Fernanda Ramirez Soler",
      "userId": "06510732082046550487"
     },
     "user_tz": 300
    },
    "id": "jEW3GeBcNAFd"
   },
   "outputs": [],
   "source": [
    "# HOW MANY ROW AND COLUMNS DO WE HAVE?"
   ]
  },
  {
   "cell_type": "code",
   "execution_count": null,
   "metadata": {
    "colab": {
     "base_uri": "https://localhost:8080/"
    },
    "executionInfo": {
     "elapsed": 4,
     "status": "ok",
     "timestamp": 1667592546311,
     "user": {
      "displayName": "Maria Fernanda Ramirez Soler",
      "userId": "06510732082046550487"
     },
     "user_tz": 300
    },
    "id": "yPJTmAFGNE9t",
    "outputId": "49a6c40f-e547-4427-ef53-1408817b1637"
   },
   "outputs": [],
   "source": [
    "df.shape"
   ]
  },
  {
   "cell_type": "markdown",
   "metadata": {
    "id": "Kv-ruUGpNMEU"
   },
   "source": [
    "We have:\n",
    "\n",
    "* 15.000 rows or observations.\n",
    "* 10 columns or variables.\n",
    "* One of the variables ('left') is used to identify if the employee left the company (it's the label or dependent variable)."
   ]
  },
  {
   "cell_type": "markdown",
   "metadata": {
    "id": "M0kSWkzwGLmF"
   },
   "source": [
    "## **2. Data Scrubing**\n"
   ]
  },
  {
   "cell_type": "markdown",
   "metadata": {
    "id": "c0aLGdsBQxFU"
   },
   "source": []
  },
  {
   "cell_type": "markdown",
   "metadata": {
    "id": "DT-UzKu6Qwk1"
   },
   "source": []
  }
 ],
 "metadata": {
  "colab": {
   "authorship_tag": "ABX9TyN5TVvL/ErP0Dr8+9VQDC+Y",
   "provenance": []
  },
  "kernelspec": {
   "display_name": "Python 3 (ipykernel)",
   "language": "python",
   "name": "python3"
  },
  "language_info": {
   "codemirror_mode": {
    "name": "ipython",
    "version": 3
   },
   "file_extension": ".py",
   "mimetype": "text/x-python",
   "name": "python",
   "nbconvert_exporter": "python",
   "pygments_lexer": "ipython3",
   "version": "3.10.4"
  }
 },
 "nbformat": 4,
 "nbformat_minor": 1
}
